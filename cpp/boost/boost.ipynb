{
 "cells": [
  {
   "attachments": {},
   "cell_type": "markdown",
   "metadata": {},
   "source": [
    "\n",
    "智能指针 boost::shared_ptr<>\n",
    "共享数组\n",
    "    boost::shared_array<>\n",
    "    #include <boost/shared_array.hpp>\n",
    "    声明：\n",
    "        boost::shared_array<int> i1(new int[2]);\n",
    "        boost::shared_array<int> i2(i1);\n",
    "        i1[0]  = 1;\n",
    "        >>>i2[0] =1\n",
    "\n",
    "弱指针\n",
    "    boost::weak_ptr<> 和shared_ptr一起使用\n",
    "    weak_ptr通过shared_ptr来初始化 初始化后 只提供一个::lock()方法 该方法返回shared_ptr<>\n",
    "    初始化弱指针的共享指针共享所有权\n",
    "\n",
    "    使用弱指针的情况：\n",
    "        函数需要一个由共享指针所管理的对象\n",
    "        这个对象的生存期不依赖于这个函数\n",
    "    \n",
    "    (用的很少)\n",
    "\n",
    "作用域指针\n",
    "    boost::scoped_ptr\n",
    "    不能传递它所包含的对象的所有权到另一个作用域指针\n",
    "\n",
    "介入式指针  \n",
    "    boost::intrusive_ptr<> 需要自己做记录\n",
    "    对于COM（组件对象模型）有用\n",
    "    COM对象需要记录当前有多少指针引用着它\n",
    "\n",
    "指针容器\n",
    "    boost::ptr_vector<> 管理动态分配的对象\n",
    "    独占它所包含的对象，因此容器之外的共享指针不能共享所有权\n",
    "    与vector<boost::shared_ptr<>> 相反\n",
    "    #include <boost/ptr_container/ptr_vector.hpp>"
   ]
  },
  {
   "attachments": {},
   "cell_type": "markdown",
   "metadata": {},
   "source": [
    "函数对象\n",
    "\n",
    "boost::bind:\n",
    "    将这些函数与几乎不限数量的参数 一起使用 得到指定签名的函数\n",
    "    #include <algorithm>\n",
    "\n",
    "std::for_each():\n",
    "    第三个参数是一个仅接受 一个参数的 函数或函数对象\n",
    "    #include <algorithm>"
   ]
  },
  {
   "attachments": {},
   "cell_type": "markdown",
   "metadata": {},
   "source": [
    "for_each的例子：\n",
    "    void print(int i){//打印i}\n",
    "    int main(){\n",
    "        vector<int> v;\n",
    "        v.push_back(1);\n",
    "        v.push_back(2);\n",
    "        v.push_back(3);\n",
    "\n",
    "        std::for_each(v.begin(),v.end(),print);\n",
    "\n",
    "    }\n",
    "    for_each()第三个参数必须是一个函数 这个函数只有一个参数"
   ]
  },
  {
   "attachments": {},
   "cell_type": "markdown",
   "metadata": {},
   "source": [
    "std::for_each + std::bindlst 使 for_each的第三个参数 这个函数可以有两个参数 eg： add\n",
    "\n",
    "1.使用类\n",
    "    定义一个add类 \n",
    "    继承源代码 std::binary_function<int,int,void> \n",
    "    重载()\n",
    "    #include <algorithom> \\ <function>\n",
    "    class add:public std::binary_function<int,int,void>\n",
    "    {\n",
    "        public:\n",
    "            void operator()(int i,int j) const{\n",
    "                cout << i + j << endl;\n",
    "            } \n",
    "    };\n",
    "    int main(){\n",
    "        定义一个vector push_back几次\n",
    "        std::for_each(v.begin,v.end(),std::bindlst(add(),10));\n",
    "    }\n",
    "    将v中的元素 每个都+10"
   ]
  },
  {
   "attachments": {},
   "cell_type": "markdown",
   "metadata": {},
   "source": [
    "使用std::for_each + boost::bind 简化以上代码 因为bind简化了不同函数之间的绑定\n",
    "#include  <boost/bind.hpp> \\ <algorithm>\n",
    "    2.使用函数\n",
    "        定义一个打印i+j的add函数\n",
    "        int main(){\n",
    "            //vector  push_back 3次\n",
    "            std::for_each(v.begin(),v.end(),boost::bind(add,10,_1))\n",
    "        }\n",
    "\n",
    "        add需要两个参数 第一个参数是10 第二个参数是_1\n",
    "        _1是占位符 还有_2 _3\n",
    "        _1表示boost::bind()是一元函数 对应了for_each的第三个参数必须是一元函数\n",
    "        _2表示二元"
   ]
  },
  {
   "attachments": {},
   "cell_type": "markdown",
   "metadata": {},
   "source": [
    "bind 例子\n",
    "    std::for_each(v.begin(),v.end(),boost::bind(add,10,_1))\n",
    "    std::sort(v.begin(),v.end(),boost::bind(compare,_1,_2))\n",
    "    sort需要 两个参数的函数 作为第三个参数\n",
    "    std::sort()进行容器排序 由于compare是二元函数 所以 sort(v.begin(),v.end(),compare)也可\n",
    "    升序排列而不用修改compare()函数的定义\n",
    "    boost::bind(compare,_2,_1) 改变排序的顺序\n"
   ]
  },
  {
   "attachments": {},
   "cell_type": "markdown",
   "metadata": {},
   "source": [
    "boost::ref() + boost::bind()  ---->>> bind()函数带有至少一个引用参数时 ref()用于处理引用\n",
    "#include <boost/bind.hpp>\n",
    "#include <algorithm>\n",
    "//传递流对象 来打印信息\n",
    "void add(int i,int j,ostream& o){ os << i+j << endl;}\n",
    "int main(){\n",
    "    //vector push_back\n",
    "    std::for_each(v.begin(),v.end(),boost::bind(add,10,_1,boost::ref(cout)));\n",
    "}\n",
    "\n",
    "boost::bind 时值传递 传递std::cout会视图创建它的一份拷贝 std::cout不能直接使用\n",
    "\n",
    "以引用方式传递常量对象： 使用模板boost::cref()\n"
   ]
  },
  {
   "attachments": {},
   "cell_type": "markdown",
   "metadata": {},
   "source": [
    "boost::function\n",
    "#include <boost/function.hpp>\n",
    "#include <cstdlib>\n",
    "#include <cstring>\n",
    "\n",
    "int main(){\n",
    "    boost::function<int (const char*)> f = std::atoi;\n",
    "    std::cout << f(\"1609\") << endl;\n",
    "    f = std::strlen;\n",
    "    cout << f(\"1609\") << endl;\n",
    "}\n",
    "\n",
    "可以定义之歌指针 指向具有特定签名的函数\n",
    "定义了一个指针f 指向一个接受类型为const char* 返回值类型为int的函数\n",
    "赋值给这个指针 \n",
    "\n",
    "第一个将std::atoi()赋值给f 再将它重新赋值为std::strlen()\n",
    "\n",
    "ps:给定的数据类型不需要精确匹配 strlen()的返回值是size_t类型 但是可以赋值给f\n",
    "\n",
    "f是一个函数指针 被赋值的函数可以通过重载的operator()()操作符来调用\n",
    "取决于当前被赋值的是哪一个函数\n",
    "\n",
    "f若没有赋值就被调用 抛出 boost::bad_function_call异常：\n",
    "    #include <boost/function.hpp> \n",
    "    #include <iostream> \n",
    "\n",
    "    int main() \n",
    "    { \n",
    "        try \n",
    "        { \n",
    "            boost::function<int (const char*)> f; \n",
    "            f(\"\"); \n",
    "        } \n",
    "        catch (boost::bad_function_call &ex) \n",
    "        { \n",
    "            std::cout << ex.what() << std::endl; \n",
    "        } \n",
    "    } \n",
    "\n",
    "    要检查一个函数指针是否被赋值某个函数，可以使用 empty() 函数或 operator bool() 操作符\n"
   ]
  },
  {
   "attachments": {},
   "cell_type": "markdown",
   "metadata": {},
   "source": [
    "使用boost::function 类成员函数也可以被赋值给类型为boost::function的对象：\n",
    "\n",
    "    #include<boost/function.hpp>\n",
    "    struct world{\n",
    "        void hello(ostream &os){\n",
    "            os << \"Hello World\" << endl;\n",
    "        }\n",
    "    };\n",
    "    int main(){\n",
    "        boost::function<void (word*,ostream&)> f = &world::hello;\n",
    "        world w;\n",
    "        f(&w,boost::ref(cout));\n",
    "    }\n",
    "\n",
    "    function的第一个参数表示该函数 被调用的特定对象\n",
    "    因此 必须是该特定类的指针\n",
    "    后面的参数表示相应的成员函数的签名\n",
    "    f使用了boost::ref() 进行传递引用"
   ]
  },
  {
   "attachments": {},
   "cell_type": "markdown",
   "metadata": {},
   "source": [
    "boost::Lambda 匿名函数\n",
    "    #include <algorithm>\n",
    "    //for_each打印 vector中的元素\n",
    "\n",
    "    std::for_each(v.begin(),v.end(),print)\n",
    "    改为lambda类型：\n",
    "        std::for_each(v.begin(),v.end(),std::cout <<boost::lambda::_1 << \"\\n\");\n",
    "\n",
    "    lambda的占位符 _1 _2 _3\n",
    "    与boost::bind不同：\n",
    "        boost::lambda占位符有单独的名字空间\n",
    "        通过使用占位符 容器v的元素可以通过 << 传给std::cout 以将它们写出到标准输出流\n",
    "        注意 使用\"\\n\" 代替 std::endl \n",
    "        一元endl模板函数要求的类型不同于lambda函数 cou << lambda::_1的函数\n",
    "\n",
    "lambda将大于1的元素打印\n",
    "    #include <boost/lambda/lambda.hpp>\n",
    "    #include <boost/lambda/if.hpp>\n",
    "    #include <algorithm>\n",
    "\n",
    "    std::for_each(v.begin(),v.end(), boost::lambda::if_then(boost::lambda_1 > 1,cout << boost::lambda::_1 << \"\\n\"))\n",
    "\n",
    "boost/lambda/if.hpp 允许lambda再函数内部使用if语句\n",
    "基本结构是 lambda::if_then() lambda::if_then_else() 和 lambda::if_then_else_return()"
   ]
  },
  {
   "attachments": {},
   "cell_type": "markdown",
   "metadata": {},
   "source": [
    "boost::signal\n",
    "#include <boost/signal.hpp>\n",
    "    signal 被实现为一个模板函数 具有被用作为事件处理器的函数的签名\n",
    "    该签名是它的模板参数\n",
    "\n",
    "    例子：\n",
    "        #include <algorithm>\n",
    "        #include <boost/signal.hpp>\n",
    "\n",
    "        void func(){\n",
    "            //cout \n",
    "        }\n",
    "        int main(){\n",
    "            boost::signal<void ()>s;\n",
    "            s.connect(func);\n",
    "            s();\n",
    "        }\n",
    "        //也可以使用function实现\n",
    "        boost::function<void ()> f;\n",
    "        f = func;\n",
    "        f();\n",
    "        "
   ]
  },
  {
   "attachments": {},
   "cell_type": "markdown",
   "metadata": {},
   "source": [
    "different：\n",
    "    signal可以关联多个函数到特定信号\n",
    "    boost::function 只能到单个函数\n",
    "\n",
    "    signal关联多个：\n",
    "        void f1(){}\n",
    "        void f2(){}\n",
    "        boost::signal<void ()>s;\n",
    "        s.connect(f1);\n",
    "        s.connect(f2);\n",
    "        s();\n"
   ]
  },
  {
   "attachments": {},
   "cell_type": "markdown",
   "metadata": {},
   "source": [
    "signal执行的顺序：\n",
    "    可以按照connect关联时的顺序\n",
    "    可以重载来明确指定 重载添加一个int参数\n",
    "    s.connect(1,f2);\n",
    "    s.connect(0,f1);\n",
    "\n",
    "signal释放给定信号关联：\n",
    "    boost::signal<void ()>s;\n",
    "    s.connect(f1);\n",
    "    s.connect(f2);\n",
    "    s.disconnect(f2);\n",
    "    s();\n",
    "\n",
    "signal 返回关联函数的数量:\n",
    "    s.num_slots()\n",
    "    s.empty()\n",
    "\n",
    "释放所有关联：\n",
    "    s.disconect_all_slots()\n",
    "\n",
    "有返回值的signal 关联函数：\n",
    "    boost::signal<int ()> s;\n",
    "    只会返回之后一个关联的函数返回值"
   ]
  },
  {
   "attachments": {},
   "cell_type": "markdown",
   "metadata": {},
   "source": [
    "定制一个信号令每个返回值都相应被处理\n",
    "使用合成器combiner作为第二个参数传递给 boost::signal\n",
    "\n",
    "合成器类似于重载()操作符\n",
    "这个操作符会被自动调用\n",
    "\n",
    "signal 要求合成器定义一个 result_type类型 用于说明operator()()操作符返回值的类型\n",
    "用于说明operator()()操作符返回值的类型 but cpp算法中缺少这个类型\n",
    "所以在编译时会产生一个相应的错误"
   ]
  },
  {
   "attachments": {},
   "cell_type": "markdown",
   "metadata": {},
   "source": [
    "获取signal所有返回值：\n",
    "    #include <boost/signal.hpp>\n",
    "    #include <algorithm>\n",
    "\n",
    "    int f1(){ return 1;}\n",
    "    int f2(){ return 2;}\n",
    "\n",
    "    int main(){\n",
    "        boost::signal<int (),min_element<vector<int>> >s;\n",
    "        s.connect(f1);\n",
    "        s.connect(f2);\n",
    "        vector<int> v = s();\n",
    "        cout <<  << endl;\n",
    "    }\n",
    "\n",
    "    template <typename T>\n",
    "    struct min_element{\n",
    "        typedef T result_type;\n",
    "\n",
    "        template <typename InputIterator>\n",
    "        T operarot()(InputIterator first,InputIterator last)const{\n",
    "            return T(first,last);\n",
    "        }\n",
    "    };\n",
    "\n",
    "合成器重载了operator()()操作符的类 操作符会自动调用 传入两个迭代器 指向特定信号的所有返回值\n",
    "将所有返回值保存在一个vector中 再由s()返回\n"
   ]
  },
  {
   "attachments": {},
   "cell_type": "markdown",
   "metadata": {},
   "source": [
    "连接 connections\n",
    "函数可以通过connect和disconnect来管理\n",
    "connect返回一个 boost::signals::connection的值\n",
    "\n",
    "void func(){\n",
    "    cout << endl;\n",
    "}\n",
    "\n",
    "int main(){\n",
    "    boost::signal<void ()> s;\n",
    "    boost::signals::connection c = s.connect(func);\n",
    "    s();\n",
    "    c.disconnect();\n",
    "}"
   ]
  },
  {
   "attachments": {},
   "cell_type": "markdown",
   "metadata": {},
   "source": [
    "block阻塞\n",
    "#include <boost/signal.hpp>\n",
    "\n",
    "void f(){\n",
    "    cout << endl;\n",
    "}\n",
    "int main(){\n",
    "    boost::signal<void ()> s;\n",
    "    boost::signal::connection c = s.connect(f);\n",
    "    c.block();\n",
    "    s();\n",
    "    c.unblock();\n",
    "    s();\n",
    "}"
   ]
  },
  {
   "attachments": {},
   "cell_type": "markdown",
   "metadata": {},
   "source": [
    "自动释放连接\n",
    "boost::signals::scoped_connection\n",
    "\n",
    "int main(){\n",
    "    boost::signal<void ()> s;\n",
    "    {\n",
    "        boost::signals::scoped_connection c = s.connect(f);\n",
    "    }\n",
    "    s(); //不会调用s 因为连接对象在信号触发之前被销毁\n",
    "}"
   ]
  },
  {
   "attachments": {},
   "cell_type": "markdown",
   "metadata": {},
   "source": [
    "boost::bind关联一个对象到信息\n",
    "一但对象被销毁，连接就自动释放\n",
    "\n",
    "#include <boost/signal.hpp>\n",
    "#include <boost/bind.hpp>\n",
    "\n",
    "int main(){\n",
    "    boost::signal<void ()> s;\n",
    "    {\n",
    "        std::auto_ptr<world> w(new world());\n",
    "        s.connect(boost::bind(&world::hello,w.get()));\n",
    "    }\n",
    "    cout << s.num_slots() << endl;\n",
    "    s();\n",
    "}\n",
    "class world:\n",
    "public boost::signals::trackable{\n",
    "    public:\n",
    "        void hello() const{\n",
    "            cout << \"\"hello world << endl;\n",
    "        }\n",
    "}\n",
    "\n",
    "当使用对象的指针 而不是副本来关联函数至信号时\n",
    "boost::signals::trackable可以显著简化连接的管理"
   ]
  },
  {
   "attachments": {},
   "cell_type": "markdown",
   "metadata": {},
   "source": [
    "字符串处理\n",
    "区域设置参数：在标准cpp中封装了文化习俗相关的内容\n",
    "locale\n",
    "\n",
    "std::strcoll() 按照字典顺序比较第一个字符是否小于第二个\n",
    "判断这两个字符中哪一个在字典中靠前"
   ]
  },
  {
   "attachments": {},
   "cell_type": "markdown",
   "metadata": {},
   "source": [
    "字符串算法库\n",
    "boost::stringAlgorithms 很多字符串操作函数\n",
    "字符串类型有 std::string std::wstring std::basic_string\n",
    "\n",
    "将字符串转换为大写形式：\n",
    "    boost::algorithm::to_upper_copy()\n",
    "将字符串转换为小写形式:\n",
    "    boost::algorithm::to_lower_copy()\n",
    "\n",
    "字符串作为参数转换为大小写形式：\n",
    "    boost::algorithm::to_upper()\n",
    "    boost::algorithm::to_lower()\n",
    "\n",
    "std::setlocale()为C函数进行区域设置的例子：\n",
    "\n",
    "std::locale::global(std::locale(\"German\")); \n",
    "std::string s = \"Boris Schäling\"; \n",
    "std::cout << boost::algorithm::to_upper_copy(s) << std::endl; \n",
    "std::cout << boost::algorithm::to_upper_copy(s, std::locale(\"German\")) << std::endl; \n",
    "\n"
   ]
  },
  {
   "attachments": {},
   "cell_type": "markdown",
   "metadata": {},
   "source": [
    "删除字符串中特定的某个字符：\n",
    "    boost::algorithm::erase_all_copy()\n",
    "\n",
    "删除字符串中首次出现的字符：\n",
    "    boost::algorithm::erase_first_copy()\n",
    "\n",
    "字符串头部或尾部删除：\n",
    "    boost::algorithm::erase_head_copy()\n",
    "    boost::algorithm::erase_tail_copy()\n"
   ]
  },
  {
   "attachments": {},
   "cell_type": "markdown",
   "metadata": {},
   "source": [
    "查找子串\n",
    "\n",
    "std::locale::global(std::locale(\"German\")); \n",
    "std::string s = \"Boris Schäling\"; \n",
    "boost::iterator_range<std::string::iterator> r = boost::algorithm::find_first(s, \"Boris\"); \n",
    "std::cout << r << std::endl; \n",
    "r = boost::algorithm::find_first(s, \"xyz\"); \n",
    "std::cout << r << std::endl;\n",
    "\n",
    "在字符串中查找子串：\n",
    "boost::algorithm::find_first()\n",
    "boost::algorithm::find_last()\n",
    "boost::algorithm::find_nth()\n",
    "boost::algorithm::find_head()\n",
    "boost::algorithm::find_tail()\n",
    "\n",
    "共同点：\n",
    "    返回类型为boost::iterator_range类的一对迭代器\n",
    "    起源于 Boost.Range库\n",
    "    因为操作符 << 由 boost::iterator_range类 重载而来\n",
    "    单个搜索算法的结果可以直接写入标准输出流\n",
    "\n"
   ]
  },
  {
   "attachments": {},
   "cell_type": "markdown",
   "metadata": {},
   "source": [
    "连接两个字符串：\n",
    "    boost::algorithm::join()\n",
    "    接受一个字符串的容器 比如 vector<string>\n",
    "    作为第一个参数\n",
    "    根据第二个参数将这些字符串连接\n",
    "    eg:\n",
    "        boost::algorithm::join(v,\" \")"
   ]
  },
  {
   "attachments": {},
   "cell_type": "markdown",
   "metadata": {},
   "source": [
    "使用字符串替代子串的函数\n",
    "\n",
    "    boost::algorithm::replace_first_copy()\n",
    "    boost::algorithm::replace_nth_copy()boost::algorithm::replace_last_copy()boost::algorithm::replace_all_copy()boost::algorithm::replace_head_copy() boost::algorithm::replace_tail_copy()\n",
    "\n",
    "    使用方法和查找和删除函数差不多"
   ]
  },
  {
   "attachments": {},
   "cell_type": "markdown",
   "metadata": {},
   "source": [
    "替代字符串的例子：\n",
    "int main() \n",
    "{ \n",
    "  std::locale::global(std::locale(\"German\")); \n",
    "  std::string s = \"Boris Schäling\"; \n",
    "  std::cout << boost::algorithm::replace_first_copy(s, \"B\", \"D\") << std::endl; \n",
    "  std::cout << boost::algorithm::replace_nth_copy(s, \"B\", 0, \"D\") << std::endl; \n",
    "  std::cout << boost::algorithm::replace_last_copy(s, \"B\", \"D\") << std::endl; \n",
    "  std::cout << boost::algorithm::replace_all_copy(s, \"B\", \"D\") << std::endl; \n",
    "  std::cout << boost::algorithm::replace_head_copy(s, 5, \"Doris\") << std::endl; \n",
    "  std::cout << boost::algorithm::replace_tail_copy(s, 8, \"Becker\") << std::endl; \n",
    "} "
   ]
  },
  {
   "attachments": {},
   "cell_type": "markdown",
   "metadata": {},
   "source": [
    "修剪函数 自动去除字符串中的空格或者字符串的结束符\n",
    "boost::algorithm::trim_left_copy_if()boost::algorithm::trim_right_copy_if() boost::algorithm::trim_copy_if()"
   ]
  },
  {
   "attachments": {},
   "cell_type": "markdown",
   "metadata": {},
   "source": [
    "修剪函数的例子：\n",
    "#include <boost/algorithm/string.hpp> \n",
    "#include <locale> \n",
    "#include <iostream> \n",
    "\n",
    "int main() \n",
    "{ \n",
    "  std::locale::global(std::locale(\"German\")); \n",
    "  std::string s = \"--Boris Schäling--\"; \n",
    "  std::cout << \".\" << boost::algorithm::trim_left_copy_if(s, boost::algorithm::is_any_of(\"-\")) << \".\" << std::endl; \n",
    "  std::cout << \".\" <<boost::algorithm::trim_right_copy_if(s, boost::algorithm::is_any_of(\"-\")) << \".\" << std::endl; \n",
    "  std::cout << \".\" <<boost::algorithm::trim_copy_if(s, boost::algorithm::is_any_of(\"-\")) << \".\" << std::endl; \n",
    "} \n"
   ]
  },
  {
   "attachments": {},
   "cell_type": "markdown",
   "metadata": {},
   "source": [
    "辅助函数 \n",
    "boost::algorithm::is_any_of()\n",
    "生成谓词以验证作为参数传入的字符是否在给定的字符串中存在\n"
   ]
  },
  {
   "attachments": {},
   "cell_type": "markdown",
   "metadata": {},
   "source": [
    "检查大小写\n",
    "boost::algorithm::is_upper() 和 boost::algorithm::is_lower() "
   ]
  },
  {
   "attachments": {},
   "cell_type": "markdown",
   "metadata": {},
   "source": [
    "比较两个字符串\n",
    "boost::algorithm::starts_with()\n",
    "boost::algorithm::ends_with()\n",
    "boost::algorithm::contains()boost::algorithm::lexicographical_compare()"
   ]
  },
  {
   "attachments": {},
   "cell_type": "markdown",
   "metadata": {},
   "source": [
    "比较两个字符串实例\n",
    "\n",
    "#include <boost/algorithm/string.hpp> \n",
    "#include <locale> \n",
    "#include <iostream> \n",
    "\n",
    "int main() \n",
    "{ \n",
    "  std::locale::global(std::locale(\"German\")); \n",
    "  std::string s = \"Boris Schäling\"; \n",
    "  std::cout << boost::algorithm::starts_with(s, \"Boris\") << std::endl; \n",
    "  std::cout << boost::algorithm::ends_with(s, \"Schäling\") << std::endl; \n",
    "  std::cout << boost::algorithm::contains(s, \"is\") << std::endl; \n",
    "  std::cout << boost::algorithm::lexicographical_compare(s, \"Boris\") << std::endl; \n",
    "} "
   ]
  },
  {
   "attachments": {},
   "cell_type": "markdown",
   "metadata": {},
   "source": [
    "字符串切割函数\n",
    "将一个字符串拆分为一个字符串容器\n",
    "boost::algorithm::split()\n",
    "使用辅助函数boost::algorithm::is_space()创建一个谓词\n",
    "在每个空格字符处分割字符串"
   ]
  },
  {
   "attachments": {},
   "cell_type": "markdown",
   "metadata": {},
   "source": [
    "字符串切割实例\n",
    "和join()是反向\n",
    "#include <boost/algorithm/string.hpp> \n",
    "#include <locale> \n",
    "#include <iostream> \n",
    "#include <vector> \n",
    "\n",
    "int main() \n",
    "{ \n",
    "  std::locale::global(std::locale(\"German\")); \n",
    "  std::string s = \"Boris Schäling\"; \n",
    "  std::vector<std::string> v; \n",
    "  boost::algorithm::split(v, s, boost::algorithm::is_space()); \n",
    "  std::cout << v.size() << std::endl; \n",
    "} "
   ]
  },
  {
   "attachments": {},
   "cell_type": "markdown",
   "metadata": {},
   "source": [
    "正则表达式\n",
    "find_regex()搜索正则表达式"
   ]
  },
  {
   "attachments": {},
   "cell_type": "markdown",
   "metadata": {},
   "source": [
    "正则表达式 实例：\n",
    "\n",
    "#include <boost/algorithm/string.hpp> \n",
    "#include <boost/algorithm/string/regex.hpp> \n",
    "#include <locale> \n",
    "#include <iostream> \n",
    "\n",
    "int main() \n",
    "{ \n",
    "  std::locale::global(std::locale(\"German\")); \n",
    "  std::string s = \"Boris Schäling\"; \n",
    "  boost::iterator_range<std::string::iterator> r = boost::algorithm::find_regex(s, boost::regex(\"\\\\w\\\\s\\\\w\")); \n",
    "  std::cout << r << std::endl; \n",
    "} "
   ]
  },
  {
   "attachments": {},
   "cell_type": "markdown",
   "metadata": {},
   "source": [
    "正则表达式库\n",
    "boost::regex 定义一个正则表达式\n",
    "boost::smatch 保存搜索结果\n",
    "\n",
    "#include <boost/regex.hpp>\n",
    "#include <locale>\n",
    "int main(){\n",
    "  std::locale::global(std::locale(\"German\")); \n",
    "  std::string s = \"Boris Schäling\"; \n",
    "  boost::regex expr(\"\\\\w+\\\\s\\\\w+\"); \n",
    "  std::cout << boost::regex_match(s, expr) << std::endl;\n",
    "}\n",
    "\n",
    "boost::regex_match() 用于字符串与正则表达式的比较 \n",
    "在整个字符串匹配正则表达式时其返回值为 true"
   ]
  },
  {
   "attachments": {},
   "cell_type": "markdown",
   "metadata": {},
   "source": [
    "搜索正则表达式\n",
    "boost::regex_search()\n",
    "#include <boost/regex.hpp> \n",
    "#include <locale> \n",
    "#include <iostream> \n",
    "\n",
    "int main() \n",
    "{ \n",
    "  std::locale::global(std::locale(\"German\")); \n",
    "  std::string s = \"Boris Schäling\"; \n",
    "  boost::regex expr(\"(\\\\w+)\\\\s(\\\\w+)\"); \n",
    "  boost::smatch what; \n",
    "  if (boost::regex_search(s, what, expr)) \n",
    "  { \n",
    "    std::cout << what[0] << std::endl; \n",
    "    std::cout << what[1] << \" \" << what[2] << std::endl; \n",
    "  } \n",
    "} \n",
    "\n",
    "boost::regex_search() 可以接受一个类型为 boost::smatch 的引用的参数用于储存结果"
   ]
  },
  {
   "cell_type": "markdown",
   "metadata": {},
   "source": []
  },
  {
   "cell_type": "markdown",
   "metadata": {},
   "source": []
  },
  {
   "cell_type": "markdown",
   "metadata": {},
   "source": []
  },
  {
   "cell_type": "markdown",
   "metadata": {},
   "source": []
  },
  {
   "cell_type": "markdown",
   "metadata": {},
   "source": []
  },
  {
   "cell_type": "markdown",
   "metadata": {},
   "source": []
  }
 ],
 "metadata": {
  "kernelspec": {
   "display_name": "Python 3",
   "language": "python",
   "name": "python3"
  },
  "language_info": {
   "name": "python",
   "version": "3.6.1 (default, Jan  2 2019, 10:19:16) \n[GCC 4.9.2]"
  },
  "orig_nbformat": 4,
  "vscode": {
   "interpreter": {
    "hash": "916dbcbb3f70747c44a77c7bcd40155683ae19c65e1c03b4aa3499c5328201f1"
   }
  }
 },
 "nbformat": 4,
 "nbformat_minor": 2
}
