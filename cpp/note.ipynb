{
 "cells": [
  {
   "attachments": {},
   "cell_type": "markdown",
   "metadata": {},
   "source": [
    "一个类产生一个实例 保证程序线程安全 多条线程并行执行程序 共享数据\n",
    "保证线程安全方法： 给共享资源加锁。保证资源只被一个线程占用\n",
    "\n",
    "特点： \n",
    "构造函数和析构函数是private 禁止外部构造和析构\n",
    "拷贝构造函数和赋值构造函数是private，禁止外部拷贝和赋值，保证实例的唯一性\n",
    "类中有一个获取实例的静态方法getInstance()，可以全局访问\n",
    "\n",
    "g++  -std=c++11 -o singleton singleton.cpp\n",
    "\n",
    "        产生undefined reference to `pthread_detach' 或\n",
    "        为定义的引用pthread_create时\n",
    "        编译加上-pthread"
   ]
  },
  {
   "cell_type": "markdown",
   "metadata": {},
   "source": []
  },
  {
   "cell_type": "markdown",
   "metadata": {},
   "source": []
  }
 ],
 "metadata": {
  "kernelspec": {
   "display_name": "Python 3",
   "language": "python",
   "name": "python3"
  },
  "language_info": {
   "name": "python",
   "version": "3.6.1 (default, Jan  2 2019, 10:19:16) \n[GCC 4.9.2]"
  },
  "orig_nbformat": 4,
  "vscode": {
   "interpreter": {
    "hash": "916dbcbb3f70747c44a77c7bcd40155683ae19c65e1c03b4aa3499c5328201f1"
   }
  }
 },
 "nbformat": 4,
 "nbformat_minor": 2
}
