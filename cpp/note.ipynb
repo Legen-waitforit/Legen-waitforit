{
 "cells": [
  {
   "attachments": {},
   "cell_type": "markdown",
   "metadata": {},
   "source": [
    "一个类产生一个实例 保证程序线程安全 多条线程并行执行程序 共享数据\n",
    "保证线程安全方法： 给共享资源加锁。保证资源只被一个线程占用\n",
    "\n",
    "特点： \n",
    "构造函数和析构函数是private 禁止外部构造和析构\n",
    "拷贝构造函数和赋值构造函数是private，禁止外部拷贝和赋值，保证实例的唯一性\n",
    "类中有一个获取实例的静态方法getInstance()，可以全局访问\n",
    "\n",
    "g++  -std=c++11 -o singleton singleton.cpp\n",
    "\n",
    "        产生undefined reference to `pthread_detach' 或\n",
    "        为定义的引用pthread_create时\n",
    "        编译加上-pthread\n",
    "\n",
    "单例懒汉模式结果：\n",
    ">>>>>>>>>>>>>>>>>>>>>>>>>>>>>\n",
    "threadID = 3\n",
    "构造函数\n",
    "实例内存地址为 ： 构造函数\n",
    "实例内存地址为 ： 0x7f78d80008c00x7f78e00008c0\n",
    "threadID = 0x2\n",
    "实例内存地址为 ： 0x7f78d80008c0\n",
    "构造函数\n",
    "实例内存地址为 ： 0x7f78dc0008c0\n",
    "\n",
    "......\n",
    "析构函数\n",
    "main() finished\n",
    ">>>>>>>>>>>>>>>>>>>>>>>>>>>>>>>>>\n",
    "\n",
    "可知：单例构造函数创建了两个实例，内存地址分别是0x7f78d80008c0 和 0x7f78dc0008c0\n",
    "因此普通懒汉模式 只适合单进程不适合多进程\n",
    "是线程不安全的\n",
    "\n",
    "\n",
    "加锁的懒汉单例模式singleton_2.cpp：\n",
    "运行结果:\n",
    ">>>>>>>>>>>>>>>>>>>>>>>>>>>>>>>>>>>>>>\n",
    "...main()...\n",
    "...create..threads[0]\n",
    "...create..threads[1]\n",
    "...create..threads[2]\n",
    "threadid = [...create..threads[0]3\n",
    "构造函数\n",
    "Address = 0x7fa6200008c0\n",
    "threadid = [2]\n",
    "Address = 0x7fa6200008c0\n",
    "]\n",
    "...create..threads[threadid = [4]\n",
    "threadid = [3]\n",
    "Address = 0x7fa6200008c0\n",
    "1]\n",
    "Address = 0x7fa6200008c0\n",
    "析构函数\n",
    "main() finished\n",
    ">>>>>>>>>>>>>>>>>>>>>>>>>>>>>>>>>>>>>>>>>>>\n",
    "可知：只创建了一个实例，内存地址为0x7fa6200008c0 是线程安全的"
   ]
  },
  {
   "attachments": {},
   "cell_type": "markdown",
   "metadata": {},
   "source": [
    "饿汉单例模式（本身是线程安全的）：\n",
    "\n",
    "初始化静态指针变量就构造初始化函数\n",
    "Singleton* Singleton::m_SingleInstance = new(nothrow) Singleton;\n",
    "\n",
    "\n",
    "\n",
    "singleton_safe.cpp运行结果：\n",
    ">>>>>>>>>>>>>>>>>>>>>>>>>>>>>>>>>>>>>>>>>>>>>\n",
    "..main()..\n",
    "create_thread[0]\n",
    "create_thread[1]\n",
    "thread  id = [0]\n",
    "thread addresscreate_thread[2]\n",
    "0x664010\n",
    "create_thread[3]\n",
    "create_thread[4]\n",
    "thread  id = [1]\n",
    "thread address0x664010\n",
    "thread  id = [2]\n",
    "thread address0x664010\n",
    "thread  id = [3]\n",
    "thread address0x664010\n",
    "..all_finished..\n",
    ">>>>>>>>>>>>>>>>>>>>>>>>>>>>>>>>>>>>>>>>>>>>\n",
    "只创建了一个实例，是线程安全的"
   ]
  },
  {
   "attachments": {},
   "cell_type": "markdown",
   "metadata": {},
   "source": [
    "懒汉式是以时间换空间，适应于访问量较小时；推荐使用内部静态变量的懒汉单例，代码量少\n",
    "饿汉式是以空间换时间，适应于访问量较大时，或者线程比较多的的情况"
   ]
  }
 ],
 "metadata": {
  "kernelspec": {
   "display_name": "Python 3",
   "language": "python",
   "name": "python3"
  },
  "language_info": {
   "name": "python",
   "version": "3.6.1 (default, Jan  2 2019, 10:19:16) \n[GCC 4.9.2]"
  },
  "orig_nbformat": 4,
  "vscode": {
   "interpreter": {
    "hash": "916dbcbb3f70747c44a77c7bcd40155683ae19c65e1c03b4aa3499c5328201f1"
   }
  }
 },
 "nbformat": 4,
 "nbformat_minor": 2
}
