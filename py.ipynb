{
 "cells": [
  {
   "cell_type": "markdown",
   "id": "4e1423e8",
   "metadata": {},
   "source": [
    " 生成器\n",
    " 生成器是特殊的迭代器 可以在迭代的同时生成元素\n",
    " eg:某种算法推算得到的多个数据，生成器会什么时候需要，什么时候才生成\n",
    " \n",
    " 生成器步骤：\n",
    " 1.定义一个以yield关键字标识返回值的函数\n",
    " 2.调用刚刚创建的函数，即可创建一个生成器\n",
    " \n",
    " --生成器函数的返回值是yield关键字 程序会在调用生成器函数的时候\n",
    " 遇到yield会返回，程序在此处暂停，下次再调用就从上次yield离开的地方进入\n",
    " - - 迭代器和生成器的明显优势：生成器更加节省内存空间，即不会一次性生成所有的数据，而是什么时候需要，什么时候生成\n",
    " "
   ]
  },
  {
   "cell_type": "code",
   "execution_count": 2,
   "id": "24dbbeaa",
   "metadata": {},
   "outputs": [
    {
     "data": {
      "text/plain": [
       "<generator object intNum at 0x00000206741DE890>"
      ]
     },
     "execution_count": 2,
     "metadata": {},
     "output_type": "execute_result"
    }
   ],
   "source": [
    "def intNum():\n",
    "    print(\"--start--\")\n",
    "    for i in range(5):\n",
    "        yield i\n",
    "        print(\"--continue--\")\n",
    "num = intNum()\n",
    "num\n",
    "此时，num是一个生成器对象，intNum是一个生成器函数"
   ]
  },
  {
   "cell_type": "code",
   "execution_count": 3,
   "id": "1785e831",
   "metadata": {},
   "outputs": [
    {
     "name": "stdout",
     "output_type": "stream",
     "text": [
      "--start--\n",
      "0\n"
     ]
    }
   ],
   "source": [
    "# 调用next()内置函数\n",
    "print(next(num))"
   ]
  },
  {
   "cell_type": "code",
   "execution_count": 6,
   "id": "448a3db1",
   "metadata": {},
   "outputs": [
    {
     "name": "stdout",
     "output_type": "stream",
     "text": [
      "--continue--\n",
      "1\n"
     ]
    }
   ],
   "source": [
    "# 调用__next__()方法\n",
    "print(num.__next__())"
   ]
  },
  {
   "cell_type": "code",
   "execution_count": 7,
   "id": "30613dd1",
   "metadata": {},
   "outputs": [
    {
     "name": "stdout",
     "output_type": "stream",
     "text": [
      "--continue--\n",
      "2\n",
      "--continue--\n",
      "3\n",
      "--continue--\n",
      "4\n",
      "--continue--\n"
     ]
    }
   ],
   "source": [
    "# for循环遍历生成器 for在不断的调用next()函数使暂停的程序继续执行输出后续结果\n",
    "for i in num:\n",
    "    print(i)"
   ]
  },
  {
   "cell_type": "code",
   "execution_count": 9,
   "id": "f2650a15",
   "metadata": {},
   "outputs": [
    {
     "name": "stdout",
     "output_type": "stream",
     "text": [
      "--start--\n",
      "--continue--\n",
      "--continue--\n",
      "--continue--\n",
      "--continue--\n",
      "--continue--\n",
      "[0, 1, 2, 3, 4]\n"
     ]
    }
   ],
   "source": [
    "# 使用list和tuple将生成器生成的值存储成列表或者元组的形式\n",
    "num=intNum()\n",
    "print(list(num))"
   ]
  },
  {
   "cell_type": "code",
   "execution_count": 10,
   "id": "a77d3ad1",
   "metadata": {},
   "outputs": [
    {
     "name": "stdout",
     "output_type": "stream",
     "text": [
      "--start--\n",
      "--continue--\n",
      "--continue--\n",
      "--continue--\n",
      "--continue--\n",
      "--continue--\n",
      "(0, 1, 2, 3, 4)\n"
     ]
    }
   ],
   "source": [
    "num = intNum()\n",
    "print(tuple(num))\n",
    "# 通过结果判断，list tuple的底层实现和for循环的遍历过程是类似的"
   ]
  },
  {
   "cell_type": "markdown",
   "id": "8f6ddbe3",
   "metadata": {},
   "source": [
    " %格式运算\n",
    " 用一个Tuple将多个值传递给模板，每个值对应一个格式符\n",
    " print(\"I'm %s.I'm %d year old\"%（\"Vamei\",99）)\n",
    " %s表示一个字符串 %d为第二个格式符\n",
    " 模板和Tuple之间的% 代表格式化操作\n",
    " \n",
    " ——————\n",
    " 使用字典传值\n",
    " print(\"%{name},%{age}\" % {'name':Vamie','age':99})\n",
    " \n",
    " ——————\n",
    " 格式符为真实值预留位置，并控制显示的格式，可以包含一个类型码，用于控制显示的类型\n",
    " eg:\n",
    "     %s 字符串\n",
    "     %r 字符串 repr()格式 可以输出转义字符 如 \"\\n\\t\" str()格式会进行转义\n",
    "     %c 单个字符\n",
    "     %b 二进制整数\n",
    "     %d 十进制整数\n",
    "     %x 十六进制整数\n",
    "     %e 指数\n",
    "     %E 指数\n",
    "     %f 浮点数\n",
    "     %% 字符'%s'\n",
    "可以使用 +,-,0,''进行右对齐，左对齐或者0填充,''表示在正数的左侧填充一个空格\n",
    "eg："
   ]
  },
  {
   "cell_type": "code",
   "execution_count": 25,
   "id": "20c2e543",
   "metadata": {},
   "outputs": [
    {
     "name": "stdout",
     "output_type": "stream",
     "text": [
      "a\n",
      "         a\n",
      "a         \n"
     ]
    }
   ],
   "source": [
    "print(\"%x\" % 10)\n",
    "print(\"%10x\" % 10)\n",
    "print(\"%-10x\" % 10)"
   ]
  },
  {
   "cell_type": "code",
   "execution_count": 15,
   "id": "4d557967",
   "metadata": {},
   "outputs": [
    {
     "name": "stdout",
     "output_type": "stream",
     "text": [
      "0005\n"
     ]
    }
   ],
   "source": [
    "print(\"%04d\" % 5)"
   ]
  },
  {
   "cell_type": "code",
   "execution_count": 28,
   "id": "a52c88fa",
   "metadata": {},
   "outputs": [
    {
     "name": "stdout",
     "output_type": "stream",
     "text": [
      " 2.300\n"
     ]
    }
   ],
   "source": [
    "print(\"%6.3f\" % 2.3)"
   ]
  },
  {
   "cell_type": "code",
   "execution_count": 31,
   "id": "15de3551",
   "metadata": {},
   "outputs": [
    {
     "name": "stdout",
     "output_type": "stream",
     "text": [
      "1.2000\n"
     ]
    }
   ],
   "source": [
    "print(\"%.*f\" % (4, 1.2)) #Python实际使用4来替换* \n",
    "#实际的模板应该是\"%.4f\""
   ]
  },
  {
   "cell_type": "markdown",
   "id": "cb38efbe",
   "metadata": {},
   "source": [
    "str.format()\n",
    "通过{}和: 来代替%\n",
    "format函数可以接收不限个参数，位置可以不按顺序，可以不使用or使用多次"
   ]
  },
  {
   "cell_type": "code",
   "execution_count": 34,
   "id": "c0de5272",
   "metadata": {},
   "outputs": [
    {
     "name": "stdout",
     "output_type": "stream",
     "text": [
      "kzc,18\n",
      "kzc,18\n",
      "18,kzc,18\n"
     ]
    }
   ],
   "source": [
    "#通过位置\n",
    "print('{0},{1}'.format('kzc',18))\n",
    "print('{},{}'.format('kzc',18))\n",
    "print('{1},{0},{1}'.format('kzc',18) )"
   ]
  },
  {
   "cell_type": "code",
   "execution_count": 36,
   "id": "ae1ec971",
   "metadata": {},
   "outputs": [
    {
     "name": "stdout",
     "output_type": "stream",
     "text": [
      "kzc,18\n"
     ]
    }
   ],
   "source": [
    "# 通过关键字参数\n",
    "print('{name},{age}'.format(age=18,name='kzc') )"
   ]
  },
  {
   "cell_type": "code",
   "execution_count": 40,
   "id": "f85827f5",
   "metadata": {},
   "outputs": [
    {
     "data": {
      "text/plain": [
       "'<__main__.Person object at 0x0000020676F8FD30>'"
      ]
     },
     "execution_count": 40,
     "metadata": {},
     "output_type": "execute_result"
    }
   ],
   "source": [
    "# 通过对象属性\n",
    "class Person: \n",
    "  def __init__(self,name,age): \n",
    "    self.name,self.age = name,age \n",
    "    def __str__(self): \n",
    "      return 'This guy is {self.name},is {self.age} old'.format(self=self)\n",
    "str(Person('kzc',18)) "
   ]
  },
  {
   "cell_type": "code",
   "execution_count": 43,
   "id": "cda4a6ef",
   "metadata": {},
   "outputs": [
    {
     "data": {
      "text/plain": [
       "'kzc,18'"
      ]
     },
     "execution_count": 43,
     "metadata": {},
     "output_type": "execute_result"
    }
   ],
   "source": [
    "# 通过下标\n",
    "p=['kzc',18]\n",
    "'{0[0]},{0[1]}'.format(p)"
   ]
  },
  {
   "cell_type": "markdown",
   "id": "596bfc89",
   "metadata": {},
   "source": [
    "填充与对齐\n",
    "^ < > 分别是居中 左对齐 右对齐 后面带宽度 \n",
    "：后面带填充的字符 只可以是一个字符，不指定默认使用空格填充"
   ]
  },
  {
   "cell_type": "code",
   "execution_count": 50,
   "id": "474b22e0",
   "metadata": {},
   "outputs": [
    {
     "name": "stdout",
     "output_type": "stream",
     "text": [
      "     189\n",
      "00000189\n",
      "aaa189aaa\n"
     ]
    }
   ],
   "source": [
    "print('{:>8}'.format('189'))\n",
    "print('{:0>8}'.format('189'))\n",
    "print('{:a^9}'.format('189'))"
   ]
  },
  {
   "cell_type": "markdown",
   "id": "1e1e87aa",
   "metadata": {},
   "source": [
    "精度与类型f一起使用\n",
    "&&\n",
    "其他类型 进制类型\n",
    "&&金额的千位分隔符 ,"
   ]
  },
  {
   "cell_type": "code",
   "execution_count": 51,
   "id": "689efada",
   "metadata": {},
   "outputs": [
    {
     "name": "stdout",
     "output_type": "stream",
     "text": [
      "321.33\n"
     ]
    }
   ],
   "source": [
    "print('{:.2f}'.format(321.33345))"
   ]
  },
  {
   "cell_type": "code",
   "execution_count": 53,
   "id": "2c053101",
   "metadata": {},
   "outputs": [
    {
     "name": "stdout",
     "output_type": "stream",
     "text": [
      "10001\n",
      "17\n",
      "21\n",
      "11\n"
     ]
    }
   ],
   "source": [
    "print('{:b}'.format(17))\n",
    "print('{:d}'.format(17))\n",
    "print('{:o}'.format(17))\n",
    "print('{:x}'.format(17))"
   ]
  },
  {
   "cell_type": "code",
   "execution_count": 54,
   "id": "0860e011",
   "metadata": {},
   "outputs": [
    {
     "name": "stdout",
     "output_type": "stream",
     "text": [
      "1,234,567,890\n"
     ]
    }
   ],
   "source": [
    "print('{:,}'.format(1234567890))"
   ]
  },
  {
   "cell_type": "markdown",
   "id": "6fa53754",
   "metadata": {},
   "source": [
    "元组拆包\n",
    "元组拆包可以应用到任何可迭代对象上，被可迭代对象中的元素数量必须要和接收这些元素的空档数量一致\n",
    "可以使用*来表示忽略多余的元素 只能有一个*\n",
    "\n",
    "————\n",
    "迭代的对象分为 ： 元组 列表 字典 字符串等\n",
    "若有不能明确的对象 可以使用isinstance方式进行判断"
   ]
  },
  {
   "cell_type": "code",
   "execution_count": 57,
   "id": "e0cbe45d",
   "metadata": {},
   "outputs": [
    {
     "data": {
      "text/plain": [
       "True"
      ]
     },
     "execution_count": 57,
     "metadata": {},
     "output_type": "execute_result"
    }
   ],
   "source": [
    "from collections import Iterable\n",
    "isinstance('abcde',Iterable)"
   ]
  },
  {
   "cell_type": "code",
   "execution_count": 59,
   "id": "8e3be994",
   "metadata": {},
   "outputs": [
    {
     "name": "stdout",
     "output_type": "stream",
     "text": [
      "1\n",
      "2\n"
     ]
    }
   ],
   "source": [
    "t = (1,2)\n",
    "x,y = t\n",
    "print(x)\n",
    "print(y)"
   ]
  },
  {
   "cell_type": "code",
   "execution_count": 60,
   "id": "fe9a8053",
   "metadata": {},
   "outputs": [
    {
     "name": "stdout",
     "output_type": "stream",
     "text": [
      "1\n",
      "[2, 3]\n"
     ]
    }
   ],
   "source": [
    "t = (1,2,3)\n",
    "x,*y=t\n",
    "print(x)\n",
    "print(y)"
   ]
  },
  {
   "cell_type": "code",
   "execution_count": 61,
   "id": "a47b348c",
   "metadata": {},
   "outputs": [
    {
     "name": "stdout",
     "output_type": "stream",
     "text": [
      "1\n",
      "2\n",
      "('a', 'b')\n"
     ]
    }
   ],
   "source": [
    "# 嵌套元组\n",
    "t = [1,2,('a','b')]\n",
    "x,y,z = t\n",
    "print(x)\n",
    "print(y)\n",
    "print(z)"
   ]
  },
  {
   "cell_type": "code",
   "execution_count": 62,
   "id": "62c02fac",
   "metadata": {
    "scrolled": true
   },
   "outputs": [
    {
     "name": "stdout",
     "output_type": "stream",
     "text": [
      "3\n"
     ]
    }
   ],
   "source": [
    "# 使用占位符\n",
    "t =(1,2,3)\n",
    "_,_,x = t\n",
    "print(x)"
   ]
  },
  {
   "cell_type": "markdown",
   "id": "cafb8202",
   "metadata": {},
   "source": [
    "Python拆包\n",
    "*args 和 **kwargs\n",
    "*args接收多余的未命名参数\n",
    "**kwargs接收实参中的命名参数\n",
    "args是元组类型 kwargs是字典类型"
   ]
  },
  {
   "cell_type": "code",
   "execution_count": 64,
   "id": "5f71267c",
   "metadata": {},
   "outputs": [
    {
     "name": "stdout",
     "output_type": "stream",
     "text": [
      "1\n",
      "(2, 3)\n",
      "2 3\n",
      "((2, 3),)\n",
      "(2, 3)\n",
      "(2, 3)\n",
      "2 3\n"
     ]
    }
   ],
   "source": [
    "# *args拆包\n",
    "def run(a,*args):\n",
    "    print(a)\n",
    "    print(args)\n",
    "    print(*args) #拆包\n",
    "    run1(args) #传入未拆包的 args作为一个元组数据传入\n",
    "    run1(*args)\n",
    "def run1(*args):\n",
    "    print(args)\n",
    "    print(*args)\n",
    "\n",
    "run(1,2,3)"
   ]
  },
  {
   "cell_type": "code",
   "execution_count": 65,
   "id": "78a018fc",
   "metadata": {},
   "outputs": [
    {
     "name": "stdout",
     "output_type": "stream",
     "text": [
      "{'a': 1, 'b': 2}\n",
      "1 2\n"
     ]
    }
   ],
   "source": [
    "# **kwargs\n",
    "def run(**kwargs):\n",
    "    print(kwargs)\n",
    "    run1(**kwargs)\n",
    "def run1(a,b):\n",
    "    print(a,b)\n",
    "run(a=1,b=2)\n",
    "\n",
    "# kwargs接收元素类型是字典 args接收元素类型是元组"
   ]
  },
  {
   "cell_type": "markdown",
   "id": "40b373ef",
   "metadata": {},
   "source": [
    "平行赋值\n",
    "把一个可迭代对象里面的元素，一并赋值到对应的变量组成的元组中\n"
   ]
  },
  {
   "cell_type": "code",
   "execution_count": 66,
   "id": "ed75a27f",
   "metadata": {},
   "outputs": [
    {
     "name": "stdout",
     "output_type": "stream",
     "text": [
      "33.9425\n",
      "-118.408056\n"
     ]
    }
   ],
   "source": [
    "lax_coordinates = (33.9425, -118.408056)\n",
    "latitude, longitude = lax_coordinates # 元组拆包\n",
    "print(latitude)\n",
    "print(longitude)"
   ]
  },
  {
   "cell_type": "code",
   "execution_count": 67,
   "id": "8d72af87",
   "metadata": {},
   "outputs": [
    {
     "name": "stdout",
     "output_type": "stream",
     "text": [
      "10\n",
      "5\n",
      "5\n",
      "10\n"
     ]
    }
   ],
   "source": [
    "a=10\n",
    "b=5\n",
    "print(a)\n",
    "print(b)\n",
    "b,a=a,b\n",
    "print(a)\n",
    "print(b)\n",
    "# 不使用中间变量交换两个变量的值"
   ]
  },
  {
   "cell_type": "code",
   "execution_count": 68,
   "id": "676ab9bd",
   "metadata": {},
   "outputs": [
    {
     "data": {
      "text/plain": [
       "(2, 4)"
      ]
     },
     "execution_count": 68,
     "metadata": {},
     "output_type": "execute_result"
    }
   ],
   "source": [
    "# 使用*运算符将一个可迭代对象拆开作为函数的参数\n",
    "divmod(20,8) #20/8 = 2...4"
   ]
  },
  {
   "cell_type": "code",
   "execution_count": 71,
   "id": "8c48507f",
   "metadata": {},
   "outputs": [
    {
     "name": "stdout",
     "output_type": "stream",
     "text": [
      "(2, 4)\n",
      "2 4\n"
     ]
    }
   ],
   "source": [
    "t=(20,8)\n",
    "print(divmod(*t))\n",
    "quotient, remainder = divmod(*t)\n",
    "print(quotient,remainder)"
   ]
  },
  {
   "cell_type": "code",
   "execution_count": 73,
   "id": "22512e46",
   "metadata": {},
   "outputs": [
    {
     "data": {
      "text/plain": [
       "'isrsa.pub'"
      ]
     },
     "execution_count": 73,
     "metadata": {},
     "output_type": "execute_result"
    }
   ],
   "source": [
    "# 元组拆包就是让一个函数可以用元组的形式返回多个值\n",
    "# os.path.split()返回以路径和最后一个文件名组成的元组\n",
    "import os\n",
    "_,filename = os.path.split('/home/isrsa.pub')\n",
    "filename"
   ]
  },
  {
   "cell_type": "code",
   "execution_count": 74,
   "id": "2180344e",
   "metadata": {},
   "outputs": [
    {
     "data": {
      "text/plain": [
       "(0, 1, [2, 3, 4])"
      ]
     },
     "execution_count": 74,
     "metadata": {},
     "output_type": "execute_result"
    }
   ],
   "source": [
    "a,b,*c = range(5)\n",
    "a,b,c"
   ]
  },
  {
   "cell_type": "code",
   "execution_count": 76,
   "id": "3200b5bc",
   "metadata": {},
   "outputs": [
    {
     "data": {
      "text/plain": [
       "(0, 1, [])"
      ]
     },
     "execution_count": 76,
     "metadata": {},
     "output_type": "execute_result"
    }
   ],
   "source": [
    "a,b,*c = range(2)\n",
    "a,b,c"
   ]
  },
  {
   "cell_type": "code",
   "execution_count": 81,
   "id": "06d2f796",
   "metadata": {},
   "outputs": [
    {
     "name": "stdout",
     "output_type": "stream",
     "text": [
      "                |   lat.    |   long.  \n",
      "Tokyo           |   35.6897 |  139.6917\n",
      "Delhi NCR       |   28.6139 |   77.2089\n",
      "Mexico City     |   19.4333 |  -99.1333\n",
      "New York-Newark |   40.8086 |  -74.0204\n",
      "Sao Paulo       |  -23.5478 |  -46.6358\n"
     ]
    }
   ],
   "source": [
    "#嵌套元组拆包 eg：(a,b,(c,d))\n",
    "metro_areas = [\n",
    "('Tokyo','JP',36.933,(35.689722,139.691667)),\n",
    "('Delhi NCR', 'IN', 21.935, (28.613889, 77.208889)),\n",
    "('Mexico City', 'MX', 20.142, (19.433333, -99.133333)),\n",
    "('New York-Newark', 'US', 20.104, (40.808611, -74.020386)),\n",
    "('Sao Paulo', 'BR', 19.649, (-23.547778, -46.635833)),\n",
    "]\n",
    "print('{:15} | {:^9} | {:^9}'.format('', 'lat.', 'long.'))\n",
    "fmt = '{:15} | {:9.4f} | {:9.4f}'\n",
    "\n",
    "for name, cc, pop, (latitude, longitude) in metro_areas: \n",
    "# if longitude <= 0: \n",
    "    print(fmt.format(name, latitude, longitude))\n"
   ]
  },
  {
   "cell_type": "markdown",
   "id": "bba1079f",
   "metadata": {},
   "source": [
    "namedtuple 给记录中的字段命名\n",
    "collections.namedtuple是一个工厂函数，可以构建一个\n",
    "带字段名的元组和一个有名字的类\n",
    "\n",
    "————\n",
    "namedtuple构建的类是实例所消耗的内存和元组是一样的，所以实例和普通的对象相比更小\n",
    "构建的为 具名元组\n",
    "\n",
    "1.创建一个具名元组需要两个参数，一个是类名，一个是类各个字段的名字\n",
    "    后者可以是以数个字符串组成的可迭代对象，或者是由空格分开的字段名组成的字符串\n",
    "2.存放在对应字段里的数据要以一串参数的形式传入到构造函数中，只接受单一的可迭代对象"
   ]
  },
  {
   "cell_type": "code",
   "execution_count": 82,
   "id": "3bc7dcda",
   "metadata": {},
   "outputs": [
    {
     "data": {
      "text/plain": [
       "City(name='Tokyo', country='JP', population=36.933, coordinates=(35.689722, 139.691667))"
      ]
     },
     "execution_count": 82,
     "metadata": {},
     "output_type": "execute_result"
    }
   ],
   "source": [
    "from collections import namedtuple\n",
    "City = namedtuple('City','name country population coordinates') #1\n",
    "tokyo = City('Tokyo','JP',36.933, (35.689722, 139.691667)) #2\n",
    "tokyo"
   ]
  },
  {
   "cell_type": "code",
   "execution_count": 83,
   "id": "c392b1ba",
   "metadata": {},
   "outputs": [
    {
     "data": {
      "text/plain": [
       "36.933"
      ]
     },
     "execution_count": 83,
     "metadata": {},
     "output_type": "execute_result"
    }
   ],
   "source": [
    "tokyo.population"
   ]
  },
  {
   "cell_type": "code",
   "execution_count": 84,
   "id": "7b45f59d",
   "metadata": {},
   "outputs": [
    {
     "data": {
      "text/plain": [
       "(35.689722, 139.691667)"
      ]
     },
     "execution_count": 84,
     "metadata": {},
     "output_type": "execute_result"
    }
   ],
   "source": [
    " tokyo.coordinates"
   ]
  },
  {
   "cell_type": "code",
   "execution_count": 85,
   "id": "a66413ba",
   "metadata": {},
   "outputs": [
    {
     "data": {
      "text/plain": [
       "'JP'"
      ]
     },
     "execution_count": 85,
     "metadata": {},
     "output_type": "execute_result"
    }
   ],
   "source": [
    "tokyo[1]\n"
   ]
  },
  {
   "cell_type": "code",
   "execution_count": 86,
   "id": "2b917398",
   "metadata": {},
   "outputs": [
    {
     "data": {
      "text/plain": [
       "('name', 'country', 'population', 'coordinates')"
      ]
     },
     "execution_count": 86,
     "metadata": {},
     "output_type": "execute_result"
    }
   ],
   "source": [
    "# _fields类属性方法 类方法_make(iterable) 实例方法 _asdict()\n",
    "# _fields 属性是一个包含这个类所有字段名称的元组\n",
    "City._fields"
   ]
  },
  {
   "cell_type": "code",
   "execution_count": 87,
   "id": "485e5eba",
   "metadata": {},
   "outputs": [
    {
     "data": {
      "text/plain": [
       "{'name': 'Delhi NCR',\n",
       " 'country': 'IN',\n",
       " 'population': 21.935,\n",
       " 'coordinates': LatLong(lat=28.613889, long=77.208889)}"
      ]
     },
     "execution_count": 87,
     "metadata": {},
     "output_type": "execute_result"
    }
   ],
   "source": [
    "LatLong = namedtuple('LatLong', 'lat long')\n",
    "delhi_data = ('Delhi NCR', 'IN', 21.935, LatLong(28.613889, 77.208889))\n",
    "#使用 _make()通过接受一个可迭代对象来生产这个类的一个实例。作用和City(*delhi_data)一样\n",
    "delhi = City._make(delhi_data)\n",
    "# _asdict()把具名元组以collections.OrderedDict的形式返回，可以利用它把元素里的信息友好呈现\n",
    "delhi._asdict()"
   ]
  },
  {
   "cell_type": "code",
   "execution_count": 88,
   "id": "58dbde5b",
   "metadata": {},
   "outputs": [
    {
     "name": "stdout",
     "output_type": "stream",
     "text": [
      "name: Delhi NCR\n",
      "country: IN\n",
      "population: 21.935\n",
      "coordinates: LatLong(lat=28.613889, long=77.208889)\n"
     ]
    }
   ],
   "source": [
    "for key, value in delhi._asdict().items():\n",
    "    print(key + ':', value)"
   ]
  },
  {
   "cell_type": "markdown",
   "id": "e3b90845",
   "metadata": {},
   "source": [
    "元组没有__reserved__方法\n",
    "\n",
    "——————\n",
    "切片不包含最后一个元素\n",
    "还可以用 s[a:b:c] 的形式对 s 在 a 和 b之间以 c 为间隔取值。\n",
    "a:b:c 这种用法只能作为索引或者下标用在 [] 中来返回一个切片对象：slice(a, b, c)。\n",
    "对seq[start:stop:step] 进行求值的时候，Python 会调用\n",
    "seq.__getitem__(slice(start, stop, step))\n"
   ]
  },
  {
   "cell_type": "code",
   "execution_count": 91,
   "id": "04c8f4ce",
   "metadata": {},
   "outputs": [
    {
     "name": "stdout",
     "output_type": "stream",
     "text": [
      "elcycib\n",
      "eccb\n"
     ]
    }
   ],
   "source": [
    "s = 'bicycle'\n",
    "s[::3]\n",
    "print(s[::-1])\n",
    "print(s[::-2])"
   ]
  },
  {
   "cell_type": "code",
   "execution_count": 108,
   "id": "16c6a1d1",
   "metadata": {},
   "outputs": [
    {
     "name": "stdout",
     "output_type": "stream",
     "text": [
      " Pimoroni PiBrella $17.50 3 $52.\n",
      " 6mm Tactile Switch x20 $4.95 2 \n",
      " Panavise Jr. - PV-201 $28.00 1 \n",
      " PiTFT Mini Kit 320x240 $34.95 1\n",
      "\n"
     ]
    }
   ],
   "source": [
    "# 使用有名字的切片比用硬编码的数字区间要方便得多\n",
    "invoice = \"\"\"\n",
    "... 0.....6................................40........52...55........\n",
    "... 1909 Pimoroni PiBrella $17.50 3 $52.50\n",
    "... 1489 6mm Tactile Switch x20 $4.95 2 $9.90\n",
    "... 1510 Panavise Jr. - PV-201 $28.00 1 $28.00\n",
    "... 1601 PiTFT Mini Kit 320x240 $34.95 1 $34.95\n",
    "... \"\"\"\n",
    "SKU = slice(0, 6)\n",
    "DESCRIPTION = slice(6, 40)\n",
    "UNIT_PRICE = slice(40, 52)\n",
    "QUANTITY = slice(52, 55)\n",
    "ITEM_TOTAL = slice(55, None)\n",
    "line_items = invoice.split('\\n')[2:]\n",
    "# print(line_items)\n",
    "for item in line_items:\n",
    "#     print(item[UNIT_PRICE], item[DESCRIPTION])\n"
   ]
  },
  {
   "cell_type": "markdown",
   "id": "dc753c49",
   "metadata": {},
   "source": [
    "多维切片和省略\n",
    "Numpy 的ndarray可以使用a[i,j] 这种形式来获取，或者是使用a[m:n,k:l]的方式来得到二维切片\n",
    "要正确处理这种 [] 运算符，对象的特殊方法 __getitem__ 和 __setitem__ 需要以元组的形式来接收a[i, j] 中的索引\n",
    "\n",
    "如果要得到 a[i, j] 的值，Python 会调用 a.__getitem__((i, j))。\n",
    "\n",
    "-----------\n",
    "Python 内置的序列类型都是一维的，因此它们只支持单一的索引，成对出现的索引是没有用的。\n",
    "————————\n",
    "省略（ellipsis）的正确书写方法是三个英语句号（...），而不是Unicdoe 码位 U+2026 表示的半个省略号（...）\n",
    "它可以当作切片规范的一部分，也可以用在函数的参数清单中，比如 f(a, ..., z)，或 a[i:...]。在NumPy 中，... 用作多维数组切片的快捷方式\n",
    "如果 x 是四维数组，那么 x[i, ...] 就是 x[i, :, :, :] 的缩写"
   ]
  },
  {
   "cell_type": "code",
   "execution_count": 118,
   "id": "c3b93bba",
   "metadata": {},
   "outputs": [
    {
     "data": {
      "text/plain": [
       "[0, 1, 2, 3, 4, 5, 6, 7, 8, 9]"
      ]
     },
     "execution_count": 118,
     "metadata": {},
     "output_type": "execute_result"
    }
   ],
   "source": [
    "l = list(range(10))\n",
    "l"
   ]
  },
  {
   "cell_type": "code",
   "execution_count": 119,
   "id": "e6e5ab46",
   "metadata": {},
   "outputs": [
    {
     "data": {
      "text/plain": [
       "[0, 1, 20, 30, 5, 6, 7, 8, 9]"
      ]
     },
     "execution_count": 119,
     "metadata": {},
     "output_type": "execute_result"
    }
   ],
   "source": [
    "l[2:5] = [20, 30]\n",
    "l"
   ]
  },
  {
   "cell_type": "code",
   "execution_count": 120,
   "id": "a11092e5",
   "metadata": {},
   "outputs": [
    {
     "data": {
      "text/plain": [
       "[0, 1, 20, 30, 5, 8, 9]"
      ]
     },
     "execution_count": 120,
     "metadata": {},
     "output_type": "execute_result"
    }
   ],
   "source": [
    "del l[5:7]\n",
    "l"
   ]
  },
  {
   "cell_type": "code",
   "execution_count": 121,
   "id": "fe5b7c0b",
   "metadata": {},
   "outputs": [
    {
     "data": {
      "text/plain": [
       "[0, 1, 20, 11, 5, 22, 9]"
      ]
     },
     "execution_count": 121,
     "metadata": {},
     "output_type": "execute_result"
    }
   ],
   "source": [
    "l[3::2] = [11, 22]\n",
    "l"
   ]
  },
  {
   "cell_type": "code",
   "execution_count": 122,
   "id": "b05e0ae0",
   "metadata": {},
   "outputs": [
    {
     "ename": "TypeError",
     "evalue": "can only assign an iterable",
     "output_type": "error",
     "traceback": [
      "\u001b[1;31m---------------------------------------------------------------------------\u001b[0m",
      "\u001b[1;31mTypeError\u001b[0m                                 Traceback (most recent call last)",
      "\u001b[1;32m~\\AppData\\Local\\Temp/ipykernel_4528/680702177.py\u001b[0m in \u001b[0;36m<module>\u001b[1;34m\u001b[0m\n\u001b[1;32m----> 1\u001b[1;33m \u001b[0ml\u001b[0m\u001b[1;33m[\u001b[0m\u001b[1;36m2\u001b[0m\u001b[1;33m:\u001b[0m\u001b[1;36m5\u001b[0m\u001b[1;33m]\u001b[0m \u001b[1;33m=\u001b[0m \u001b[1;36m100\u001b[0m\u001b[1;33m\u001b[0m\u001b[1;33m\u001b[0m\u001b[0m\n\u001b[0m\u001b[0;32m      2\u001b[0m \u001b[0ml\u001b[0m\u001b[1;33m\u001b[0m\u001b[1;33m\u001b[0m\u001b[0m\n\u001b[0;32m      3\u001b[0m \u001b[1;31m#如果赋值的对象是一个切片，那么赋值语句的右侧必须是个可迭代对象。即便只有单独一个值，也要把它转换成可迭代的序列。\u001b[0m\u001b[1;33m\u001b[0m\u001b[1;33m\u001b[0m\u001b[0m\n",
      "\u001b[1;31mTypeError\u001b[0m: can only assign an iterable"
     ]
    }
   ],
   "source": [
    "l[2:5] = 100\n",
    "l\n",
    "#如果赋值的对象是一个切片，那么赋值语句的右侧必须是个可迭代对象。即便只有单独一个值，也要把它转换成可迭代的序列。"
   ]
  },
  {
   "cell_type": "code",
   "execution_count": 123,
   "id": "cbf6759e",
   "metadata": {},
   "outputs": [
    {
     "data": {
      "text/plain": [
       "[0, 1, 100, 22, 9]"
      ]
     },
     "execution_count": 123,
     "metadata": {},
     "output_type": "execute_result"
    }
   ],
   "source": [
    "l[2:5] = [100]\n",
    "l"
   ]
  },
  {
   "cell_type": "markdown",
   "id": "9c6ee4c5",
   "metadata": {},
   "source": [
    "序列的拼接操作 * 和 +\n",
    "+和*都遵循这个规律,不修改原有的操作对象，而是构建一个全新的序列。"
   ]
  },
  {
   "cell_type": "code",
   "execution_count": 124,
   "id": "4911cc90",
   "metadata": {},
   "outputs": [
    {
     "data": {
      "text/plain": [
       "[1, 2, 3, 1, 2, 3, 1, 2, 3, 1, 2, 3, 1, 2, 3]"
      ]
     },
     "execution_count": 124,
     "metadata": {},
     "output_type": "execute_result"
    }
   ],
   "source": [
    "l = [1, 2, 3]\n",
    "l*5"
   ]
  },
  {
   "cell_type": "code",
   "execution_count": 125,
   "id": "ac43b23b",
   "metadata": {},
   "outputs": [
    {
     "data": {
      "text/plain": [
       "'abcdabcdabcdabcdabcd'"
      ]
     },
     "execution_count": 125,
     "metadata": {},
     "output_type": "execute_result"
    }
   ],
   "source": [
    "5 * 'abcd'"
   ]
  },
  {
   "cell_type": "markdown",
   "id": "c8caee3a",
   "metadata": {},
   "source": [
    "my_list = [[]] * 3 来初始化一个由列表组成的列表，但是你得到的列表里包含的 3 个元素其实是 3个引用，而且这 3 个引用指向的都是同一个列表"
   ]
  },
  {
   "cell_type": "code",
   "execution_count": 126,
   "id": "81a3c6dc",
   "metadata": {},
   "outputs": [
    {
     "data": {
      "text/plain": [
       "[['_', '_', '_'], ['_', '_', '_'], ['_', '_', '_']]"
      ]
     },
     "execution_count": 126,
     "metadata": {},
     "output_type": "execute_result"
    }
   ],
   "source": [
    "# 正确的初始化二维列表的方法\n",
    "board = [['_'] * 3 for i in range(3)]\n",
    "board"
   ]
  },
  {
   "cell_type": "code",
   "execution_count": 127,
   "id": "520e551f",
   "metadata": {},
   "outputs": [
    {
     "data": {
      "text/plain": [
       "[['_', '_', '_'], ['_', '_', 'X'], ['_', '_', '_']]"
      ]
     },
     "execution_count": 127,
     "metadata": {},
     "output_type": "execute_result"
    }
   ],
   "source": [
    "board[1][2] = 'X' \n",
    "board"
   ]
  },
  {
   "cell_type": "code",
   "execution_count": 129,
   "id": "9bcd59b5",
   "metadata": {},
   "outputs": [
    {
     "data": {
      "text/plain": [
       "[['_', '_', '_'], ['_', '_', '_'], ['_', '_', '_']]"
      ]
     },
     "execution_count": 129,
     "metadata": {},
     "output_type": "execute_result"
    }
   ],
   "source": [
    "board=[]\n",
    "for i in range(3):\n",
    "    row=['_']*3\n",
    "    board.append(row)\n",
    "board"
   ]
  },
  {
   "cell_type": "code",
   "execution_count": 130,
   "id": "40cb9739",
   "metadata": {},
   "outputs": [
    {
     "data": {
      "text/plain": [
       "[['_', '_', '_'], ['_', '_', '_'], ['X', '_', '_']]"
      ]
     },
     "execution_count": 130,
     "metadata": {},
     "output_type": "execute_result"
    }
   ],
   "source": [
    "board[2][0] = 'X'\n",
    "board"
   ]
  },
  {
   "cell_type": "markdown",
   "id": "0d435ea4",
   "metadata": {},
   "source": [
    "序列的增量赋值\n",
    "+=背后的特殊方法是__iadd__ 用于就地加法\n",
    "若一个类没有实现这个方法，Python就会退一步调用__add__\n",
    "a+=b ----a实现了__iadd__方法，就会调用这个方法\n",
    "a = a + b ——没有实现__iadd__就首先计算 a +b，得到一个新的对象，然后赋值给 a"
   ]
  },
  {
   "cell_type": "code",
   "execution_count": 131,
   "id": "10472055",
   "metadata": {},
   "outputs": [
    {
     "data": {
      "text/plain": [
       "2226776032384"
      ]
     },
     "execution_count": 131,
     "metadata": {},
     "output_type": "execute_result"
    }
   ],
   "source": [
    "# 展示 *= 在可变和不可变序列上的作用\n",
    "l = [1, 2, 3]\n",
    "id(l)"
   ]
  },
  {
   "cell_type": "code",
   "execution_count": 132,
   "id": "14974afd",
   "metadata": {},
   "outputs": [
    {
     "data": {
      "text/plain": [
       "[1, 2, 3, 1, 2, 3]"
      ]
     },
     "execution_count": 132,
     "metadata": {},
     "output_type": "execute_result"
    }
   ],
   "source": [
    "l*=2\n",
    "l"
   ]
  },
  {
   "cell_type": "code",
   "execution_count": 133,
   "id": "724ebf36",
   "metadata": {},
   "outputs": [
    {
     "data": {
      "text/plain": [
       "2226776032384"
      ]
     },
     "execution_count": 133,
     "metadata": {},
     "output_type": "execute_result"
    }
   ],
   "source": [
    "id(l)"
   ]
  },
  {
   "cell_type": "code",
   "execution_count": 134,
   "id": "7d6625c5",
   "metadata": {},
   "outputs": [
    {
     "name": "stdout",
     "output_type": "stream",
     "text": [
      "2226775617920\n",
      "2226777331744\n"
     ]
    }
   ],
   "source": [
    "t = (1,2,3)\n",
    "print(id(t))\n",
    "t*=2\n",
    "print(id(t))\n",
    "# 表示元组是就地相乘\n",
    "# 对不可变序列进行重复拼接操作，效率会很低，因为每次都有一个新对象\n",
    "# 而解释器会把原来的对象复制到新的对象，再追加新的元素"
   ]
  },
  {
   "cell_type": "code",
   "execution_count": 138,
   "id": "02d0da5f",
   "metadata": {},
   "outputs": [
    {
     "ename": "TypeError",
     "evalue": "'tuple' object does not support item assignment",
     "output_type": "error",
     "traceback": [
      "\u001b[1;31m---------------------------------------------------------------------------\u001b[0m",
      "\u001b[1;31mTypeError\u001b[0m                                 Traceback (most recent call last)",
      "\u001b[1;32m~\\AppData\\Local\\Temp/ipykernel_4528/2464992830.py\u001b[0m in \u001b[0;36m<module>\u001b[1;34m\u001b[0m\n\u001b[0;32m      1\u001b[0m \u001b[0mt\u001b[0m \u001b[1;33m=\u001b[0m \u001b[1;33m(\u001b[0m\u001b[1;36m1\u001b[0m\u001b[1;33m,\u001b[0m\u001b[1;36m2\u001b[0m\u001b[1;33m,\u001b[0m\u001b[1;33m[\u001b[0m\u001b[1;36m30\u001b[0m\u001b[1;33m,\u001b[0m\u001b[1;36m40\u001b[0m\u001b[1;33m]\u001b[0m\u001b[1;33m)\u001b[0m\u001b[1;33m\u001b[0m\u001b[1;33m\u001b[0m\u001b[0m\n\u001b[1;32m----> 2\u001b[1;33m \u001b[0mt\u001b[0m\u001b[1;33m[\u001b[0m\u001b[1;36m2\u001b[0m\u001b[1;33m]\u001b[0m \u001b[1;33m+=\u001b[0m \u001b[1;33m[\u001b[0m\u001b[1;36m50\u001b[0m\u001b[1;33m,\u001b[0m\u001b[1;36m60\u001b[0m\u001b[1;33m]\u001b[0m\u001b[1;33m\u001b[0m\u001b[1;33m\u001b[0m\u001b[0m\n\u001b[0m",
      "\u001b[1;31mTypeError\u001b[0m: 'tuple' object does not support item assignment"
     ]
    }
   ],
   "source": [
    "t = (1,2,[30,40])\n",
    "t[2] += [50,60]\n"
   ]
  },
  {
   "cell_type": "code",
   "execution_count": 139,
   "id": "7aef2f59",
   "metadata": {},
   "outputs": [
    {
     "data": {
      "text/plain": [
       "(1, 2, [30, 40, 50, 60])"
      ]
     },
     "execution_count": 139,
     "metadata": {},
     "output_type": "execute_result"
    }
   ],
   "source": [
    "t\n",
    "# 抛出错误，但是t2也被改变了"
   ]
  },
  {
   "cell_type": "markdown",
   "id": "fdad8c93",
   "metadata": {},
   "source": [
    "t[2]是一个列表 可以完成 因为列表是一个可变对象\n",
    "赋值失败，因为t是一个元组，是不可变的\n",
    "tips：\n",
    "1.不要把可变对象放到元组里面\n",
    "2.增量赋值不是一个原子操作 += 不是原子操作，抛出异常(操作被打断)，but还是完成了操作"
   ]
  },
  {
   "cell_type": "markdown",
   "id": "071e1104",
   "metadata": {},
   "source": [
    "排序\n",
    "list.sort()方法会就地排序列表，即不会把原列表复制一份，这也是这个方法返回值None的原因\n",
    "——即本方法不会新建一个列表\n",
    "\n",
    "sorted()会新建一个列表作为返回值，这个方法可以接收任何形式的可迭代对象作为参数\n",
    "甚至包括不可变序列或生成器，而不管sorted接受的是怎样的参数\n",
    "它最终都会返回一个列表\n",
    "\n",
    "reserve 若被设定成True ，则被排序的序列里的元素会以降序输出\n",
    "这个参数的默认值是False\n",
    "\n",
    "key 一个只有一个参数的函数，这个函数会被用在序列里面的每一个元素上\n",
    "产生的结果将是排序算法依赖的对比关键字\n",
    "eg：key = str.lower 来实现忽略大小写的顺序\n",
    "   key = len 基于字符串长度的排序，这个参数的默认值是恒等函数，即使用元素自己的值来排序\n",
    "   \n",
    "key可以在内置函数min() 和 max()中起作用\n",
    "itertools.groupby()和heapq.nlargest()等"
   ]
  },
  {
   "cell_type": "code",
   "execution_count": 140,
   "id": "589afeba",
   "metadata": {},
   "outputs": [
    {
     "data": {
      "text/plain": [
       "['apple', 'banana', 'grape', 'raspberry']"
      ]
     },
     "execution_count": 140,
     "metadata": {},
     "output_type": "execute_result"
    }
   ],
   "source": [
    "fruits = ['grape', 'raspberry', 'apple', 'banana']\n",
    "sorted(fruits)\n"
   ]
  },
  {
   "cell_type": "code",
   "execution_count": 141,
   "id": "a11d95b4",
   "metadata": {},
   "outputs": [
    {
     "data": {
      "text/plain": [
       "['raspberry', 'grape', 'banana', 'apple']"
      ]
     },
     "execution_count": 141,
     "metadata": {},
     "output_type": "execute_result"
    }
   ],
   "source": [
    "sorted(fruits, reverse=True)"
   ]
  },
  {
   "cell_type": "code",
   "execution_count": 142,
   "id": "c23f72bd",
   "metadata": {},
   "outputs": [
    {
     "data": {
      "text/plain": [
       "['grape', 'apple', 'banana', 'raspberry']"
      ]
     },
     "execution_count": 142,
     "metadata": {},
     "output_type": "execute_result"
    }
   ],
   "source": [
    "sorted(fruits, key=len)\n"
   ]
  },
  {
   "cell_type": "code",
   "execution_count": 143,
   "id": "bd26c9b6",
   "metadata": {},
   "outputs": [
    {
     "data": {
      "text/plain": [
       "['raspberry', 'banana', 'grape', 'apple']"
      ]
     },
     "execution_count": 143,
     "metadata": {},
     "output_type": "execute_result"
    }
   ],
   "source": [
    "sorted(fruits, key=len, reverse=True)"
   ]
  },
  {
   "cell_type": "code",
   "execution_count": 144,
   "id": "f7b98855",
   "metadata": {},
   "outputs": [
    {
     "data": {
      "text/plain": [
       "['grape', 'raspberry', 'apple', 'banana']"
      ]
     },
     "execution_count": 144,
     "metadata": {},
     "output_type": "execute_result"
    }
   ],
   "source": [
    "fruits\n",
    "#说明sorted()会开辟新的空间  原列表并没有变化。  .sort()是就地排序的"
   ]
  },
  {
   "cell_type": "code",
   "execution_count": 145,
   "id": "7a7d296d",
   "metadata": {},
   "outputs": [],
   "source": [
    "fruits.sort() "
   ]
  },
  {
   "cell_type": "code",
   "execution_count": 146,
   "id": "8d47264b",
   "metadata": {},
   "outputs": [
    {
     "data": {
      "text/plain": [
       "['apple', 'banana', 'grape', 'raspberry']"
      ]
     },
     "execution_count": 146,
     "metadata": {},
     "output_type": "execute_result"
    }
   ],
   "source": [
    "fruits"
   ]
  },
  {
   "cell_type": "markdown",
   "id": "1af7d9e3",
   "metadata": {},
   "source": [
    "已排序的序列可以用来进行快速搜索，而标准库的 bisect 模块提供了二分查找算法。\n",
    "\n",
    "使用bisect来管理已排序的序列\n",
    "bisect包含两个主要函数\n",
    "bisect 和insort 都利用了二分查找算法来查找或插入元素\n",
    "\n",
    "————————\n",
    "bisect(haystack,needle)\n",
    "haystack必须是一个有序的序。并且将neddle插入这个位置后 haystack还可以保持升序\n"
   ]
  },
  {
   "cell_type": "markdown",
   "id": "4778b4e2",
   "metadata": {},
   "source": [
    "1.使用特定的bisect函数来计算元素应该出现的位置\n",
    "2.利用该位置来算出需要几个分隔符号\n",
    "3.将元素和其应该出现的位置打印出来\n",
    "4.根据命令最后一个参数来选用bisect函数\n",
    "5.把选定的函数在抬头打印出来"
   ]
  },
  {
   "cell_type": "code",
   "execution_count": 162,
   "id": "474865e0",
   "metadata": {},
   "outputs": [
    {
     "name": "stdout",
     "output_type": "stream",
     "text": [
      "DEMO: bisect_right\n",
      "haystack->  1 4 5 6 8121520212323262930\n",
      "31 @ 14     | | | | | | | | | | | | | |31\n",
      "30 @ 14     | | | | | | | | | | | | | |30\n",
      "29 @ 13     | | | | | | | | | | | | |29\n",
      "23 @ 11     | | | | | | | | | | |23\n",
      "22 @  9     | | | | | | | | |22\n",
      "10 @  5     | | | | |10\n",
      " 8 @  5     | | | | |8 \n",
      " 5 @  3     | | |5 \n",
      " 2 @  1     |2 \n",
      " 1 @  1     |1 \n",
      " 0 @  0    0 \n"
     ]
    }
   ],
   "source": [
    "# 在有序序列中使用bisect查找某个元素的插入位置\n",
    "import bisect\n",
    "import sys\n",
    "HAYSTACK = [1, 4, 5, 6, 8, 12, 15, 20, 21, 23, 23, 26, 29, 30]\n",
    "NEEDLES = [0, 1, 2, 5, 8, 10, 22, 23, 29, 30, 31]\n",
    "ROW_FMT = '{0:2d} @ {1:2d}    {2}{0:<2d}'\n",
    "\n",
    "def demo(bisect_fn):\n",
    "    for needle in reversed(NEEDLES):\n",
    "        position = bisect_fn(HAYSTACK,needle)#1\n",
    "        offset = position * ' |' #2\n",
    "        print(ROW_FMT.format(needle,position,offset)) #3\n",
    "if sys.argv[-1] == 'left': #4\n",
    "    bisect_fn = bisect.bisect_left\n",
    "else:\n",
    "    bisect_fn = bisect.bisect\n",
    "\n",
    "print('DEMO:',bisect_fn.__name__) #5\n",
    "print('haystack->',''.join('%2d' % n for n in HAYSTACK))\n",
    "demo(bisect_fn)\n",
    "#表示needle应该在haystack中插入的位置\n",
    "# 每一行以needle@position（元素以及其应该插入的位置）开始\n",
    "# 展示了该元素在原序列中的物理位置"
   ]
  },
  {
   "cell_type": "markdown",
   "id": "5aa83b0c",
   "metadata": {},
   "source": [
    "bisect的调试\n",
    "使用两个可选参数 --lo 和 --hi来缩小搜寻的范围\n",
    "lo的默认值是0 hi的默认值是序列的长度 即len()作用于该序列的返回值\n",
    "\n",
    "bisect是bisect函数的别名，后者还有个姐妹函数bisect_left\n",
    "区别是 bisect_left返回的插入位置是原序列中被插入元素相等的元素的位置\n",
    "即新元素会被放到它相等的元素的前面\n",
    "而bisect_right则返回与它相等的元素之后的位置\n",
    "\n",
    "这个细微的差别可能对于整数序列来讲没什么用\n",
    "但是对于那些值相等但是形式不同的数据类型来讲，结果就不一样了。\n",
    "比如说虽然 1 == 1.0 的返回值是 True，1 和 1.0 其实是两个不同的元素。"
   ]
  },
  {
   "cell_type": "code",
   "execution_count": 163,
   "id": "ef2f610e",
   "metadata": {},
   "outputs": [
    {
     "data": {
      "text/plain": [
       "['F', 'A', 'C', 'C', 'A', 'A', 'A']"
      ]
     },
     "execution_count": 163,
     "metadata": {},
     "output_type": "execute_result"
    }
   ],
   "source": [
    "# bisect可以用于建立一个用数字作为索引的查询表格，比如把分数和成绩对应起来\n",
    "def grade(score,breakpoint=[60,70,80,0],grades='FDCBA'):\n",
    "    i = bisect.bisect(breakpoint,score)\n",
    "    return grades[i]\n",
    "[grade(score) for score in [33,98,77,70,89,90,100]]"
   ]
  },
  {
   "cell_type": "markdown",
   "id": "f18a9b14",
   "metadata": {},
   "source": [
    "bisect.insort插入新元素 用于在有序序列里面插入数据后仍然有序\n",
    "insort 和 bisect一样，有lo和hi两个可选参数用于控制查找的范围\n",
    "有个变体是insort_left 背后用的是bisect_left"
   ]
  },
  {
   "cell_type": "code",
   "execution_count": 167,
   "id": "daca501c",
   "metadata": {},
   "outputs": [
    {
     "name": "stdout",
     "output_type": "stream",
     "text": [
      "10 -> [10]\n",
      " 0 -> [0, 10]\n",
      " 6 -> [0, 6, 10]\n",
      " 8 -> [0, 6, 8, 10]\n",
      " 7 -> [0, 6, 7, 8, 10]\n",
      " 2 -> [0, 2, 6, 7, 8, 10]\n",
      "10 -> [0, 2, 6, 7, 8, 10, 10]\n"
     ]
    }
   ],
   "source": [
    "import bisect\n",
    "import random\n",
    "\n",
    "SIZE = 7\n",
    "random.seed(1729)\n",
    "\n",
    "my_list = []\n",
    "for i in range(SIZE):\n",
    "    new_item = random.randrange(SIZE*2)\n",
    "    bisect.insort(my_list,new_item)\n",
    "    print('%2d ->'%new_item,my_list)"
   ]
  },
  {
   "cell_type": "markdown",
   "id": "cfcc10f4",
   "metadata": {},
   "source": [
    "数组\n",
    "如在存放1000万个浮点数时，数组array的效率要高于列表\n",
    "因为数组背后存放的不是float对象， 而是数字的机器翻译---即字节表述\n",
    "若需要对序列进行频繁地先进先出的操作，deque的速度更快\n",
    "若在代码里包含操作的频率更高，则set更合适，set不是序列 是无序的\n",
    "\n",
    "——————\n",
    "若只需要一个包含数字的列表 则array.array比list更高效\n",
    "数组可以pop() insert) extend()\n",
    "读取文件存入文件 .frombytes .tofile\n",
    "array.fromfile从二进制文件里读取1000w个双精度浮点数需要0.1s\n",
    "比文本文件中读取浮点数快60倍，因为文本文件读取会使用内置的float方法将\n",
    "每一行文字转换成浮点数\n",
    "array.tofile写入到二进制文件，比写入到文本文件快7倍，也不需要额外的空间\n",
    "\n",
    "pickle.dump 处理序列化数字类型\n",
    "——————\n",
    "创建数组需要一个类型码，该类型码表示在底层的C语言应该存放怎样的数据类型\n",
    "比如b类型码代表牌有符号的字符 signed char\n",
    "因此 array('b')创建的数组只能存放一个字节大小的整数 范围是-128~127在序列很大的时候可以省略空间"
   ]
  },
  {
   "cell_type": "code",
   "execution_count": 168,
   "id": "17393491",
   "metadata": {},
   "outputs": [
    {
     "name": "stdout",
     "output_type": "stream",
     "text": [
      "0.5963321947530882\n"
     ]
    }
   ],
   "source": [
    "# 存放1000万个随机浮点数数组到文件，再从文件读取这个数组\n",
    "from array import array\n",
    "from random import random\n",
    "# 利用一个生成器表达式建立一个双精度浮点数组\n",
    "floats = array('d',(random() for i in range(10**7)))\n",
    "print(floats[-1])"
   ]
  },
  {
   "cell_type": "code",
   "execution_count": 172,
   "id": "4a5e7bff",
   "metadata": {},
   "outputs": [
    {
     "data": {
      "text/plain": [
       "0.5963321947530882"
      ]
     },
     "execution_count": 172,
     "metadata": {},
     "output_type": "execute_result"
    }
   ],
   "source": [
    "fp = open('floats.bin','wb')\n",
    "# 将数组存放到一个二进制文件中\n",
    "floats.tofile(fp)\n",
    "fp.close()\n",
    "floats2 = array('d') #新建双精度浮点空数组\n",
    "fp = open('floats.bin','rb')\n",
    "floats2.fromfile(fp,10**7) #从二进制文件中读取1000w个浮点数\n",
    "fp.close()\n",
    "floats2[-1]"
   ]
  },
  {
   "cell_type": "code",
   "execution_count": 173,
   "id": "8adca9c3",
   "metadata": {},
   "outputs": [
    {
     "data": {
      "text/plain": [
       "True"
      ]
     },
     "execution_count": 173,
     "metadata": {},
     "output_type": "execute_result"
    }
   ],
   "source": [
    "floats == floats2"
   ]
  },
  {
   "cell_type": "code",
   "execution_count": 175,
   "id": "fa796c92",
   "metadata": {},
   "outputs": [],
   "source": [
    "# 数组排序\n",
    "a = array.array(a.typecode,sorted(a))"
   ]
  },
  {
   "cell_type": "markdown",
   "id": "0ac8f472",
   "metadata": {},
   "source": [
    "内存视图\n",
    "memoryview 是一个in-build class \n",
    "让用户在不复制内容的情况下操作同一个数组的不同切片\n",
    "——————\n",
    "memoryview是泛化和去数学化的Numpy数组\n",
    "不需要复制内容的前提下，在数据结构之间共享内存\n",
    "数据结构可以是任何形式，如PIL图片 SQLite数据库和Numpy的数组等\n",
    "\n",
    "——————\n",
    "memoryview.cast的概念与数组模块类似 可以使用不同的方式使用同一块内存\n",
    "并且内容字节不会随意移动\n",
    "memoryview.cast会把同一块内存中的内容打包成一个全新的memoryview对象给用户"
   ]
  },
  {
   "cell_type": "code",
   "execution_count": 191,
   "id": "2aae0c7f",
   "metadata": {},
   "outputs": [
    {
     "data": {
      "text/plain": [
       "5"
      ]
     },
     "execution_count": 191,
     "metadata": {},
     "output_type": "execute_result"
    }
   ],
   "source": [
    "# 使用memoryview修改一个数组的某个字节，该数组的元素是16位二进制整数\n",
    "from array import array\n",
    "#利用含有5个短整型有符号整数的数组 创建一个memoryview\n",
    "numbers = array('h',[-2,-1,0,1,2])\n",
    "memv = memoryview(numbers)\n",
    "len(memv)"
   ]
  },
  {
   "cell_type": "code",
   "execution_count": 192,
   "id": "6e664590",
   "metadata": {},
   "outputs": [
    {
     "data": {
      "text/plain": [
       "-2"
      ]
     },
     "execution_count": 192,
     "metadata": {},
     "output_type": "execute_result"
    }
   ],
   "source": [
    "memv[0]"
   ]
  },
  {
   "cell_type": "code",
   "execution_count": 193,
   "id": "d5b32bc7",
   "metadata": {},
   "outputs": [
    {
     "data": {
      "text/plain": [
       "[254, 255, 255, 255, 0, 0, 1, 0, 2, 0]"
      ]
     },
     "execution_count": 193,
     "metadata": {},
     "output_type": "execute_result"
    }
   ],
   "source": [
    "#创建一个memv_oct 将memv里的内容转换成'B'类型 即无符号字符\n",
    "memv_oct = memv.cast('B') \n",
    "memv_oct.tolist() #以列表的形式查看memv\n",
    "#计算机原理，涉及补码 进制转换等 符号也转换成了一个数字 所有数量是原数组的两倍"
   ]
  },
  {
   "cell_type": "code",
   "execution_count": 194,
   "id": "688607a1",
   "metadata": {},
   "outputs": [
    {
     "data": {
      "text/plain": [
       "array('h', [-2, -1, 1024, 1, 2])"
      ]
     },
     "execution_count": 194,
     "metadata": {},
     "output_type": "execute_result"
    }
   ],
   "source": [
    "memv_oct[5] = 4 #将位于位置5的字节赋值成4\n",
    "numbers #将占两个字节的整数的高位字节改成了4 该有符号整数的值变成了1024"
   ]
  },
  {
   "cell_type": "markdown",
   "id": "20fce954",
   "metadata": {},
   "source": [
    "Numpy和Scipy\n",
    "提供高阶数组和矩阵操作"
   ]
  },
  {
   "cell_type": "code",
   "execution_count": 195,
   "id": "a7042367",
   "metadata": {},
   "outputs": [
    {
     "data": {
      "text/plain": [
       "array([ 0,  1,  2,  3,  4,  5,  6,  7,  8,  9, 10, 11])"
      ]
     },
     "execution_count": 195,
     "metadata": {},
     "output_type": "execute_result"
    }
   ],
   "source": [
    "# 对numpy.ndarray的行和列进行基本操作\n",
    "import numpy\n",
    "a = numpy.arange(12)\n",
    "a"
   ]
  },
  {
   "cell_type": "code",
   "execution_count": 196,
   "id": "c7152c2a",
   "metadata": {},
   "outputs": [
    {
     "data": {
      "text/plain": [
       "numpy.ndarray"
      ]
     },
     "execution_count": 196,
     "metadata": {},
     "output_type": "execute_result"
    }
   ],
   "source": [
    "type(a)"
   ]
  },
  {
   "cell_type": "code",
   "execution_count": 197,
   "id": "42274249",
   "metadata": {},
   "outputs": [
    {
     "data": {
      "text/plain": [
       "(12,)"
      ]
     },
     "execution_count": 197,
     "metadata": {},
     "output_type": "execute_result"
    }
   ],
   "source": [
    "a.shape #查看维度 是一个一维的，有12个元素的数组"
   ]
  },
  {
   "cell_type": "code",
   "execution_count": 198,
   "id": "8b1c34a5",
   "metadata": {},
   "outputs": [
    {
     "data": {
      "text/plain": [
       "array([[ 0,  1,  2,  3],\n",
       "       [ 4,  5,  6,  7],\n",
       "       [ 8,  9, 10, 11]])"
      ]
     },
     "execution_count": 198,
     "metadata": {},
     "output_type": "execute_result"
    }
   ],
   "source": [
    "a.shape = 3,4 #将数组变为二维的\n",
    "a"
   ]
  },
  {
   "cell_type": "code",
   "execution_count": 199,
   "id": "89b87915",
   "metadata": {},
   "outputs": [
    {
     "data": {
      "text/plain": [
       "array([ 8,  9, 10, 11])"
      ]
     },
     "execution_count": 199,
     "metadata": {},
     "output_type": "execute_result"
    }
   ],
   "source": [
    "a[2] # 打印第二行"
   ]
  },
  {
   "cell_type": "code",
   "execution_count": 200,
   "id": "5db45aa8",
   "metadata": {},
   "outputs": [
    {
     "data": {
      "text/plain": [
       "9"
      ]
     },
     "execution_count": 200,
     "metadata": {},
     "output_type": "execute_result"
    }
   ],
   "source": [
    "a[2,1] #打印第二行第一列的元素"
   ]
  },
  {
   "cell_type": "code",
   "execution_count": 201,
   "id": "f3aeb5a9",
   "metadata": {},
   "outputs": [
    {
     "data": {
      "text/plain": [
       "array([1, 5, 9])"
      ]
     },
     "execution_count": 201,
     "metadata": {},
     "output_type": "execute_result"
    }
   ],
   "source": [
    "a[:,1] #打印第一列"
   ]
  },
  {
   "cell_type": "code",
   "execution_count": 202,
   "id": "978ef65b",
   "metadata": {},
   "outputs": [
    {
     "data": {
      "text/plain": [
       "array([[ 0,  4,  8],\n",
       "       [ 1,  5,  9],\n",
       "       [ 2,  6, 10],\n",
       "       [ 3,  7, 11]])"
      ]
     },
     "execution_count": 202,
     "metadata": {},
     "output_type": "execute_result"
    }
   ],
   "source": [
    "a.transpose() #行和列交换 转置"
   ]
  },
  {
   "cell_type": "code",
   "execution_count": null,
   "id": "e6ae61dc",
   "metadata": {},
   "outputs": [],
   "source": [
    "#对numpy.ndarray中的元素进行抽象读取，保存和其他操作\n",
    "import numpy\n",
    "floats = numpy.loadtxt('') #从文本文件中读取\n",
    "floats *= .5 #将数组中的每一个数都乘以0.5\n",
    "from time import perf_counter ad pc #导入高精度和性能的计时器\n",
    "t0 = pc(); floats /=3 ; pc() - t0 #将每一个元素都除以3 看到处理数据的所用时间\n",
    "numpy.save('',float) #将数组存到二进制文件中\n",
    "floats2 = numpy.load('','r+') #将上面的数据导入到另一个数组中，使用了内存映射，可以在内存不足的情况下对数组进行切片\n",
    "floats2 *=6 #将数组2中的元素全部乘以6"
   ]
  },
  {
   "cell_type": "markdown",
   "id": "6a0deeea",
   "metadata": {},
   "source": [
    "安装numpy和scipy\n",
    "sudo apt-get install python-numpy python-scipy"
   ]
  },
  {
   "cell_type": "markdown",
   "id": "a6bf927f",
   "metadata": {},
   "source": [
    "双向队列和其他形式的队列\n",
    "collections.deque类 是一个线程安全、可以快速从两端添加或者删除元素的数据类型\n",
    "在新建一个双向队列的时候，可以指定这个队列的大小\n",
    "若这个队列满了，可以从反向端删除过期的元素，在末尾添加新的元素\n",
    "————————\n",
    "append 和 popleft都是原子操作。即deque可以在多项层程序中安全地当做先进先出的栈来使用，使用者不用担心资源锁的问题"
   ]
  },
  {
   "cell_type": "code",
   "execution_count": 203,
   "id": "82d99944",
   "metadata": {},
   "outputs": [
    {
     "data": {
      "text/plain": [
       "deque([0, 1, 2, 3, 4, 5, 6, 7, 8, 9])"
      ]
     },
     "execution_count": 203,
     "metadata": {},
     "output_type": "execute_result"
    }
   ],
   "source": [
    "from collections import deque\n",
    "dq = deque(range(10),maxlen=10) #maxlen是一个可选参数，代表该队列的容量，一旦设定不可更改\n",
    "dq"
   ]
  },
  {
   "cell_type": "code",
   "execution_count": 204,
   "id": "6605374d",
   "metadata": {},
   "outputs": [
    {
     "data": {
      "text/plain": [
       "deque([7, 8, 9, 0, 1, 2, 3, 4, 5, 6])"
      ]
     },
     "execution_count": 204,
     "metadata": {},
     "output_type": "execute_result"
    }
   ],
   "source": [
    "#队列的旋转操作，接收一个参数n n > 0 时，队列的最右边的n个元素会被移动到队列的左边\n",
    "#n<0时 最左边的元素会被移动到右边\n",
    "dq.rotate(3)\n",
    "dq"
   ]
  },
  {
   "cell_type": "code",
   "execution_count": 205,
   "id": "4b38d447",
   "metadata": {},
   "outputs": [
    {
     "data": {
      "text/plain": [
       "deque([1, 2, 3, 4, 5, 6, 7, 8, 9, 0])"
      ]
     },
     "execution_count": 205,
     "metadata": {},
     "output_type": "execute_result"
    }
   ],
   "source": [
    "dq.rotate(-4)\n",
    "dq"
   ]
  },
  {
   "cell_type": "code",
   "execution_count": 210,
   "id": "2eedfb3d",
   "metadata": {},
   "outputs": [
    {
     "data": {
      "text/plain": [
       "deque([[-1, -2], 40, 30, 20, 10, 3, 4, 5, 6, 7])"
      ]
     },
     "execution_count": 210,
     "metadata": {},
     "output_type": "execute_result"
    }
   ],
   "source": [
    "dq.appendleft(-1) #从左开始添加元素 最右边的元素被删除了\n",
    "dq"
   ]
  },
  {
   "cell_type": "code",
   "execution_count": 207,
   "id": "6de3bb0f",
   "metadata": {},
   "outputs": [
    {
     "data": {
      "text/plain": [
       "deque([3, 4, 5, 6, 7, 8, 9, 11, 22, 33])"
      ]
     },
     "execution_count": 207,
     "metadata": {},
     "output_type": "execute_result"
    }
   ],
   "source": [
    "dq.extend([11,22,33]) #在后面添加元素，前面的元素被删除了\n",
    "dq"
   ]
  },
  {
   "cell_type": "code",
   "execution_count": 208,
   "id": "5c4a8bfa",
   "metadata": {},
   "outputs": [
    {
     "data": {
      "text/plain": [
       "deque([40, 30, 20, 10, 3, 4, 5, 6, 7, 8])"
      ]
     },
     "execution_count": 208,
     "metadata": {},
     "output_type": "execute_result"
    }
   ],
   "source": [
    "dq.extendleft([10,20,30,40])\n",
    "dq"
   ]
  },
  {
   "cell_type": "markdown",
   "id": "8acb9d7c",
   "metadata": {},
   "source": [
    "其他Python标准库也有对队列的实现\n",
    "queue\n",
    "    提供了同步类 Queue LifoQueue和PriorityQueue 不同的线程可以利用这些数据类型来交换信息。这三个类的构造方法有一个可选参数maxsize 接收正整数作为输入值，用于限定队列的大小。在队列满的时候，不会扔掉旧的元素来腾位置，若队列满了，就会被锁住，直到另外的线程移除了某个元素而腾出位置。\n",
    "    该特性适合用于控制活跃线程的数量。\n",
    "\n",
    "multiprocessiong\n",
    "    这个包实现了自己的Queue，和queue.Queue类似，用于进程间通信\n",
    "    multiprocessiong.JoinableQueue类型，可以让任务管理变的更加方便\n",
    "    \n",
    "asyncio\n",
    "    有Queue LifiQueue PriorityQueue 和JoinablQueue 这些类收到queue和multiprocessing模块的影响，为异步编程里的任务管理提供了专门的便利\n",
    "    \n",
    "    \n",
    " heapq\n",
    "     heapq没有队列类，而是提供了heapoush和heappop方法，将可变序列当做堆队列或者优先队列来使用"
   ]
  },
  {
   "cell_type": "markdown",
   "id": "30d80243",
   "metadata": {},
   "source": [
    "    字典和集合\n",
    "\n",
    "泛映射类型\n",
    "    collections.abc模块中有Mapping和MutableMapping这两个抽象基类\n",
    "    作用是为dict和其他类似的类型 定义形式接口\n",
    "\n"
   ]
  },
  {
   "cell_type": "code",
   "execution_count": 214,
   "id": "ca9d54cd",
   "metadata": {},
   "outputs": [
    {
     "data": {
      "text/plain": [
       "True"
      ]
     },
     "execution_count": 214,
     "metadata": {},
     "output_type": "execute_result"
    }
   ],
   "source": [
    "#判断某数据是不是广义上的映射类型\n",
    "from collections import abc\n",
    "my_dict = {}\n",
    "isinstance(my_dict,abc.Mapping)"
   ]
  },
  {
   "cell_type": "markdown",
   "id": "a200d374",
   "metadata": {},
   "source": [
    "标准库中的所有映射类型都是利用dict来实现的，因此有个共同的限制：\n",
    "    只有可散列的数据类型才能用作这些映射里面的键\n",
    " \n",
    "————\n",
    "可散列的数据类型：\n",
    "    若一个对象是可散列的，那么这个对象的生命周期中，它的散列值是不变的\n",
    "    且这个对象要有__qe__()方法，这样才能与其他的键做比较\n",
    "    若两个可散列对象是相等的，那么它们的散列值是一样的\n",
    "    \n",
    "原子不可变数据类型(str\\bytes和数值类型) 都是可散列类型\n",
    "frozenset也是可散列类型，且只能容纳可散列类型\n",
    "元组 当一个元素包含的所有元素都是可散列类型 该元组可散列"
   ]
  },
  {
   "cell_type": "code",
   "execution_count": 215,
   "id": "0f771324",
   "metadata": {},
   "outputs": [
    {
     "data": {
      "text/plain": [
       "-3907003130834322577"
      ]
     },
     "execution_count": 215,
     "metadata": {},
     "output_type": "execute_result"
    }
   ],
   "source": [
    "tt = (1,2,(30,40))\n",
    "hash(tt)"
   ]
  },
  {
   "cell_type": "code",
   "execution_count": 216,
   "id": "16c88807",
   "metadata": {},
   "outputs": [
    {
     "ename": "TypeError",
     "evalue": "unhashable type: 'list'",
     "output_type": "error",
     "traceback": [
      "\u001b[1;31m---------------------------------------------------------------------------\u001b[0m",
      "\u001b[1;31mTypeError\u001b[0m                                 Traceback (most recent call last)",
      "\u001b[1;32m~\\AppData\\Local\\Temp/ipykernel_4528/2125450121.py\u001b[0m in \u001b[0;36m<module>\u001b[1;34m\u001b[0m\n\u001b[0;32m      1\u001b[0m \u001b[0mt1\u001b[0m \u001b[1;33m=\u001b[0m \u001b[1;33m(\u001b[0m\u001b[1;36m1\u001b[0m\u001b[1;33m,\u001b[0m\u001b[1;36m2\u001b[0m\u001b[1;33m,\u001b[0m\u001b[1;33m[\u001b[0m\u001b[1;36m30\u001b[0m\u001b[1;33m,\u001b[0m\u001b[1;36m40\u001b[0m\u001b[1;33m]\u001b[0m\u001b[1;33m)\u001b[0m\u001b[1;33m\u001b[0m\u001b[1;33m\u001b[0m\u001b[0m\n\u001b[1;32m----> 2\u001b[1;33m \u001b[0mhash\u001b[0m\u001b[1;33m(\u001b[0m\u001b[0mt1\u001b[0m\u001b[1;33m)\u001b[0m\u001b[1;33m\u001b[0m\u001b[1;33m\u001b[0m\u001b[0m\n\u001b[0m",
      "\u001b[1;31mTypeError\u001b[0m: unhashable type: 'list'"
     ]
    }
   ],
   "source": [
    "t1 = (1,2,[30,40])\n",
    "hash(t1)\n",
    "# 列表不是可散列的\n",
    "# 虽然元组是不可变序列，它里面的元素可能是其他可变类型的引用"
   ]
  },
  {
   "cell_type": "code",
   "execution_count": 217,
   "id": "b059d8f8",
   "metadata": {},
   "outputs": [
    {
     "data": {
      "text/plain": [
       "5149391500123939311"
      ]
     },
     "execution_count": 217,
     "metadata": {},
     "output_type": "execute_result"
    }
   ],
   "source": [
    "tf = (1,2,frozenset([30,40]))\n",
    "hash(tf)"
   ]
  },
  {
   "cell_type": "markdown",
   "id": "2e91c4f7",
   "metadata": {},
   "source": [
    "一般用户自定义的类型的对象都是可散列的。散列值就是它们的id()函数的返回值\n",
    "所以所有这些对象在比较的时候都是不相等的\n",
    "若一个对象实现了__eq__方法，并且在方法中用到了这个对象的内部状态的话\n",
    "那么只有当所有的内部状态都是不可变的情况下，这个对象才是可散列的"
   ]
  },
  {
   "cell_type": "code",
   "execution_count": 218,
   "id": "8d64917a",
   "metadata": {},
   "outputs": [
    {
     "data": {
      "text/plain": [
       "True"
      ]
     },
     "execution_count": 218,
     "metadata": {},
     "output_type": "execute_result"
    }
   ],
   "source": [
    "# 创建字典的不同方式\n",
    "a = dict(one=1,two=2,three=3)\n",
    "b = {'one':1,'two':2,'three':3}\n",
    "c = dict(zip(['one','two','three'],[1,2,3]))\n",
    "d = dict([('two',2),('one',1),('three',3)])\n",
    "e = dict({'three':3,'one':1,'two':2})\n",
    "a==b==c==d==e"
   ]
  },
  {
   "cell_type": "markdown",
   "id": "9e32543c",
   "metadata": {},
   "source": [
    "字典推导 dictcomp\n",
    "字典推导可以从任何以键值对作为元素的可迭代对象中构建出字典\n"
   ]
  },
  {
   "cell_type": "code",
   "execution_count": 2,
   "id": "8bf1db79",
   "metadata": {},
   "outputs": [],
   "source": [
    "#利用字典推导将一个装满元祖的列表变成两个不同的字典\n",
    "DIAL_CODES = [(86, 'China'),(91, 'India'), (1, 'United States'),  (62, 'Indonesia'),  (55, 'Brazil'),  (92, 'Pakistan'),  (880, 'Bangladesh'), (234, 'Nigeria'),  (7, 'Russia'),  (81, 'Japan')]"
   ]
  },
  {
   "cell_type": "code",
   "execution_count": 4,
   "id": "4ae9ab7b",
   "metadata": {},
   "outputs": [
    {
     "data": {
      "text/plain": [
       "{'Bangladesh': 880,\n",
       " 'Brazil': 55,\n",
       " 'China': 86,\n",
       " 'India': 91,\n",
       " 'Indonesia': 62,\n",
       " 'Japan': 81,\n",
       " 'Nigeria': 234,\n",
       " 'Pakistan': 92,\n",
       " 'Russia': 7,\n",
       " 'United States': 1}"
      ]
     },
     "execution_count": 4,
     "metadata": {},
     "output_type": "execute_result"
    }
   ],
   "source": [
    "country_code = {country:code for  code,country in DIAL_CODES}\n",
    "country_code"
   ]
  },
  {
   "cell_type": "code",
   "execution_count": 5,
   "id": "9b2c0c36",
   "metadata": {},
   "outputs": [
    {
     "data": {
      "text/plain": [
       "{1: 'UNITED STATES', 7: 'RUSSIA', 55: 'BRAZIL', 62: 'INDONESIA'}"
      ]
     },
     "execution_count": 5,
     "metadata": {},
     "output_type": "execute_result"
    }
   ],
   "source": [
    "{code:country.upper() for country,code in country_code.items() if code < 66}"
   ]
  },
  {
   "cell_type": "markdown",
   "id": "1f9082eb",
   "metadata": {},
   "source": [
    "d.update(m,[**kargs])方法 \n",
    "\n",
    "m是映射或者键值对迭代器，用于更新d里对应的条目\n",
    "update方法处理m的方式，是典型的“鸭子类型”\n",
    "\n",
    "函数首先检查m是否有keys方法，如果有，那么update函数就把它当作映射对象来处理，否则 函数会退一步，转而把m当作包含了键值对元素的迭代器\n",
    "\n",
    "--即有keys方法 就当作映射对象 没有就当作迭代器\n",
    "\n",
    "Python里面可以用一个映射对象来新建一个映射对象，也可以用包含key value元素的可迭代对象来初始化一个映射对象\n",
    "\n",
    "在映射对象的方法里 setdefault可以用于处理找不到的键"
   ]
  },
  {
   "cell_type": "markdown",
   "id": "4e366eef",
   "metadata": {},
   "source": [
    "setdefault处理找不到的键\n",
    "当字典d[k]不能找到正确的键的时候 Python会抛出异常\n",
    "一般会使用d.get(d,default)来代替d[k] 给找不到的键一个默认的返回值\n",
    "但是要更新某个键对应值的时候，不管使用__getitem__还是get都不自然\n",
    "所以dict.get不是处理找不到键的最好方法"
   ]
  },
  {
   "cell_type": "code",
   "execution_count": 18,
   "id": "9283d176",
   "metadata": {},
   "outputs": [
    {
     "name": "stdout",
     "output_type": "stream",
     "text": [
      "<_sre.SRE_Match object; span=(0, 5), match='hello'>\n",
      "[]\n",
      "<_sre.SRE_Match object; span=(6, 11), match='hello'>\n",
      "[(1, 1)]\n",
      "<_sre.SRE_Match object; span=(12, 17), match='hello'>\n",
      "[(1, 1), (1, 7)]\n",
      "<_sre.SRE_Match object; span=(18, 23), match='hello'>\n",
      "[(1, 1), (1, 7), (1, 13)]\n",
      "<_sre.SRE_Match object; span=(24, 29), match='hello'>\n",
      "[(1, 1), (1, 7), (1, 13), (1, 19)]\n",
      "{'hello': [(1, 1), (1, 7), (1, 13), (1, 19), (1, 25)]}\n",
      "hello [(1, 1), (1, 7), (1, 13), (1, 19), (1, 25)]\n"
     ]
    }
   ],
   "source": [
    "# 从索引中获取单词出现的频率信息，并把它们写进对应的列表里\n",
    "#一般的方法\n",
    "import sys\n",
    "import re\n",
    "\n",
    "WORD_RE = re.compile(r'hello')\n",
    "\n",
    "index = {}\n",
    "with open('./a.txt',encoding='utf-8') as fp:\n",
    "    for line_no,line in enumerate(fp,1):\n",
    "        for match in WORD_RE.finditer(line):\n",
    "            word = match.group()\n",
    "            print(match)\n",
    "            column_no = match.start() + 1\n",
    "            location = (line_no,column_no)\n",
    "            occurrences = index.get(word,[])\n",
    "            print(occurrences)\n",
    "            occurrences.append(location)\n",
    "            index[word] = occurrences\n",
    "print(index)\n",
    "for word in sorted(index,key=str.upper):\n",
    "    print(word,index[word])\n",
    "            "
   ]
  },
  {
   "cell_type": "code",
   "execution_count": 19,
   "id": "cb362abb",
   "metadata": {},
   "outputs": [
    {
     "name": "stdout",
     "output_type": "stream",
     "text": [
      "hello [(1, 1), (1, 7), (1, 13), (1, 19), (1, 25)]\n",
      "world [(2, 1), (2, 7), (2, 13), (2, 19), (2, 25)]\n"
     ]
    }
   ],
   "source": [
    "#创建从一个单词到其出现情况的映射\n",
    "import sys\n",
    "import re\n",
    "WORD_RE = re.compile(r'\\w+')\n",
    "index = {}\n",
    "\n",
    "with open(\"./a.txt\",encoding='utf-8') as fp:\n",
    "    for line_no,line in enumerate(fp,1):\n",
    "        for match in WORD_RE.finditer(line):\n",
    "            word = match.group()\n",
    "            column_no = match.start() + 1\n",
    "            location = (line_no,column_no)\n",
    "            index.setdefault(word,[]).append(location)\n",
    "            \n",
    "for word in sorted(index,key=str.upper):\n",
    "    print(word,index[word])"
   ]
  },
  {
   "cell_type": "code",
   "execution_count": null,
   "id": "7035bbde",
   "metadata": {},
   "outputs": [],
   "source": [
    "my_dict.setdefault(key,[]).append(new_value)\n",
    "#等价于\n",
    "if key not in my_dict:\n",
    "    my_dict[key] = []\n",
    "my_dict[key].append(new_value)\n",
    "#二者的效果是一样的，不过后者至少要进行两次键查询，若键不存在就是查询了三次\n",
    "#使用setdefault只需要一次就可以完成整个操作"
   ]
  },
  {
   "cell_type": "markdown",
   "id": "c69136bc",
   "metadata": {},
   "source": [
    "映射的弹性键查询\n",
    "\n",
    "有时候某个键在映射里面不存在，我们希望在通过这个键读取值的时候能够得到一个默认值\n",
    "有两个途径\n",
    "一个是 通过defaultdict这个类型\n",
    "一个是自己定义一个dict的子类 在子类中实现__missing__方法"
   ]
  },
  {
   "cell_type": "markdown",
   "id": "8a97fe42",
   "metadata": {},
   "source": [
    "defaultdict处理找不到键的选择\n",
    "在用户创建defaultdict对象的时候 需要给它配置一个为找不到的键创造默认值的方法\n",
    "\n",
    "在实例化一个defaultdict的时候 需要给构造方法提供一个具体可调用对象\n",
    "这个可调用对象会在__getitem__碰到找不到的键的时候 让__getitem__返回某种默认值\n",
    "\n",
    "比如\n",
    "新建一个字典 dd=defaultdict(list) 如果键'new-key'在dd中不存在的话\n",
    "表达式dd['new-key']会按照以下步骤：\n",
    "1.调用list()来建立一个新列表\n",
    "2.把这个新列表作为值 'new-key'作为它的键 放到dd中\n",
    "3.返回这个列表的引用\n",
    "而这个用来生成默认值的可调用对象存放在名为default_factory的实例属性里\n"
   ]
  },
  {
   "cell_type": "code",
   "execution_count": 20,
   "id": "c6eb4765",
   "metadata": {},
   "outputs": [
    {
     "name": "stdout",
     "output_type": "stream",
     "text": [
      "hello [(1, 1), (1, 7), (1, 13), (1, 19), (1, 25)]\n",
      "world [(2, 1), (2, 7), (2, 13), (2, 19), (2, 25)]\n"
     ]
    }
   ],
   "source": [
    "#利用ddefaultdict而不是setdefault方法\n",
    "import sys\n",
    "import re\n",
    "import collections\n",
    "WORD_RE = re.compile(r'\\w+')\n",
    "#将list构造方法作为default_factory来创建一个defaultdict\n",
    "index = collections.defaultdict(list)\n",
    "with open('./a.txt',encoding='utf-8') as fp:\n",
    "    for line_no,line in enumerate(fp,1):\n",
    "        for match in WORD_RE.finditer(line):\n",
    "            word = match.group()\n",
    "            column_no = match.start() + 1\n",
    "            location = (line_no,column_no)\n",
    "            #若index没有word的记录，那么default_factory会被调用 为查询不到的键创造一个值，这个值在这里是一个控的列表，这个空列表被赋值给index[word],继而被当作返回值返回，因此.append(location)总能成功\n",
    "            index[word].append(location)\n",
    "\n",
    "for word in sorted(index,key=str.upper):\n",
    "    print(word,index[word])"
   ]
  },
  {
   "cell_type": "markdown",
   "id": "34324576",
   "metadata": {},
   "source": [
    "defaultdict里的default_factory只会在__getitem__里被调用\n",
    "在其他方法里完全不会发挥作用\n",
    "比如dd是个defaultdict，k是一个找不到的键，dd[k]这个表达式会调用default_factory创造某个默认值 而 dd.get(key)会返回None\n",
    "\n",
    "这后面的支持是特殊方法__missing__会在defaultdict遇到找不到的键的时候调用default_factory而实际上这个特性是多有映射方法都可以选择去支持的\n"
   ]
  },
  {
   "cell_type": "markdown",
   "id": "60425fcf",
   "metadata": {},
   "source": [
    "特殊方法__missing__\n",
    "所有映射处理找不到的键的时候会使用__missing__\n",
    "即 有一个类继承了dict 那么这个继承类提供了__missing__方法\n",
    "那么在__getitem__碰到找不到的键的时候，Python就会自动调用它而不是抛出一个KeyError异常\n",
    "\n",
    "__missing__\n",
    "只会被__getitem__调用 比如在表达式d[k]中\n",
    "提供__missing__方法对get或者__contains__（in运算符会调用到这个方法）\n",
    "的使用没有影响"
   ]
  },
  {
   "cell_type": "code",
   "execution_count": null,
   "id": "a66ce5ce",
   "metadata": {},
   "outputs": [],
   "source": [
    "查询时，将映射类型的键全部转换成str的例子\n",
    "即\n",
    "当有非字符串的键被查找时，在该键不存在的情况下，把它转换为字符串"
   ]
  },
  {
   "cell_type": "code",
   "execution_count": null,
   "id": "71e2abde",
   "metadata": {},
   "outputs": [],
   "source": [
    "#StrKeyDict0继承了dict\n",
    "class StrKeyDict0(dict):\n",
    "    def __missing__(self,key):\n",
    "        #如果找不到的键本身就是字符串，就抛出KeyError异常\n",
    "        if isinstance(key,str):\n",
    "            raise KeyError(key)\n",
    "        #如果找不到的键不是字符串 就转换成字符串再查找\n",
    "        return self[str(key)]\n",
    "    \n",
    "    def get(self,key,default=None):\n",
    "        try:\n",
    "            #get方法把查找工作用self[key]的形式委托给__getitem__ 这样再宣布查找失败之前，还能通过__missing__再给某个键一个机会\n",
    "            return self[key]\n",
    "    except keyError:\n",
    "        #若抛出KeyError 那么说明__missing__也失败了 返回default\n",
    "        return default\n",
    "    \n",
    "    def __contains__(self,key):\n",
    "        #按照传入键的原本值来查找，如果没找到就用str()方法把键转换成字符串再查找\n",
    "        return key in self.keys() or str(key) in self.keys()"
   ]
  },
  {
   "cell_type": "markdown",
   "id": "a9decd42",
   "metadata": {},
   "source": [
    "为什么isinstance(key,str)测试在上面的__missing__中是必须的\n",
    "如果没有这个测试，只要str(k)返回的是一个存在的键，那么__missing__方法是没问题的，不管是字符串键还是非字符串的键，都能正常运行\n",
    "如果str(k)是一个不存在的键，代码就会陷入无限递归\n",
    "这是因为__missing__中最后一行的self[str(key)]会调用__getitem__\n",
    "而这个str(key)又不存在，于是__missing__又会被调用\n",
    "\n",
    "为了保持一致性，__contains__方法也是必须的\n",
    "因为k in d 这个操作会调用它，但是我们从dict继承到的__contains__方法不会再找不到键的时候调用__missing__方法，__contains__里有个细节，\n",
    "就是 k in my_dict 来检查键是否存在，因为那会导致__contains__被递归调用\n",
    "为了避免这一类情况，这里采取了更显示的方法，直接在self.keys()里查询"
   ]
  },
  {
   "cell_type": "markdown",
   "id": "3fa4f7b0",
   "metadata": {},
   "source": [
    "像k in my_dict.keys() 这种操作在Python3中是很快的，而且即便映射类型对象很大也没关系，因为dict.keys()返回值是一个\"视图\"\n",
    "视图就像一个集合，而且和字典类似的是，在视图里查找一个元素的速度很快"
   ]
  },
  {
   "cell_type": "markdown",
   "id": "93af053f",
   "metadata": {},
   "source": [
    "字典的变种\n",
    "总结了标准库collections模块中，除了defaultdict之外的不同映射类型\n",
    "\n",
    "collections.OrderedDict\n",
    "    这个类型在添加键时会保持顺序，因此键的迭代次序总是一致的\n",
    "    OrderedDict的popitem方法默认删除并返回的是字典里的最后一个元素\n",
    "    但是如果像my_odict.popitem(last=False)这样调用它，那么它删除并返回第一个被添加进去的元素\n",
    "    \n",
    "collections.ChainMap\n",
    "    该类型可以容纳数个不同的映射对象，然后再进行键查找的操作的时候\n",
    "    这些对象会被当作一个整体被逐个查找，直到键被找到为止\n",
    "    这个功能在给有嵌套作用域的语言做解释器的时候很有用，可以用一个映射对象来代表一个作用域的上下文\n",
    "    \n",
    "collections.Counter\n",
    "    这个映射类型会给键准备一个整数计数器。每次更新一个键的时候都会增加这个计数器，所以这个类型可以用来给可散列对象计数，或者是当成多重集来用\n",
    "    多重集合就是集合里的元素可以出现不止一次，Counter实现了+和-运算符用来合并记录，还有像most_common([n])这类很有用的方法，most_common([n])会按照次序返回映射最常见的n个键和它们的计数"
   ]
  },
  {
   "cell_type": "code",
   "execution_count": 21,
   "id": "6f5fc614",
   "metadata": {},
   "outputs": [
    {
     "data": {
      "text/plain": [
       "Counter({'a': 8, 'b': 7})"
      ]
     },
     "execution_count": 21,
     "metadata": {},
     "output_type": "execute_result"
    }
   ],
   "source": [
    "#利用Counter来计算单词中各个字母出现的次数\n",
    "ct = collections.Counter('abababababababa')\n",
    "ct"
   ]
  },
  {
   "cell_type": "code",
   "execution_count": 22,
   "id": "18491907",
   "metadata": {},
   "outputs": [
    {
     "data": {
      "text/plain": [
       "Counter({'a': 11, 'b': 7, 'z': 4})"
      ]
     },
     "execution_count": 22,
     "metadata": {},
     "output_type": "execute_result"
    }
   ],
   "source": [
    "ct.update('aaazzzz')\n",
    "ct"
   ]
  },
  {
   "cell_type": "code",
   "execution_count": 25,
   "id": "d652003a",
   "metadata": {},
   "outputs": [
    {
     "data": {
      "text/plain": [
       "[('a', 11), ('b', 7), ('z', 4)]"
      ]
     },
     "execution_count": 25,
     "metadata": {},
     "output_type": "execute_result"
    }
   ],
   "source": [
    "ct.most_common(4)"
   ]
  },
  {
   "cell_type": "markdown",
   "id": "4c028893",
   "metadata": {},
   "source": [
    "子类化UserDict\n",
    "UserDict并不是dict的子类\n",
    "但是有一个叫做data的属性，是dict的实例，是UserDict最终存储数据的地方\n",
    "UserDict的子类就能在实现__setitem__的时候避免不必要的递归，也可以让\n",
    "__contains__里的代码更简洁"
   ]
  },
  {
   "cell_type": "code",
   "execution_count": 28,
   "id": "b8db03a5",
   "metadata": {},
   "outputs": [],
   "source": [
    "# 不论是添加、更新还是查询，StrKeyDict都会把非字符串的键转换为字符串\n",
    "import collections\n",
    "# StrKeyDict是对UseDict的扩展\n",
    "class StrKeyDict(collections.UserDict):\n",
    "    def __missing__(self,key):\n",
    "        if isinstance(key,str):\n",
    "            raise KeyError(key)\n",
    "        return self[key]\n",
    "    \n",
    "    def __contains__(self,key):\n",
    "        return str(key) in self.data\n",
    "    \n",
    "    def __setitem__(self,key,item):\n",
    "        self.data[str(key)] = item\n",
    "\n",
    "    \n"
   ]
  },
  {
   "cell_type": "markdown",
   "id": "8479a4b5",
   "metadata": {},
   "source": [
    "因为UserDict继承的是MutableMapping 所以StrKeyDict里剩下的那些映射类型方法都是从UserDict MutableMapping和Mapping这列超类继承来的，特别是Mapping类，虽然是一个抽象基类，但是却提供了好几个实用的方法\n",
    "比如\n",
    "\n",
    "MutableMapping.update\n",
    "    这个方法不但可以直接利用，还用在__init_里\n",
    "    让构造方法可以利用传入的各种参数（其他映射类型、元素是（key,value）对的可迭代对象和键值参数）来新建实例。因为这个方法在背后是用self[key] = value来添加新值的，所以它是在实用__setitem__方法\n",
    "    \n",
    "Mapping.get\n",
    "    在StrKeyDict0中，不得不改写get方法，好让它的表现跟__getitem__一致，后面StrKeyDict就没有必要了，因为它继承了Mapping.get方法，而Python的源码表示，这个方法的实现方式跟StrKeyDict0,get是一模一样的"
   ]
  },
  {
   "cell_type": "markdown",
   "id": "50154d41",
   "metadata": {},
   "source": [
    "不可变映射类型\n",
    "标准库里的映射类型都是可变的，有时候会有这样的需求\n",
    "比如不能让用户错误的修改某个映射\n",
    "types模块里引入了一个封装类名叫MappingProxyType\n",
    "如果给这个类一个映射，它会返回一个只读映射视图\n",
    "虽然是个只读视图，但它是动态的，就意味着如果对原映射做出了改动\n",
    "我们可以通过这个视图可以观察到，但是无法通过这个视图对原映射做出修改"
   ]
  },
  {
   "cell_type": "code",
   "execution_count": 29,
   "id": "27e14c9c",
   "metadata": {},
   "outputs": [
    {
     "data": {
      "text/plain": [
       "mappingproxy({1: 'A'})"
      ]
     },
     "execution_count": 29,
     "metadata": {},
     "output_type": "execute_result"
    }
   ],
   "source": [
    "# 用MappingProxyType来获取字典的只读实例 mappingproxy\n",
    "from types import MappingProxyType\n",
    "d ={1:'A'}\n",
    "d_proxy = MappingProxyType(d)\n",
    "d_proxy"
   ]
  },
  {
   "cell_type": "code",
   "execution_count": 30,
   "id": "32881264",
   "metadata": {},
   "outputs": [
    {
     "data": {
      "text/plain": [
       "'A'"
      ]
     },
     "execution_count": 30,
     "metadata": {},
     "output_type": "execute_result"
    }
   ],
   "source": [
    "d_proxy[1]"
   ]
  },
  {
   "cell_type": "code",
   "execution_count": 31,
   "id": "0112bc34",
   "metadata": {},
   "outputs": [
    {
     "ename": "TypeError",
     "evalue": "'mappingproxy' object does not support item assignment",
     "output_type": "error",
     "traceback": [
      "\u001b[1;31m---------------------------------------------------------------------------\u001b[0m",
      "\u001b[1;31mTypeError\u001b[0m                                 Traceback (most recent call last)",
      "\u001b[1;32m<ipython-input-31-cb84dba8e1f4>\u001b[0m in \u001b[0;36m<module>\u001b[1;34m()\u001b[0m\n\u001b[1;32m----> 1\u001b[1;33m \u001b[0md_proxy\u001b[0m\u001b[1;33m[\u001b[0m\u001b[1;36m2\u001b[0m\u001b[1;33m]\u001b[0m\u001b[1;33m=\u001b[0m\u001b[1;34m'x'\u001b[0m\u001b[1;33m\u001b[0m\u001b[0m\n\u001b[0m",
      "\u001b[1;31mTypeError\u001b[0m: 'mappingproxy' object does not support item assignment"
     ]
    }
   ],
   "source": [
    "d_proxy[2]='x'"
   ]
  },
  {
   "cell_type": "code",
   "execution_count": 32,
   "id": "16a7d7c0",
   "metadata": {},
   "outputs": [
    {
     "data": {
      "text/plain": [
       "mappingproxy({1: 'A', 2: 'B'})"
      ]
     },
     "execution_count": 32,
     "metadata": {},
     "output_type": "execute_result"
    }
   ],
   "source": [
    "d[2]='B'\n",
    "d_proxy"
   ]
  },
  {
   "cell_type": "code",
   "execution_count": 33,
   "id": "34a21f9b",
   "metadata": {},
   "outputs": [
    {
     "data": {
      "text/plain": [
       "'B'"
      ]
     },
     "execution_count": 33,
     "metadata": {},
     "output_type": "execute_result"
    }
   ],
   "source": [
    "d_proxy[2]"
   ]
  },
  {
   "cell_type": "markdown",
   "id": "5feafad2",
   "metadata": {},
   "source": [
    "d中的内容可以通过d_proxy看到\n",
    "但是通过d_proxy不能做任何修改\n",
    "d_proxy是动态的，也就是说对d所做的任何改动都会反馈到它上面\n",
    "\n",
    "因此实际上会在子类中提供一个包含信息的私有映射成员\n",
    "通过公开属性，将这个映射暴露给API用户\n",
    "这个公开属性就是通过mappingproxy实现的\n",
    "一旦这样写好了，用户就不能对这个映射进行任何意外的添加、移除或者修改操作"
   ]
  },
  {
   "cell_type": "markdown",
   "id": "02b11724",
   "metadata": {},
   "source": [
    "集合论\n",
    "集合的本质是许多唯一对象的聚集，因此，集合可以用于去重\n",
    "\n",
    "集合中的元素必须是可散列的，set类型本身是不可散列的\n",
    "但是frozenset可以，因此可以创建一个包含不同frozenset的set\n",
    "\n",
    "除了保证唯一性，集合还实现了很多基础的中缀运算符\n",
    "给定两个集合a b  a|b 返回的时它们的合集 a&b返回的时交集 a-b返回差集\n",
    "利用集合的这些操作 可以让代码行数变少，还能减少Python程序的运行时间\n",
    "省去不必要的循环和逻辑操作\n",
    "\n",
    "例如可以计算两个列表的并集来得到 两个列表中共同存在的元素\n",
    "list a list b\n",
    "1.a&b\n",
    "等同于\n",
    "2.\n",
    "cnt =0\n",
    "for n in a:\n",
    "    if n in b:\n",
    "      cnt += 1   \n",
    "前一种求并集要比后面的判断速度要快\n",
    "但第一种要求两个对象都是集合 后一种就可以用在任何可迭代对象上\n",
    "1.cnt = len(set(a) & set(b))\n",
    "2.cnt = len(set(a).intersecction(b))\n",
    "这种写法会牵扯把对象转化为集合的成本"
   ]
  },
  {
   "cell_type": "markdown",
   "id": "97407b3c",
   "metadata": {},
   "source": [
    "集合字面量\n",
    "除空集之外，集合的字面量——{1} {1，2}等等\n",
    "看起来和它们的数学形式一模一样\n",
    "如果是空集，必须写成set()的形式\n",
    "\n",
    "如果是像{1,2,3}这样的字面量，Python会利用一个专门的叫做BUILD_SET的字节码来创建集合"
   ]
  },
  {
   "cell_type": "code",
   "execution_count": 34,
   "id": "43c2ae81",
   "metadata": {},
   "outputs": [
    {
     "name": "stdout",
     "output_type": "stream",
     "text": [
      "  1           0 LOAD_CONST               0 (1)\n",
      "              2 BUILD_SET                1\n",
      "              4 RETURN_VALUE\n"
     ]
    }
   ],
   "source": [
    "# 实用dis,did(反汇编函数)来看两个方法的字节码不同\n",
    "from dis import dis\n",
    "dis('{1}')"
   ]
  },
  {
   "cell_type": "code",
   "execution_count": 35,
   "id": "a16eff56",
   "metadata": {},
   "outputs": [
    {
     "name": "stdout",
     "output_type": "stream",
     "text": [
      "  1           0 LOAD_NAME                0 (set)\n",
      "              2 LOAD_CONST               0 (1)\n",
      "              4 BUILD_LIST               1\n",
      "              6 CALL_FUNCTION            1\n",
      "              8 RETURN_VALUE\n"
     ]
    }
   ],
   "source": [
    "dis('set([1])')"
   ]
  },
  {
   "cell_type": "markdown",
   "id": "b2b51e15",
   "metadata": {},
   "source": [
    "集合推导\n",
    "\n",
    "新建一个Latin-l字符集合，该集合里的每个字符的Unicode名字里都有\"SIGN\"这个单词"
   ]
  },
  {
   "cell_type": "code",
   "execution_count": 36,
   "id": "15380431",
   "metadata": {},
   "outputs": [
    {
     "data": {
      "text/plain": [
       "{'#',\n",
       " '$',\n",
       " '%',\n",
       " '+',\n",
       " '<',\n",
       " '=',\n",
       " '>',\n",
       " '¢',\n",
       " '£',\n",
       " '¤',\n",
       " '¥',\n",
       " '§',\n",
       " '©',\n",
       " '¬',\n",
       " '®',\n",
       " '°',\n",
       " '±',\n",
       " 'µ',\n",
       " '¶',\n",
       " '×',\n",
       " '÷'}"
      ]
     },
     "execution_count": 36,
     "metadata": {},
     "output_type": "execute_result"
    }
   ],
   "source": [
    "from unicodedata import name\n",
    "{chr(i) for i in range(32,256) if 'SIGN' in name(chr(i),'')}"
   ]
  },
  {
   "cell_type": "markdown",
   "id": "d7c6f592",
   "metadata": {},
   "source": [
    "集合的操作\n",
    "求多个聚合类型的合集比如a b c d的合集\n",
    "a.union(b,c,d)\n",
    "a必须是set 但是bcd可以是任何类型的可迭代对象\n",
    "\n",
    "ｓ& z s和z的交集\n",
    "z & s 反向&操作\n",
    "s.intersection(it,...)把可迭代的it和其他所有参数转化为集合，然后求得它们的交集，然后把s更新成这个交集\n",
    "s | z s和z的并集\n",
    "z | s s.union(it,...)把可迭代的it和其他所有参数转化为集合，然后求它们和s的并集\n",
    "\n",
    "s |= z  s.update(it,...)把可迭代的it和其他所有参数转为集合，然后求它们和s的并集，再把s更新为这个并集\n",
    "\n",
    "s - z  s和z的差集\n",
    "z - s s.difference(it,...)可迭代it和其他参数转为集合，求它们和s的差集\n",
    "s -= z 可迭代it 更新s\n",
    "\n",
    "\n",
    "s ^ z s和z的对称差集\n",
    "z ^ s s.symmetric(it,...)"
   ]
  },
  {
   "cell_type": "markdown",
   "id": "989d5864",
   "metadata": {},
   "source": [
    "集合类型的其他方法\n",
    "s.add()\n",
    "s.clear()\n",
    "s.copy() 浅拷贝\n",
    "s.discard(e)  移除e这个元素\n",
    "s.__iter__() 返回s的迭代器\n",
    "s.__len__() len(s) 等价\n",
    "s.pop() 移除一个元素并返回它的值\n",
    "s.remove(e)移除e元素   不存在抛出异常"
   ]
  },
  {
   "cell_type": "markdown",
   "id": "81b4229a",
   "metadata": {},
   "source": [
    "字典中的散列表\n",
    "散列表是一个稀疏数组（总是有空白元素的数组成为稀疏数组）\n",
    "散列表里的单元通常叫做表元 bucket\n",
    "在dict的散列表中每个键值对都占用一个表元\n",
    "每个表元都有两个部分 一个是对键的引用，一个是对值的引用\n",
    "因为所有表元的大小都一致，所以可以通过偏移量来读取某个表元\n",
    "\n",
    "如果要把一个对象放入散列表，首先要计算这个元素键的散列值\n",
    "可以用hash()来做\n",
    "\n",
    "1.散列值和相等性\n",
    "    内置的hash()方法用于所有的内置类型对象\n",
    "    若是自定义对象调用hash()实际上运行的是自定义的__hash__\n",
    "    如果两个对象在比较的时候是相等的，那么它们的散列值必须相等，否则散列表就不能正常运行\n",
    "    例如： 1== 1.0为真，那额 hash(1) == hash(1.0)也要为真，但其实这两个数字的数字类型和内部结构完全不一样\n",
    "    \n",
    "    散列值必须在索引空间中尽量分散开来，意味着在最理想状态下，越是相似但不相等的对象，散列值的差别应该越大\n",
    "    \n",
    "    从Python3.3开始。str，bytes，datetime对象的散列值计算过程中多了随机“加盐”这一步，盐值是Python进程内的一个常量，每次启动Python解释器都会生成一个不同的盐值，随机盐值的加入是为了防止DOS攻击采取的一种安全措施\n",
    "    \n",
    "2.散列表算法\n",
    "    为了获取my_dict[search_key]背后的值，Python会调用hash(search_key)来计算search_key的散列值，将这个值最低的几位数字当作偏移量，在散列表里查找表元。若找到的表元是空的，就抛出KeyError。不是空的，则表元里会有一对found_key == found_key 是否为真，如果它们相等，就会返回found_value\n",
    "    \n",
    "    如果found_key 和search_key不匹配，这种情况成为散列冲突，发生这种情况是因为，散列表所做的其实是把随机的元素映射到只有几位的数字上，而散列表本身的索引又只依赖于这个数字的一部分。\n",
    "    为了解决散列冲突，算法会在散列值中另外再取几位，然后用特殊方法处理一下，把新得到的数字再当作索引来寻找表元\n",
    "    若这次找到的表元是空的，则同样抛出KeyError，若不是空的或者键匹配，则返回这个值，如果又发现了散列冲突，则重复以上的步骤\n",
    "   "
   ]
  },
  {
   "cell_type": "markdown",
   "id": "af703cd6",
   "metadata": {},
   "source": [
    "从字典中取值的算法流程图：给定一个键，这个算法要么返回一个值，要么抛出keyError异常\n",
    "\n",
    "添加新元素和更新键值的操作和上面一样，不过对于添加新元素，发现空表元的时候会放入一个新元素，对于更新键值，在找到相对应的表元后，原表里的值对象会被替换成新值\n",
    "\n",
    "在插入新值是，python可能会按照散列表的拥挤程度来决定是否要重新分配内存为它扩容 。如果增加了散列表的大小，散列值所占的位数和用作索引的位数会增加，减少发生散列冲突\n",
    "\n",
    "**如果有一个整型对象，而且它能被存进一个机器字中，那么它的散列值就是它本身的值**"
   ]
  },
  {
   "cell_type": "markdown",
   "id": "0051ad32",
   "metadata": {},
   "source": [
    "dict的实现及其导致的结果\n",
    "1.键必须是可散列的\n",
    "    一个可散列的对象必须满足以下要求：\n",
    "        支持hash()函数，并且通过__hash__()方法所得到的散列值是不变的\n",
    "        支持通过 __eq__()方法来检测相等性\n",
    "        若a==b为真，则hash(a) == hash(b) 也为真\n",
    "        所有由用户自定义的对象默认由都是可散列的，因为它们的散列值id()来获取，而且它们都是不想等的\n",
    "    \n",
    "    如果实现了一个类的__eq__方法，并且希望它是可散列的，那么一定要有个恰当的__hash__方法，保证在a == b为真的情况下 hash(a) ==hash(b) 也必定为真，否则就会破坏恒定的散列表算法。\n",
    "    \n",
    "2.字典在内存上的开销巨大\n",
    "    由于字典使用了散列表，而散列表又必须是稀疏的，这导致它在空间上的效率低下，如果需要存放巨大的记录，最好放在由元组或者是具名元组构成的列表中，使用元组组成的列表来存放这些记录可以避免散列表所耗费的空间，同时无需把记录中字段的名字在每个元素里都存一遍。\n",
    "    \n",
    "    在用户自定义的类型中，__slots__属性可以改变实例属性的存储方式，由dict变成tuple\n",
    "    \n",
    "3.键查询很快\n",
    "    dict的实现是典型的空间换时间，字典类型有巨大的内存开销，但它们提供了无视数据量大小的快速访问——只要字典能被装在内存里\n",
    "    \n",
    "4.键的次序取决于添加顺序\n",
    "    当往dict里添加新键又发生散列冲突的时候，新键会被安排存放到另一个位置dict([key1, value1), (key2, value2)] 和 dict([key2, value2], [key1, value1]) 得到的两个字典，在进行比较的时 候，它们是相等的；但是如果在 key1 和 key2 被添加到字典里的 过程中有冲突发生的话，这两个键出现在字典里的顺序是不一样 的。\n",
    "    虽然键的 次序是乱的，这 2个字典仍然被视作相等的\n"
   ]
  },
  {
   "cell_type": "markdown",
   "id": "fae4a302",
   "metadata": {},
   "source": [
    "set的实现以及导致的结果\n",
    "    集合里的元素必须是可散列的。\n",
    "    集合很消耗内存。\n",
    "    可以很高效地判断元素是否存在于某个集合。\n",
    "    元素的次序取决于被添加到集合里的次序。\n",
    "    往集合里添加元素，可能会改变集合里已有元素的次序"
   ]
  },
  {
   "cell_type": "markdown",
   "id": "e8bebc69",
   "metadata": {},
   "source": [
    "字符串\n",
    "一个字符串是一个字符序列\n",
    "将码位转换为字节序列的过程是编码  把字节序列转换为码位的过程是解码\n"
   ]
  },
  {
   "cell_type": "code",
   "execution_count": 3,
   "id": "f81fcf21",
   "metadata": {},
   "outputs": [
    {
     "data": {
      "text/plain": [
       "4"
      ]
     },
     "execution_count": 3,
     "metadata": {},
     "output_type": "execute_result"
    }
   ],
   "source": [
    "s = 'café' #字符串中有4个Unicode字符\n",
    "len(s)"
   ]
  },
  {
   "cell_type": "code",
   "execution_count": 5,
   "id": "34580dee",
   "metadata": {},
   "outputs": [
    {
     "data": {
      "text/plain": [
       "5"
      ]
     },
     "execution_count": 5,
     "metadata": {},
     "output_type": "execute_result"
    }
   ],
   "source": [
    "b = s.encode('utf8')\n",
    "# 使用utf8将str对象编码成bytes对象 字面量以b开头\n",
    "# 字节序列有5个字节  在 UTF-8 中，“é”的码位编码成两个字节\n",
    "b\n",
    "len(b)"
   ]
  },
  {
   "cell_type": "code",
   "execution_count": 6,
   "id": "9a1582cb",
   "metadata": {},
   "outputs": [
    {
     "data": {
      "text/plain": [
       "'café'"
      ]
     },
     "execution_count": 6,
     "metadata": {},
     "output_type": "execute_result"
    }
   ],
   "source": [
    "b.decode('utf8')\n",
    "# 使用utf8将bytes对象解码成str对象"
   ]
  },
  {
   "cell_type": "markdown",
   "id": "d871b3a0",
   "metadata": {},
   "source": [
    "字节概要\n",
    "Python内置的两种基本的二进制序列类型\n",
    "python3的bytes类型和python2.6的可变bytearray类型\n",
    "\n",
    "bytes和bytearray对象的各个元素的是介于0~255之间的整数\n",
    "二进制序列的切片始终是同一类型的二进制序列，包括长度为1的切片\n"
   ]
  },
  {
   "cell_type": "code",
   "execution_count": 7,
   "id": "6a345995",
   "metadata": {},
   "outputs": [
    {
     "data": {
      "text/plain": [
       "b'caf\\xc3\\xa9'"
      ]
     },
     "execution_count": 7,
     "metadata": {},
     "output_type": "execute_result"
    }
   ],
   "source": [
    "cafe = bytes('café',encoding='utf_8')\n",
    "cafe"
   ]
  },
  {
   "cell_type": "code",
   "execution_count": 8,
   "id": "4fe85047",
   "metadata": {},
   "outputs": [
    {
     "data": {
      "text/plain": [
       "99"
      ]
     },
     "execution_count": 8,
     "metadata": {},
     "output_type": "execute_result"
    }
   ],
   "source": [
    "cafe[0]"
   ]
  },
  {
   "cell_type": "code",
   "execution_count": 9,
   "id": "713ebba3",
   "metadata": {},
   "outputs": [
    {
     "data": {
      "text/plain": [
       "b'c'"
      ]
     },
     "execution_count": 9,
     "metadata": {},
     "output_type": "execute_result"
    }
   ],
   "source": [
    "cafe[:1]\n",
    "# ❸ bytes 对象的切片还是 bytes 对象，即使是只有一个字节的切片"
   ]
  },
  {
   "cell_type": "code",
   "execution_count": 10,
   "id": "54b4509f",
   "metadata": {},
   "outputs": [
    {
     "data": {
      "text/plain": [
       "bytearray(b'caf\\xc3\\xa9')"
      ]
     },
     "execution_count": 10,
     "metadata": {},
     "output_type": "execute_result"
    }
   ],
   "source": [
    "cafe_arr = bytearray(cafe)\n",
    "cafe_arr"
   ]
  },
  {
   "cell_type": "code",
   "execution_count": 11,
   "id": "a7a80ecd",
   "metadata": {},
   "outputs": [
    {
     "data": {
      "text/plain": [
       "bytearray(b'\\xa9')"
      ]
     },
     "execution_count": 11,
     "metadata": {},
     "output_type": "execute_result"
    }
   ],
   "source": [
    "cafe_arr[-1:]\n",
    "# bytearray 对象的切片还是 bytearray 对象\n"
   ]
  },
  {
   "cell_type": "markdown",
   "id": "9cb0d3c6",
   "metadata": {},
   "source": [
    "my_bytes[0] 获取的是一个整数\n",
    "而 my_bytes[:1] 返回的是一个长度为 1 的 bytes 对象\n",
    "\n",
    "s[0] == s[:1] 只对 str 这个序列类型成立\n",
    "对于其他序列类型来说\n",
    "s[i] 返回一个元素 a[i:i+1]返回一个相同类型的序列 里面是s[i]元素\n",
    "\n",
    "虽然二进制序列其实是整数序列，但是它们的字面量表示法表明其中有ASCII 文本\n",
    "各个字节的值可能会使用下列三种不同的方式显示：\n",
    "    可打印的 ASCII 范围内的字节（从空格到 ~），使用 ASCII 字符本身\n",
    "    制表符、换行符、回车符和 \\ 对应的字节，使用转义序列\\t、\\n、\\r 和 \\\\\n",
    "    其他字节的值，使用十六进制转义序列（例如，\\x00 是空字节）\n",
    "\n",
    "例如上面的打印我们看到的是 b'caf\\xc3\\xa9'：前 3 个字节b'caf' 在可打印的 ASCII 范围内，后两个字节则不然\n",
    "\n",
    "\n",
    "二进制序列有个类方法是 str 没有的，名为 fromhex\n",
    "它的作用是解析十六进制数字对（数字对之间的空格是可选的），构建二进制序列：\n"
   ]
  },
  {
   "cell_type": "code",
   "execution_count": 12,
   "id": "7fdf8150",
   "metadata": {},
   "outputs": [
    {
     "data": {
      "text/plain": [
       "b'1K\\xce\\xa9'"
      ]
     },
     "execution_count": 12,
     "metadata": {},
     "output_type": "execute_result"
    }
   ],
   "source": [
    "bytes.fromhex('31 4B CE A9')"
   ]
  },
  {
   "cell_type": "markdown",
   "id": "489b9ffb",
   "metadata": {},
   "source": [
    "构建bytes或bytearray实例还可以调用各自的构造方法，传入下述参数\n",
    "    一个str对象和一个encoding关键字参数\n",
    "    一个可迭代对象，提供0~255之间的数值\n",
    "    一个整数，使用空的字节创建对应长度的二进制序列\n",
    "    一个实现了缓冲协议的对象 如bytes、bytearray、memoryview、array.array\n",
    "    此时将源对象中的字节序列复制到 新建的二进制序列中\n",
    "\n",
    "使用缓冲类对象构建二进制序列是一种低层操作，可能涉及类型转换"
   ]
  },
  {
   "cell_type": "code",
   "execution_count": 13,
   "id": "9e6689f4",
   "metadata": {},
   "outputs": [
    {
     "data": {
      "text/plain": [
       "b'\\xfe\\xff\\xff\\xff\\x00\\x00\\x01\\x00\\x02\\x00'"
      ]
     },
     "execution_count": 13,
     "metadata": {},
     "output_type": "execute_result"
    }
   ],
   "source": [
    "# 使用数组中的原始数据初始化bytes对象\n",
    "import array\n",
    "numbers = array.array('h',[-2,-1,0,1,2]) #指定类型代码h 创建一个短整数（16位）数组\n",
    "octets = bytes(numbers) # 保存成numbers的字节序列的副本\n",
    "octets   #表示上面5个短整数的10个字节"
   ]
  },
  {
   "cell_type": "markdown",
   "id": "7c64e0cf",
   "metadata": {},
   "source": [
    "使用缓冲类对象创建bytes或者bytearray对象时\n",
    "始终复制源对象中的字节序列\n",
    "与之相反，memoryview对象允许在二进制数据结构之间共享内存\n",
    "如果想从二进制序列中提取结构化信息 ，struct模块时重要的工具\n",
    "\n",
    "\n",
    "结构体和内存视图\n",
    "struct模块提供了一些函数： 将打包的字节序列转换成不同类型字段组成的元组\n",
    "还有一些函数用于执行反向转换，将元组转换成打包的字节序列\n",
    "struct模块能处理bytes bytearray memoryview对象\n",
    "\n",
    "memoryview类不是用于创建或存储字节序列的，而是共享内存\n",
    "在访问其他二进制序列，打包的数组和缓冲中的数据切片。而无需复制字节序"
   ]
  },
  {
   "cell_type": "code",
   "execution_count": null,
   "id": "2fb9eed5",
   "metadata": {},
   "outputs": [],
   "source": [
    "# 使用memoryview和struct查看一个gif图像的首部\n",
    "\n",
    "import struct\n",
    "fmt = '<3s3sHH' # ➊ <是小字节序 3s3s是两个3字节序 HH是两个16位二进制整数\n",
    "with open('filter.gif', 'rb') as fp:\n",
    "    img = memoryview(fp.read()) # ➋ 使用内存中的文件内容创建一个memoryview对象\n",
    "\n",
    "header = img[:10] # ➌ 使用它的切片再创建一个memoryview对象（这里不会复制字节序列）\n",
    "bytes(header) # ➍ 转换成字节序列 只是为了显示 复制了10字节\n",
    "# b'GIF89a+\\x02\\xe6\\x00'\n",
    "struct.unpack(fmt, header) # ➎ 拆包memoryview对象，得到一个元组，包含类型 版本 宽度和高度\n",
    "# (b'GIF', b'89a', 555, 230)\n",
    "del header # ➏ 删除引用 释放memoryview实例所占用的内存\n",
    "del img\n"
   ]
  },
  {
   "cell_type": "markdown",
   "id": "89d848d9",
   "metadata": {},
   "source": [
    "memoryview对象的切片是一个新memoryview对象\n",
    "而且不会复制字节序列\n",
    "\n",
    "基本的编解码器\n",
    "\n",
    "使用不同的编解码器 编码字符串 得到的字节序差异很大\n",
    "for codec in ['latin_1', 'utf_8', 'utf_16']:\n",
    "    print(codec, 'El Niño'.encode(codec), sep='\\t')\n",
    "\n",
    "latin_1 b'El Ni\\xf1o'\n",
    "utf_8 b'El Ni\\xc3\\xb1o'\n",
    "utf_16 b'\\xff\\xfeE\\x00l\\x00 \\x00N\\x00i\\x00\\xf1\\x00o\\x00'"
   ]
  },
  {
   "cell_type": "markdown",
   "id": "4e6d1edc",
   "metadata": {},
   "source": [
    "unicodedata 模块中有几个函数用于获取字符的元数据"
   ]
  },
  {
   "cell_type": "code",
   "execution_count": 14,
   "id": "1f00933d",
   "metadata": {},
   "outputs": [
    {
     "name": "stdout",
     "output_type": "stream",
     "text": [
      "U+0031\t  1   \tre_dig\tisdig\tisnum\t 1.00\tDIGIT ONE\n",
      "U+00bc\t  ¼   \t-\t-\tisnum\t 0.25\tVULGAR FRACTION ONE QUARTER\n",
      "U+00b2\t  ²   \t-\tisdig\tisnum\t 2.00\tSUPERSCRIPT TWO\n",
      "U+0969\t  ३   \tre_dig\tisdig\tisnum\t 3.00\tDEVANAGARI DIGIT THREE\n",
      "U+136b\t  ፫   \t-\tisdig\tisnum\t 3.00\tETHIOPIC DIGIT THREE\n",
      "U+216b\t  Ⅻ   \t-\t-\tisnum\t12.00\tROMAN NUMERAL TWELVE\n",
      "U+2466\t  ⑦   \t-\tisdig\tisnum\t 7.00\tCIRCLED DIGIT SEVEN\n",
      "U+2480\t  ⒀   \t-\t-\tisnum\t13.00\tPARENTHESIZED NUMBER THIRTEEN\n",
      "U+3285\t  ㊅   \t-\t-\tisnum\t 6.00\tCIRCLED IDEOGRAPH SIX\n"
     ]
    }
   ],
   "source": [
    "# Unicode 数据库中数值字符的元数据示例\n",
    "import unicodedata\n",
    "import re\n",
    "\n",
    "re_digit = re.compile(r'\\d')\n",
    "sample = '1\\xbc\\xb2\\u0969\\u136b\\u216b\\u2466\\u2480\\u3285'\n",
    "\n",
    "for char in sample:\n",
    "    print('U+%04x' % ord(char),  #U+0000 格式的码位\n",
    "    char.center(6), #在长度为 6 的字符串中居中显示字符\n",
    "    're_dig' if re_digit.match(char) else '-',  #如果字符匹配正则表达式 r'\\d'，显示 re_dig\n",
    "    'isdig' if char.isdigit() else '-', #如果 char.isdigit() 返回 True，显示 isdig\n",
    "    'isnum' if char.isnumeric() else '-', #如果 char.isnumeric() 返回 True，显示 isnum\n",
    "    format(unicodedata.numeric(char), '5.2f'), #使用长度为 5、小数点后保留 2 位的浮点数显示数值\n",
    "    unicodedata.name(char),  #Unicode 标准中字符的名称\n",
    "    sep='\\t')\n"
   ]
  },
  {
   "cell_type": "markdown",
   "id": "80c35bea",
   "metadata": {},
   "source": [
    "支持字符串和字节序列的双模式API\n",
    "标准库中的一些函数能接收字符串或者字节序列 作为参数\n",
    "然后根据类型展现不同的行为\n",
    "re和os模块中就有这样的函数\n",
    "\n",
    "正则表达式中的字符串和字节序列\n"
   ]
  },
  {
   "cell_type": "code",
   "execution_count": 15,
   "id": "c0be803d",
   "metadata": {},
   "outputs": [
    {
     "name": "stdout",
     "output_type": "stream",
     "text": [
      "Text\n",
      " 'Ramanujan saw ௧௭௨௯ as 1729 = 1³ + 12³ = 9³ + 10³.'\n",
      "Numbers\n",
      " str : ['௧௭௨௯', '1729', '1', '12', '9', '10']\n",
      " bytes: [b'1729', b'1', b'12', b'9', b'10']\n",
      "Words\n",
      " str : ['Ramanujan', 'saw', '௧௭௨௯', 'as', '1729', '1³', '12³', '9³', '10³']\n",
      " bytes: [b'Ramanujan', b'saw', b'as', b'1729', b'1', b'12', b'9', b'10']\n"
     ]
    }
   ],
   "source": [
    "# 比较简单的字符串正则表达式和字节序列正则表达式的行为\n",
    "import re\n",
    "\n",
    "# 字符串类型正则表达式\n",
    "re_numbers_str = re.compile(r'\\d+')\n",
    "re_words_str = re.compile(r'\\w+')\n",
    "# 字节序列型正则表达式\n",
    "re_numbers_bytes = re.compile(rb'\\d+')\n",
    "re_words_bytes = re.compile(rb'\\w+')\n",
    "\n",
    "text_str = (\"Ramanujan saw \\u0be7\\u0bed\\u0be8\\u0bef\"  #要搜索的 Unicode 文本，包括 1729 的泰米尔数字\n",
    "            \" as 1729 = 1³ + 12³ = 9³ + 10³.\")\n",
    "text_bytes = text_str.encode('utf_8') #字节序列只能用字节序列正则表达式搜索 转换为字节序列\n",
    "\n",
    "print('Text', repr(text_str), sep='\\n ')\n",
    "print('Numbers')\n",
    "print(' str :', re_numbers_str.findall(text_str))  #字符串模式 r'\\d+' 能匹配泰米尔数字和 ASCII 数字\n",
    "print(' bytes:', re_numbers_bytes.findall(text_bytes))  #字节序列模式 rb'\\d+' 只能匹配 ASCII 字节中的数字\n",
    "print('Words')\n",
    "print(' str :', re_words_str.findall(text_str)) #字符串模式 r'\\w+' 能匹配字母、上标、泰米尔数字和 ASCII 数字\n",
    "print(' bytes:', re_words_bytes.findall(text_bytes)) #字节序列模式 rb'\\w+' 只能匹配 ASCII 字节中的字母和数字\n",
    "\n",
    "# 说明： 可以使用正则表达式搜索字符串和字节序列，但是在字节序列中， ASCII范围外的字节不会当成数字和组成单词的字母"
   ]
  },
  {
   "cell_type": "markdown",
   "id": "5442c98d",
   "metadata": {},
   "source": [
    "OS函数中的字符串和字节序列\n",
    "\n",
    "为了便于手动处理字符串或字节序列形式的文件名或者路径名，os模块提供了特殊的编码和解码函数\n",
    "fsencode(filename)\n",
    "如果filename是str类型(此外还可能是bytes类型)\n",
    "使用sys.getfilesystemencoding()返回的编解码器把filename编码成字节序列；否则，返回未经修改的filename字节序列\n",
    "\n",
    "使用surrogateescape编解码器处理意外字节序列 或者 未知编码\n",
    "这种错误处理方式会把每个无法解码的字节替换成Unicode中U+DC00 到U+DCFF 之间的码位\n",
    "这些码位是保留的，没有分配字符，供应用程序内部使用，编码时，这些码位会转换成被替换的字节值\n",
    "\n",
    "使用 surrogateescape 错误处理方式：\n",
    "    pi_name_bytes = os.listdir(b'.')[1] \n",
    "    #使用'ascii' 编解码器和 'surrogateescape' 错误处理方式把它解码成字符串\n",
    "    pi_name_str = pi_name_bytes.decode('ascii', 'surrogateescape')\n",
    "    pi_name_str\n",
    "    #编码成 ASCII 字节序列：各个代替码位还原成被替换的字节\n",
    "    pi_name_str.encode('ascii', 'surrogateescape') \n",
    "    "
   ]
  },
  {
   "cell_type": "markdown",
   "id": "be66872e",
   "metadata": {},
   "source": [
    "一等函数\n",
    "在Python中，函数是一等对象\n",
    "一等对象的定义为：\n",
    "    在运行时创建\n",
    "    能赋值给变量或数据结构中的元素\n",
    "    能作为参数传给函数\n",
    "    能作为函数的返回结果\n",
    "\n",
    "在Python中，整数 字符串 字典都是一等对象\n",
    "将函数作为一等对象——简称一等函数，在Python中，所以函数都是一等对象\n",
    "\n",
    "\n",
    "将函数视作对象\n",
    "创建并测试一个函数，读取它的__doc__属性，再检查它的类型\n",
    "__doc__属性用于生成对象的帮助文本\n"
   ]
  },
  {
   "cell_type": "code",
   "execution_count": 19,
   "id": "92c36235",
   "metadata": {},
   "outputs": [
    {
     "data": {
      "text/plain": [
       "1405006117752879898543142606244511569936384000000000"
      ]
     },
     "execution_count": 19,
     "metadata": {},
     "output_type": "execute_result"
    }
   ],
   "source": [
    "def functorial(n):\n",
    "    '''returns n!'''\n",
    "    return 1 if n < 2 else n*functorial(n-1)\n",
    "\n",
    "functorial(42)"
   ]
  },
  {
   "cell_type": "code",
   "execution_count": 20,
   "id": "37380088",
   "metadata": {},
   "outputs": [
    {
     "data": {
      "text/plain": [
       "'returns n!'"
      ]
     },
     "execution_count": 20,
     "metadata": {},
     "output_type": "execute_result"
    }
   ],
   "source": [
    "functorial.__doc__"
   ]
  },
  {
   "cell_type": "code",
   "execution_count": 21,
   "id": "de37ad15",
   "metadata": {},
   "outputs": [
    {
     "data": {
      "text/plain": [
       "function"
      ]
     },
     "execution_count": 21,
     "metadata": {},
     "output_type": "execute_result"
    }
   ],
   "source": [
    "type(functorial)"
   ]
  },
  {
   "cell_type": "code",
   "execution_count": 25,
   "id": "ae13a367",
   "metadata": {},
   "outputs": [
    {
     "data": {
      "text/plain": [
       "[1, 1, 2, 6, 24, 120, 720, 5040, 40320, 362880, 3628800]"
      ]
     },
     "execution_count": 25,
     "metadata": {},
     "output_type": "execute_result"
    }
   ],
   "source": [
    "fact = functorial\n",
    "fact(5)\n",
    "map(functorial,range(11))\n",
    "list(map(fact,range(11)))"
   ]
  },
  {
   "cell_type": "markdown",
   "id": "5d4051ee",
   "metadata": {},
   "source": [
    "可以将函数赋值给变量，然后通过变量名调用\n",
    "可以作为参数传给map函数\n",
    "map函数返回一个可迭代对象，里面的元素是把第一个参数应用到第二个参数中各个元素上得到的结果"
   ]
  },
  {
   "cell_type": "markdown",
   "id": "1e667aa2",
   "metadata": {},
   "source": [
    "高阶函数\n",
    "接收函数作为参数，或者把函数作为结果返回的函数是高阶函数\n",
    "比如 map函数就是高阶函数，内置函数sorted也是：可选key参数用于提供一个函数，会应用到各个元素上进行排序\n",
    "\n",
    "eg1: 根据单词的长度排序，只需把len函数传给key参数\n",
    "sorted(fruits,key=len)\n",
    "\n",
    "eg2:反向拼写单词排序\n",
    "\n",
    "def reverse(word):\n",
    "    return word[::-1]\n",
    "sorted(fruits,key=reverse)\n",
    "\n",
    "在函数式编程范式中，最为人熟知的高阶函数有map filter reduce "
   ]
  },
  {
   "cell_type": "code",
   "execution_count": 26,
   "id": "8898a9d3",
   "metadata": {},
   "outputs": [
    {
     "data": {
      "text/plain": [
       "[1, 1, 2, 6, 24, 120]"
      ]
     },
     "execution_count": 26,
     "metadata": {},
     "output_type": "execute_result"
    }
   ],
   "source": [
    "# 计算阶乘列表，map filter 和列表推导的比较\n",
    "list(map(fact,range(6)))"
   ]
  },
  {
   "cell_type": "code",
   "execution_count": 28,
   "id": "548bea91",
   "metadata": {},
   "outputs": [
    {
     "data": {
      "text/plain": [
       "[1, 1, 2, 6, 24, 120]"
      ]
     },
     "execution_count": 28,
     "metadata": {},
     "output_type": "execute_result"
    }
   ],
   "source": [
    "[fact(n) for n in range(6)]"
   ]
  },
  {
   "cell_type": "code",
   "execution_count": 29,
   "id": "2d039b39",
   "metadata": {},
   "outputs": [
    {
     "data": {
      "text/plain": [
       "[1, 6, 120]"
      ]
     },
     "execution_count": 29,
     "metadata": {},
     "output_type": "execute_result"
    }
   ],
   "source": [
    "list(map(functorial,filter(lambda n: n %2 ,range(6))))"
   ]
  },
  {
   "cell_type": "code",
   "execution_count": 30,
   "id": "ac140b05",
   "metadata": {},
   "outputs": [
    {
     "data": {
      "text/plain": [
       "[1, 6, 120]"
      ]
     },
     "execution_count": 30,
     "metadata": {},
     "output_type": "execute_result"
    }
   ],
   "source": [
    "[functorial(n) for n in range(6) if n%2]"
   ]
  },
  {
   "cell_type": "markdown",
   "id": "5ac676b0",
   "metadata": {},
   "source": [
    "在Python3中,map和filter返回生成器,因此现在它们的直接替代品是生成器表达式\n",
    "reduce在python2中放到functools模块中,这个函数最常用于求和"
   ]
  },
  {
   "cell_type": "code",
   "execution_count": 31,
   "id": "6b0e5327",
   "metadata": {},
   "outputs": [
    {
     "data": {
      "text/plain": [
       "4950"
      ]
     },
     "execution_count": 31,
     "metadata": {},
     "output_type": "execute_result"
    }
   ],
   "source": [
    "# 使用reduce和sum计算0~99之和\n",
    "from functools import reduce\n",
    "from operator import  add\n",
    "reduce(add,range(100))"
   ]
  },
  {
   "cell_type": "code",
   "execution_count": 32,
   "id": "f06b9628",
   "metadata": {},
   "outputs": [
    {
     "data": {
      "text/plain": [
       "4950"
      ]
     },
     "execution_count": 32,
     "metadata": {},
     "output_type": "execute_result"
    }
   ],
   "source": [
    "sum(range(100))"
   ]
  },
  {
   "cell_type": "markdown",
   "id": "c8a7ae27",
   "metadata": {},
   "source": [
    "使用reduce需要导入或创建求和函数add\n",
    "sum和reduce的通用思想是把某个操作连续运用到序列的元素上,累计之前的结果,将一系列的值归约成一个值\n",
    "\n",
    "all 和 any也是内置的归约函数\n",
    "all(iterable):\n",
    "    如果iterable的每个元素都是真值,返回True,all([])返回True\n",
    "\n",
    "any(iterable):\n",
    "    只要iterable中有元素是真值,返回True ,any([])返回False"
   ]
  },
  {
   "cell_type": "markdown",
   "id": "92ce7d0c",
   "metadata": {},
   "source": [
    "匿名函数\n",
    "lambda关键字在python表达式内创建匿名函数\n",
    "lambda函数体的定义体中不能赋值,也不能使用while try等python语句"
   ]
  },
  {
   "cell_type": "code",
   "execution_count": 33,
   "id": "d323c7db",
   "metadata": {},
   "outputs": [
    {
     "data": {
      "text/plain": [
       "['banana', 'apple', 'fig', 'raspberry', 'strawberry', 'cherry']"
      ]
     },
     "execution_count": 33,
     "metadata": {},
     "output_type": "execute_result"
    }
   ],
   "source": [
    "# 使用lambda表达式反转拼写,依次给单词列表排序\n",
    "fruits = ['strawberry', 'fig', 'apple', 'cherry', 'raspberry', 'banana']\n",
    "sorted(fruits,key=lambda word: word[::-1])"
   ]
  },
  {
   "cell_type": "markdown",
   "id": "dc1a4bf2",
   "metadata": {},
   "source": [
    "除了作为参数传递给高阶函数之外,python很少使用匿名函数\n",
    "因为句法限制,非平凡的lambda表达式难以阅读或写出\n",
    "\n",
    "重构难以理解的lambda表达式:\n",
    "    编注释 说明lambda表达式的作用\n",
    "    研究注释 找出一个名称来概括注释\n",
    "    将lambda表达式转换成def语句 使用上面的名称定义函数\n",
    "    删除注释"
   ]
  },
  {
   "cell_type": "markdown",
   "id": "d41e3758",
   "metadata": {},
   "source": [
    "可调用对象\n",
    "除了用户定义的函数,调用运算符即(),还可以应用到其他对象上\n",
    "若想判断对象是否能调用,可以使用内置的callable()函数\n",
    "\n",
    "python列出了7中可调用对象:\n",
    "    用户定义的函数 使用def语句或者lambda表达式创建\n",
    "    内置函数  使用CPython实现的函数,如len或者time.strftime 使用C语言实现的函数\n",
    "    内置方法 使用C语言实现的方法 如 dict.get\n",
    "    方法  在类的定义体中定义的函数\n",
    "    类    调用类时会运行类的 __new__方法创建一个实例,然后运行 __init__方法,初始化实例,最后把实例返回给调用方 , 因为Python没有new运算符,所以调用类相当于调用函数\n",
    "    类的实例   如果类定义了__call__方法,那么它的实例可以作为函数调用\n",
    "    生成器函数  使用yield关键字的函数或方法,调用生成器返回的时生成器对象"
   ]
  },
  {
   "cell_type": "code",
   "execution_count": 34,
   "id": "c9274a5b",
   "metadata": {},
   "outputs": [
    {
     "data": {
      "text/plain": [
       "(<function abs(x, /)>, str, 13)"
      ]
     },
     "execution_count": 34,
     "metadata": {},
     "output_type": "execute_result"
    }
   ],
   "source": [
    "# 判断对象是否能调用,使用内置的callable()函数\n",
    "abs,str,13"
   ]
  },
  {
   "cell_type": "code",
   "execution_count": 35,
   "id": "528d7d4c",
   "metadata": {},
   "outputs": [
    {
     "data": {
      "text/plain": [
       "[True, True, False]"
      ]
     },
     "execution_count": 35,
     "metadata": {},
     "output_type": "execute_result"
    }
   ],
   "source": [
    "[callable(obj) for obj in (abs,str,13)]"
   ]
  },
  {
   "cell_type": "markdown",
   "id": "9e1429a5",
   "metadata": {},
   "source": [
    "用户定义的可调用类型\n",
    "不仅Python函数是真正的对象,任何Python对象都可以表现得像函数 \n",
    "为此,只需要实现实例方法 __call__\n",
    "\n",
    "下面实现了BingoCage类,这个类的实例使用任何可迭代对象构建,而且会在内部存储一个随机顺序排列的列表\n",
    "调用实例会取出一个元素"
   ]
  },
  {
   "cell_type": "code",
   "execution_count": 36,
   "id": "e778a37f",
   "metadata": {},
   "outputs": [],
   "source": [
    "# 调用BingoCage实例,从打乱的列表中取出一个元素\n",
    "import random\n",
    "\n",
    "class BingoCage:\n",
    "\n",
    "    def __init__(self,items):\n",
    "        self._items = list(items) #接收任何可迭代对象 在本地构建一个副本 防止列表参数意外的副作用\n",
    "        random.shuffle(self._items) #用于将列表中的元素打乱\n",
    "\n",
    "    def pick(self):\n",
    "        try:\n",
    "            return self._items.pop()\n",
    "        except:\n",
    "            raise LookupError('pick from empty BingoCage') #如果self._items为空 抛出异常 设定错误消息\n",
    "\n",
    "    def __call__(self):\n",
    "        return self.pick() # bingo.pick()的快捷方式是bingo()"
   ]
  },
  {
   "cell_type": "code",
   "execution_count": 37,
   "id": "d8a9cd7d",
   "metadata": {},
   "outputs": [
    {
     "data": {
      "text/plain": [
       "0"
      ]
     },
     "execution_count": 37,
     "metadata": {},
     "output_type": "execute_result"
    }
   ],
   "source": [
    "bingo = BingoCage(range(3))\n",
    "bingo.pick() #等价于 bingo()"
   ]
  },
  {
   "cell_type": "code",
   "execution_count": 38,
   "id": "68a2e29d",
   "metadata": {},
   "outputs": [
    {
     "data": {
      "text/plain": [
       "2"
      ]
     },
     "execution_count": 38,
     "metadata": {},
     "output_type": "execute_result"
    }
   ],
   "source": [
    "bingo()"
   ]
  },
  {
   "cell_type": "code",
   "execution_count": 39,
   "id": "61a55580",
   "metadata": {},
   "outputs": [
    {
     "data": {
      "text/plain": [
       "True"
      ]
     },
     "execution_count": 39,
     "metadata": {},
     "output_type": "execute_result"
    }
   ],
   "source": [
    "callable(bingo)"
   ]
  },
  {
   "cell_type": "markdown",
   "id": "d65b4698",
   "metadata": {},
   "source": [
    "实现__call__方法的类是创建函数类对象的简便方式\n",
    "此时必须在内部维护一个状态,让它在调用之间可用,例如 BingoCage中的剩余元素\n",
    "装饰器就是这样,装饰器必须是函数,而且又是要在多次调用之间记住某些事\n",
    "例如备忘 memoization 即缓存消耗大的计算结果 供后面使用\n",
    "\n",
    "(创建保有内部状态的函数 , 采用闭包)"
   ]
  },
  {
   "cell_type": "markdown",
   "id": "960167c3",
   "metadata": {},
   "source": [
    "函数内省\n",
    "查看函数对象的属性 dir \n",
    "dir(function)"
   ]
  },
  {
   "cell_type": "code",
   "execution_count": 40,
   "id": "f0ce59b2",
   "metadata": {},
   "outputs": [
    {
     "data": {
      "text/plain": [
       "['__annotations__',\n",
       " '__call__',\n",
       " '__class__',\n",
       " '__closure__',\n",
       " '__code__',\n",
       " '__defaults__',\n",
       " '__delattr__',\n",
       " '__dict__',\n",
       " '__dir__',\n",
       " '__doc__',\n",
       " '__eq__',\n",
       " '__format__',\n",
       " '__ge__',\n",
       " '__get__',\n",
       " '__getattribute__',\n",
       " '__globals__',\n",
       " '__gt__',\n",
       " '__hash__',\n",
       " '__init__',\n",
       " '__init_subclass__',\n",
       " '__kwdefaults__',\n",
       " '__le__',\n",
       " '__lt__',\n",
       " '__module__',\n",
       " '__name__',\n",
       " '__ne__',\n",
       " '__new__',\n",
       " '__qualname__',\n",
       " '__reduce__',\n",
       " '__reduce_ex__',\n",
       " '__repr__',\n",
       " '__setattr__',\n",
       " '__sizeof__',\n",
       " '__str__',\n",
       " '__subclasshook__']"
      ]
     },
     "execution_count": 40,
     "metadata": {},
     "output_type": "execute_result"
    }
   ],
   "source": [
    "dir(functorial)"
   ]
  },
  {
   "cell_type": "markdown",
   "id": "2743af12",
   "metadata": {},
   "source": [
    "其中大多数属性是Python对象共有的\n",
    "讨论将函数视作对象相关的几个属性,先从__dict__开始\n",
    "\n",
    "与用户定义的常规类一样\n",
    "函数使用__dict__属性存储  赋予它的用户属性\n",
    "一般来说 ,为函数随意赋予属性不是很常见的做法,但是 Django框架\n",
    "中有的short_description  boolean  和 allow_tags属性的说明\n",
    "\n",
    "比如:把short_description属性赋予一个方法,Django管理后台使用这个方法时\n",
    "在记录列表中会出现指定的描述文本"
   ]
  },
  {
   "cell_type": "markdown",
   "id": "8b90233a",
   "metadata": {},
   "source": [
    "def upper_case_name(obj):\n",
    "    return (\"%s %s \"% (obj.first_name,obj.last_name)).upper()\n",
    "upper_case_name.short_description = 'Customer name'"
   ]
  },
  {
   "cell_type": "code",
   "execution_count": 41,
   "id": "eac8d56f",
   "metadata": {},
   "outputs": [
    {
     "data": {
      "text/plain": [
       "['__annotations__',\n",
       " '__call__',\n",
       " '__closure__',\n",
       " '__code__',\n",
       " '__defaults__',\n",
       " '__get__',\n",
       " '__globals__',\n",
       " '__kwdefaults__',\n",
       " '__name__',\n",
       " '__qualname__']"
      ]
     },
     "execution_count": 41,
     "metadata": {},
     "output_type": "execute_result"
    }
   ],
   "source": [
    "# 计算两个属性集合的差集 便能得到函数专有属性列表\n",
    "# 列出常规对象没有而函数有的属性\n",
    "class C:pass #创建一个空的用户定义的类\n",
    "obj = C() # 创建一个实例\n",
    "def func():pass #创建一个空函数\n",
    "sorted(set(dir(func)) - set(dir(obj))) #计算差集 然后排序 得到类的实例没有 而函数有的属性列表"
   ]
  },
  {
   "cell_type": "markdown",
   "id": "f7eb8e99",
   "metadata": {},
   "source": [
    "'__annotations__', 参数和返回值的注解\n",
    " '__call__', 实现() 运算符 即可调用对象协议\n",
    " '__closure__', 函数闭包 ，即自由变量的绑定 通常是None\n",
    " '__code__', 编译成字节码的函数元数据和函数定义体\n",
    " '__defaults__', 形式参数的默认值\n",
    " '__get__', 实现只读描述符协议\n",
    " '__globals__', 函数所在模块中的全局变量\n",
    " '__kwdefaults__', 仅限关键字形式参数的默认值\n",
    " '__name__', 函数名称\n",
    " '__qualname__' 函数的限定名称， 如random.choice"
   ]
  },
  {
   "cell_type": "markdown",
   "id": "4d0582ce",
   "metadata": {},
   "source": [
    "从定位参数到仅限关键字参数\n",
    "调用函数时使用* 和 ** 展开可迭代对象，映射到单个参数\n",
    "\n",
    "实例：tag函数用于生成HTML标签 使用cls的关键字参数传入class属性 因为class时Python的关键字\n"
   ]
  },
  {
   "cell_type": "code",
   "execution_count": 54,
   "id": "30b4be41",
   "metadata": {},
   "outputs": [],
   "source": [
    "def tag(name,*content,cls=None,**attrs):\n",
    "    if cls is not None:\n",
    "        attrs['class'] = cls\n",
    "    if attrs:\n",
    "        attr_str = ''.join(' %s=\"%s\"'% (attr,value)\n",
    "                            for attr,value\n",
    "                            in sorted(attrs.items()))\n",
    "    else:\n",
    "        attr_str = ''\n",
    "    \n",
    "    if content:\n",
    "        return '\\n'.join('<%s%s>%s</%s>'%\n",
    "                        (name,attr_str,c,name) for c in content)\n",
    "    else:\n",
    "        return '<%s%s />'% (name,attr_str)\n"
   ]
  },
  {
   "cell_type": "code",
   "execution_count": 45,
   "id": "8f90513d",
   "metadata": {},
   "outputs": [
    {
     "data": {
      "text/plain": [
       "'<br />'"
      ]
     },
     "execution_count": 45,
     "metadata": {},
     "output_type": "execute_result"
    }
   ],
   "source": [
    "# tag函数的调用\n",
    "tag('br')"
   ]
  },
  {
   "cell_type": "code",
   "execution_count": 46,
   "id": "1f769537",
   "metadata": {},
   "outputs": [
    {
     "data": {
      "text/plain": [
       "'<p>hello</p>'"
      ]
     },
     "execution_count": 46,
     "metadata": {},
     "output_type": "execute_result"
    }
   ],
   "source": [
    "tag('p','hello')"
   ]
  },
  {
   "cell_type": "code",
   "execution_count": 47,
   "id": "7d3de3be",
   "metadata": {},
   "outputs": [
    {
     "name": "stdout",
     "output_type": "stream",
     "text": [
      "<p>hello</p>\n",
      "<p>world</p>\n"
     ]
    }
   ],
   "source": [
    "print(tag('p','hello','world'))"
   ]
  },
  {
   "cell_type": "code",
   "execution_count": 55,
   "id": "56a2577f",
   "metadata": {},
   "outputs": [
    {
     "data": {
      "text/plain": [
       "'<p id=\"33\">hello</p>'"
      ]
     },
     "execution_count": 55,
     "metadata": {},
     "output_type": "execute_result"
    }
   ],
   "source": [
    "tag('p','hello',id=33)"
   ]
  },
  {
   "cell_type": "code",
   "execution_count": 56,
   "id": "12d905da",
   "metadata": {},
   "outputs": [
    {
     "name": "stdout",
     "output_type": "stream",
     "text": [
      "<p class=\"sidebar\">hello</p>\n",
      "<p class=\"sidebar\">world</p>\n"
     ]
    }
   ],
   "source": [
    "print(tag('p','hello','world',cls='sidebar'))"
   ]
  },
  {
   "cell_type": "code",
   "execution_count": 57,
   "id": "5e103003",
   "metadata": {},
   "outputs": [
    {
     "data": {
      "text/plain": [
       "'<img content=\"testing\" />'"
      ]
     },
     "execution_count": 57,
     "metadata": {},
     "output_type": "execute_result"
    }
   ],
   "source": [
    "tag(content='testing',name='img')"
   ]
  },
  {
   "cell_type": "code",
   "execution_count": 58,
   "id": "9538af44",
   "metadata": {},
   "outputs": [
    {
     "data": {
      "text/plain": [
       "'<img class=\"framed\" str=\"sunset.jpg\" title=\"Sunset Boulevard\" />'"
      ]
     },
     "execution_count": 58,
     "metadata": {},
     "output_type": "execute_result"
    }
   ],
   "source": [
    "my_tag = {'name':'img','title':'Sunset Boulevard',\n",
    "            'str':'sunset.jpg','cls':'framed'}\n",
    "tag(**my_tag)\n",
    "# 同名键会被绑定到具名参数上，余下的则被 **attrs 捕获"
   ]
  },
  {
   "cell_type": "markdown",
   "id": "a6088102",
   "metadata": {},
   "source": [
    "仅限关键字参数是Python3的新增特性\n",
    "上面的实例中cls参数只能通过关键字参数指定，而不会去捕获未命名的定位参数\n",
    "\n",
    "定义函数时若想指定仅限关键字参数，要把它们放到前面有*的参数后面\n",
    "如果不想支持数量不定的定位参数，但是想支持仅限关键字参数，在签名中放一个*\n",
    "如：\n",
    "    "
   ]
  },
  {
   "cell_type": "code",
   "execution_count": 61,
   "id": "834502d7",
   "metadata": {},
   "outputs": [
    {
     "data": {
      "text/plain": [
       "(1, 2)"
      ]
     },
     "execution_count": 61,
     "metadata": {},
     "output_type": "execute_result"
    }
   ],
   "source": [
    "def f(a,*,b):\n",
    "    return a,b\n",
    "f(1,b=2) # f(1,2)会报错 必须强制传入实参\n",
    "    "
   ]
  },
  {
   "cell_type": "markdown",
   "id": "fdf787f2",
   "metadata": {},
   "source": [
    "获取关于参数的信息\n"
   ]
  },
  {
   "cell_type": "code",
   "execution_count": 64,
   "id": "bac7742d",
   "metadata": {},
   "outputs": [],
   "source": [
    "import bobo\n",
    "@bobo.query('/')\n",
    "def hello(person):\n",
    "    return 'Hello %s!'%person"
   ]
  },
  {
   "cell_type": "markdown",
   "id": "494e3765",
   "metadata": {},
   "source": [
    "bobo.query装饰器把一个普通的函数hello与框架的请求处理机制集成起来的\n",
    "bobo会内省hello函数，发现hello需要一个名为person的参数\n",
    "然后从请求中获取那个名称对应的参数，将其传递给hello函数\n",
    "\n",
    "安装Bobo 启动开发服务器，执行bobo -f hello.py访问 curl -i http://localhost:8080/"
   ]
  },
  {
   "cell_type": "markdown",
   "id": "c373ce38",
   "metadata": {},
   "source": [
    "[arya@VM-0-2-centos ~]$  curl -i http://localhost:8080/\n",
    "HTTP/1.0 403 Forbidden\n",
    "Date: Thu, 05 Jan 2023 03:21:15 GMT\n",
    "Server: WSGIServer/0.2 CPython/3.6.8\n",
    "Content-Type: text/html; charset=UTF-8\n",
    "Content-Length: 103\n",
    "\n",
    "<html>\n",
    "<head><title>Missing parameter</title></head>\n",
    "<body>Missing form variable person</body>\n",
    "</html>"
   ]
  },
  {
   "cell_type": "markdown",
   "id": "74b2feaa",
   "metadata": {},
   "source": [
    "如果请求中缺少函数的参数，Bobo 返回 403 forbidden响应\n",
    "curl -i 的作用是把首部转储到标准输出\n",
    "传入所需的 person 参数才能得到 OK 响应"
   ]
  },
  {
   "cell_type": "markdown",
   "id": "f74a153d",
   "metadata": {},
   "source": [
    "[arya@VM-0-2-centos ~]$ curl -i http://localhost:8080/?person=Jim\n",
    "HTTP/1.0 200 OK\n",
    "Date: Thu, 05 Jan 2023 03:23:18 GMT\n",
    "Server: WSGIServer/0.2 CPython/3.6.8\n",
    "Content-Type: text/html; charset=UTF-8\n",
    "Content-Length: 10\n",
    "\n",
    "Hello Jim![arya@VM-0-2-centos ~]$ "
   ]
  },
  {
   "cell_type": "markdown",
   "id": "d979fd23",
   "metadata": {},
   "source": [
    "函数对象有个__default__属性，它的值是一个元组，里面保存着定位参数和关键字参数的默认值\n",
    "仅限关键字参数的默认值在__kwdefaults__属性中\n",
    "然而 参数的名称在__code__属性中，它的值是一个code对象引用，自身也有很多属性"
   ]
  },
  {
   "cell_type": "code",
   "execution_count": 69,
   "id": "852bd0fd",
   "metadata": {},
   "outputs": [],
   "source": [
    "# 在指定长度附近截断字符串的函数\n",
    "def clip(text,max_len=80):\n",
    "    # 在max_len前面或后面的第一个空格处截断文本\n",
    "    end = None\n",
    "    if len(text) > max_len:\n",
    "        space_before = text.rfind('',0,max_len)\n",
    "        if space_before >=0 :\n",
    "            end = space_before\n",
    "        else:\n",
    "            space_after = text.rfind('',max_len)\n",
    "            if space_after >= 0 :\n",
    "                end = space_after\n",
    "\n",
    "    if end is None:\n",
    "        end = len(text)\n",
    "    return text[:end].rstrip()"
   ]
  },
  {
   "cell_type": "markdown",
   "id": "53de4f4a",
   "metadata": {},
   "source": [
    "审查上面定义的 clip 函数，查看\n",
    "__defaults__、__code__.co_varnames 和 __code__.co_argcount的值"
   ]
  },
  {
   "cell_type": "markdown",
   "id": "00f85576",
   "metadata": {},
   "source": [
    "函数注解\n",
    "用于为函数声明中的参数和返回值附加元数据\n",
    "def clip(text:str , max_len:'int > 0'=80) -> str:\n",
    "\n",
    "有注解的函数声明\n",
    "函数声明中的各个参数可以在 ： 之后增加注解表达式\n",
    "如果参数有默认值，注解放在参数名和 = 之间\n",
    "如果想注解返回值，在) 和函数声明末尾的 : 之间添加 -> 和一个表达式\n",
    "这个表达式可以是任何类型，注解中常用的类型是类（如str 或int）和字符串（如 'int > 0'）\n",
    "上面的max_len参数的注解用的是字符串\n",
    "\n",
    "注解不会做任何处理，只是存储在函数的__annotations__属性中"
   ]
  },
  {
   "cell_type": "markdown",
   "id": "7b304e59",
   "metadata": {},
   "source": [
    "from clip_annot import clip\n",
    "clip.__annotations__\n",
    "{'text': <class 'str'>, 'max_len': 'int > 0', 'return': <class 'str'>}\n",
    "\n",
    "return 键保存的是返回值注解，即函数声明里以->标记的部分\n",
    "Python仅仅将注解存储在函数 __annotations__里面 ，其他什么操作都不做\n",
    "即注解对Python解释器没有任何意义，注解只是元数据\n",
    "可以使用inspect.signature()函数知道怎么提取注解\n",
    "\n",
    "from inspect import signature\n",
    "sig = signature(clip)\n",
    "sig.return_annotation\n",
    "\n",
    "from param in sig.parameters.values():\n",
    "    note = repr(param.annotation).ljust(13)\n",
    "    print(note,':',param.name,'=',param.default)\n",
    "\n",
    "signature函数返回一个Signature对象，它有一个return_annotation属性和一个parameters属性\n",
    "parameters是一个字典，把参数名映射到parameter对象上\n",
    "每个Parameter对象自己也有annotation属性"
   ]
  },
  {
   "cell_type": "markdown",
   "id": "919b049e",
   "metadata": {},
   "source": [
    "支持函数式编程的包\n",
    "\n",
    "operator模块\n",
    "在函数式编程中，经常需要把算术运算符当作函数使用\n",
    "例如，不使用递归计算阶乘\n",
    "可以使用reduce函数，但是需要一个函数计算序列中 两个元素的积 使用lambda表达式解决"
   ]
  },
  {
   "cell_type": "code",
   "execution_count": 74,
   "id": "bab33837",
   "metadata": {},
   "outputs": [],
   "source": [
    "from functools import reduce\n",
    "\n",
    "def fact(n):\n",
    "    return reduce(lambda a,b: a*b,range(1,n+1))"
   ]
  },
  {
   "cell_type": "markdown",
   "id": "8a4afd3f",
   "metadata": {},
   "source": [
    "operator模块为多个算术运算符提供了对应函数，避免lambda a,b:a*b 这种匿名函数"
   ]
  },
  {
   "cell_type": "code",
   "execution_count": 75,
   "id": "58574ac4",
   "metadata": {},
   "outputs": [
    {
     "data": {
      "text/plain": [
       "120"
      ]
     },
     "execution_count": 75,
     "metadata": {},
     "output_type": "execute_result"
    }
   ],
   "source": [
    "from functools import  reduce\n",
    "from operator import  mul\n",
    "\n",
    "def fact(n):\n",
    "    return reduce(mul,range(1,n+1))\n",
    "\n",
    "fact(5)"
   ]
  },
  {
   "cell_type": "markdown",
   "id": "91780463",
   "metadata": {},
   "source": [
    "operator模块中还有一类函数，能替代 从序列中取元素或者读对象属性 的lambda表达式\n",
    "因此 itemgetter和attrgetter会自行构建函数\n",
    "\n",
    "下面的例子展示了itemgetter的常见用途：根据元组的某个字段给元组列表排序\n",
    "该示例按照国家代码的顺序打印各个城市的信息\n",
    "和lambda fields: fields[1] 类似 创建一个 接收集合的函数 ，返回集合索引位1的元素"
   ]
  },
  {
   "cell_type": "code",
   "execution_count": 76,
   "id": "01290366",
   "metadata": {},
   "outputs": [
    {
     "name": "stdout",
     "output_type": "stream",
     "text": [
      "('Sao Paulo', 'BR', 19.649, (-23.547778, -46.635833))\n",
      "('Delhi NCR', 'IN', 21.935, (28.613889, 77.208889))\n",
      "('Tokyo', 'JP', 36.933, (35.689722, 139.691667))\n",
      "('Mexico City', 'MX', 20.142, (19.433333, -99.133333))\n",
      "('New York-Newark', 'US', 20.104, (40.808611, -74.020386))\n"
     ]
    }
   ],
   "source": [
    "metro_data = [\n",
    "    ('Tokyo', 'JP', 36.933, (35.689722, 139.691667)),\n",
    "    ('Delhi NCR', 'IN', 21.935, (28.613889, 77.208889)),\n",
    "    ('Mexico City', 'MX', 20.142, (19.433333, -99.133333)),\n",
    "    ('New York-Newark', 'US', 20.104, (40.808611, -74.020386)),\n",
    "    ('Sao Paulo', 'BR', 19.649, (-23.547778, -46.635833)),\n",
    "    ]\n",
    "\n",
    "from operator import itemgetter\n",
    "for city in sorted(metro_data,key=itemgetter(1)):\n",
    "    print(city)"
   ]
  },
  {
   "cell_type": "markdown",
   "id": "0cb2874a",
   "metadata": {},
   "source": [
    "传递多个参数给itemgetter，它构建的函数会返回提取的值构成的元组"
   ]
  },
  {
   "cell_type": "code",
   "execution_count": 77,
   "id": "24220097",
   "metadata": {},
   "outputs": [
    {
     "name": "stdout",
     "output_type": "stream",
     "text": [
      "('JP', 'Tokyo')\n",
      "('IN', 'Delhi NCR')\n",
      "('MX', 'Mexico City')\n",
      "('US', 'New York-Newark')\n",
      "('BR', 'Sao Paulo')\n"
     ]
    }
   ],
   "source": [
    "cc_name = itemgetter(1,0)\n",
    "for city in metro_data:\n",
    "    print(cc_name(city))"
   ]
  },
  {
   "cell_type": "markdown",
   "id": "952652a5",
   "metadata": {},
   "source": [
    "itemgetter使用[]运算符\n",
    "因此它不仅支持序列 还支持映射和 任何实现 __getitem__方法的类\n",
    "\n",
    "attrgetter和itemgetter作用类似\n",
    "attrgetter创建的函数根据名称提取对象的属性\n",
    "如果把多个属性传给 attrgetter，它也会返回提取的值构成的元组\n",
    "此外，如果参数名中包含.(点号)，attrgetter会深入嵌套对象，获取指定的属性"
   ]
  },
  {
   "cell_type": "code",
   "execution_count": 80,
   "id": "30ff38e6",
   "metadata": {},
   "outputs": [
    {
     "name": "stdout",
     "output_type": "stream",
     "text": [
      "<class '__main__.LatLong'>\n"
     ]
    },
    {
     "data": {
      "text/plain": [
       "Metropolis(name='Tokyo', cc='JP', pop=36.933, coord=LatLong(lat=35.689722, long=139.691667))"
      ]
     },
     "execution_count": 80,
     "metadata": {},
     "output_type": "execute_result"
    }
   ],
   "source": [
    "# 定义一个namedtuple，名为 metro_data，演示使用attrgetter处理它\n",
    "from collections import namedtuple\n",
    "LatLong = namedtuple('LatLong','lat long')\n",
    "print(LatLong)\n",
    "Metropolis = namedtuple('Metropolis', 'name cc pop coord')\n",
    "metro_areas = [Metropolis(name, cc, pop, LatLong(lat, long)) \n",
    "    for name, cc, pop, (lat, long) in metro_data]\n",
    "\n",
    "metro_areas[0]"
   ]
  },
  {
   "cell_type": "code",
   "execution_count": 81,
   "id": "27b1f6a7",
   "metadata": {},
   "outputs": [
    {
     "data": {
      "text/plain": [
       "35.689722"
      ]
     },
     "execution_count": 81,
     "metadata": {},
     "output_type": "execute_result"
    }
   ],
   "source": [
    "metro_areas[0].coord.lat"
   ]
  },
  {
   "cell_type": "code",
   "execution_count": 82,
   "id": "78864bfb",
   "metadata": {},
   "outputs": [
    {
     "name": "stdout",
     "output_type": "stream",
     "text": [
      "('Sao Paulo', -23.547778)\n",
      "('Mexico City', 19.433333)\n",
      "('Delhi NCR', 28.613889)\n",
      "('Tokyo', 35.689722)\n",
      "('New York-Newark', 40.808611)\n"
     ]
    }
   ],
   "source": [
    "from operator import  attrgetter\n",
    "name_lat = attrgetter('name','coord.lat')\n",
    "\n",
    "for city in sorted(metro_areas,key=attrgetter('coord.lat')):\n",
    "    print(name_lat(city))"
   ]
  },
  {
   "cell_type": "code",
   "execution_count": 91,
   "id": "e5668a25",
   "metadata": {},
   "outputs": [
    {
     "data": {
      "text/plain": [
       "'THE TIME HAS COME'"
      ]
     },
     "execution_count": 91,
     "metadata": {},
     "output_type": "execute_result"
    }
   ],
   "source": [
    "# operator模块中的methodcaller的作用与attrgetter和itemgetter类似 会自行创建函数\n",
    "# methodcaller创建的函数会在对象上调用参数指定的方法，如示例所示\n",
    "from operator import  methodcaller\n",
    "s = 'The time has come'\n",
    "upcase = methodcaller('upper')\n",
    "upcase(s)"
   ]
  },
  {
   "cell_type": "code",
   "execution_count": 93,
   "id": "5fbefb8b",
   "metadata": {},
   "outputs": [
    {
     "data": {
      "text/plain": [
       "'The-time-has-come'"
      ]
     },
     "execution_count": 93,
     "metadata": {},
     "output_type": "execute_result"
    }
   ],
   "source": [
    "hiphenate = methodcaller('replace',' ','-')\n",
    "hiphenate(s)"
   ]
  },
  {
   "cell_type": "code",
   "execution_count": 94,
   "id": "bfd3346e",
   "metadata": {},
   "outputs": [
    {
     "data": {
      "text/plain": [
       "'THE TIME HAS COME'"
      ]
     },
     "execution_count": 94,
     "metadata": {},
     "output_type": "execute_result"
    }
   ],
   "source": [
    "# 如果想把str.upper作为函数使用，只需在str类上调用，并传入一个字符串参数\n",
    "str.upper(s)"
   ]
  },
  {
   "cell_type": "markdown",
   "id": "2d2b2a10",
   "metadata": {},
   "source": [
    "使用functools.partial冻结参数\n",
    "functools最为人熟知的是reduce函数\n",
    "余下函数中最有用的是partial以及变体partialmethod\n",
    "\n",
    "functools.partial 这个高阶函数用于部分应用一个函数\n",
    "部分应用是指基于一个函数创建一个新的可调用对象，把原函数的某些参数固定\n",
    "使用这个函数可以把接收一个或多个参数的函数改编成 需要回调的API，这样参数更少"
   ]
  },
  {
   "cell_type": "code",
   "execution_count": 95,
   "id": "e146b456",
   "metadata": {},
   "outputs": [
    {
     "data": {
      "text/plain": [
       "21"
      ]
     },
     "execution_count": 95,
     "metadata": {},
     "output_type": "execute_result"
    }
   ],
   "source": [
    "# 使用partial把一个两参数函数改编成需要单参数的可调用对象\n",
    "from operator import  mul\n",
    "from functools import partial\n",
    "triple = partial(mul,3)\n",
    "triple(7)"
   ]
  },
  {
   "cell_type": "code",
   "execution_count": 96,
   "id": "f2900b4b",
   "metadata": {},
   "outputs": [
    {
     "data": {
      "text/plain": [
       "[3, 6, 9, 12, 15, 18, 21, 24, 27]"
      ]
     },
     "execution_count": 96,
     "metadata": {},
     "output_type": "execute_result"
    }
   ],
   "source": [
    "list(map(triple,range(1,10)))"
   ]
  },
  {
   "cell_type": "markdown",
   "id": "2a18337b",
   "metadata": {},
   "source": [
    "使用一等函数实现设计模式\n",
    "\n",
    "重构“策略”模式\n",
    "\n",
    "经典的策略模式：\n",
    "    定义一系列算法，将它们一一封装起来，并且使它们可以互相替换\n",
    "    本模式使得算法可以独立于使用它的客户而变化\n",
    "    "
   ]
  },
  {
   "cell_type": "code",
   "execution_count": 5,
   "id": "613f85a4",
   "metadata": {},
   "outputs": [],
   "source": [
    "from abc import ABC ,abstractmethod\n",
    "from collections import  namedtuple\n",
    "\n",
    "Customer = namedtuple('Customer','name fidelity')\n",
    "\n",
    "class LineItem:\n",
    "    def __init__(self,product,quantity,price):\n",
    "        self.product = product\n",
    "        self.quantity = quantity\n",
    "        self.price = price\n",
    "\n",
    "    def total(self):\n",
    "        return self.price * self.quantity\n",
    "\n",
    "class Order:\n",
    "    def __init__(self,customer,cart,promotion=None):\n",
    "        self.customer = customer\n",
    "        self.cart = cart\n",
    "        self.promotion = promotion\n",
    "\n",
    "    def total(self):\n",
    "        if not hasattr(self,'__total'):\n",
    "            self.__total = sum(item.total() for item in self.cart)\n",
    "        return self.__total\n",
    "\n",
    "    def due(self):\n",
    "        if self.promotion is None:\n",
    "            discount = 0\n",
    "        else:\n",
    "            discount = self.promotion.discount(self)\n",
    "\n",
    "        return self.total() - discount\n",
    "\n",
    "    def __repr__(self):\n",
    "        fmt = '<Order total:{:.2f} due:{:.2f}>'\n",
    "        return fmt.format(self.total(),self.due())\n",
    "        "
   ]
  },
  {
   "cell_type": "code",
   "execution_count": 9,
   "id": "68ba5c7e",
   "metadata": {},
   "outputs": [],
   "source": [
    "class Promotion(ABC): #策略 抽象基类\n",
    "    @abstractmethod\n",
    "    def discount(self,order):\n",
    "        '''返回折扣金额 正值'''\n",
    "        \n",
    "class FidelityPromo(Promotion):\n",
    "    \n",
    "    def discount(self,order):\n",
    "        return order.total() * 0.05 if order.customer.fidelity >= 1000 else 0\n",
    "\n",
    "class BulkItemPromo(Promotion):\n",
    "    \n",
    "    def discount(self,order):\n",
    "        discount = 0 \n",
    "        for item in order.cart:\n",
    "            if item.quantity >= 20:\n",
    "                discount += item.total() * 0.1\n",
    "        return discount\n",
    "    \n",
    "class LargeOrderPromo(Promotion):\n",
    "    \n",
    "    def discount(self,order):\n",
    "        distinct_items = {item.product for item in order.cart}\n",
    "        if len(distinct_items) >=10:\n",
    "            return order.total() * 0.07\n",
    "        return 0"
   ]
  },
  {
   "cell_type": "markdown",
   "id": "89f30979",
   "metadata": {},
   "source": [
    "上面的将Promotion定义为抽象基类\n",
    "用了@abstractmethod装饰器 继承ABC\n",
    "声明抽象基类 简单方式是子类化abc.ABC"
   ]
  },
  {
   "cell_type": "code",
   "execution_count": 10,
   "id": "c72a09ba",
   "metadata": {},
   "outputs": [
    {
     "data": {
      "text/plain": [
       "<Order total:42.00 due:42.00>"
      ]
     },
     "execution_count": 10,
     "metadata": {},
     "output_type": "execute_result"
    }
   ],
   "source": [
    "joe = Customer('John Doe',0)\n",
    "ann = Customer('Ann Smith',1100)\n",
    "cart = [LineItem('banana',4,0.5),\n",
    "        LineItem('apple',10,1.5),\n",
    "        LineItem('watermellon',5,5.0)]\n",
    "Order(joe,cart,FidelityPromo())"
   ]
  },
  {
   "cell_type": "code",
   "execution_count": 11,
   "id": "fc22aebb",
   "metadata": {},
   "outputs": [
    {
     "data": {
      "text/plain": [
       "<Order total:42.00 due:39.90>"
      ]
     },
     "execution_count": 11,
     "metadata": {},
     "output_type": "execute_result"
    }
   ],
   "source": [
    "Order(ann,cart,FidelityPromo())"
   ]
  },
  {
   "cell_type": "code",
   "execution_count": 12,
   "id": "a7ff4338",
   "metadata": {},
   "outputs": [
    {
     "data": {
      "text/plain": [
       "<Order total:30.00 due:28.50>"
      ]
     },
     "execution_count": 12,
     "metadata": {},
     "output_type": "execute_result"
    }
   ],
   "source": [
    "banana_cart = [LineItem('banana',30,0.5),\n",
    "                LineItem('apple',10,1.5)]\n",
    "Order(joe,banana_cart,BulkItemPromo())"
   ]
  },
  {
   "cell_type": "code",
   "execution_count": 13,
   "id": "772f1d5b",
   "metadata": {},
   "outputs": [
    {
     "data": {
      "text/plain": [
       "<Order total:10.00 due:9.30>"
      ]
     },
     "execution_count": 13,
     "metadata": {},
     "output_type": "execute_result"
    }
   ],
   "source": [
    "long_order = [LineItem(str(item_code),1,1.0)\n",
    "                for item_code in range(10)]\n",
    "Order(joe,long_order,LargeOrderPromo())"
   ]
  },
  {
   "cell_type": "code",
   "execution_count": 14,
   "id": "044bc924",
   "metadata": {},
   "outputs": [
    {
     "data": {
      "text/plain": [
       "<Order total:42.00 due:42.00>"
      ]
     },
     "execution_count": 14,
     "metadata": {},
     "output_type": "execute_result"
    }
   ],
   "source": [
    "Order(joe,cart,LargeOrderPromo())"
   ]
  },
  {
   "cell_type": "markdown",
   "id": "85051ebb",
   "metadata": {},
   "source": [
    "使用函数实现策略模式"
   ]
  },
  {
   "cell_type": "code",
   "execution_count": 23,
   "id": "3c065446",
   "metadata": {},
   "outputs": [],
   "source": [
    "from abc import ABC ,abstractmethod\n",
    "from collections import  namedtuple\n",
    "\n",
    "Customer = namedtuple('Customer','name fidelity')\n",
    "\n",
    "class LineItem:\n",
    "    def __init__(self,product,quantity,price):\n",
    "        self.product = product\n",
    "        self.quantity = quantity\n",
    "        self.price = price\n",
    "\n",
    "    def total(self):\n",
    "        return self.price * self.quantity\n",
    "\n",
    "class Order:\n",
    "    def __init__(self,customer,cart,promotion=None):\n",
    "        self.customer = customer\n",
    "        self.cart = cart\n",
    "        self.promotion = promotion\n",
    "\n",
    "    def total(self):\n",
    "        if not hasattr(self,'__total'):\n",
    "            self.__total = sum(item.total() for item in self.cart)\n",
    "        return self.__total\n",
    "\n",
    "    def due(self):\n",
    "        if self.promotion is None:\n",
    "            discount = 0\n",
    "        else:\n",
    "            discount = self.promotion(self)\n",
    "\n",
    "        return self.total() - discount\n",
    "\n",
    "    def __repr__(self):\n",
    "        fmt = '<Order total:{:.2f} due:{:.2f}>'\n",
    "        return fmt.format(self.total(),self.due())\n",
    "        \n",
    "\n",
    "def fidelity_promo(order):\n",
    "#     为积分为1000或以上的客户提供5%折扣\n",
    "    return order.total() * 0.05 if order.customer.fidelity >= 1000 else 0\n",
    "\n",
    "def bulk_item_promo(order):\n",
    "#         单个商品为20个或以上提供10%折扣\n",
    "    discount = 0\n",
    "    for item in order.cart:\n",
    "        if item.quantity >= 20:\n",
    "            discount += item.total() * 0.1\n",
    "    return discount\n",
    "\n",
    "def large_order_promo(order):\n",
    "#     订单中的不同商品达到10个或以上提供7%折扣\n",
    "    distinct_items = {item.product for item in order.cart}\n",
    "    if len(distinct_items) >= 10:\n",
    "        return order.total() * 0.07\n",
    "    return 0\n"
   ]
  },
  {
   "cell_type": "code",
   "execution_count": 24,
   "id": "c779fbf9",
   "metadata": {},
   "outputs": [
    {
     "data": {
      "text/plain": [
       "<Order total:42.00 due:42.00>"
      ]
     },
     "execution_count": 24,
     "metadata": {},
     "output_type": "execute_result"
    }
   ],
   "source": [
    "joe = Customer('John Doe',0)\n",
    "ann = Customer('Ann Smith',1100)\n",
    "cart = [LineItem('banana',4,0.5),\n",
    "        LineItem('apple',10,1.5),\n",
    "        LineItem('watermellon',5,5.0)]\n",
    "Order(joe,cart,fidelity_promo)"
   ]
  },
  {
   "cell_type": "code",
   "execution_count": 25,
   "id": "475eca9e",
   "metadata": {},
   "outputs": [
    {
     "data": {
      "text/plain": [
       "<Order total:42.00 due:39.90>"
      ]
     },
     "execution_count": 25,
     "metadata": {},
     "output_type": "execute_result"
    }
   ],
   "source": [
    "Order(ann, cart, fidelity_promo)"
   ]
  },
  {
   "cell_type": "code",
   "execution_count": 26,
   "id": "231d1167",
   "metadata": {},
   "outputs": [
    {
     "data": {
      "text/plain": [
       "<Order total:30.00 due:28.50>"
      ]
     },
     "execution_count": 26,
     "metadata": {},
     "output_type": "execute_result"
    }
   ],
   "source": [
    "Order(joe, banana_cart, bulk_item_promo)"
   ]
  },
  {
   "cell_type": "code",
   "execution_count": 28,
   "id": "e6352acd",
   "metadata": {},
   "outputs": [
    {
     "data": {
      "text/plain": [
       "<Order total:10.00 due:9.30>"
      ]
     },
     "execution_count": 28,
     "metadata": {},
     "output_type": "execute_result"
    }
   ],
   "source": [
    "long_order = [LineItem(str(item_code), 1, 1.0)\n",
    "                for item_code in range(10)]\n",
    "Order(joe, long_order, large_order_promo)"
   ]
  },
  {
   "cell_type": "code",
   "execution_count": 29,
   "id": "8df49526",
   "metadata": {},
   "outputs": [
    {
     "data": {
      "text/plain": [
       "<Order total:42.00 due:42.00>"
      ]
     },
     "execution_count": 29,
     "metadata": {},
     "output_type": "execute_result"
    }
   ],
   "source": [
    "Order(joe, cart, large_order_promo)"
   ]
  },
  {
   "cell_type": "markdown",
   "id": "ecd39286",
   "metadata": {},
   "source": [
    "上面两种不同的策略模式 实现方式\n",
    "第一种用了三个类 使用了一个抽象基类 三个类继承实现该基类中的虚函数\n",
    "第二种用了三个函数 将Order类作为参数\n",
    "不同的是 第一中方式在新建订单时会实例化新的对象 函数是拿来即用\n",
    "\n",
    "使用不同的函数,不要去编写只有一个方法的类,再去实现另一个类声明的单函数接口\n",
    "普通的函数也可以是 \"可共享的对象 可以同时在多个上下文中使用\"\n"
   ]
  },
  {
   "cell_type": "markdown",
   "id": "28cf0cec",
   "metadata": {},
   "source": [
    "选择最佳策略 简单的方式\n",
    "在上面的基础上添加三个测试"
   ]
  },
  {
   "cell_type": "code",
   "execution_count": 30,
   "id": "b942b88c",
   "metadata": {},
   "outputs": [],
   "source": [
    "# best_promo函数计算所有折扣,并返回额度最大的\n",
    "promos = [fidelity_promo,bulk_item_promo,large_order_promo]\n",
    "\n",
    "def best_promo(order):\n",
    "    '''选择可用的最佳折扣'''\n",
    "    return max(promo(order) for promo in promos)"
   ]
  },
  {
   "cell_type": "code",
   "execution_count": 31,
   "id": "0354b62c",
   "metadata": {},
   "outputs": [
    {
     "data": {
      "text/plain": [
       "<Order total:10.00 due:9.30>"
      ]
     },
     "execution_count": 31,
     "metadata": {},
     "output_type": "execute_result"
    }
   ],
   "source": [
    "Order(joe, long_order, best_promo) "
   ]
  },
  {
   "cell_type": "code",
   "execution_count": 32,
   "id": "af04b01c",
   "metadata": {},
   "outputs": [
    {
     "data": {
      "text/plain": [
       "<Order total:30.00 due:28.50>"
      ]
     },
     "execution_count": 32,
     "metadata": {},
     "output_type": "execute_result"
    }
   ],
   "source": [
    "Order(joe, banana_cart, best_promo) "
   ]
  },
  {
   "cell_type": "code",
   "execution_count": 33,
   "id": "af7943be",
   "metadata": {},
   "outputs": [
    {
     "data": {
      "text/plain": [
       "<Order total:42.00 due:39.90>"
      ]
     },
     "execution_count": 33,
     "metadata": {},
     "output_type": "execute_result"
    }
   ],
   "source": [
    "Order(ann, cart, best_promo) "
   ]
  },
  {
   "cell_type": "markdown",
   "id": "67112910",
   "metadata": {},
   "source": [
    "找出模块中的全部策略\n",
    "globals():\n",
    "    返回一个字典,表示当前的全局符号表\n",
    "    这个符号表始终针对当前模块(对函数或方法来说,是指定义他们的模块,而不是调用它们的模块)\n",
    "    \n",
    " 使用globals函数帮助best_promo 自动找到其他可用的*_promo函数"
   ]
  },
  {
   "cell_type": "code",
   "execution_count": 34,
   "id": "ec94f946",
   "metadata": {},
   "outputs": [],
   "source": [
    "'''内省模块的全局命名空间,构建promos列表'''\n",
    "promos = [globals()[name] for name in globals()\n",
    "            if name.endswith('_promo')\n",
    "             and name != 'best_promo']\n",
    "\n",
    "def best_promo(order):\n",
    "        '''选择可用的最佳折扣'''\n",
    "        return max(promo(order) for promo in promos)"
   ]
  },
  {
   "cell_type": "markdown",
   "id": "14cac6e7",
   "metadata": {},
   "source": [
    "上述的例子,迭代globals() 返回字典中的各个name\n",
    "只选择以 _ promo 结尾的名称\n",
    "过滤掉best_promo 自身 防止无限递归\n",
    "best_promo内部的代码没有变化\n",
    "\n",
    "另外一种方法是,在一个单独的模块中国保存所有策略函数,将best_promo排除在外\n",
    "\n",
    "如下,使用了内省名为promotions的独立模块,构建策略函数列表\n",
    "导入promotions模块,以及提供高阶内省函数的inspect模块"
   ]
  },
  {
   "cell_type": "markdown",
   "id": "f6989192",
   "metadata": {},
   "source": [
    "import promotions\n",
    "import inspect\n",
    "promos = [func for name,func in \n",
    "        inspect.getmembers(promotions,inspect.isfunction)]\n",
    "\n",
    "def best_promo(order):\n",
    "    return max(promo(order) for promo in promos)"
   ]
  },
  {
   "cell_type": "markdown",
   "id": "a0155ca6",
   "metadata": {},
   "source": [
    "inspect.getmembers 函数用于获取对象的属性 (这里是promotions模块\n",
    "第二个参数是可选的判断条件 一个bool值函数\n",
    "使用的是inspect.isfunction 只获取模块中的函数"
   ]
  },
  {
   "cell_type": "markdown",
   "id": "a57cfa08",
   "metadata": {},
   "source": [
    "命令模式\n",
    "命令模式的目的是: 解耦调用操作的对象 和 提供实现的对象\n",
    "比如: 调用者是图形应用程序的菜单项,接收者是被编辑的文档或应用程序自身\n",
    "\n",
    "这个模式的做法是:在二者之间放一个Command对象,让它实现只有一个方法(execute)的接口\n",
    "调用接收者中的方法执行所需的操作\n",
    "这样,调用者无需了解接收者的接口,而且不同的接收者可以适应不同的Command子类\n",
    "调用者有一个具体的命令,通过调用execute方法执行\n",
    "\n",
    "如下的实例:\n",
    "    MacroCommand实现了__call__方法,这样直接调用command()即可"
   ]
  },
  {
   "cell_type": "code",
   "execution_count": null,
   "id": "18463e5a",
   "metadata": {},
   "outputs": [],
   "source": [
    "class MacroCommand:\n",
    "    '''一个执行一组命令的命令'''\n",
    "    \n",
    "    def __init__(self,commands):\n",
    "        '''使用commands参数构建一个列表,这样确保参数是可迭代对象,还能再各个MacroCommand实例\n",
    "        中保存各个命令引用的副本'''\n",
    "        self.commands = list(commands)\n",
    "        \n",
    "    def __call__(self):\n",
    "        '''调用MacroCommand实例时,self.commands中的各个命令依序执行'''\n",
    "        for command in self.commands:\n",
    "            command()"
   ]
  },
  {
   "cell_type": "markdown",
   "id": "43740807",
   "metadata": {},
   "source": [
    "复杂的命令模式 : 如支持撤销操作 可能需要更多 而不仅仅是简单的回调函数\n",
    "可以考虑使用Python提供的几个替代品:\n",
    "    使用__call__\n",
    "    使用闭包在调用之间保存函数的内部状态\n",
    "\n",
    "命令模式和策略模式 采用的方式类似: 将实现单方法接口的类 的实例替换成可调用对象\n",
    "毕竟 每个Python可调用对象都实现了单方法接口 __call__\n",
    "    "
   ]
  },
  {
   "cell_type": "markdown",
   "id": "715fca61",
   "metadata": {},
   "source": [
    "函数装饰器和闭包\n",
    "函数装饰器用于在源码中\"标记\"函数,以某种方式增强函数的行为\n",
    "首先需要理解闭包\n",
    "\n",
    "nonlocal是新出现的保留关键字 与闭包相关\n",
    "闭包还是回调式异步编程和函数式编程风格的基础\n"
   ]
  },
  {
   "cell_type": "markdown",
   "id": "b859ba7a",
   "metadata": {},
   "source": [
    "装饰器基础知识\n",
    "装饰器是可调用的对象,它的参数是另一个函数(即 被装饰的函数)\n",
    "装饰器可能会处理被装饰的函数,然后将它返回,或者将其替换成另一个函数或可调用对象"
   ]
  },
  {
   "cell_type": "code",
   "execution_count": 37,
   "id": "de52ead3",
   "metadata": {},
   "outputs": [
    {
     "ename": "NameError",
     "evalue": "name 'decorate' is not defined",
     "output_type": "error",
     "traceback": [
      "\u001b[1;31m---------------------------------------------------------------------------\u001b[0m",
      "\u001b[1;31mNameError\u001b[0m                                 Traceback (most recent call last)",
      "\u001b[1;32m~\\AppData\\Local\\Temp/ipykernel_14292/1506290699.py\u001b[0m in \u001b[0;36m<module>\u001b[1;34m\u001b[0m\n\u001b[0;32m      1\u001b[0m \u001b[1;34m'''一个名为decorate的装饰器'''\u001b[0m\u001b[1;33m\u001b[0m\u001b[1;33m\u001b[0m\u001b[0m\n\u001b[1;32m----> 2\u001b[1;33m \u001b[1;33m@\u001b[0m\u001b[0mdecorate\u001b[0m\u001b[1;33m\u001b[0m\u001b[1;33m\u001b[0m\u001b[0m\n\u001b[0m\u001b[0;32m      3\u001b[0m \u001b[1;32mdef\u001b[0m \u001b[0mtarget\u001b[0m\u001b[1;33m(\u001b[0m\u001b[1;33m)\u001b[0m\u001b[1;33m:\u001b[0m\u001b[1;33m\u001b[0m\u001b[1;33m\u001b[0m\u001b[0m\n\u001b[0;32m      4\u001b[0m     \u001b[0mprint\u001b[0m\u001b[1;33m(\u001b[0m\u001b[1;34m\"running target\"\u001b[0m\u001b[1;33m)\u001b[0m\u001b[1;33m\u001b[0m\u001b[1;33m\u001b[0m\u001b[0m\n\u001b[0;32m      5\u001b[0m \u001b[1;33m\u001b[0m\u001b[0m\n",
      "\u001b[1;31mNameError\u001b[0m: name 'decorate' is not defined"
     ]
    }
   ],
   "source": [
    "'''一个名为decorate的装饰器'''\n",
    "@decorate\n",
    "def target():\n",
    "    print(\"running target\")\n",
    "\n",
    "'''上述写法与下面的写法一致'''\n",
    "def target():\n",
    "    print('running target')\n",
    "target = decorate(target)"
   ]
  },
  {
   "cell_type": "code",
   "execution_count": 38,
   "id": "c4a0ca31",
   "metadata": {},
   "outputs": [
    {
     "name": "stdout",
     "output_type": "stream",
     "text": [
      "running inner()\n"
     ]
    }
   ],
   "source": [
    "'''装饰器通常把函数替换成另一个函数'''\n",
    "def deco(func):\n",
    "    def  inner():\n",
    "        print('running inner()')\n",
    "    return inner\n",
    "\n",
    "@deco\n",
    "def target():\n",
    "    print('running target()')\n",
    "    \n",
    "target()"
   ]
  },
  {
   "cell_type": "code",
   "execution_count": 39,
   "id": "4729ab61",
   "metadata": {},
   "outputs": [
    {
     "data": {
      "text/plain": [
       "<function __main__.deco.<locals>.inner()>"
      ]
     },
     "execution_count": 39,
     "metadata": {},
     "output_type": "execute_result"
    }
   ],
   "source": [
    "target"
   ]
  },
  {
   "cell_type": "markdown",
   "id": "37d0240e",
   "metadata": {},
   "source": [
    "deco返回inner函数对象\n",
    "使用deco装饰target\n",
    "调用被装饰的target 其实会运行inner\n",
    "审查对象 发现target现在是inner的引用"
   ]
  },
  {
   "cell_type": "markdown",
   "id": "fbdb5819",
   "metadata": {},
   "source": [
    "严格来说,装饰器只是语法糖\n",
    "装饰器可以像常规的可调用对象那样调用  参数是另一个函数 \n",
    "----在做元编程(运行时改变程序的行为)时更方便\n",
    "\n",
    "装饰器的一大特性是,能把被装饰的函数替换成其他函数\n",
    "第二个特性是,装饰器在加载模块时立即执行"
   ]
  },
  {
   "cell_type": "markdown",
   "id": "30e0c3ce",
   "metadata": {},
   "source": [
    "Python何时执行装饰器\n",
    "装饰器的一个关键特性是:在被装饰的函数定义之后立即运行\n",
    "这通常是在导入时(即Python加载模块时)"
   ]
  },
  {
   "cell_type": "code",
   "execution_count": 40,
   "id": "e48b2abf",
   "metadata": {},
   "outputs": [
    {
     "name": "stdout",
     "output_type": "stream",
     "text": [
      "running register(<function f1 at 0x0000020737681790>)\n",
      "running register(<function f2 at 0x0000020737681430>)\n",
      "running main()\n",
      "registry -> [<function f1 at 0x0000020737681790>, <function f2 at 0x0000020737681430>]\n",
      "running f1()\n",
      "running f2()\n",
      "running f3()\n"
     ]
    }
   ],
   "source": [
    "'''registration模块'''\n",
    "\n",
    "registry = []\n",
    "\n",
    "def register(func):\n",
    "    print('running register(%s)' % func)\n",
    "    registry.append(func)\n",
    "    return func\n",
    "\n",
    "@register\n",
    "def f1():\n",
    "    print('running f1()')\n",
    "    \n",
    "@register\n",
    "def f2():\n",
    "    print('running f2()')\n",
    "    \n",
    "def f3():\n",
    "    print('running f3()')\n",
    "    \n",
    "def main():\n",
    "    print('running main()')\n",
    "    print('registry ->',registry)\n",
    "    f1()\n",
    "    f2()\n",
    "    f3()\n",
    "    \n",
    "if __name__=='__main__':\n",
    "    main()"
   ]
  },
  {
   "cell_type": "markdown",
   "id": "9f8614e4",
   "metadata": {},
   "source": [
    "register在模块中其他函数之前运行(两次\n",
    "调用register时,传给它的参数时被装饰的函数 <function f1 at 0x0000020737681790>"
   ]
  },
  {
   "cell_type": "code",
   "execution_count": 43,
   "id": "36fcc20a",
   "metadata": {},
   "outputs": [
    {
     "data": {
      "text/plain": [
       "'导入registration模块 不作为脚本运行'"
      ]
     },
     "execution_count": 43,
     "metadata": {},
     "output_type": "execute_result"
    }
   ],
   "source": [
    "'''导入registration模块 不作为脚本运行'''\n",
    "import registration"
   ]
  },
  {
   "cell_type": "markdown",
   "id": "969eb5b3",
   "metadata": {},
   "source": [
    "函数装饰器在导入模块时立即执行,而被装饰的函数只有在明确调用时运行\n",
    "\n",
    "+ 装饰器函数与被装饰的函数在同一个模块中定义,实际情况是,装饰器通常在一个模块中定义\n",
    " 然后应用到其他模块红的函数上\n",
    "+ register装饰器返回的函数与通过参数传入的相同\n",
    " 实际上,大多数装饰器会在内部定义一个函数,然后将其返回"
   ]
  },
  {
   "cell_type": "markdown",
   "id": "f8ed41d0",
   "metadata": {},
   "source": [
    "使用装饰器改进策略模式\n",
    "上面的策略模式中,使用了best_promo来判断哪个折扣幅度最大的 promos列表中也有函数名称\n",
    "但是新增策略后很可能会忘记将它添加到promos列表中,导致best_promo忽略新策略 并且不报错\n",
    "\n",
    "为了解决这个问题,使用注册装饰器"
   ]
  },
  {
   "cell_type": "code",
   "execution_count": 44,
   "id": "316f6986",
   "metadata": {},
   "outputs": [],
   "source": [
    "'''promos列表中的值使用promotion装饰器填充'''\n",
    "promos = []\n",
    "\n",
    "def promotion(promo_func):\n",
    "    promos.append(promo_func)\n",
    "    return promo_func\n",
    "\n",
    "@promotion\n",
    "def fidelity(order):\n",
    "    return order.total() * 0.05 if order.customer.fidelity >= 1000 else 0\n",
    "\n",
    "@promotion\n",
    "def bulk_item(order):\n",
    "    discount = 0\n",
    "    for item in order.cart:\n",
    "        if item.quantity > 20:\n",
    "            discount += order.total() *0.1\n",
    "    return discount\n",
    "\n",
    "@promotion\n",
    "def large_order(order):\n",
    "    distinct_items = {item.product for item in order.cart}\n",
    "    if len(distinct_items) >=10:\n",
    "        return order.total() * 0.07\n",
    "    return 0\n",
    "\n",
    "def best_promo(order):\n",
    "    return max(promo(order) for promo in promos)"
   ]
  },
  {
   "cell_type": "markdown",
   "id": "6a2bdd59",
   "metadata": {},
   "source": [
    "使用装饰器promotion的优点:\n",
    "    促销策略不用使用特殊名称  _ promo结尾\n",
    "    @promotion装饰器突出了被装饰的函数的作用,还便于临时禁用某一个促销策略,只需要将装饰器注释掉就可以\n",
    "    促销折扣策略还可以在其他模块中定义,在系统中的任何地方都行,只需要使用@promotion装饰即可\n",
    "    \n",
    " \n",
    " but 多数装饰器会修改被装饰的函数\n",
    " 通常,它们会定义一个内部函数,然后将其返回,替换被装饰的函数\n",
    " 使用内部函数的代码几乎都要靠闭包才能正确运作\n",
    " 理解闭包之前,先了解Python中的变量作用域"
   ]
  },
  {
   "cell_type": "markdown",
   "id": "6b4e8ae2",
   "metadata": {},
   "source": [
    "变量作用域规则\n",
    "\n",
    "实例:\n",
    "    一个函数 用于读取两个变量的值: 一个时局部变量a,是函数的参数,一个是变量b,这个函数没有定义它\n",
    "    "
   ]
  },
  {
   "cell_type": "code",
   "execution_count": 45,
   "id": "23060f4e",
   "metadata": {},
   "outputs": [
    {
     "name": "stdout",
     "output_type": "stream",
     "text": [
      "3\n"
     ]
    },
    {
     "ename": "NameError",
     "evalue": "name 'b' is not defined",
     "output_type": "error",
     "traceback": [
      "\u001b[1;31m---------------------------------------------------------------------------\u001b[0m",
      "\u001b[1;31mNameError\u001b[0m                                 Traceback (most recent call last)",
      "\u001b[1;32m~\\AppData\\Local\\Temp/ipykernel_14292/2487946175.py\u001b[0m in \u001b[0;36m<module>\u001b[1;34m\u001b[0m\n\u001b[0;32m      3\u001b[0m     \u001b[0mprint\u001b[0m\u001b[1;33m(\u001b[0m\u001b[0ma\u001b[0m\u001b[1;33m)\u001b[0m\u001b[1;33m\u001b[0m\u001b[1;33m\u001b[0m\u001b[0m\n\u001b[0;32m      4\u001b[0m     \u001b[0mprint\u001b[0m\u001b[1;33m(\u001b[0m\u001b[0mb\u001b[0m\u001b[1;33m)\u001b[0m\u001b[1;33m\u001b[0m\u001b[1;33m\u001b[0m\u001b[0m\n\u001b[1;32m----> 5\u001b[1;33m \u001b[0mf1\u001b[0m\u001b[1;33m(\u001b[0m\u001b[1;36m3\u001b[0m\u001b[1;33m)\u001b[0m\u001b[1;33m\u001b[0m\u001b[1;33m\u001b[0m\u001b[0m\n\u001b[0m",
      "\u001b[1;32m~\\AppData\\Local\\Temp/ipykernel_14292/2487946175.py\u001b[0m in \u001b[0;36mf1\u001b[1;34m(a)\u001b[0m\n\u001b[0;32m      2\u001b[0m \u001b[1;32mdef\u001b[0m \u001b[0mf1\u001b[0m\u001b[1;33m(\u001b[0m\u001b[0ma\u001b[0m\u001b[1;33m)\u001b[0m\u001b[1;33m:\u001b[0m\u001b[1;33m\u001b[0m\u001b[1;33m\u001b[0m\u001b[0m\n\u001b[0;32m      3\u001b[0m     \u001b[0mprint\u001b[0m\u001b[1;33m(\u001b[0m\u001b[0ma\u001b[0m\u001b[1;33m)\u001b[0m\u001b[1;33m\u001b[0m\u001b[1;33m\u001b[0m\u001b[0m\n\u001b[1;32m----> 4\u001b[1;33m     \u001b[0mprint\u001b[0m\u001b[1;33m(\u001b[0m\u001b[0mb\u001b[0m\u001b[1;33m)\u001b[0m\u001b[1;33m\u001b[0m\u001b[1;33m\u001b[0m\u001b[0m\n\u001b[0m\u001b[0;32m      5\u001b[0m \u001b[0mf1\u001b[0m\u001b[1;33m(\u001b[0m\u001b[1;36m3\u001b[0m\u001b[1;33m)\u001b[0m\u001b[1;33m\u001b[0m\u001b[1;33m\u001b[0m\u001b[0m\n",
      "\u001b[1;31mNameError\u001b[0m: name 'b' is not defined"
     ]
    }
   ],
   "source": [
    "'''读取局部变量和全局变量'''\n",
    "def f1(a):\n",
    "    print(a)\n",
    "    print(b)\n",
    "f1(3)"
   ]
  },
  {
   "cell_type": "code",
   "execution_count": 47,
   "id": "cb84c551",
   "metadata": {},
   "outputs": [
    {
     "name": "stdout",
     "output_type": "stream",
     "text": [
      "3\n",
      "6\n"
     ]
    }
   ],
   "source": [
    "b=6\n",
    "f1(3)\n",
    "'''先给全局变量b赋值 再调用f1就不会出错'''"
   ]
  },
  {
   "cell_type": "code",
   "execution_count": 48,
   "id": "cf41a688",
   "metadata": {},
   "outputs": [
    {
     "name": "stdout",
     "output_type": "stream",
     "text": [
      "3\n"
     ]
    },
    {
     "ename": "UnboundLocalError",
     "evalue": "local variable 'b' referenced before assignment",
     "output_type": "error",
     "traceback": [
      "\u001b[1;31m---------------------------------------------------------------------------\u001b[0m",
      "\u001b[1;31mUnboundLocalError\u001b[0m                         Traceback (most recent call last)",
      "\u001b[1;32m~\\AppData\\Local\\Temp/ipykernel_14292/3275048982.py\u001b[0m in \u001b[0;36m<module>\u001b[1;34m\u001b[0m\n\u001b[0;32m      5\u001b[0m     \u001b[0mb\u001b[0m\u001b[1;33m=\u001b[0m\u001b[1;36m9\u001b[0m\u001b[1;33m\u001b[0m\u001b[1;33m\u001b[0m\u001b[0m\n\u001b[0;32m      6\u001b[0m \u001b[1;33m\u001b[0m\u001b[0m\n\u001b[1;32m----> 7\u001b[1;33m \u001b[0mf2\u001b[0m\u001b[1;33m(\u001b[0m\u001b[1;36m3\u001b[0m\u001b[1;33m)\u001b[0m\u001b[1;33m\u001b[0m\u001b[1;33m\u001b[0m\u001b[0m\n\u001b[0m",
      "\u001b[1;32m~\\AppData\\Local\\Temp/ipykernel_14292/3275048982.py\u001b[0m in \u001b[0;36mf2\u001b[1;34m(a)\u001b[0m\n\u001b[0;32m      2\u001b[0m \u001b[1;32mdef\u001b[0m \u001b[0mf2\u001b[0m\u001b[1;33m(\u001b[0m\u001b[0ma\u001b[0m\u001b[1;33m)\u001b[0m\u001b[1;33m:\u001b[0m\u001b[1;33m\u001b[0m\u001b[1;33m\u001b[0m\u001b[0m\n\u001b[0;32m      3\u001b[0m     \u001b[0mprint\u001b[0m\u001b[1;33m(\u001b[0m\u001b[0ma\u001b[0m\u001b[1;33m)\u001b[0m\u001b[1;33m\u001b[0m\u001b[1;33m\u001b[0m\u001b[0m\n\u001b[1;32m----> 4\u001b[1;33m     \u001b[0mprint\u001b[0m\u001b[1;33m(\u001b[0m\u001b[0mb\u001b[0m\u001b[1;33m)\u001b[0m\u001b[1;33m\u001b[0m\u001b[1;33m\u001b[0m\u001b[0m\n\u001b[0m\u001b[0;32m      5\u001b[0m     \u001b[0mb\u001b[0m\u001b[1;33m=\u001b[0m\u001b[1;36m9\u001b[0m\u001b[1;33m\u001b[0m\u001b[1;33m\u001b[0m\u001b[0m\n\u001b[0;32m      6\u001b[0m \u001b[1;33m\u001b[0m\u001b[0m\n",
      "\u001b[1;31mUnboundLocalError\u001b[0m: local variable 'b' referenced before assignment"
     ]
    }
   ],
   "source": [
    "b=6\n",
    "def f2(a):\n",
    "    print(a)\n",
    "    print(b)\n",
    "    b=9\n",
    "\n",
    "f2(3)"
   ]
  },
  {
   "cell_type": "markdown",
   "id": "9dcf8b45",
   "metadata": {},
   "source": [
    "Python编译函数的定义体时,它判断b是局部变量,因为在函数中给它赋值了\n",
    "Python会尝试从本地环境获取b\n",
    "后面调用f2(3)时,f2的定义体会获取并打印局部变量a的值\n",
    "但是尝试获取局部变量b的值时,发现b没有绑定值\n",
    "\n",
    "这种设计选择:\n",
    "    Python不要求声明变量,但是假定在函数定义体中赋值的变量时局部变量\n",
    "    但是如果忘记将变量声明为局部变量,可能会在不知情的情况下获取全局变量\n",
    "    \n",
    "在函数中赋值时想让解释器把b当成全局变量,需要使用global声明\n"
   ]
  },
  {
   "cell_type": "code",
   "execution_count": 49,
   "id": "29edd5cd",
   "metadata": {},
   "outputs": [
    {
     "name": "stdout",
     "output_type": "stream",
     "text": [
      "3\n",
      "6\n"
     ]
    }
   ],
   "source": [
    "b=6\n",
    "def f3(a):\n",
    "    global b\n",
    "    print(a)\n",
    "    print(b)\n",
    "    b=9\n",
    "f3(3)"
   ]
  },
  {
   "cell_type": "code",
   "execution_count": 50,
   "id": "28ed7dd7",
   "metadata": {},
   "outputs": [
    {
     "data": {
      "text/plain": [
       "9"
      ]
     },
     "execution_count": 50,
     "metadata": {},
     "output_type": "execute_result"
    }
   ],
   "source": [
    "b"
   ]
  },
  {
   "cell_type": "code",
   "execution_count": 51,
   "id": "632d905f",
   "metadata": {},
   "outputs": [
    {
     "name": "stdout",
     "output_type": "stream",
     "text": [
      "3\n",
      "9\n"
     ]
    }
   ],
   "source": [
    "f3(3)"
   ]
  },
  {
   "cell_type": "code",
   "execution_count": 52,
   "id": "6dbee045",
   "metadata": {},
   "outputs": [
    {
     "data": {
      "text/plain": [
       "30"
      ]
     },
     "execution_count": 52,
     "metadata": {},
     "output_type": "execute_result"
    }
   ],
   "source": [
    "b=30\n",
    "b"
   ]
  },
  {
   "cell_type": "code",
   "execution_count": 53,
   "id": "d84f3cfc",
   "metadata": {},
   "outputs": [
    {
     "name": "stdout",
     "output_type": "stream",
     "text": [
      "  3           0 LOAD_GLOBAL              0 (print)\n",
      "              2 LOAD_FAST                0 (a)\n",
      "              4 CALL_FUNCTION            1\n",
      "              6 POP_TOP\n",
      "\n",
      "  4           8 LOAD_GLOBAL              0 (print)\n",
      "             10 LOAD_GLOBAL              1 (b)\n",
      "             12 CALL_FUNCTION            1\n",
      "             14 POP_TOP\n",
      "             16 LOAD_CONST               0 (None)\n",
      "             18 RETURN_VALUE\n"
     ]
    }
   ],
   "source": [
    "from dis import dis\n",
    "dis(f1)"
   ]
  },
  {
   "cell_type": "code",
   "execution_count": 54,
   "id": "ef078f76",
   "metadata": {},
   "outputs": [
    {
     "name": "stdout",
     "output_type": "stream",
     "text": [
      "  3           0 LOAD_GLOBAL              0 (print)\n",
      "              2 LOAD_FAST                0 (a)\n",
      "              4 CALL_FUNCTION            1\n",
      "              6 POP_TOP\n",
      "\n",
      "  4           8 LOAD_GLOBAL              0 (print)\n",
      "             10 LOAD_FAST                1 (b)\n",
      "             12 CALL_FUNCTION            1\n",
      "             14 POP_TOP\n",
      "\n",
      "  5          16 LOAD_CONST               1 (9)\n",
      "             18 STORE_FAST               1 (b)\n",
      "             20 LOAD_CONST               0 (None)\n",
      "             22 RETURN_VALUE\n"
     ]
    }
   ],
   "source": [
    "dis(f2)"
   ]
  },
  {
   "cell_type": "markdown",
   "id": "9c0692d9",
   "metadata": {},
   "source": [
    "可以看到 f2 编译器将b视作局部变量 即使是后面再为b赋值的,因为变量的种类不能改变函数的定义体"
   ]
  },
  {
   "cell_type": "markdown",
   "id": "717c03ff",
   "metadata": {},
   "source": [
    "闭包\n",
    "闭包指延申了作用域的函数\n",
    "其中包含函数定义体中引用,但是它不在定义体中定义的非全局变量\n",
    "\n",
    "有个名为avg的函数,作用是计算不断增加的系列值的均值\n",
    "例如: 整个历史中某个商品的平均收盘价,每天都会增加新价格,\n",
    "因此平均值需要考虑到目前的所有价格\n",
    "avg的使用:\n",
    "    avg(10)\n",
    "    avg(11)\n",
    "Q:avg从哪里保存的历史值\n",
    "\n",
    "一般的使用类实现 计算移动平均值"
   ]
  },
  {
   "cell_type": "code",
   "execution_count": 55,
   "id": "2ddcdeb4",
   "metadata": {},
   "outputs": [],
   "source": [
    "class Average():\n",
    "    \n",
    "    def __init__(self):\n",
    "        self.series = []\n",
    "    \n",
    "    def __call__(self,new_value):\n",
    "        self.series.append(new_value)\n",
    "        total = sum(self.series)\n",
    "        return total/len(self.series)"
   ]
  },
  {
   "cell_type": "code",
   "execution_count": 57,
   "id": "fdd8d241",
   "metadata": {},
   "outputs": [
    {
     "data": {
      "text/plain": [
       "10.0"
      ]
     },
     "execution_count": 57,
     "metadata": {},
     "output_type": "execute_result"
    }
   ],
   "source": [
    "avg = Average()\n",
    "avg(10)"
   ]
  },
  {
   "cell_type": "code",
   "execution_count": 58,
   "id": "82799b17",
   "metadata": {},
   "outputs": [
    {
     "data": {
      "text/plain": [
       "10.5"
      ]
     },
     "execution_count": 58,
     "metadata": {},
     "output_type": "execute_result"
    }
   ],
   "source": [
    "avg(11)"
   ]
  },
  {
   "cell_type": "markdown",
   "id": "e6e1dcd0",
   "metadata": {},
   "source": [
    "也有使用函数实现,使用高阶函数 make_average\n",
    "调用make_average时,返回一个average函数对象,每次调用average时\n",
    "会把参数添加到系列值中 计算当前平均值"
   ]
  },
  {
   "cell_type": "code",
   "execution_count": 61,
   "id": "95dbffc2",
   "metadata": {},
   "outputs": [],
   "source": [
    "def make_average():\n",
    "    series = []\n",
    "    \n",
    "    def average(new_value):\n",
    "        series.append(new_value)\n",
    "        total = sum(series)\n",
    "        return total/len(series)\n",
    "    \n",
    "    return average"
   ]
  },
  {
   "cell_type": "code",
   "execution_count": 62,
   "id": "a98de685",
   "metadata": {},
   "outputs": [
    {
     "data": {
      "text/plain": [
       "10.0"
      ]
     },
     "execution_count": 62,
     "metadata": {},
     "output_type": "execute_result"
    }
   ],
   "source": [
    "avg = make_average()\n",
    "avg(10)"
   ]
  },
  {
   "cell_type": "code",
   "execution_count": 63,
   "id": "851eb4fd",
   "metadata": {},
   "outputs": [
    {
     "data": {
      "text/plain": [
       "10.5"
      ]
     },
     "execution_count": 63,
     "metadata": {},
     "output_type": "execute_result"
    }
   ],
   "source": [
    "avg(11)"
   ]
  },
  {
   "cell_type": "markdown",
   "id": "de90d816",
   "metadata": {},
   "source": [
    "上面两个示例的共通之处是:调用Average()或 make_average()得到一个可调用对象avg\n",
    "它会更新历史值,然后计算当前均值, 只需要调用avg(n),将n放入系列值中,然后重新计算均值\n",
    "\n",
    "Average类的实例将历史值存储在 self.series实例属性中\n",
    "make_series函数中series是局部变量,作用于本地作用域\n",
    "当调用avg()时， make_average函数以及返回，本地作用域也被回收\n",
    "\n",
    "在average函数中，series是自由变量，指在本地作用域中绑定的变量\n",
    "\n",
    "在例子2中，make_average()函数体是一个闭包，average()中series是一个自由变量\n",
    "average的闭包延伸到函数的作用域之外，包含自由变量series的绑定"
   ]
  },
  {
   "cell_type": "code",
   "execution_count": 64,
   "id": "37de25ac",
   "metadata": {},
   "outputs": [
    {
     "data": {
      "text/plain": [
       "('new_value', 'total')"
      ]
     },
     "execution_count": 64,
     "metadata": {},
     "output_type": "execute_result"
    }
   ],
   "source": [
    "avg.__code__.co_varnames"
   ]
  },
  {
   "cell_type": "code",
   "execution_count": 65,
   "id": "cd4d8af7",
   "metadata": {},
   "outputs": [
    {
     "data": {
      "text/plain": [
       "('series',)"
      ]
     },
     "execution_count": 65,
     "metadata": {},
     "output_type": "execute_result"
    }
   ],
   "source": [
    "avg.__code__.co_freevars"
   ]
  },
  {
   "cell_type": "markdown",
   "id": "57935d36",
   "metadata": {},
   "source": [
    "审查返回的average对象，发现Python在__code__属性中保存局部变量和自由变量的名称\n",
    "series的绑定在返回的avg函数的__closure__属性中\n",
    "avg.__closure__中的各个元素对应avg.__code__.co_freevars中的一个名称\n",
    "这些元素是cell对象，有个cell_contents属性，保存着真正的值"
   ]
  },
  {
   "cell_type": "code",
   "execution_count": 66,
   "id": "8d95f843",
   "metadata": {},
   "outputs": [
    {
     "data": {
      "text/plain": [
       "(<cell at 0x000002073762E3D0: list object at 0x000002073756DE00>,)"
      ]
     },
     "execution_count": 66,
     "metadata": {},
     "output_type": "execute_result"
    }
   ],
   "source": [
    "avg.__closure__"
   ]
  },
  {
   "cell_type": "code",
   "execution_count": 67,
   "id": "ab83637f",
   "metadata": {},
   "outputs": [
    {
     "data": {
      "text/plain": [
       "[10, 11]"
      ]
     },
     "execution_count": 67,
     "metadata": {},
     "output_type": "execute_result"
    }
   ],
   "source": [
    "avg.__closure__[0].cell_contents"
   ]
  },
  {
   "cell_type": "markdown",
   "id": "fd3ab0f2",
   "metadata": {},
   "source": [
    "综上，闭包是一种函数，会保留定义函数时存在的自由变量的绑定\n",
    "这样调用函数时，虽然定义作用域不可用了，但是仍然使用那些绑定\n",
    "\n",
    "ps：只有嵌套在其他函数中的函数才可能需要处理不在全局作用域中的外部变量"
   ]
  },
  {
   "cell_type": "markdown",
   "id": "5f2e7eef",
   "metadata": {},
   "source": [
    "nonlocal声明\n",
    "上面的更好的实现方式是： 只存储目前的总值和元素个数，然后使用这两个数计算均值"
   ]
  },
  {
   "cell_type": "code",
   "execution_count": 69,
   "id": "7cd40d63",
   "metadata": {},
   "outputs": [],
   "source": [
    "def make_averager():\n",
    "    count = 0\n",
    "    total = 0\n",
    "    \n",
    "    def average(new_value):\n",
    "        count +=1\n",
    "        total += new_value\n",
    "        return total / count\n",
    "\n",
    "    return average"
   ]
  },
  {
   "cell_type": "code",
   "execution_count": 70,
   "id": "62d02355",
   "metadata": {},
   "outputs": [
    {
     "ename": "UnboundLocalError",
     "evalue": "local variable 'count' referenced before assignment",
     "output_type": "error",
     "traceback": [
      "\u001b[1;31m---------------------------------------------------------------------------\u001b[0m",
      "\u001b[1;31mUnboundLocalError\u001b[0m                         Traceback (most recent call last)",
      "\u001b[1;32m~\\AppData\\Local\\Temp/ipykernel_14292/4007330935.py\u001b[0m in \u001b[0;36m<module>\u001b[1;34m\u001b[0m\n\u001b[0;32m      1\u001b[0m \u001b[0mavg\u001b[0m \u001b[1;33m=\u001b[0m \u001b[0mmake_averager\u001b[0m\u001b[1;33m(\u001b[0m\u001b[1;33m)\u001b[0m\u001b[1;33m\u001b[0m\u001b[1;33m\u001b[0m\u001b[0m\n\u001b[1;32m----> 2\u001b[1;33m \u001b[0mavg\u001b[0m\u001b[1;33m(\u001b[0m\u001b[1;36m10\u001b[0m\u001b[1;33m)\u001b[0m\u001b[1;33m\u001b[0m\u001b[1;33m\u001b[0m\u001b[0m\n\u001b[0m",
      "\u001b[1;32m~\\AppData\\Local\\Temp/ipykernel_14292/4104725091.py\u001b[0m in \u001b[0;36maverage\u001b[1;34m(new_value)\u001b[0m\n\u001b[0;32m      4\u001b[0m \u001b[1;33m\u001b[0m\u001b[0m\n\u001b[0;32m      5\u001b[0m     \u001b[1;32mdef\u001b[0m \u001b[0maverage\u001b[0m\u001b[1;33m(\u001b[0m\u001b[0mnew_value\u001b[0m\u001b[1;33m)\u001b[0m\u001b[1;33m:\u001b[0m\u001b[1;33m\u001b[0m\u001b[1;33m\u001b[0m\u001b[0m\n\u001b[1;32m----> 6\u001b[1;33m         \u001b[0mcount\u001b[0m \u001b[1;33m+=\u001b[0m\u001b[1;36m1\u001b[0m\u001b[1;33m\u001b[0m\u001b[1;33m\u001b[0m\u001b[0m\n\u001b[0m\u001b[0;32m      7\u001b[0m         \u001b[0mtotal\u001b[0m \u001b[1;33m+=\u001b[0m \u001b[0mnew_value\u001b[0m\u001b[1;33m\u001b[0m\u001b[1;33m\u001b[0m\u001b[0m\n\u001b[0;32m      8\u001b[0m         \u001b[1;32mreturn\u001b[0m \u001b[0mtotal\u001b[0m \u001b[1;33m/\u001b[0m \u001b[0mcount\u001b[0m\u001b[1;33m\u001b[0m\u001b[1;33m\u001b[0m\u001b[0m\n",
      "\u001b[1;31mUnboundLocalError\u001b[0m: local variable 'count' referenced before assignment"
     ]
    }
   ],
   "source": [
    "avg = make_averager()\n",
    "avg(10)"
   ]
  },
  {
   "cell_type": "markdown",
   "id": "4d6d3c70",
   "metadata": {},
   "source": [
    "local variable 'count' referenced before assignment\n",
    "当count是数字或者任何不可变类型时，count += 1 和 count = count+1一样\n",
    "因此在average的定义体中为count赋值了，会把count变成局部变量，total变量也是\n",
    "\n",
    "上面的series没有这个问题是因为调用的是series.append(new_value),没有给series赋值\n",
    "因为列表是可变对象\n",
    "\n",
    "但是对于数字，字符串，元组等不可变类型来说，只能读取，不能更新\n",
    "如果要尝试重新绑定，例如 count = count +1\n",
    "会隐式创建局部变量count\n",
    "这样count就不是自由变量了，因此不会保存在闭包中"
   ]
  },
  {
   "cell_type": "markdown",
   "id": "ee787ec4",
   "metadata": {},
   "source": [
    "为了解决隐式局部变量的问题，引入了nonlocal声明\n",
    "作用是把变量标记为自由变量\n",
    "即使在函数中为变量赋予了新值，也会变成自由变量\n",
    "\n",
    "如果为nonlocal声明的变量赋予新值，闭包中保存的绑定会更新"
   ]
  },
  {
   "cell_type": "code",
   "execution_count": 74,
   "id": "49139dd1",
   "metadata": {},
   "outputs": [],
   "source": [
    "def make_averagers():\n",
    "    count = 0\n",
    "    total = 0\n",
    "    \n",
    "    def average(new_value):\n",
    "        nonlocal count,total\n",
    "        count +=1\n",
    "        total +=new_value\n",
    "        return total / count\n",
    "    \n",
    "    return average"
   ]
  },
  {
   "cell_type": "code",
   "execution_count": 75,
   "id": "269438d0",
   "metadata": {},
   "outputs": [
    {
     "data": {
      "text/plain": [
       "10.0"
      ]
     },
     "execution_count": 75,
     "metadata": {},
     "output_type": "execute_result"
    }
   ],
   "source": [
    "avg = make_averagers()\n",
    "avg(10)"
   ]
  },
  {
   "cell_type": "code",
   "execution_count": 76,
   "id": "aadc13f3",
   "metadata": {},
   "outputs": [
    {
     "data": {
      "text/plain": [
       "10.5"
      ]
     },
     "execution_count": 76,
     "metadata": {},
     "output_type": "execute_result"
    }
   ],
   "source": [
    "avg(11)"
   ]
  },
  {
   "cell_type": "markdown",
   "id": "44fa5b01",
   "metadata": {},
   "source": [
    "实现一个简单的装饰器\n",
    "在每次调用被装饰的函数时计时，然后把经过的时间、传入的参数和调用的结果打印出来\n",
    "输出函数的运行时间"
   ]
  },
  {
   "cell_type": "code",
   "execution_count": 89,
   "id": "2f28d80d",
   "metadata": {},
   "outputs": [],
   "source": [
    "import time\n",
    "\n",
    "def clock(func):\n",
    "    def clocked(*args):\n",
    "        t0 = time.perf_counter()\n",
    "        result = func(*args)\n",
    "        elapsed = time.perf_counter() - t0\n",
    "        name = func.__name__\n",
    "        arg_str = ','.join(repr(arg) for arg in args)\n",
    "        print('[%0.8fs] %s(%s) -> %r'%(elapsed,name,arg_str,result))\n",
    "        return result\n",
    "    return clocked\n",
    "'''clocked作用： 记录初始时间t0 调用原来的func函数保存结果，计算经过的时间elapsed 格式化打印收集的数据 返回第二步的保存结果result'''\n",
    "\n",
    "\n",
    "@clock\n",
    "def snooze(seconds):\n",
    "    time.sleep(seconds)\n",
    "\n",
    "\n",
    "@clock\n",
    "def factorial(n):\n",
    "    return 1 if n < 2 else n*factorial(n-1)\n"
   ]
  },
  {
   "cell_type": "markdown",
   "id": "ad20c1c0",
   "metadata": {},
   "source": [
    "定义内部函数clocked，它接收任意个定位参数\n",
    "result 接收clocked的比保重包含的自由变量func\n",
    "返回内部函数clocked。取代被装饰的函数\n",
    "\n",
    "使用clock装饰器"
   ]
  },
  {
   "cell_type": "code",
   "execution_count": null,
   "id": "bcec988f",
   "metadata": {},
   "outputs": [],
   "source": []
  },
  {
   "cell_type": "code",
   "execution_count": 90,
   "id": "50336c81",
   "metadata": {},
   "outputs": [
    {
     "name": "stdout",
     "output_type": "stream",
     "text": [
      "**************************************** Calling snooze(.123)\n",
      "[0.12360850s] snooze(0.123) -> None\n",
      "**************************************** Calling factorial(6)\n",
      "[0.00000030s] factorial(1) -> 1\n",
      "[0.00002290s] factorial(2) -> 2\n",
      "[0.00003310s] factorial(3) -> 6\n",
      "[0.00004200s] factorial(4) -> 24\n",
      "[0.00005210s] factorial(5) -> 120\n",
      "[0.00006310s] factorial(6) -> 720\n",
      "6!= 720\n"
     ]
    }
   ],
   "source": [
    "print('*' * 40, 'Calling snooze(.123)')\n",
    "snooze(.123)\n",
    "print('*' * 40,'Calling factorial(6)')\n",
    "print('6!=',factorial(6))"
   ]
  },
  {
   "cell_type": "code",
   "execution_count": null,
   "id": "7c78f8f2",
   "metadata": {},
   "outputs": [],
   "source": [
    "@clock\n",
    "def factorial(n):\n",
    "    return 1 if n < 2 else n*factorial(n-1)\n",
    "# 等价于\n",
    "def factorial(n):\n",
    "    return 1 if n < 2 else n*factorial(n-1)\n",
    "factorial = clock(factorial)"
   ]
  },
  {
   "cell_type": "markdown",
   "id": "45ce0684",
   "metadata": {},
   "source": [
    "factorial会作为func参数传给clock \n",
    "然后 clock函数会返回clocked函数\n",
    "Python解释器在背后会把clocked赋值给factorial\n",
    "\n",
    "查看factorial的__name__属性 factorial保存的是clocked函数的引用\n",
    "自此以后，每次调用factorial(n) 执行的都是 clocked(n)"
   ]
  },
  {
   "cell_type": "code",
   "execution_count": 92,
   "id": "0355dec9",
   "metadata": {},
   "outputs": [
    {
     "data": {
      "text/plain": [
       "'clocked'"
      ]
     },
     "execution_count": 92,
     "metadata": {},
     "output_type": "execute_result"
    }
   ],
   "source": [
    "factorial.__name__"
   ]
  },
  {
   "cell_type": "markdown",
   "id": "f16e9765",
   "metadata": {},
   "source": [
    "clocked作用： \n",
    "    记录初始时间t0 \n",
    "    调用原来的func函数保存结果\n",
    "    计算经过的时间elapsed \n",
    "    格式化打印收集的数据 \n",
    "    返回第二步的保存结果result\n",
    "\n",
    "装饰器：\n",
    "    将被装饰的函数替换成新函数\n",
    "    二者接收相同的参数\n",
    "    通常返回被装饰的函数本该返回的值\n",
    "    做些额外操作"
   ]
  },
  {
   "cell_type": "markdown",
   "id": "a94d3709",
   "metadata": {},
   "source": [
    "标准库中的装饰器\n",
    "Python内置了三个用于装饰方法的函数： property classmethod和staticmethod\n",
    "另一种常见的装饰器是functools.wrap：\n",
    "    作用是协助构建行为良好的装饰器\n",
    "    \n",
    "functools.lru_cache： \n",
    "    实现备忘功能\n",
    "    将耗时的函数的结果保存起来，避免传入相同功能的参数时重复计算\n",
    "    \n",
    "示例：生成第n个斐波那契数这种慢速递归"
   ]
  },
  {
   "cell_type": "code",
   "execution_count": 93,
   "id": "62b6d758",
   "metadata": {},
   "outputs": [
    {
     "name": "stdout",
     "output_type": "stream",
     "text": [
      "[0.00000090s] fibonacci(0) -> 0\n",
      "[0.00000050s] fibonacci(1) -> 1\n",
      "[0.00008130s] fibonacci(2) -> 1\n",
      "[0.00000060s] fibonacci(1) -> 1\n",
      "[0.00000040s] fibonacci(0) -> 0\n",
      "[0.00000030s] fibonacci(1) -> 1\n",
      "[0.00002900s] fibonacci(2) -> 1\n",
      "[0.00006520s] fibonacci(3) -> 2\n",
      "[0.00068930s] fibonacci(4) -> 3\n",
      "[0.00000040s] fibonacci(1) -> 1\n",
      "[0.00000030s] fibonacci(0) -> 0\n",
      "[0.00000050s] fibonacci(1) -> 1\n",
      "[0.00044610s] fibonacci(2) -> 1\n",
      "[0.00049100s] fibonacci(3) -> 2\n",
      "[0.00000030s] fibonacci(0) -> 0\n",
      "[0.00000040s] fibonacci(1) -> 1\n",
      "[0.00003230s] fibonacci(2) -> 1\n",
      "[0.00000040s] fibonacci(1) -> 1\n",
      "[0.00000310s] fibonacci(0) -> 0\n",
      "[0.00000040s] fibonacci(1) -> 1\n",
      "[0.00003360s] fibonacci(2) -> 1\n",
      "[0.00006730s] fibonacci(3) -> 2\n",
      "[0.00012850s] fibonacci(4) -> 3\n",
      "[0.00140940s] fibonacci(5) -> 5\n",
      "[0.00215320s] fibonacci(6) -> 8\n",
      "8\n"
     ]
    }
   ],
   "source": [
    "def clock(func):\n",
    "    def clocked(*args):\n",
    "        t0 = time.perf_counter()\n",
    "        result = func(*args)\n",
    "        elapsed = time.perf_counter() - t0\n",
    "        name = func.__name__\n",
    "        arg_str = ','.join(repr(arg) for arg in args)\n",
    "        print('[%0.8fs] %s(%s) -> %r'%(elapsed,name,arg_str,result))\n",
    "        return result\n",
    "    return clocked\n",
    "\n",
    "@clock\n",
    "def fibonacci(n):\n",
    "    if n < 2:\n",
    "        return n\n",
    "    return fibonacci(n-2) + fibonacci(n-1)\n",
    "\n",
    "print(fibonacci(6))"
   ]
  },
  {
   "cell_type": "markdown",
   "id": "6733884c",
   "metadata": {},
   "source": [
    "fibonacci(1)调用了8次\n",
    "fibonacci(2)调用了5次\n",
    "使用lru_cache"
   ]
  },
  {
   "cell_type": "code",
   "execution_count": 95,
   "id": "15943bd6",
   "metadata": {},
   "outputs": [
    {
     "name": "stdout",
     "output_type": "stream",
     "text": [
      "[0.00000030s] fibonacci(0) -> 0\n",
      "[0.00000050s] fibonacci(1) -> 1\n",
      "[0.00006280s] fibonacci(2) -> 1\n",
      "[0.00000080s] fibonacci(3) -> 2\n",
      "[0.00037980s] fibonacci(4) -> 3\n",
      "[0.00000060s] fibonacci(5) -> 5\n",
      "[0.00040890s] fibonacci(6) -> 8\n",
      "[0.00000060s] fibonacci(7) -> 13\n",
      "[0.00042980s] fibonacci(8) -> 21\n",
      "[0.00000060s] fibonacci(9) -> 34\n",
      "[0.00045550s] fibonacci(10) -> 55\n",
      "[0.00000060s] fibonacci(11) -> 89\n",
      "[0.00048310s] fibonacci(12) -> 144\n",
      "[0.00000070s] fibonacci(13) -> 233\n",
      "[0.00050660s] fibonacci(14) -> 377\n",
      "[0.00000060s] fibonacci(15) -> 610\n",
      "[0.00053360s] fibonacci(16) -> 987\n",
      "[0.00000060s] fibonacci(17) -> 1597\n",
      "[0.00055400s] fibonacci(18) -> 2584\n",
      "[0.00000050s] fibonacci(19) -> 4181\n",
      "[0.00058770s] fibonacci(20) -> 6765\n",
      "[0.00000100s] fibonacci(21) -> 10946\n",
      "[0.00085450s] fibonacci(22) -> 17711\n",
      "[0.00000080s] fibonacci(23) -> 28657\n",
      "[0.00090120s] fibonacci(24) -> 46368\n",
      "[0.00000550s] fibonacci(25) -> 75025\n",
      "[0.00095700s] fibonacci(26) -> 121393\n",
      "[0.00000080s] fibonacci(27) -> 196418\n",
      "[0.00098480s] fibonacci(28) -> 317811\n",
      "[0.00000060s] fibonacci(29) -> 514229\n",
      "[0.00101070s] fibonacci(30) -> 832040\n",
      "832040\n"
     ]
    }
   ],
   "source": [
    "import functools\n",
    "\n",
    "def clock(func):\n",
    "    def clocked(*args):\n",
    "        t0 = time.perf_counter()\n",
    "        result = func(*args)\n",
    "        elapsed = time.perf_counter() - t0\n",
    "        name = func.__name__\n",
    "        arg_str = ','.join(repr(arg) for arg in args)\n",
    "        print('[%0.8fs] %s(%s) -> %r'%(elapsed,name,arg_str,result))\n",
    "        return result\n",
    "    return clocked\n",
    "\n",
    "@functools.lru_cache()\n",
    "@clock\n",
    "def fibonacci(n):\n",
    "    if n < 2:\n",
    "        return n\n",
    "    return fibonacci(n-2) + fibonacci(n-1)\n",
    "\n",
    "print(fibonacci(30))"
   ]
  },
  {
   "cell_type": "markdown",
   "id": "8de73ee4",
   "metadata": {},
   "source": [
    "必须像常规函数那样调用lru_cache()\n",
    "@functools.lru_cache()因为lru_cache可以接受配置参数\n",
    "这里叠放了装饰器 @lru_cache() 应用到@clock返回的函数上\n",
    "\n",
    "这样执行时间减少了 而且n的每个值都只调用一次函数\n",
    "\n",
    "\n",
    "--lru_cache()可以用于优化递归算法\n",
    "lru_cache可以用于从Web中获取信息\n",
    "\n",
    "lru_cache()的可选参数\n",
    "functools.lru_cache(maxsize=128,typed=False)\n",
    "maxsize：\n",
    "    指定存储多少个调用的结果\n",
    "    缓存满了之后，旧的结果会被扔掉，腾出空间\n",
    "    maxsize应该设置为2的幂\n",
    "typed：\n",
    "    True 将不同参数类型得到的结果分开保存\n",
    "    即把通常认为相等的浮点数和整数参数 1  1.0区分开\n",
    "    \n",
    "由于lru_cache使用字典存储结果，而且键根据调用时传入的定位参数和关键字参数创建\n",
    "所以被lru_cache装饰的函数，它的所有参数必须是可散列的"
   ]
  },
  {
   "cell_type": "markdown",
   "id": "834d1979",
   "metadata": {},
   "source": [
    "单分派泛函数"
   ]
  },
  {
   "cell_type": "code",
   "execution_count": 98,
   "id": "822b339b",
   "metadata": {},
   "outputs": [],
   "source": [
    "import html\n",
    "'''生成html'''\n",
    "def htmlize(obj):\n",
    "    content = html.escape(repr(obj))\n",
    "    return '<pre>{}</pre>'.format(content)"
   ]
  },
  {
   "cell_type": "markdown",
   "id": "bc189e5b",
   "metadata": {},
   "source": [
    "扩展： 使用特别的方式显示某些类型\n",
    "str:把内部的换行符替换为 '<br>\\n' 把<pre> 替换为<p>\n",
    "int:以十进制和十六进制显示数字\n",
    "list:输出一个HTML列表，根据各个元素的类型进行格式化"
   ]
  },
  {
   "cell_type": "code",
   "execution_count": 99,
   "id": "e37db506",
   "metadata": {},
   "outputs": [
    {
     "data": {
      "text/plain": [
       "'<pre>{1, 2, 3}</pre>'"
      ]
     },
     "execution_count": 99,
     "metadata": {},
     "output_type": "execute_result"
    }
   ],
   "source": [
    "htmlize({1,2,3})"
   ]
  },
  {
   "cell_type": "code",
   "execution_count": 100,
   "id": "a1db5823",
   "metadata": {},
   "outputs": [
    {
     "data": {
      "text/plain": [
       "'<pre>&lt;built-in function abs&gt;</pre>'"
      ]
     },
     "execution_count": 100,
     "metadata": {},
     "output_type": "execute_result"
    }
   ],
   "source": [
    "htmlize(abs)"
   ]
  },
  {
   "cell_type": "code",
   "execution_count": 101,
   "id": "ce9059dd",
   "metadata": {},
   "outputs": [
    {
     "data": {
      "text/plain": [
       "'<pre>&#x27;Heimlich &amp; Co.\\\\n- a game&#x27;</pre>'"
      ]
     },
     "execution_count": 101,
     "metadata": {},
     "output_type": "execute_result"
    }
   ],
   "source": [
    " htmlize('Heimlich & Co.\\n- a game') "
   ]
  },
  {
   "cell_type": "code",
   "execution_count": 102,
   "id": "30578a51",
   "metadata": {},
   "outputs": [
    {
     "data": {
      "text/plain": [
       "'<pre>42</pre>'"
      ]
     },
     "execution_count": 102,
     "metadata": {},
     "output_type": "execute_result"
    }
   ],
   "source": [
    "htmlize(42) "
   ]
  },
  {
   "cell_type": "code",
   "execution_count": 103,
   "id": "98837a94",
   "metadata": {},
   "outputs": [
    {
     "name": "stdout",
     "output_type": "stream",
     "text": [
      "<pre>[&#x27;alpha&#x27;, 66, {1, 2, 3}]</pre>\n"
     ]
    }
   ],
   "source": [
    " print(htmlize(['alpha', 66, {3, 2, 1}]))"
   ]
  },
  {
   "cell_type": "markdown",
   "id": "2e38429e",
   "metadata": {},
   "source": [
    "叠放装饰器\n",
    "@d1\n",
    "@d2\n",
    "def f():\n",
    "    print('f')\n",
    "等价于 d1(d2(f))\n",
    "def f():\n",
    "    print('f)\n",
    "f = d1(d2(f))"
   ]
  },
  {
   "cell_type": "markdown",
   "id": "224f0dd3",
   "metadata": {},
   "source": [
    "参数化装饰器\n",
    "把被装饰的函数作为第一个参数传给装饰器函数\n",
    "创建一个装饰器工厂函数 将参数传给它 返回一个装饰器 再应用到要装饰的函数上"
   ]
  },
  {
   "cell_type": "code",
   "execution_count": 106,
   "id": "cf1d8810",
   "metadata": {},
   "outputs": [
    {
     "name": "stdout",
     "output_type": "stream",
     "text": [
      "running register(<function f1 at 0x0000020737681790>)\n",
      "running main\n",
      "registry -> [<function f1 at 0x0000020737681790>]\n",
      "running f1\n"
     ]
    }
   ],
   "source": [
    "registry = []\n",
    "\n",
    "def register(func):\n",
    "    print('running register(%s)' % func)\n",
    "    registry.append(func)\n",
    "    return func\n",
    "\n",
    "@register\n",
    "def f1():\n",
    "    print(\"running f1\")\n",
    "\n",
    "print('running main')\n",
    "print('registry ->',registry)\n",
    "f1()"
   ]
  },
  {
   "cell_type": "markdown",
   "id": "be90761e",
   "metadata": {},
   "source": [
    "一个参数化的注册装饰器\n",
    "为register启用一个可选的active参数，设置为False时，不注册被装饰的函数\n",
    "这个新的register不是装饰器，而是装饰器工厂函数，调用它会返回真正的装饰器\n",
    "\n",
    "为了接受参数，新的register装饰器必须作为函数调用"
   ]
  },
  {
   "cell_type": "code",
   "execution_count": 110,
   "id": "0608ab05",
   "metadata": {},
   "outputs": [
    {
     "name": "stdout",
     "output_type": "stream",
     "text": [
      "running register(active=False) -> decorate(<function f1 at 0x00000207376FE700>)\n",
      "running register(active=True) -> decorate(<function f2 at 0x00000207376FE430>)\n"
     ]
    },
    {
     "data": {
      "text/plain": [
       "{<function __main__.f2()>}"
      ]
     },
     "execution_count": 110,
     "metadata": {},
     "output_type": "execute_result"
    }
   ],
   "source": [
    "registry = set()\n",
    "def register(active=True):\n",
    "    def decorate(func):\n",
    "        print('running register(active=%s) -> decorate(%s)'%(active,func))\n",
    "        if active:\n",
    "            registry.add(func)\n",
    "        else:\n",
    "            registry.discard(func)\n",
    "        return func\n",
    "    return decorate\n",
    "\n",
    "@register(active=False)\n",
    "def f1():\n",
    "    print(\"running f1()\")\n",
    "    \n",
    "@register()\n",
    "def f2():\n",
    "    print('running f2()')\n",
    "    \n",
    "def f3():\n",
    "    print('running f3()')\n",
    "\n",
    "registry\n",
    "'''只有f2函数在registry中 f1不在其中因为active是False f1的decorate没有把它添加到registry中'''"
   ]
  },
  {
   "cell_type": "markdown",
   "id": "02732332",
   "metadata": {},
   "source": [
    "registry是一个set对象，添加和删除函数速度更快\n",
    "register接受一个可选的关键字参数\n",
    "decorate这个内部函数是真正的装饰器，它的参数是一个函数\n",
    "active为True（从闭包中获取）才注册func\n",
    "active不为真，func在registry中，删除\n",
    "decorate是装饰器 返回一个函数\n",
    "register是装饰工厂函数，返回装饰器decorate\n",
    "@register工厂函数必须作为函数调用，并且传入所需的参数\n",
    "即使不传入参数，register也必须作为函数调用\n",
    "\n",
    "（@register()），即要返回真正的装饰器 decorate\n",
    "\n",
    "装饰 f 函数的句法是 register()(f)\n",
    "不想添加（或把它删除）的话，句法是 register(active=False)(f)。\n"
   ]
  },
  {
   "cell_type": "code",
   "execution_count": 111,
   "id": "6f16f8e0",
   "metadata": {},
   "outputs": [
    {
     "name": "stdout",
     "output_type": "stream",
     "text": [
      "running register(active=True) -> decorate(<function f3 at 0x00000207376FE820>)\n"
     ]
    },
    {
     "data": {
      "text/plain": [
       "<function __main__.f3()>"
      ]
     },
     "execution_count": 111,
     "metadata": {},
     "output_type": "execute_result"
    }
   ],
   "source": [
    "register()(f3)"
   ]
  },
  {
   "cell_type": "code",
   "execution_count": 112,
   "id": "bd7f9c67",
   "metadata": {},
   "outputs": [
    {
     "data": {
      "text/plain": [
       "{<function __main__.f2()>, <function __main__.f3()>}"
      ]
     },
     "execution_count": 112,
     "metadata": {},
     "output_type": "execute_result"
    }
   ],
   "source": [
    "registry"
   ]
  },
  {
   "cell_type": "code",
   "execution_count": 119,
   "id": "bb81ea02",
   "metadata": {},
   "outputs": [
    {
     "name": "stdout",
     "output_type": "stream",
     "text": [
      "[0.13366342s] func_name=snooze (0.123) -> None\n",
      "[0.12765765s] func_name=snooze (0.123) -> None\n",
      "[0.12765741s] func_name=snooze (0.123) -> None\n",
      "snooze2:0.12766313552856445s\n",
      "snooze2:0.12665867805480957s\n",
      "snooze2:0.12605857849121094s\n",
      "snooze3(0.123) dt=0.125s\n",
      "snooze3(0.123) dt=0.125s\n",
      "snooze3(0.123) dt=0.124s\n"
     ]
    }
   ],
   "source": [
    "'''参数化clock装饰器'''\n",
    "import time\n",
    "\n",
    "default_fmt = '[{elapsed:0.8f}s] func_name={name} ({args}) -> {result}'\n",
    "\n",
    "def clock(fmt=default_fmt):\n",
    "    def decorate(func):\n",
    "        def clocked(*_args):\n",
    "            t0 = time.time()\n",
    "            _result = func(*_args)\n",
    "            elapsed = time.time() - t0\n",
    "            name = func.__name__\n",
    "            args = ','.join(repr(arg) for arg in _args)\n",
    "            result = repr(_result)\n",
    "            print(fmt.format(**locals()))\n",
    "            return _result\n",
    "        return clocked\n",
    "    return decorate\n",
    "'''clocked取代被装饰的函数，它应该返回被装饰的函数返回的值，decorate返回clocked clock返回decorate'''\n",
    "\n",
    "'''不传入参数调用clock()'''\n",
    "@clock()\n",
    "def snooze(seconds):\n",
    "    time.sleep(seconds)\n",
    "    \n",
    "for i in range(3):\n",
    "    snooze(.123)\n",
    "    \n",
    "    \n",
    "@clock('{name}:{elapsed}s')\n",
    "def snooze2(seconds):\n",
    "    time.sleep(seconds)\n",
    "for i in range(3):\n",
    "    snooze2(.123)\n",
    "    \n",
    "@clock('{name}({args}) dt={elapsed:0.3f}s')\n",
    "def snooze3(seconds):\n",
    "    time.sleep(seconds)\n",
    "for i in range(3):\n",
    "    snooze3(.123)"
   ]
  },
  {
   "cell_type": "markdown",
   "id": "47447091",
   "metadata": {},
   "source": [
    "clock是参数化装饰器工厂函数\n",
    "decorate是装饰器\n",
    "clocked包装被装饰的函数\n",
    "_ result是被装饰的函数返回的真的结果\n",
    "_ args是clocked的参数(函数的参数)，args是用于显示的字符串\n",
    "result是_ result的字符串表示形式，用于显示\n",
    "**locals() 在fmt中引用clocked的局部变量\n"
   ]
  },
  {
   "cell_type": "markdown",
   "id": "5c3747b4",
   "metadata": {},
   "source": [
    "“装饰器模式”的一般描述：\n",
    "    动态地给一个对象添加一些额外的指责，就扩展功能而言，装饰器模式比子类化更灵活\n",
    "\n",
    "在实现层面，Python装饰器与“装饰器设计”模式不同：\n",
    "    在设计模式中，Decorator和Component是抽象类\n",
    "    为了给具体组件添加行为，具体装饰器的实例要包装组件的实例\n",
    "    装饰器与它所装饰的组件接口一致，因此它对使用该组件的客户透明\n",
    "    它将客户请求转发给该组件，并且可能在转发前后执行一些额外的操作\n",
    "    透明性使得可以递归嵌套多个装饰器，从而可以添加任意多的功能\n",
    "    \n",
    "在Python中，装饰器函数：\n",
    "    相当于Decorator的具体子类，而装饰器返回的内部函数相当于装饰器实例\n",
    "    返回的函数包装了被装饰的函数，这相当于“装饰器”设计模式中的组件"
   ]
  },
  {
   "cell_type": "markdown",
   "id": "ffc3321f",
   "metadata": {},
   "source": [
    "8.对象引用，可变性和垃圾回收\n",
    "\n",
    "变量不是盒子\n",
    "    Python中的变量相当于cpp中的引用\n",
    "    理解为附加在对象上的标注"
   ]
  },
  {
   "cell_type": "code",
   "execution_count": 120,
   "id": "41c3638d",
   "metadata": {},
   "outputs": [
    {
     "data": {
      "text/plain": [
       "[1, 2, 3, 4]"
      ]
     },
     "execution_count": 120,
     "metadata": {},
     "output_type": "execute_result"
    }
   ],
   "source": [
    "a=[1,2,3]\n",
    "b=a\n",
    "a.append(4)\n",
    "b"
   ]
  },
  {
   "cell_type": "markdown",
   "id": "17039630",
   "metadata": {},
   "source": [
    "对引用式变量来说，把变量分配给对象更合理\n",
    "eg：把变量s分配给seesaw 而不是 把seesaw分配给变量s\n",
    "毕竟，对象在赋值之前就创建了\n",
    "即\n",
    "创建对象之后才会把变量分配给对象"
   ]
  },
  {
   "cell_type": "code",
   "execution_count": 121,
   "id": "8843b470",
   "metadata": {},
   "outputs": [
    {
     "name": "stdout",
     "output_type": "stream",
     "text": [
      "Gizom id:2230017879008\n"
     ]
    }
   ],
   "source": [
    "class Gizom:\n",
    "    def __init__(self):\n",
    "        print('Gizom id:%d' % id(self))\n",
    "\n",
    "x = Gizom()"
   ]
  },
  {
   "cell_type": "code",
   "execution_count": 122,
   "id": "f5f3577f",
   "metadata": {},
   "outputs": [
    {
     "name": "stdout",
     "output_type": "stream",
     "text": [
      "Gizom id:2230017878480\n"
     ]
    },
    {
     "ename": "TypeError",
     "evalue": "unsupported operand type(s) for *: 'Gizom' and 'int'",
     "output_type": "error",
     "traceback": [
      "\u001b[1;31m---------------------------------------------------------------------------\u001b[0m",
      "\u001b[1;31mTypeError\u001b[0m                                 Traceback (most recent call last)",
      "\u001b[1;32m~\\AppData\\Local\\Temp/ipykernel_14292/1470773684.py\u001b[0m in \u001b[0;36m<module>\u001b[1;34m\u001b[0m\n\u001b[1;32m----> 1\u001b[1;33m \u001b[0my\u001b[0m \u001b[1;33m=\u001b[0m \u001b[0mGizom\u001b[0m\u001b[1;33m(\u001b[0m\u001b[1;33m)\u001b[0m\u001b[1;33m*\u001b[0m\u001b[1;36m10\u001b[0m\u001b[1;33m\u001b[0m\u001b[1;33m\u001b[0m\u001b[0m\n\u001b[0m",
      "\u001b[1;31mTypeError\u001b[0m: unsupported operand type(s) for *: 'Gizom' and 'int'"
     ]
    }
   ],
   "source": [
    "y = Gizom()*10"
   ]
  },
  {
   "cell_type": "markdown",
   "id": "098667b5",
   "metadata": {},
   "source": [
    "抛出异常，求积失败\n",
    "but上面打印出Gizom id:2230017878480\n",
    "表名求积之前会创建一个新的Gizom实例\n",
    "但是肯定不会创建变量y， 因为在对赋值语句右边进行求值的时候抛出异常\n",
    "\n",
    "tips:\n",
    "    阅读Python语句应该从右边开始读，对象在右边创建或获取\n",
    "    创建后左边的变量才会绑定到右边的对象上\n",
    "    这就像在为 对象贴标签\n",
    "    \n",
    "    因为变量仅仅是标注，无法阻止为对象贴上多个标注\n",
    "    贴的多个标注就是别名"
   ]
  },
  {
   "cell_type": "markdown",
   "id": "90685fcf",
   "metadata": {},
   "source": [
    "标识，相等性和别名\n",
    "    \n",
    "    "
   ]
  },
  {
   "cell_type": "code",
   "execution_count": 123,
   "id": "025c3d4e",
   "metadata": {},
   "outputs": [
    {
     "data": {
      "text/plain": [
       "True"
      ]
     },
     "execution_count": 123,
     "metadata": {},
     "output_type": "execute_result"
    }
   ],
   "source": [
    "charles = {'name':'Charles','born':1823}\n",
    "lewis = charles\n",
    "lewis is charles"
   ]
  },
  {
   "cell_type": "code",
   "execution_count": 124,
   "id": "4c253dff",
   "metadata": {},
   "outputs": [
    {
     "data": {
      "text/plain": [
       "(2230018132416, 2230018132416)"
      ]
     },
     "execution_count": 124,
     "metadata": {},
     "output_type": "execute_result"
    }
   ],
   "source": [
    "id(lewis),id(charles)"
   ]
  },
  {
   "cell_type": "code",
   "execution_count": 126,
   "id": "efc2c85f",
   "metadata": {},
   "outputs": [
    {
     "data": {
      "text/plain": [
       "{'name': 'Charles', 'born': 1823, 'banlance': 950}"
      ]
     },
     "execution_count": 126,
     "metadata": {},
     "output_type": "execute_result"
    }
   ],
   "source": [
    "lewis['banlance']=950\n",
    "charles"
   ]
  },
  {
   "cell_type": "markdown",
   "id": "36fb35a8",
   "metadata": {},
   "source": [
    "lewis 是 charles的别名\n",
    "向lewis添加元素相当于向charles添加元素\n",
    "charles和lewis绑定同一个对象"
   ]
  },
  {
   "cell_type": "code",
   "execution_count": 129,
   "id": "bd4c25a8",
   "metadata": {},
   "outputs": [
    {
     "data": {
      "text/plain": [
       "True"
      ]
     },
     "execution_count": 129,
     "metadata": {},
     "output_type": "execute_result"
    }
   ],
   "source": [
    "alex = {'name': 'Charles', 'born': 1823, 'banlance': 950} \n",
    "alex == charles"
   ]
  },
  {
   "cell_type": "code",
   "execution_count": 130,
   "id": "a16b910e",
   "metadata": {},
   "outputs": [
    {
     "data": {
      "text/plain": [
       "False"
      ]
     },
     "execution_count": 130,
     "metadata": {},
     "output_type": "execute_result"
    }
   ],
   "source": [
    "alex is charles"
   ]
  },
  {
   "cell_type": "markdown",
   "id": "18b1972a",
   "metadata": {},
   "source": [
    "alex指代的对象与赋值给charles的对象  内容一样\n",
    "比较两个对象，结果相等，因为dict类的__eq__方法就是这样实现的 \n",
    "但它们是不同的对象，这是Python说明标识不同的方式\n",
    "a is not b\n",
    "\n",
    "\n",
    "每个对象都有标识 类型和值\n",
    "对象一旦创建 它的标识绝不会变，相当于对象在内存中的地址\n",
    "is运算符比较两个对象的标识\n",
    "id()函数返回对象标识的整数表示\n",
    "\n",
    "对象ID的真正内存意义在不同的实现中有所不同\n",
    "在CPython中，id()返回对象的内存地址\n",
    "在其他Python解释器中可能是别的值\n",
    "关键是，ID是唯一的数值标注，在对象的生命周期中绝不会变"
   ]
  },
  {
   "cell_type": "markdown",
   "id": "ba8d3f82",
   "metadata": {},
   "source": [
    "== 和 is 的区别\n",
    "\n",
    "== 运算符比较两个对象的值（对象中保存的数据）\n",
    "而is比较对象的标识\n",
    "\n",
    "通常我们会关注对象的值，而不是标识\n",
    "\n",
    "然而在变量和单例值之间比较时，应该使用is：\n",
    "    x is None\n",
    "    x is not None\n",
    "    \n",
    "is运算符比 == 速度快，因为is不能重载\n",
    "所以Python直接比较两个整数ID\n",
    "a == b 相当于是 a.__eq__(b)\n"
   ]
  },
  {
   "cell_type": "markdown",
   "id": "de0e3127",
   "metadata": {},
   "source": [
    "元组的相对不可变性\n",
    "    元组保存的是对象的引用\n",
    "    如果引用的元素是可变的，即便元组本身不可变。元素依然可变\n",
    "    （而str bytes array.array等单一序列类型是扁平的，它们保存的不是引用，而是在连续内存中保存数据本身（字符 字节和数字））\n",
    "    即 元组的不可变性是指tuple数据结构的物理内容（即保存的引用）不可变\n",
    "    与引用的对象无关\n",
    "    \n",
    " 示例：元素的值会随着引用的可变对象的变化而变化，元组中不可变的是元素的标识\n",
    " "
   ]
  },
  {
   "cell_type": "code",
   "execution_count": 131,
   "id": "9591fda4",
   "metadata": {},
   "outputs": [
    {
     "data": {
      "text/plain": [
       "True"
      ]
     },
     "execution_count": 131,
     "metadata": {},
     "output_type": "execute_result"
    }
   ],
   "source": [
    "t1 = (1,2,[30,40])\n",
    "t2 = (1,2,[30,40])\n",
    "t1 == t2"
   ]
  },
  {
   "cell_type": "code",
   "execution_count": 132,
   "id": "17c772ae",
   "metadata": {},
   "outputs": [
    {
     "data": {
      "text/plain": [
       "2229945021376"
      ]
     },
     "execution_count": 132,
     "metadata": {},
     "output_type": "execute_result"
    }
   ],
   "source": [
    "id(t1[-1])"
   ]
  },
  {
   "cell_type": "code",
   "execution_count": 133,
   "id": "493122da",
   "metadata": {},
   "outputs": [
    {
     "data": {
      "text/plain": [
       "(1, 2, [30, 40, 99])"
      ]
     },
     "execution_count": 133,
     "metadata": {},
     "output_type": "execute_result"
    }
   ],
   "source": [
    "t1[-1].append(99)\n",
    "t1"
   ]
  },
  {
   "cell_type": "code",
   "execution_count": 134,
   "id": "ff7d22da",
   "metadata": {},
   "outputs": [
    {
     "data": {
      "text/plain": [
       "2229945021376"
      ]
     },
     "execution_count": 134,
     "metadata": {},
     "output_type": "execute_result"
    }
   ],
   "source": [
    "id(t1[-1])"
   ]
  },
  {
   "cell_type": "code",
   "execution_count": 135,
   "id": "9d512bb4",
   "metadata": {},
   "outputs": [
    {
     "data": {
      "text/plain": [
       "False"
      ]
     },
     "execution_count": 135,
     "metadata": {},
     "output_type": "execute_result"
    }
   ],
   "source": [
    "t1 == t2"
   ]
  },
  {
   "cell_type": "markdown",
   "id": "97dfad04",
   "metadata": {},
   "source": [
    "从示例看出：\n",
    "    t1 不可变 但 t1[-1]可变\n",
    "    构建元组t2 它的元素和t1一样\n",
    "    t1[-1]的标识没变，只是值变了\n",
    "    t1和t2不再相等"
   ]
  },
  {
   "cell_type": "markdown",
   "id": "b9b55e00",
   "metadata": {},
   "source": [
    "默认做浅复制\n",
    "    复制列表或多数内置的可变集合\n",
    "    使用内置的类型构造方法\n",
    "    "
   ]
  },
  {
   "cell_type": "code",
   "execution_count": 136,
   "id": "463bf570",
   "metadata": {},
   "outputs": [
    {
     "data": {
      "text/plain": [
       "[3, [44, 55], (7, 8, 9)]"
      ]
     },
     "execution_count": 136,
     "metadata": {},
     "output_type": "execute_result"
    }
   ],
   "source": [
    "l1 = [3,[44,55],(7,8,9)]\n",
    "l2 = list(l1)\n",
    "l2"
   ]
  },
  {
   "cell_type": "code",
   "execution_count": 137,
   "id": "5beea5f3",
   "metadata": {},
   "outputs": [
    {
     "data": {
      "text/plain": [
       "True"
      ]
     },
     "execution_count": 137,
     "metadata": {},
     "output_type": "execute_result"
    }
   ],
   "source": [
    "l1 == l2"
   ]
  },
  {
   "cell_type": "code",
   "execution_count": 138,
   "id": "2f8f7168",
   "metadata": {},
   "outputs": [
    {
     "data": {
      "text/plain": [
       "False"
      ]
     },
     "execution_count": 138,
     "metadata": {},
     "output_type": "execute_result"
    }
   ],
   "source": [
    "l1 is l2"
   ]
  },
  {
   "cell_type": "markdown",
   "id": "5327a273",
   "metadata": {},
   "source": [
    "list(l1)创建l1的副本\n",
    "副本与源列表相等\n",
    "但是二者指代不同的对象，对列表和其他可变序列来说：\n",
    "    可以使用l2 = l1[:]语句创建副本\n",
    "\n",
    "然而，构造方法或者是[:] 都是浅复制\n",
    "    即复制了最外层容器，副本中的元素的hi源容器中元素的引用\n",
    "    如果有可变元素就会存在问题\n",
    "    \n",
    "比如下面这个浅复制的示例：\n",
    "浅复制容易操作，但是得到的结果可能不是想要的"
   ]
  },
  {
   "cell_type": "code",
   "execution_count": 139,
   "id": "ce3dde7b",
   "metadata": {},
   "outputs": [
    {
     "name": "stdout",
     "output_type": "stream",
     "text": [
      "l1: [3, [66, 44], (7, 8, 9), 100]\n",
      "l2: [3, [66, 44], (7, 8, 9)]\n",
      "l1: [3, [66, 44, 33, 22], (7, 8, 9), 100]\n",
      "l2: [3, [66, 44, 33, 22], (7, 8, 9, 10, 11)]\n"
     ]
    }
   ],
   "source": [
    "l1 = [3, [66, 55, 44], (7, 8, 9)]\n",
    "l2 = list(l1) # ➊\n",
    "l1.append(100) # ➋\n",
    "l1[1].remove(55) # ➌\n",
    "print('l1:', l1)\n",
    "print('l2:', l2)\n",
    "l2[1] += [33, 22] # ➍\n",
    "l2[2] += (10, 11) # ➎\n",
    "print('l1:', l1)\n",
    "print('l2:', l2)\n"
   ]
  },
  {
   "cell_type": "markdown",
   "id": "1f63fd1a",
   "metadata": {},
   "source": [
    "深复制——深拷贝\n",
    "深复制不共享内部对象的引用\n",
    "copy() 和 deepcopy()\n",
    "示例： bus乘客在途中上车和下车"
   ]
  },
  {
   "cell_type": "code",
   "execution_count": 140,
   "id": "fbb66d91",
   "metadata": {},
   "outputs": [],
   "source": [
    "class Bus:\n",
    "    def __init__(self,passengers=None):\n",
    "        if passengers is None:\n",
    "            self.passengers = []\n",
    "        else:\n",
    "            self.passengers = list(passengers)\n",
    "            \n",
    "    def pick(self,name):\n",
    "        self.passengers.append(name)\n",
    "    \n",
    "    def drop(self,name):\n",
    "        self.passengers.remove(name)\n",
    "        "
   ]
  },
  {
   "cell_type": "code",
   "execution_count": 145,
   "id": "0c210f63",
   "metadata": {},
   "outputs": [
    {
     "data": {
      "text/plain": [
       "(2230018062320, 2230018062080, 2230018061552)"
      ]
     },
     "execution_count": 145,
     "metadata": {},
     "output_type": "execute_result"
    }
   ],
   "source": [
    "'''创建一个Bus实例和两个副本 一个浅复制 一个深复制'''\n",
    "import copy\n",
    "bus1 = Bus(['AA','BB','CC','DD'])\n",
    "bus2 = copy.copy(bus1)\n",
    "bus3 = copy.deepcopy(bus1)\n",
    "id(bus1),id(bus2),id(bus3)"
   ]
  },
  {
   "cell_type": "markdown",
   "id": "2b1c192e",
   "metadata": {},
   "source": [
    "浅拷贝—— 使用的还是列表中的对象\n",
    "一个列表中会有str、list、tuple对象之类\n",
    "改变源列表的对象，浅拷贝之后的对象中的元素也会改变"
   ]
  },
  {
   "cell_type": "code",
   "execution_count": 146,
   "id": "8cac9e50",
   "metadata": {},
   "outputs": [
    {
     "data": {
      "text/plain": [
       "['AA', 'CC', 'DD']"
      ]
     },
     "execution_count": 146,
     "metadata": {},
     "output_type": "execute_result"
    }
   ],
   "source": [
    "bus1.drop('BB')\n",
    "bus2.passengers"
   ]
  },
  {
   "cell_type": "code",
   "execution_count": 148,
   "id": "9edd4f9e",
   "metadata": {},
   "outputs": [
    {
     "data": {
      "text/plain": [
       "(2230018188992, 2230018188992, 2230018132800)"
      ]
     },
     "execution_count": 148,
     "metadata": {},
     "output_type": "execute_result"
    }
   ],
   "source": [
    "id(bus1.passengers),id(bus2.passengers),id(bus3.passengers)"
   ]
  },
  {
   "cell_type": "code",
   "execution_count": 149,
   "id": "a689bfe3",
   "metadata": {},
   "outputs": [
    {
     "data": {
      "text/plain": [
       "['AA', 'BB', 'CC', 'DD']"
      ]
     },
     "execution_count": 149,
     "metadata": {},
     "output_type": "execute_result"
    }
   ],
   "source": [
    "bus3.passengers"
   ]
  },
  {
   "cell_type": "markdown",
   "id": "eafbabf2",
   "metadata": {},
   "source": [
    "BB下车之后，bus2中也没有了\n",
    "审查passengers属性，bus1和bus2共享一个列表对象\n",
    "\n",
    "``深复制对象由循环引用，那么deepcopy()会进入无限循环\n",
    "eg:\n",
    "    a=[1,2]\n",
    "    b=[a,3]\n",
    "    a.append(b)\n",
    "    c=deepcopy(a)\n",
    "    deepcopy()会复制a\n",
    " 深复制可能会引用不该复制的外部资源或者单例值"
   ]
  },
  {
   "cell_type": "markdown",
   "id": "0a510857",
   "metadata": {},
   "source": [
    "函数的参数作为引用时\n",
    "    call by sharing 共享传参是Python唯一支持的参数传递模式\n",
    "    共享传参是指函数的各个形式参数获得实参中各个引用的脚本\n",
    "    即 函数内部的形参是实参的别名\n",
    "    \n",
    "这样 函数可能会修改作为参数传入的可变对象，但是不能修改那些对象的标识\n",
    "\n",
    "示例： 在参数上调用+=运算符，传入的实参会以不同的方式受到影响\n",
    "传入数字 列表和元组"
   ]
  },
  {
   "cell_type": "code",
   "execution_count": 150,
   "id": "a23a138e",
   "metadata": {},
   "outputs": [
    {
     "data": {
      "text/plain": [
       "3"
      ]
     },
     "execution_count": 150,
     "metadata": {},
     "output_type": "execute_result"
    }
   ],
   "source": [
    "def f(a,b):\n",
    "    a += b\n",
    "    return a\n",
    "\n",
    "x = 1\n",
    "y = 2\n",
    "f(x,y)"
   ]
  },
  {
   "cell_type": "code",
   "execution_count": 151,
   "id": "688f4043",
   "metadata": {},
   "outputs": [
    {
     "data": {
      "text/plain": [
       "(1, 2)"
      ]
     },
     "execution_count": 151,
     "metadata": {},
     "output_type": "execute_result"
    }
   ],
   "source": [
    "x,y"
   ]
  },
  {
   "cell_type": "code",
   "execution_count": 152,
   "id": "8c7215df",
   "metadata": {},
   "outputs": [
    {
     "data": {
      "text/plain": [
       "[1, 2, 3, 4]"
      ]
     },
     "execution_count": 152,
     "metadata": {},
     "output_type": "execute_result"
    }
   ],
   "source": [
    "a = [1,2]\n",
    "b = [3,4]\n",
    "f(a,b)"
   ]
  },
  {
   "cell_type": "code",
   "execution_count": 153,
   "id": "467b9bad",
   "metadata": {},
   "outputs": [
    {
     "data": {
      "text/plain": [
       "([1, 2, 3, 4], [3, 4])"
      ]
     },
     "execution_count": 153,
     "metadata": {},
     "output_type": "execute_result"
    }
   ],
   "source": [
    "a,b"
   ]
  },
  {
   "cell_type": "code",
   "execution_count": 154,
   "id": "84f9cbf3",
   "metadata": {},
   "outputs": [
    {
     "data": {
      "text/plain": [
       "(10, 20, 30, 40)"
      ]
     },
     "execution_count": 154,
     "metadata": {},
     "output_type": "execute_result"
    }
   ],
   "source": [
    "t = (10, 20)\n",
    "u = (30, 40)\n",
    "f(t,u)"
   ]
  },
  {
   "cell_type": "code",
   "execution_count": 155,
   "id": "b1089ea6",
   "metadata": {},
   "outputs": [
    {
     "data": {
      "text/plain": [
       "((10, 20), (30, 40))"
      ]
     },
     "execution_count": 155,
     "metadata": {},
     "output_type": "execute_result"
    }
   ],
   "source": [
    "t,u"
   ]
  },
  {
   "cell_type": "markdown",
   "id": "f025366b",
   "metadata": {},
   "source": [
    "不要使用可变类型作为参数的默认值\n",
    "    可选参数有默认值 这样在API进化时可保证向后兼容\n",
    "    但可选参数不能是可变的对象\n",
    "    \n"
   ]
  },
  {
   "cell_type": "code",
   "execution_count": 156,
   "id": "f94ad04c",
   "metadata": {},
   "outputs": [],
   "source": [
    "class HauntedBus:\n",
    "    def __init__(self,passengers=[]):\n",
    "        self.passengers = passengers\n",
    "    def pick(self,name):\n",
    "        self.passengers.append(name)\n",
    "    def drop(self,name):\n",
    "        self.passengers.remove(name)"
   ]
  },
  {
   "cell_type": "markdown",
   "id": "8438187f",
   "metadata": {},
   "source": [
    "若没传入passengers 使用默认绑定的列表对象，一开始就是空列表\n",
    "init的赋值语句将self.passengers变为passengers的别名，没有传入passengers参数时，后者是默认列表的别名\n",
    "在self.passengers上调用append和remove方法，修改的其实是默认列表[] 是函数对象的一个属性"
   ]
  },
  {
   "cell_type": "code",
   "execution_count": 158,
   "id": "53f8b138",
   "metadata": {},
   "outputs": [
    {
     "data": {
      "text/plain": [
       "['Alice', 'Bill']"
      ]
     },
     "execution_count": 158,
     "metadata": {},
     "output_type": "execute_result"
    }
   ],
   "source": [
    "bus1 = HauntedBus(['Alice','Bill'])\n",
    "bus1.passengers"
   ]
  },
  {
   "cell_type": "code",
   "execution_count": 159,
   "id": "15ccca80",
   "metadata": {},
   "outputs": [
    {
     "data": {
      "text/plain": [
       "['Bill', 'Charles']"
      ]
     },
     "execution_count": 159,
     "metadata": {},
     "output_type": "execute_result"
    }
   ],
   "source": [
    "bus1.pick('Charles')\n",
    "bus1.drop('Alice')\n",
    "bus1.passengers"
   ]
  },
  {
   "cell_type": "code",
   "execution_count": 160,
   "id": "ebefe7d7",
   "metadata": {},
   "outputs": [
    {
     "data": {
      "text/plain": [
       "['Carlie']"
      ]
     },
     "execution_count": 160,
     "metadata": {},
     "output_type": "execute_result"
    }
   ],
   "source": [
    "bus2 = HauntedBus()\n",
    "bus2.pick('Carlie')\n",
    "bus2.passengers"
   ]
  },
  {
   "cell_type": "code",
   "execution_count": 161,
   "id": "63c744cc",
   "metadata": {},
   "outputs": [
    {
     "data": {
      "text/plain": [
       "['Carlie']"
      ]
     },
     "execution_count": 161,
     "metadata": {},
     "output_type": "execute_result"
    }
   ],
   "source": [
    "bus3 = HauntedBus()\n",
    "bus3.passengers"
   ]
  },
  {
   "cell_type": "code",
   "execution_count": 169,
   "id": "fe037caf",
   "metadata": {},
   "outputs": [
    {
     "data": {
      "text/plain": [
       "(['Carlie', 'Dave'], ['Carlie', 'Dave'])"
      ]
     },
     "execution_count": 169,
     "metadata": {},
     "output_type": "execute_result"
    }
   ],
   "source": [
    "bus3.pick('Dave')\n",
    "bus2.passengers,bus3.passengers"
   ]
  },
  {
   "cell_type": "code",
   "execution_count": 168,
   "id": "f98a435e",
   "metadata": {},
   "outputs": [
    {
     "data": {
      "text/plain": [
       "True"
      ]
     },
     "execution_count": 168,
     "metadata": {},
     "output_type": "execute_result"
    }
   ],
   "source": [
    "bus2.passengers is bus3.passengers "
   ]
  },
  {
   "cell_type": "code",
   "execution_count": 171,
   "id": "4e8f2fd1",
   "metadata": {},
   "outputs": [
    {
     "data": {
      "text/plain": [
       "['Bill', 'Charles']"
      ]
     },
     "execution_count": 171,
     "metadata": {},
     "output_type": "execute_result"
    }
   ],
   "source": [
    "bus1.passengers"
   ]
  },
  {
   "cell_type": "markdown",
   "id": "a8478fc3",
   "metadata": {},
   "source": [
    "可以看到 bus2中的Dave出现在bus3中了\n",
    "bus2和bus3的passengers指代同一个列表\n",
    "bus1的passengers是不同列表\n",
    "这种问题一般难以发现\n",
    "出现这种问题的根源是：\n",
    "    self.passengers变成了passengers参数默认值的别名\n",
    "    默认值在定义函数时计算，通常时在加载模块时\n",
    "    因此默认值变成了函数对象的属性\n",
    "    ``如果默认值是可变对象，而且修改了它的值，那么后续的函数调用都会受到影响"
   ]
  },
  {
   "cell_type": "code",
   "execution_count": 172,
   "id": "d2db5f6f",
   "metadata": {},
   "outputs": [
    {
     "data": {
      "text/plain": [
       "['__annotations__',\n",
       " '__call__',\n",
       " '__class__',\n",
       " '__closure__',\n",
       " '__code__',\n",
       " '__defaults__',\n",
       " '__delattr__',\n",
       " '__dict__',\n",
       " '__dir__',\n",
       " '__doc__',\n",
       " '__eq__',\n",
       " '__format__',\n",
       " '__ge__',\n",
       " '__get__',\n",
       " '__getattribute__',\n",
       " '__globals__',\n",
       " '__gt__',\n",
       " '__hash__',\n",
       " '__init__',\n",
       " '__init_subclass__',\n",
       " '__kwdefaults__',\n",
       " '__le__',\n",
       " '__lt__',\n",
       " '__module__',\n",
       " '__name__',\n",
       " '__ne__',\n",
       " '__new__',\n",
       " '__qualname__',\n",
       " '__reduce__',\n",
       " '__reduce_ex__',\n",
       " '__repr__',\n",
       " '__setattr__',\n",
       " '__sizeof__',\n",
       " '__str__',\n",
       " '__subclasshook__']"
      ]
     },
     "execution_count": 172,
     "metadata": {},
     "output_type": "execute_result"
    }
   ],
   "source": [
    "dir(HauntedBus.__init__)"
   ]
  },
  {
   "cell_type": "code",
   "execution_count": 173,
   "id": "31604028",
   "metadata": {},
   "outputs": [
    {
     "data": {
      "text/plain": [
       "(['Carlie', 'Dave'],)"
      ]
     },
     "execution_count": 173,
     "metadata": {},
     "output_type": "execute_result"
    }
   ],
   "source": [
    "HauntedBus.__init__.__defaults__"
   ]
  },
  {
   "cell_type": "code",
   "execution_count": 175,
   "id": "63681648",
   "metadata": {},
   "outputs": [
    {
     "data": {
      "text/plain": [
       "True"
      ]
     },
     "execution_count": 175,
     "metadata": {},
     "output_type": "execute_result"
    }
   ],
   "source": [
    "HauntedBus.__init__.__defaults__[0] is bus2.passengers"
   ]
  },
  {
   "cell_type": "markdown",
   "id": "8cd67310",
   "metadata": {},
   "source": [
    "通常使用None作为接收可变值的参数的默认值\n",
    "因为__init__方法检查passengers参数的值是不是None\n",
    "如果是就把一个新的空列表赋值给self.passengers"
   ]
  },
  {
   "cell_type": "markdown",
   "id": "713bef41",
   "metadata": {},
   "source": [
    "防御可变参数\n",
    "    如果定义的函数接收可变参数，应该谨慎考虑调用是否期望修改传入的参数\n",
    "    \n",
    "例如：如果函数接收一个字典，而且在处理的过程中要修改它，那么这个副作用是否需要体现到函数外部\n"
   ]
  },
  {
   "cell_type": "code",
   "execution_count": null,
   "id": "1cd875b0",
   "metadata": {},
   "outputs": [],
   "source": [
    "'''接受可变参数的风险'''\n",
    "class TwilightBus:\n",
    "    \n",
    "    def __init__(self,passengers=None):\n",
    "        if passengers is None:\n",
    "            self.passengers = []\n",
    "        else:\n",
    "#             self.passengers = passengers\n",
    "            '''赋值语句把self.passengers 变成passengers的别名，后者是传递给__init__方法的实参'''\n",
    "            '''修改init'''\n",
    "            self.passengers = list(passengers)\n",
    "            '''创建passengers列表的副本，如果不是列表就转换成列表'''\n",
    "    def pick(name):\n",
    "        self.passengers.append(name)\n",
    "    def drop(name):\n",
    "        self.passengers.remove(name)\n",
    "\n"
   ]
  },
  {
   "cell_type": "markdown",
   "id": "f500a695",
   "metadata": {},
   "source": [
    "self.passengers = list(passengers)\n",
    "不会影响初始化时传入的参数\n",
    "因为 传递给passengers的参数值可以时元组  或者 其他可迭代对象\n",
    "\n",
    "\n",
    "除非这个方法 想修改通过参数传入的对象，否则在类中直接将参数赋值给示例变量之前\n",
    "考虑创建别名 self.xxx = list(xxx)"
   ]
  },
  {
   "cell_type": "markdown",
   "id": "dd499944",
   "metadata": {},
   "source": [
    "del 和垃圾回收\n",
    "    del语句删除名称，而不是对象\n",
    "    del命令可能导致对象被当做垃圾回收，但是仅当删除的变量保存的时对象的最后一个引用\n",
    "    或者无法得到对象时\n",
    "    重新绑定也会导致对象的引用数量归0 导致对象被销毁：\n",
    "        如果两个对象互相引用，当它们的引用值存在二者之间时\n",
    "        垃圾回收程序会认为它们都无法获取，进而把它们都销毁\n",
    " \n",
    "有个__del__方法，不会销毁实例，不能在代码中调用\n",
    "在即将销毁实例时，Python解释器会调用__del__方法，释放外部资源\n",
    "\n",
    "在Cpython中，立即回收使用的主要算法是引用计数\n",
    "实际上，每个对象都会统计有多少引用指向自己\n",
    "当引用计数归零，这个对象会立即被销毁\n",
    "CPython会在对象上调用__del__方法，然后释放分配给对象的内存\n",
    "\n",
    "CPython2.0增加了分代垃圾回收算法，用于检测引用循环中涉及的对象组：\n",
    "    即一组对象之间如果全部是引用，即使再出色的引用方式也会导致组中对象不可获取\n",
    "\n",
    "而在Python中，有更为复杂的垃圾回收程序，而且不依赖于引用计数\n",
    "这意味着，对象的引用计数量为0时可能不会立即调用__del__\n",
    "\n",
    "示例：注册一个回调函数，在销毁对象时调用"
   ]
  },
  {
   "cell_type": "code",
   "execution_count": 177,
   "id": "847d68cf",
   "metadata": {},
   "outputs": [
    {
     "data": {
      "text/plain": [
       "True"
      ]
     },
     "execution_count": 177,
     "metadata": {},
     "output_type": "execute_result"
    }
   ],
   "source": [
    "import weakref\n",
    "s1 = {1,2,3}\n",
    "s2 = s1\n",
    "def bye():\n",
    "    print('Gone with the wind')\n",
    "\n",
    "ender = weakref.finalize(s1,bye)\n",
    "ender.alive"
   ]
  },
  {
   "cell_type": "code",
   "execution_count": 178,
   "id": "9b52f6fd",
   "metadata": {},
   "outputs": [],
   "source": [
    "del s1"
   ]
  },
  {
   "cell_type": "code",
   "execution_count": 179,
   "id": "504c8770",
   "metadata": {},
   "outputs": [
    {
     "data": {
      "text/plain": [
       "True"
      ]
     },
     "execution_count": 179,
     "metadata": {},
     "output_type": "execute_result"
    }
   ],
   "source": [
    "ender.alive"
   ]
  },
  {
   "cell_type": "code",
   "execution_count": 180,
   "id": "12c9e3c0",
   "metadata": {},
   "outputs": [
    {
     "name": "stdout",
     "output_type": "stream",
     "text": [
      "Gone with the wind\n"
     ]
    }
   ],
   "source": [
    "s2 = 'spam'"
   ]
  },
  {
   "cell_type": "code",
   "execution_count": 181,
   "id": "d21a20a6",
   "metadata": {},
   "outputs": [
    {
     "data": {
      "text/plain": [
       "False"
      ]
     },
     "execution_count": 181,
     "metadata": {},
     "output_type": "execute_result"
    }
   ],
   "source": [
    "ender.alive"
   ]
  },
  {
   "cell_type": "markdown",
   "id": "3439fc23",
   "metadata": {},
   "source": [
    "s1 和 s2是别名，指向同一个集合 {1,2,3}\n",
    "\n",
    "这个函数bye()不能是要销毁对象的绑定方法，否则会有一个指向对象的引用\n",
    "在s1 引用的对象上注册回调bye\n",
    "有finalize之前 .alive的属性值为True\n",
    "\n",
    "del不删除对象 而是删除对象的引用所以 ender.alive 还是为True\n",
    "\n",
    "重新绑定引用s2，使得{1,2,3}无法获取了\n",
    "因为{1,2,3}无法被获取，所以调用了bye()回调\n",
    "ender.alive的值变成了False\n",
    "\n",
    "\n",
    "总结： del不删除对象(不会删除{1,2,3})，而是删除对象的引用(也就是S1)\n",
    "    但是执行del操作之后可能会导致对象不可获取，从而被删除"
   ]
  },
  {
   "cell_type": "markdown",
   "id": "22d6de4a",
   "metadata": {},
   "source": [
    "弱引用\n",
    "    ``有时需要引用对象，而不让对象存在的时间超过所需要的时间，这经常用在缓存中\n",
    "\n",
    "弱引用不会增加对象的引用数量，引用的目标对象成为所指对象\n",
    "因此，弱引用不会妨碍所指对象被当做垃圾回收"
   ]
  },
  {
   "cell_type": "markdown",
   "id": "c8ebfa6d",
   "metadata": {},
   "source": [
    "弱引用于在缓存中：\n",
    "    不需要缓存被引用着 就始终保存缓存对象\n",
    "    即不再需要缓存后将其释放 而不需要其还有引用就一直保存\n",
    "    \n",
    "示例：使用weakref.ref实例获取所指对象\n",
    "    如果对象存在就调用弱引用以获取对象，否则返回None\n",
    "    "
   ]
  },
  {
   "cell_type": "code",
   "execution_count": 197,
   "id": "68ac8a4a",
   "metadata": {},
   "outputs": [
    {
     "data": {
      "text/plain": [
       "<weakref at 0x0000020737725810; to 'set' at 0x0000020737722900>"
      ]
     },
     "execution_count": 197,
     "metadata": {},
     "output_type": "execute_result"
    }
   ],
   "source": [
    "'''弱引用是可调用的对象，返回的是被引用的对象'''\n",
    "'''如果所指对象不存在了 就返回None'''\n",
    "\n",
    "import weakref\n",
    "a_set = {0,1}\n",
    "wref = weakref.ref(a_set)\n",
    "wref"
   ]
  },
  {
   "cell_type": "code",
   "execution_count": 198,
   "id": "4308bd1d",
   "metadata": {},
   "outputs": [
    {
     "data": {
      "text/plain": [
       "{0, 1}"
      ]
     },
     "execution_count": 198,
     "metadata": {},
     "output_type": "execute_result"
    }
   ],
   "source": [
    "wref()"
   ]
  },
  {
   "cell_type": "code",
   "execution_count": 199,
   "id": "33c27263",
   "metadata": {},
   "outputs": [
    {
     "data": {
      "text/plain": [
       "{0, 1}"
      ]
     },
     "execution_count": 199,
     "metadata": {},
     "output_type": "execute_result"
    }
   ],
   "source": [
    "a_set = {1,2,3}\n",
    "wref()"
   ]
  },
  {
   "cell_type": "code",
   "execution_count": 200,
   "id": "420aea35",
   "metadata": {},
   "outputs": [
    {
     "data": {
      "text/plain": [
       "False"
      ]
     },
     "execution_count": 200,
     "metadata": {},
     "output_type": "execute_result"
    }
   ],
   "source": [
    "wref() is None"
   ]
  },
  {
   "cell_type": "markdown",
   "id": "43acf08f",
   "metadata": {},
   "source": [
    "WeakValueDictionary简介\n",
    "    WeakValueDictionary类实现的是一种可变映射，里面的值是对象的弱引用\n",
    "    被引用的对象在程序中的其他地方被当作垃圾回收后，对应的键会自动从WeakValueDictionary删除\n",
    "    因此 WeakValueDictionary经常用于缓存\n",
    "    "
   ]
  },
  {
   "cell_type": "code",
   "execution_count": 223,
   "id": "aefdca15",
   "metadata": {},
   "outputs": [
    {
     "data": {
      "text/plain": [
       "['Brie', 'Parmesan', 'Red Leicester', 'Tilsit']"
      ]
     },
     "execution_count": 223,
     "metadata": {},
     "output_type": "execute_result"
    }
   ],
   "source": [
    "import weakref\n",
    "\n",
    "class Cheese:\n",
    "    '''表示有各种奶酪的类'''\n",
    "    def __init__(self,kind):\n",
    "        self.kind = kind\n",
    "    def __repr__(self):\n",
    "        return 'Cheess(%r)'%self.kind\n",
    "    \n",
    "stock = weakref.WeakValueDictionary()\n",
    "catalog = [Cheese('Red Leicester'), Cheese('Tilsit'),Cheese('Brie'), Cheese('Parmesan')]\n",
    "for cheess in catalog:\n",
    "    stock[cheess.kind] = cheess\n",
    "sorted(stock.keys())\n",
    "\n",
    "'''cheess.kind: ['Brie', 'Parmesan', 'Red Leicester', 'Tilsit']'''"
   ]
  },
  {
   "cell_type": "code",
   "execution_count": 213,
   "id": "515862e0",
   "metadata": {},
   "outputs": [],
   "source": [
    "del catalog"
   ]
  },
  {
   "cell_type": "code",
   "execution_count": 214,
   "id": "c43adcb3",
   "metadata": {},
   "outputs": [
    {
     "data": {
      "text/plain": [
       "['Parmesan']"
      ]
     },
     "execution_count": 214,
     "metadata": {},
     "output_type": "execute_result"
    }
   ],
   "source": [
    "sorted(stock.keys())"
   ]
  },
  {
   "cell_type": "code",
   "execution_count": 215,
   "id": "c3e8f176",
   "metadata": {},
   "outputs": [],
   "source": [
    "del cheess"
   ]
  },
  {
   "cell_type": "code",
   "execution_count": 216,
   "id": "ae822b7d",
   "metadata": {},
   "outputs": [
    {
     "data": {
      "text/plain": [
       "[]"
      ]
     },
     "execution_count": 216,
     "metadata": {},
     "output_type": "execute_result"
    }
   ],
   "source": [
    "sorted(stock.keys())"
   ]
  },
  {
   "cell_type": "markdown",
   "id": "c8c3b967",
   "metadata": {},
   "source": [
    "stock是WeakValueDictionary的实例\n",
    "stock把奶酪的名称映射到catalog中Cheese实例的 弱引用上\n",
    "删除catalog后，stock中大多数奶酪都不见了，这是WeakValueDictionary的预期行为\n",
    "\n",
    "``临时变量引用了对象，会导致该变量的存在时间比预期长\n",
    " 通常对局部变量来说不是问题，引用局部变量在函数返回时会被销毁\n",
    " \n",
    " 上面的示例时因为cheese是全局变量，除非显示删除，否则不会小时"
   ]
  },
  {
   "cell_type": "markdown",
   "id": "13dbca19",
   "metadata": {},
   "source": [
    "与WeakValueDictionary对应的是WeakKeyDictionary，后者的键是弱引用\n",
    "WeakKeyDictionary：\n",
    "    可以为应用中其他部分拥有的对象添加数据，并且无需为对象添加属性\n",
    "    这对覆盖属性访问权限的对象尤其有用\n",
    " \n",
    "weakref模块还提供了WeakSet类，这个类的作用是：\n",
    "    保存元素弱引用的集合类，元素没有强引用时，集合会把它删除\n",
    "    如果一个类需要知道所有实例，好的方案是创建一个WeakSet类型的类属性 用于保存实例引用\n",
    "    如果使用常规set 实例永远不会被垃圾回收\n",
    "    因为类中有实例的强引用，而类存在的时间与Python进程一样长，除非显示删除类"
   ]
  },
  {
   "cell_type": "markdown",
   "id": "bb2b0a8a",
   "metadata": {},
   "source": [
    "弱引用的局限\n",
    "    \n",
    "    不是每个Python对象都能作为弱引用的目标"
   ]
  },
  {
   "cell_type": "markdown",
   "id": "6a3ff5be",
   "metadata": {},
   "source": [
    "list和dict实例不能作为所指的对象，但是它们的子类可以\n"
   ]
  },
  {
   "cell_type": "code",
   "execution_count": 224,
   "id": "c529bf73",
   "metadata": {},
   "outputs": [],
   "source": [
    "class MyList(list):\n",
    "    '''list的子类 实例可以作为弱引用的目标'''\n",
    "a_list = MyList(range(10))\n",
    "'''a_list可以作为弱引用的目标'''\n",
    "wref_to_list = weakref.ref(a_list)"
   ]
  },
  {
   "cell_type": "markdown",
   "id": "cf4058e0",
   "metadata": {},
   "source": [
    "set实例可以作为所指对象，因此上面的示例才用了set {1，2，3}\n",
    "``int和tuple示例不能作为弱引用的目标，甚至它们的子类也不行"
   ]
  },
  {
   "cell_type": "markdown",
   "id": "cccb3f11",
   "metadata": {},
   "source": [
    "Python's trick\n",
    "    对于元组来说，t[:]不是创建副本， 而是返回同一个对象的 引用\n",
    "    tuple(t)获得的也是同一个元组的引用"
   ]
  },
  {
   "cell_type": "code",
   "execution_count": 225,
   "id": "9a9dc030",
   "metadata": {},
   "outputs": [
    {
     "data": {
      "text/plain": [
       "True"
      ]
     },
     "execution_count": 225,
     "metadata": {},
     "output_type": "execute_result"
    }
   ],
   "source": [
    "'''使用另一个元组构建元组，得到的其实是同一个元组'''\n",
    "t1 = (1,2,3)\n",
    "t2 = tuple(t1)\n",
    "t2 is t1"
   ]
  },
  {
   "cell_type": "code",
   "execution_count": 226,
   "id": "fa2b685c",
   "metadata": {},
   "outputs": [
    {
     "data": {
      "text/plain": [
       "True"
      ]
     },
     "execution_count": 226,
     "metadata": {},
     "output_type": "execute_result"
    }
   ],
   "source": [
    "t3 = t1[:]\n",
    "t3 is t1"
   ]
  },
  {
   "cell_type": "markdown",
   "id": "ce0cc9c1",
   "metadata": {},
   "source": [
    "str\\bytes和frozenset实例也有这种行为\n",
    "frozenset实例不是序列，因此不能使用fs[:] fs是fronzenset的实例\n",
    "但是：\n",
    "    fs.copy()具有相同的效果： 会返回同一个对象的引用 而不是创建一个副本"
   ]
  },
  {
   "cell_type": "code",
   "execution_count": 227,
   "id": "fcf04c6e",
   "metadata": {},
   "outputs": [
    {
     "data": {
      "text/plain": [
       "False"
      ]
     },
     "execution_count": 227,
     "metadata": {},
     "output_type": "execute_result"
    }
   ],
   "source": [
    "'''字符串字面量可能会创建共享的对象'''\n",
    "t1 = (1,2,3)\n",
    "t3 = (1,2,3)\n",
    "t3 is t1"
   ]
  },
  {
   "cell_type": "code",
   "execution_count": 228,
   "id": "f791e9a0",
   "metadata": {},
   "outputs": [
    {
     "data": {
      "text/plain": [
       "True"
      ]
     },
     "execution_count": 228,
     "metadata": {},
     "output_type": "execute_result"
    }
   ],
   "source": [
    "s1 = 'ABC'\n",
    "s2 = 'ABC'\n",
    "s2 is s1"
   ]
  },
  {
   "cell_type": "markdown",
   "id": "432da4cb",
   "metadata": {},
   "source": [
    "共享字符串是一种优化措施，称为驻留 （interning)\n",
    "CPython会在小的整数上使用这个优化措施，防止重复创建 如 0 -1\n",
    "CPython不会驻留所有字符串和整数\n",
    "驻留的条件是实现细节 没有文档说明\n",
    "\n",
    "``比较字符串或整数还是使用 == 而不是is 因为驻留是Python解释器内部使用的一个特性"
   ]
  },
  {
   "cell_type": "markdown",
   "id": "8ff974f1",
   "metadata": {},
   "source": [
    "8 总结\n",
    "    每个Python对象都有标识、类型和值。只有对象的值会不时变化\n",
    "    \n",
    "    如果两个变量指代的不可变对象有相同的值 a==b True\n",
    "    实际上它们指代的是副本还是同一个对象的别名 基本没什么关系\n",
    "    因为不可变对象的值 不会变\n",
    "    \n",
    "    例外：\n",
    "        如元组和frozenset 如果不可变集合保存的是可变元素的引用\n",
    "        那么可变元素的值发生变化后，不可变集合也会随之改变\n",
    "        不可变集合不变的是所含对象的标识\n",
    "        \n",
    "     变量保存的是引用：\n",
    "         简单的赋值不创建副本\n",
    "         对+= 或 *= 所做的增量赋值，如果左边的变量绑定的是不可变对象\n",
    "         会创建新对象\n",
    "         如果是可变对象，会就地修改\n",
    "         \n",
    "         为现有变量赋予新值，不会修改之前绑定的变量\n",
    "         这叫重新绑定\n",
    "         现在变量绑定了其他对象，如果是最后一个引用，则对象会被垃圾回收\n",
    "         \n",
    "         函数的参数以别名的形式传递，函数会修改通过参数传入的可变对象\n",
    "         在本地创建副本，或使用不可变对象 例如元组\n",
    "         \n",
    "         使用可变类型作为函数参数的默认值很危险，如果修改了参数\n",
    "         默认值也会改变，会影响之后默认值的调用 （passengers）\n",
    "      \n",
    "      在CPython中，对象的引用数量归零后，对象会被立即销毁\n",
    "      如果除了循环引用之外没有其他引用，了两个对象都会被销毁\n",
    "      有时 需要保存对象的引用而不时对象本身\n",
    "      可以使用弱引用实现，是一种底层机制\n",
    "      weakref模块中WeakValueDictionary WeakKeyDictionary和WeakSet等集合类\n",
    "      以及finalize函数的底层支持(注册弱引用)"
   ]
  },
  {
   "cell_type": "code",
   "execution_count": 229,
   "id": "4dfaa8bb",
   "metadata": {},
   "outputs": [
    {
     "name": "stdout",
     "output_type": "stream",
     "text": [
      "234 123\n"
     ]
    }
   ],
   "source": [
    "a = 123\n",
    "b = a\n",
    "a = 234\n",
    "print(a,b)"
   ]
  },
  {
   "cell_type": "code",
   "execution_count": 231,
   "id": "b9859a2e",
   "metadata": {},
   "outputs": [
    {
     "data": {
      "text/plain": [
       "[1, 2, 3, 4]"
      ]
     },
     "execution_count": 231,
     "metadata": {},
     "output_type": "execute_result"
    }
   ],
   "source": [
    "ll = [1,2,3]\n",
    "\n",
    "def f(ll):\n",
    "    ll.append(4)\n",
    "\n",
    "f(ll)\n",
    "ll"
   ]
  },
  {
   "cell_type": "markdown",
   "id": "532b4266",
   "metadata": {},
   "source": [
    "9 Python风格对象\n",
    "    duck typing 鸭子类型"
   ]
  },
  {
   "cell_type": "markdown",
   "id": "2ad59ee7",
   "metadata": {},
   "source": [
    "对象表示形式\n",
    "    获取对象的字符串表示形式\n",
    "    repr()\n",
    "    str()\n",
    "    \n",
    "实现__repr__和__str__特殊方法为repr()和str()提供支持\n",
    "用到__bytes__和__format__为对象提供其他的表示形式\n",
    "实际__bytes__方法与__str__方法类似：\n",
    "    bytes()函数调用它获取 对象的字节序列\n",
    "而__format__方法会被内置的format()函数和str.format()方法调用\n",
    "使用特殊的格式代码显示对象的字符串表示形式"
   ]
  },
  {
   "cell_type": "markdown",
   "id": "db460f79",
   "metadata": {},
   "source": [
    "向量类\n",
    "    示例：生成对象表示形式的多种方法"
   ]
  },
  {
   "cell_type": "markdown",
   "id": "7ac884a5",
   "metadata": {},
   "source": [
    ">>> v1 = Vector2d(3, 4)\n",
    ">>> print(v1.x, v1.y) ➊\n",
    "3.0 4.0\n",
    ">>> x, y = v1 ➋\n",
    ">>> x, y\n",
    "(3.0, 4.0)\n",
    ">>> v1 ➌\n",
    "Vector2d(3.0, 4.0)\n",
    ">>> v1_clone = eval(repr(v1)) ➍\n",
    ">>> v1 == v1_clone ➎\n",
    "True\n",
    ">>> print(v1) ➏\n",
    "(3.0, 4.0)\n",
    ">>> octets = bytes(v1) ➐\n",
    ">>> octets\n",
    "b'd\\\\x00\\\\x00\\\\x00\\\\x00\\\\x00\\\\x00\\\\x08@\\\\x00\\\\x00\\\\x00\\\\x00\\\\x00\\\\x00\\\\x10@'\n",
    ">>> abs(v1) ➑\n",
    "5.0\n",
    ">>> bool(v1), bool(Vector2d(0, 0)) ➒\n",
    "\n",
    "repr 函数调用 Vector2d 实例，得到的结果类似于构建实例的源码\n",
    "这里使用 eval 函数，表明 repr 函数调用 Vector2d 实例得到的是对构造方法的准确表述\n",
    "print 函数会调用 str 函数，对 Vector2d 来说，输出的是一个有序对\n",
    "bytes 函数会调用 __bytes__ 方法，生成实例的二进制表示形式\n",
    "abs 函数会调用 __abs__ 方法，返回 Vector2d 实例的模\n",
    "bool 函数会调用 __bool__ 方法，如果 Vector2d 实例的模为零，返回 False，否则返回 True"
   ]
  },
  {
   "cell_type": "code",
   "execution_count": 281,
   "id": "d611af96",
   "metadata": {},
   "outputs": [],
   "source": [
    "from array import array\n",
    "import math\n",
    "\n",
    "class Vector2d:\n",
    "    typecode = 'd'\n",
    "    \n",
    "    def __init__(self,x,y):\n",
    "        self.x = float(x)\n",
    "        self.y = float(y)\n",
    "        \n",
    "    def __iter__(self):\n",
    "        return (i for i in(self.x,self.y))\n",
    "    \n",
    "    def __repr__(self):\n",
    "        class_name = type(self).__name__\n",
    "        ''' {!r} 获取各个分量的表示形式，然后插值，构成一个字符串'''\n",
    "        return  '{}({!r}, {!r})'.format(class_name, *self) \n",
    "    \n",
    "    def __str__(self):\n",
    "        return str(tuple(self))\n",
    "    \n",
    "    def __bytes__(self):\n",
    "        '''为了生成字节序列，把 typecode 转换成字节序列'''\n",
    "        '''迭代 Vector2d 实例，得到一个数组，再把数组转换成字节序列'''\n",
    "        return (bytes([ord(self.typecode)]) + bytes(array(self.typecode,self)))\n",
    "    \n",
    "    def __eq__(self,other):\n",
    "        '''为了快速比较所有分量，在操作数中构建元组'''\n",
    "        return tuple(self) == tuple(other)\n",
    "    \n",
    "    def __abs__(self):\n",
    "        '''模是 x 和 y 分量构成的直角三角形的斜边长'''\n",
    "        return math.hypot(self.x,self.y)\n",
    "    \n",
    "    def __bool__(self):\n",
    "        ''' __bool__ 方法使用 abs(self) 计算模，然后把结果转换成布尔值，因此，0.0 是 False，非零值是 True'''\n",
    "        return bool(abs(self))\n",
    "    \n",
    "    def __format__(self,fmt_spec=''):\n",
    "        components = (format(c,fmt_spec) for c in self)\n",
    "        return '({},{})'.format(*components)\n",
    "    \n",
    "    def angle(self):\n",
    "        return math.atan2(self.y,self.x)\n",
    "        '''计算角度'''\n",
    "        \n",
    "    def __format__(self,fmt_spec=''):\n",
    "        if fmt_spec.endswith('p'):\n",
    "            fmt_spec = fmt_spec[:-1]\n",
    "            coords = (abs(self),self.angle())\n",
    "            outer_fmt = '<{},{}>'\n",
    "        else:\n",
    "            coords = self\n",
    "            outer_fmt = '({},{})'\n",
    "        components = (format(c,fmt_spec) for c in coords)\n",
    "        return outer_fmt.format(*components)"
   ]
  },
  {
   "cell_type": "code",
   "execution_count": null,
   "id": "d8832130",
   "metadata": {},
   "outputs": [],
   "source": []
  },
  {
   "cell_type": "markdown",
   "id": "e3fd58a1",
   "metadata": {},
   "source": [
    "备选构造方法\n",
    "    把Vector2d实例转换为字节序列\n",
    "    同理 也能从字节序列转换成Vector2d实例\n",
    "    \n",
    "    array.array有何类方法\n",
    "    .frombytes"
   ]
  },
  {
   "cell_type": "code",
   "execution_count": null,
   "id": "63117aaf",
   "metadata": {},
   "outputs": [],
   "source": [
    "@classmethod\n",
    "def frombytes(cls,octets):\n",
    "    typecode = chr(octets[0])\n",
    "    memv = memoryview(octets[1:]).cast(typecode)\n",
    "    return cls(*memv)"
   ]
  },
  {
   "cell_type": "markdown",
   "id": "0e3aaad7",
   "metadata": {},
   "source": [
    "以上的示例\n",
    "    类方法使用classmethod装饰器修饰\n",
    "    不用传入self参数，相反 要通过cls传入类本身\n",
    "    从第一个字节中读取typecode\n",
    "    使用传入的octets字节序创建一个memoryview 然后使用typecode转换\n",
    "    拆包转换后的memoryview得到构造方法需要的一对参数 cls(*memv) "
   ]
  },
  {
   "cell_type": "markdown",
   "id": "1ec2b02f",
   "metadata": {},
   "source": [
    "classmethod 与 staticmethod\n",
    "\n",
    "classmethod:\n",
    "    定义操作类。而不是操作实例\n",
    "    classmethod改变了调用方法的方式，因此类方法的第一个参数是类本身，而不是实例\n",
    "    classmethod常见用途：\n",
    "        定义备选构造方法，比如以上示例\n",
    "        frombytes()最后一行使用cls参数构建了一个新实例 即cls(*memv)*\n",
    "       ``按照约定 类方法的第一个参数名为cls``\n",
    "\n",
    "staticmethod:\n",
    "    也会改变方法的调用方式，第一个参数不是特殊的值\n",
    "    其实 静态方法就是普通的函数\n",
    "    只是因为在类的定义体中，而不是在模块层定义"
   ]
  },
  {
   "cell_type": "code",
   "execution_count": 238,
   "id": "2e0eaaaa",
   "metadata": {},
   "outputs": [
    {
     "data": {
      "text/plain": [
       "(__main__.Demo,)"
      ]
     },
     "execution_count": 238,
     "metadata": {},
     "output_type": "execute_result"
    }
   ],
   "source": [
    "'''比较classmethod 和 staticmethod'''\n",
    "class Demo:\n",
    "    @classmethod\n",
    "    def klassmeth(*args):\n",
    "        return args\n",
    "    @staticmethod\n",
    "    def statmeth(*args):\n",
    "        return args\n",
    "\n",
    "Demo.klassmeth()"
   ]
  },
  {
   "cell_type": "code",
   "execution_count": 239,
   "id": "a79e3f3c",
   "metadata": {},
   "outputs": [
    {
     "data": {
      "text/plain": [
       "(__main__.Demo, 'spam')"
      ]
     },
     "execution_count": 239,
     "metadata": {},
     "output_type": "execute_result"
    }
   ],
   "source": [
    "Demo.klassmeth('spam')"
   ]
  },
  {
   "cell_type": "code",
   "execution_count": 240,
   "id": "af1f7098",
   "metadata": {},
   "outputs": [
    {
     "data": {
      "text/plain": [
       "()"
      ]
     },
     "execution_count": 240,
     "metadata": {},
     "output_type": "execute_result"
    }
   ],
   "source": [
    "Demo.statmeth()"
   ]
  },
  {
   "cell_type": "code",
   "execution_count": 241,
   "id": "97b091f9",
   "metadata": {},
   "outputs": [
    {
     "data": {
      "text/plain": [
       "('spam',)"
      ]
     },
     "execution_count": 241,
     "metadata": {},
     "output_type": "execute_result"
    }
   ],
   "source": [
    "Demo.statmeth('spam')"
   ]
  },
  {
   "cell_type": "markdown",
   "id": "3fc7bf7e",
   "metadata": {},
   "source": [
    "调用classmethod 它的第一个参数是Demo类"
   ]
  },
  {
   "cell_type": "markdown",
   "id": "a7394ce2",
   "metadata": {},
   "source": [
    "格式化显示\n",
    "    内置的format()函数和str.format*()方法\n",
    "    把各个类型的格式化方式委托给相应的.__format__(format_spec)方法\n",
    "    format_spec是格式说明符\n",
    "        是format(my_obj,format_apec)第二个参数\n",
    "        str.format()方法的格式字符串，{}里代换字符：后面的部分\n",
    "示例：        "
   ]
  },
  {
   "cell_type": "code",
   "execution_count": 242,
   "id": "f11d8c4f",
   "metadata": {},
   "outputs": [
    {
     "data": {
      "text/plain": [
       "0.4115226337448559"
      ]
     },
     "execution_count": 242,
     "metadata": {},
     "output_type": "execute_result"
    }
   ],
   "source": [
    "br1 = 1/2.43\n",
    "br1"
   ]
  },
  {
   "cell_type": "code",
   "execution_count": 243,
   "id": "2a1843d8",
   "metadata": {},
   "outputs": [
    {
     "data": {
      "text/plain": [
       "'0.4115'"
      ]
     },
     "execution_count": 243,
     "metadata": {},
     "output_type": "execute_result"
    }
   ],
   "source": [
    "format(br1,'0.4f') \n",
    "'''格式说明符是0.4f'''"
   ]
  },
  {
   "cell_type": "code",
   "execution_count": 244,
   "id": "1d59ba23",
   "metadata": {},
   "outputs": [
    {
     "data": {
      "text/plain": [
       "'1 BRL = 0.41 USD'"
      ]
     },
     "execution_count": 244,
     "metadata": {},
     "output_type": "execute_result"
    }
   ],
   "source": [
    "'1 BRL = {rate:0.2f} USD'.format(rate=br1)\n",
    "'''格式说明符是0.2f'''\n",
    "'''代换字段中的rate字串是字段名称 与格式说明符无关'''"
   ]
  },
  {
   "cell_type": "markdown",
   "id": "18b4da06",
   "metadata": {},
   "source": [
    "格式规范 微语言 为一些内置类型提供了专用的表示代码\n",
    "如： b和x分别表示二进制和十六进制的int类型 f表示小数形式的float类型 %表示百分数"
   ]
  },
  {
   "cell_type": "code",
   "execution_count": 245,
   "id": "832f6c27",
   "metadata": {
    "scrolled": true
   },
   "outputs": [
    {
     "data": {
      "text/plain": [
       "'101010'"
      ]
     },
     "execution_count": 245,
     "metadata": {},
     "output_type": "execute_result"
    }
   ],
   "source": [
    "format(42,'b')"
   ]
  },
  {
   "cell_type": "code",
   "execution_count": 246,
   "id": "58d0e35a",
   "metadata": {},
   "outputs": [
    {
     "data": {
      "text/plain": [
       "'66.7%'"
      ]
     },
     "execution_count": 246,
     "metadata": {},
     "output_type": "execute_result"
    }
   ],
   "source": [
    "format(2/3,'.1%')"
   ]
  },
  {
   "cell_type": "markdown",
   "id": "d3d1bc3d",
   "metadata": {},
   "source": [
    "格式规范微语言是可扩展的\n",
    "因为各个类可以自行决定如何解释format_spec参数\n",
    "例如： datetime模块中的类，它们的__format__方法使用的格式代码与strftime()一样\n",
    "示例： 内置的format()函数和str.format()方法的"
   ]
  },
  {
   "cell_type": "code",
   "execution_count": 247,
   "id": "735d4330",
   "metadata": {},
   "outputs": [
    {
     "data": {
      "text/plain": [
       "'13:08:52'"
      ]
     },
     "execution_count": 247,
     "metadata": {},
     "output_type": "execute_result"
    }
   ],
   "source": [
    "from datetime import datetime\n",
    "now = datetime.now()\n",
    "format(now,'%H:%M:%S')"
   ]
  },
  {
   "cell_type": "code",
   "execution_count": 248,
   "id": "132b7f10",
   "metadata": {},
   "outputs": [
    {
     "data": {
      "text/plain": [
       "\"It's now 01:08 PM\""
      ]
     },
     "execution_count": 248,
     "metadata": {},
     "output_type": "execute_result"
    }
   ],
   "source": [
    "\"It's now {:%I:%M %p}\".format(now)"
   ]
  },
  {
   "cell_type": "markdown",
   "id": "35bc9ac6",
   "metadata": {},
   "source": [
    "如果类没有定义__format__方法，从object继承的方法会返回str(my_object)\n",
    "上面的Vector2d定义了__str__方法，因此可以这样做"
   ]
  },
  {
   "cell_type": "code",
   "execution_count": 274,
   "id": "6a0adf65",
   "metadata": {},
   "outputs": [
    {
     "data": {
      "text/plain": [
       "'(3.0,4.0)'"
      ]
     },
     "execution_count": 274,
     "metadata": {},
     "output_type": "execute_result"
    }
   ],
   "source": [
    "v1 = Vector2d(3,4)\n",
    "format(v1)"
   ]
  },
  {
   "cell_type": "code",
   "execution_count": 269,
   "id": "5676f2f0",
   "metadata": {},
   "outputs": [
    {
     "ename": "TypeError",
     "evalue": "unsupported format string passed to Vector2d.__format__",
     "output_type": "error",
     "traceback": [
      "\u001b[1;31m---------------------------------------------------------------------------\u001b[0m",
      "\u001b[1;31mTypeError\u001b[0m                                 Traceback (most recent call last)",
      "\u001b[1;32m~\\AppData\\Local\\Temp/ipykernel_14292/351505968.py\u001b[0m in \u001b[0;36m<module>\u001b[1;34m\u001b[0m\n\u001b[0;32m      1\u001b[0m \u001b[1;34m'''传入格式说明符 object.__format__会抛出异常'''\u001b[0m\u001b[1;33m\u001b[0m\u001b[1;33m\u001b[0m\u001b[0m\n\u001b[1;32m----> 2\u001b[1;33m \u001b[0mformat\u001b[0m\u001b[1;33m(\u001b[0m\u001b[0mv1\u001b[0m\u001b[1;33m,\u001b[0m\u001b[1;34m'.2f'\u001b[0m\u001b[1;33m)\u001b[0m\u001b[1;33m\u001b[0m\u001b[1;33m\u001b[0m\u001b[0m\n\u001b[0m",
      "\u001b[1;31mTypeError\u001b[0m: unsupported format string passed to Vector2d.__format__"
     ]
    }
   ],
   "source": [
    "'''传入格式说明符 object.__format__会抛出异常'''\n",
    "format(v1,'.2f')"
   ]
  },
  {
   "cell_type": "markdown",
   "id": "48063d46",
   "metadata": {},
   "source": [
    "需要在Vector2d类中定义\n",
    "def __Format__(self,fmt_spec=''):\n",
    "    components = (format(c,fmt_spec) for c in self)\n",
    "    return '({}{})'.format(*component)"
   ]
  },
  {
   "cell_type": "code",
   "execution_count": 275,
   "id": "0e13895f",
   "metadata": {},
   "outputs": [
    {
     "data": {
      "text/plain": [
       "'(3.000,4.000)'"
      ]
     },
     "execution_count": 275,
     "metadata": {},
     "output_type": "execute_result"
    }
   ],
   "source": [
    "format(v1,'.3f')"
   ]
  },
  {
   "cell_type": "code",
   "execution_count": 276,
   "id": "22d3dc46",
   "metadata": {},
   "outputs": [
    {
     "data": {
      "text/plain": [
       "'(3.000e+00,4.000e+00)'"
      ]
     },
     "execution_count": 276,
     "metadata": {},
     "output_type": "execute_result"
    }
   ],
   "source": [
    "format(v1, '.3e')\n"
   ]
  },
  {
   "cell_type": "markdown",
   "id": "c38fcf91",
   "metadata": {},
   "source": [
    "使用内置的format函数把fmt_spec应用到向量的各个分量上\n",
    "构建一个可迭代的格式化字符串\n",
    "将格式化字符串代入公式'(x,y)'中"
   ]
  },
  {
   "cell_type": "markdown",
   "id": "d3be0ef2",
   "metadata": {},
   "source": [
    "整数使用的代码有 'bcdoxXn'，浮点数使用的代码有'eEfFgGn%'，字符串使用的代码有 's'\n",
    "\n",
    "示例：在Vector2d中定义函数计算极坐标 <r,θ>"
   ]
  },
  {
   "cell_type": "code",
   "execution_count": null,
   "id": "313b45d9",
   "metadata": {},
   "outputs": [],
   "source": [
    "def angle(self):\n",
    "        return math.atan2(self.y,self.x)\n",
    "        '''计算角度'''\n",
    "        \n",
    "def __format__(self,fmt_spec=''):\n",
    "    if fmt_spec.endswith('p'):\n",
    "        fmt_spec = fmt_spec[:-1]\n",
    "        coords = (abs(self),self.angle())\n",
    "        outer_fmt = '<{},{}>'\n",
    "    else:\n",
    "        coords = self\n",
    "        outer_fmt = '({},{})'\n",
    "    components = (format(c,fmt_spec) for c in coords)\n",
    "    return outer_fmt.format(*components)"
   ]
  },
  {
   "cell_type": "code",
   "execution_count": 282,
   "id": "e9908ee5",
   "metadata": {},
   "outputs": [
    {
     "data": {
      "text/plain": [
       "'<1.4142135623730951,0.7853981633974483>'"
      ]
     },
     "execution_count": 282,
     "metadata": {},
     "output_type": "execute_result"
    }
   ],
   "source": [
    "format(Vector2d(1, 1), 'p')"
   ]
  },
  {
   "cell_type": "code",
   "execution_count": 283,
   "id": "4f4dd763",
   "metadata": {},
   "outputs": [
    {
     "data": {
      "text/plain": [
       "'<1.414e+00,7.854e-01>'"
      ]
     },
     "execution_count": 283,
     "metadata": {},
     "output_type": "execute_result"
    }
   ],
   "source": [
    "format(Vector2d(1, 1), '.3ep')"
   ]
  },
  {
   "cell_type": "code",
   "execution_count": 284,
   "id": "f68b370e",
   "metadata": {},
   "outputs": [
    {
     "data": {
      "text/plain": [
       "'<1.41421,0.78540>'"
      ]
     },
     "execution_count": 284,
     "metadata": {},
     "output_type": "execute_result"
    }
   ],
   "source": [
    "format(Vector2d(1, 1), '0.5fp')"
   ]
  },
  {
   "cell_type": "markdown",
   "id": "afd0fb84",
   "metadata": {},
   "source": [
    "目前Vector2d是不可散列 所以不能放在集合中"
   ]
  },
  {
   "cell_type": "code",
   "execution_count": 285,
   "id": "4ef8c0cf",
   "metadata": {},
   "outputs": [
    {
     "ename": "TypeError",
     "evalue": "unhashable type: 'Vector2d'",
     "output_type": "error",
     "traceback": [
      "\u001b[1;31m---------------------------------------------------------------------------\u001b[0m",
      "\u001b[1;31mTypeError\u001b[0m                                 Traceback (most recent call last)",
      "\u001b[1;32m~\\AppData\\Local\\Temp/ipykernel_14292/387286146.py\u001b[0m in \u001b[0;36m<module>\u001b[1;34m\u001b[0m\n\u001b[0;32m      1\u001b[0m \u001b[0mv1\u001b[0m \u001b[1;33m=\u001b[0m \u001b[0mVector2d\u001b[0m\u001b[1;33m(\u001b[0m\u001b[1;36m3\u001b[0m\u001b[1;33m,\u001b[0m\u001b[1;36m4\u001b[0m\u001b[1;33m)\u001b[0m\u001b[1;33m\u001b[0m\u001b[1;33m\u001b[0m\u001b[0m\n\u001b[1;32m----> 2\u001b[1;33m \u001b[0mhash\u001b[0m\u001b[1;33m(\u001b[0m\u001b[0mv1\u001b[0m\u001b[1;33m)\u001b[0m\u001b[1;33m\u001b[0m\u001b[1;33m\u001b[0m\u001b[0m\n\u001b[0m",
      "\u001b[1;31mTypeError\u001b[0m: unhashable type: 'Vector2d'"
     ]
    }
   ],
   "source": [
    "v1 = Vector2d(3,4)\n",
    "hash(v1)"
   ]
  },
  {
   "cell_type": "code",
   "execution_count": 287,
   "id": "b94bc9d5",
   "metadata": {},
   "outputs": [
    {
     "ename": "TypeError",
     "evalue": "unhashable type: 'Vector2d'",
     "output_type": "error",
     "traceback": [
      "\u001b[1;31m---------------------------------------------------------------------------\u001b[0m",
      "\u001b[1;31mTypeError\u001b[0m                                 Traceback (most recent call last)",
      "\u001b[1;32m~\\AppData\\Local\\Temp/ipykernel_14292/3689049188.py\u001b[0m in \u001b[0;36m<module>\u001b[1;34m\u001b[0m\n\u001b[1;32m----> 1\u001b[1;33m \u001b[0mset\u001b[0m\u001b[1;33m(\u001b[0m\u001b[1;33m[\u001b[0m\u001b[0mv1\u001b[0m\u001b[1;33m]\u001b[0m\u001b[1;33m)\u001b[0m\u001b[1;33m\u001b[0m\u001b[1;33m\u001b[0m\u001b[0m\n\u001b[0m",
      "\u001b[1;31mTypeError\u001b[0m: unhashable type: 'Vector2d'"
     ]
    }
   ],
   "source": [
    "set([v1])"
   ]
  },
  {
   "cell_type": "markdown",
   "id": "36205f35",
   "metadata": {},
   "source": [
    "将Vector2d变成可散列的，必须使用__hash__方法\n",
    "此外 需要让向量不可变\n",
    "目前 可以分量赋新值"
   ]
  },
  {
   "cell_type": "code",
   "execution_count": 288,
   "id": "6a9bea45",
   "metadata": {},
   "outputs": [
    {
     "data": {
      "text/plain": [
       "(3.0, 4.0)"
      ]
     },
     "execution_count": 288,
     "metadata": {},
     "output_type": "execute_result"
    }
   ],
   "source": [
    "v1.x,v1.y"
   ]
  },
  {
   "cell_type": "code",
   "execution_count": 290,
   "id": "23b14b91",
   "metadata": {},
   "outputs": [],
   "source": [
    "v1.x = 7"
   ]
  },
  {
   "cell_type": "code",
   "execution_count": null,
   "id": "559d2240",
   "metadata": {},
   "outputs": [],
   "source": [
    "'''将x y设置为只读特性'''\n",
    "class Vector2d:\n",
    "    typecode = 'd'\n",
    "    \n",
    "    def __init__(self,x,y):\n",
    "        self.__x = float(x)\n",
    "        self.__y = float(y)\n",
    "        '''前导下划线 将属性标记为私有的'''\n",
    "    \n",
    "    '''@property装饰器把读值方法标记为特性'''\n",
    "    @property\n",
    "    def x(self):\n",
    "        return self.__x\n",
    "    \n",
    "    @property\n",
    "    def y(self):\n",
    "        return self.__y\n",
    "    \n",
    "    def __iter__(self):\n",
    "        return (i for i in (self.x,self.y))\n",
    "    '''读取xy分量的方法保持不变 不加前导下划线 读取公开特性 而不读取私有属性'''"
   ]
  },
  {
   "cell_type": "markdown",
   "id": "2e9290d0",
   "metadata": {},
   "source": [
    "只有让这些向量不可变 才能实现__hash__方法\n",
    "这个方法返回一个整数\n",
    "理想情况下需要考虑对象属性的散列值__eq__方法\n",
    "因为相同的对象应该具有相同的散列值"
   ]
  },
  {
   "cell_type": "code",
   "execution_count": null,
   "id": "14e865b7",
   "metadata": {},
   "outputs": [],
   "source": [
    "'''实现__hash__方法'''\n",
    "def __hash__(self):\n",
    "    return hash(self.x) ^ hash(self.y)\n",
    "'''使用异或^混合各分量的散列值\n",
    "    可以使用hash() 和 set([])'''"
   ]
  },
  {
   "cell_type": "markdown",
   "id": "15518272",
   "metadata": {},
   "source": [
    "私有属性和受保护的属性\n",
    "__ 加了前导下划线的属性为私有属性\n",
    "私有属性会被存入示例的__dict__属性中\n",
    "会在前面加上一个下划线和类名\n",
    "_类名__私有属性"
   ]
  },
  {
   "cell_type": "code",
   "execution_count": 291,
   "id": "2db23d71",
   "metadata": {},
   "outputs": [
    {
     "data": {
      "text/plain": [
       "{'x': 3.0, 'y': 4.0}"
      ]
     },
     "execution_count": 291,
     "metadata": {},
     "output_type": "execute_result"
    }
   ],
   "source": [
    "v1 = Vector2d(3, 4)\n",
    "v1.__dict__"
   ]
  },
  {
   "cell_type": "code",
   "execution_count": 292,
   "id": "a684843f",
   "metadata": {},
   "outputs": [
    {
     "data": {
      "text/plain": [
       "3.0"
      ]
     },
     "execution_count": 292,
     "metadata": {},
     "output_type": "execute_result"
    }
   ],
   "source": [
    "v1.x"
   ]
  },
  {
   "cell_type": "markdown",
   "id": "eee10e84",
   "metadata": {},
   "source": [
    "名称改写是避免意外访问，不能防止故意做错事\n",
    "一般来说约定使用一个下划线 表示该属性不能在外部访问"
   ]
  },
  {
   "cell_type": "markdown",
   "id": "35cfc81c",
   "metadata": {},
   "source": [
    "使用__slot__属性节省空间\n",
    "    一般来说 在实例的__dict__字典里存储实例属性\n",
    "    为了使用底层的散列表提升访问速度，字典会消耗大量内存\n",
    "        如果要处理数百万个属性不多的实例\n",
    "        通过__slot__类属性，能节省大量内存\n",
    "        方法是让解释器在元组中存储实例属性，而不用字典\n",
    "       \n",
    "       因为字典用散列表 内存消耗比元组大"
   ]
  },
  {
   "cell_type": "code",
   "execution_count": null,
   "id": "e568a89d",
   "metadata": {},
   "outputs": [],
   "source": [
    "'''设置__slot__值为字符串构成 可迭代对象 元组'''\n",
    "class Vector2d:\n",
    "    __slots__ = ('__x','__y')\n",
    "    typecode = 'd'"
   ]
  },
  {
   "cell_type": "markdown",
   "id": "76a131b1",
   "metadata": {},
   "source": [
    "在类中定义__slots__属性是告诉解释器\n",
    "这个类中所有实例属性在这里\n",
    "这样Python会在各个实例中使用类似元组的结构存储实例变量\n",
    "从而避免使用消耗内存的__dict__属性\n",
    "如果有数百万个实例同时活动，能节省大量内存\n",
    "\n",
    "如果处理数百万个数值的对象 应该使用Numpy数组\n",
    "Numpy数组能高效使用内存，并购提供了高度优化的数值处理函数\n",
    "其中很多次都一次操作整个数组"
   ]
  },
  {
   "cell_type": "markdown",
   "id": "9a30bf74",
   "metadata": {},
   "source": [
    "类定义__slots__之后，实例不能再有__slots__中之外的其他属性\n",
    "不要使用__slots__属性禁止类的用户 新增实例属性\n",
    "__slot_用于优化 而不是约束"
   ]
  },
  {
   "cell_type": "markdown",
   "id": "286bbe47",
   "metadata": {},
   "source": [
    "``错误的使用方法``\n",
    "节省的内存可能被再次使用\n",
    "\n",
    "把__dict__名称添加到__slots__属性中\n",
    "实例会在元组中保存各个实例的属性\n",
    "还支持动态创建属性 这些属性存储在常规的__dict__中\n",
    "\n"
   ]
  },
  {
   "cell_type": "markdown",
   "id": "23bcfd76",
   "metadata": {},
   "source": [
    "__weakref__属性__\n",
    "如果类定义了__slots__属性  而且想把实例作为弱引用的目标\n",
    "需要把__weakref__添加到__slots__中\n"
   ]
  },
  {
   "cell_type": "markdown",
   "id": "b5482c5f",
   "metadata": {},
   "source": [
    "__slots__的问题：__\n",
    "   基类定义了__slots__ 子类也需要定义__slots__因为解释器会忽略继承的__slots__属性\n",
    "   不要将__dict__加入__slots__中\n",
    "   如果要将实例作为弱引用的目标 将__weakref__加入__slots__"
   ]
  },
  {
   "cell_type": "markdown",
   "id": "d6c518bd",
   "metadata": {},
   "source": [
    "覆盖类属性\n",
    "    Python特性：类属性可用于为实例提供默认值\n",
    "    如果为不存在的实例属性赋值，会新建实例属性\n",
    "    比如：\n",
    "    Vector2d中有个typecode类属性 self.typecode读取它的值\n",
    "    因为Vector2d实例本身没有typecode属性，所以self.typecode获取的是Veccor.typecode类属性的值\n",
    "    为typecode实例属性赋值，同名的类属性不受影响\n",
    "    实例读取到的self.typecode 是实例属性typecode\n",
    "    即把同名类属性遮盖了\n",
    "    借助这一特性，可以为各个实例的typecode属性定制不同的值\n",
    "    "
   ]
  },
  {
   "cell_type": "code",
   "execution_count": 293,
   "id": "e1647705",
   "metadata": {},
   "outputs": [
    {
     "data": {
      "text/plain": [
       "b'd\\x9a\\x99\\x99\\x99\\x99\\x99\\xf1?\\x9a\\x99\\x99\\x99\\x99\\x99\\x01@'"
      ]
     },
     "execution_count": 293,
     "metadata": {},
     "output_type": "execute_result"
    }
   ],
   "source": [
    "'''从类中继承typecode属性 自定义一个实例属性'''\n",
    "v1 = Vector2d(1.1,2.2)\n",
    "dumped = bytes(v1)\n",
    "dumped"
   ]
  },
  {
   "cell_type": "code",
   "execution_count": 294,
   "id": "dad5fd8a",
   "metadata": {},
   "outputs": [
    {
     "data": {
      "text/plain": [
       "17"
      ]
     },
     "execution_count": 294,
     "metadata": {},
     "output_type": "execute_result"
    }
   ],
   "source": [
    "len(dumped)"
   ]
  },
  {
   "cell_type": "code",
   "execution_count": 295,
   "id": "cfd12628",
   "metadata": {},
   "outputs": [],
   "source": [
    "v1.typecode = 'f'\n",
    "dumpf = bytes(v1)"
   ]
  },
  {
   "cell_type": "code",
   "execution_count": 296,
   "id": "c9b65373",
   "metadata": {},
   "outputs": [
    {
     "data": {
      "text/plain": [
       "b'f\\xcd\\xcc\\x8c?\\xcd\\xcc\\x0c@'"
      ]
     },
     "execution_count": 296,
     "metadata": {},
     "output_type": "execute_result"
    }
   ],
   "source": [
    "dumpf"
   ]
  },
  {
   "cell_type": "code",
   "execution_count": 298,
   "id": "3dd291c1",
   "metadata": {},
   "outputs": [
    {
     "data": {
      "text/plain": [
       "9"
      ]
     },
     "execution_count": 298,
     "metadata": {},
     "output_type": "execute_result"
    }
   ],
   "source": [
    "len(dumpf)"
   ]
  },
  {
   "cell_type": "code",
   "execution_count": 299,
   "id": "d6f2655c",
   "metadata": {},
   "outputs": [
    {
     "data": {
      "text/plain": [
       "'d'"
      ]
     },
     "execution_count": 299,
     "metadata": {},
     "output_type": "execute_result"
    }
   ],
   "source": [
    "Vector2d.typecode"
   ]
  },
  {
   "cell_type": "code",
   "execution_count": 300,
   "id": "56c42014",
   "metadata": {},
   "outputs": [
    {
     "data": {
      "text/plain": [
       "'f'"
      ]
     },
     "execution_count": 300,
     "metadata": {},
     "output_type": "execute_result"
    }
   ],
   "source": [
    "v1.typecode"
   ]
  },
  {
   "cell_type": "markdown",
   "id": "17e7f6dc",
   "metadata": {},
   "source": [
    "只有v1实例的typecode属性改变了\n",
    "\n",
    "如果想修改类属性的值，不能通过实例修改\n",
    "想修改所有实例的typecode属性的默认值\n",
    "可以："
   ]
  },
  {
   "cell_type": "code",
   "execution_count": 301,
   "id": "d6abd426",
   "metadata": {},
   "outputs": [
    {
     "data": {
      "text/plain": [
       "'f'"
      ]
     },
     "execution_count": 301,
     "metadata": {},
     "output_type": "execute_result"
    }
   ],
   "source": [
    "Vector2d.typecode = 'f'\n",
    "Vector2d.typecode"
   ]
  },
  {
   "cell_type": "code",
   "execution_count": 302,
   "id": "7bf3addf",
   "metadata": {},
   "outputs": [
    {
     "data": {
      "text/plain": [
       "'f'"
      ]
     },
     "execution_count": 302,
     "metadata": {},
     "output_type": "execute_result"
    }
   ],
   "source": [
    "v2 = Vector2d(1.1,3.2)\n",
    "v2.typecode\n",
    "'''可以看到类属性typecode以及修改了'''"
   ]
  },
  {
   "cell_type": "markdown",
   "id": "4ad22654",
   "metadata": {},
   "source": [
    "类属性是公开的 可以被子类继承\n",
    "因此通常创建一个子类 只用于定制类的数据属性"
   ]
  },
  {
   "cell_type": "code",
   "execution_count": 304,
   "id": "0c848842",
   "metadata": {},
   "outputs": [
    {
     "data": {
      "text/plain": [
       "ShortVector2d(0.09090909090909091, 0.037037037037037035)"
      ]
     },
     "execution_count": 304,
     "metadata": {},
     "output_type": "execute_result"
    }
   ],
   "source": [
    "'''定义为Vector2d的子类 只用于覆盖typecode属性'''\n",
    "class ShortVector2d(Vector2d):\n",
    "    typecode = 'f'\n",
    "\n",
    "sv = ShortVector2d(1/11,1/27)\n",
    "'''查看sv的repr表现形式'''\n",
    "sv"
   ]
  },
  {
   "cell_type": "code",
   "execution_count": 305,
   "id": "a7427549",
   "metadata": {},
   "outputs": [
    {
     "data": {
      "text/plain": [
       "9"
      ]
     },
     "execution_count": 305,
     "metadata": {},
     "output_type": "execute_result"
    }
   ],
   "source": [
    "len(bytes(sv))"
   ]
  },
  {
   "cell_type": "markdown",
   "id": "2a5167b0",
   "metadata": {},
   "source": [
    "总结：\n",
    "    获取字符串和字节序列表示形式的方法：\n",
    "        __repr__  __str__  __format__  __bytes__\n",
    "    将对象转换成数字的几个方法:\n",
    "        __abs__  __bool__  __hash__\n",
    "    测试字节序列转换和支持散列的：\n",
    "        __eq__"
   ]
  },
  {
   "cell_type": "markdown",
   "id": "cd3b3679",
   "metadata": {},
   "source": [
    "10 序列的修改 散列 和切片\n",
    "vector类 用户定义的序列类型\n"
   ]
  },
  {
   "cell_type": "code",
   "execution_count": 307,
   "id": "50b888e2",
   "metadata": {},
   "outputs": [],
   "source": [
    "from array import array\n",
    "import reprlib\n",
    "import math\n",
    "\n",
    "class Vector:\n",
    "    typecode = 'd'\n",
    "    \n",
    "    def __init__(self,components):\n",
    "        self._components = array(self.typecode,components)\n",
    "        '''self._components是一个受保护实例属性'''\n",
    "    \n",
    "    def __iter__(self):\n",
    "        return iter(self._components)\n",
    "        '''构建一个迭代器'''\n",
    "    \n",
    "    def __repr__(self):\n",
    "        components = reprlib.repr(self._components)\n",
    "        components = componentes[componentes.fins('['):-1]\n",
    "        return 'Vector({})'.format(componentes)\n",
    "        '''使用reprlib.repr()函数获取self._components的有限长度表示形式\n",
    "           如 array('d', [0.0, 1.0, 2.0, 3.0, 4.0, ...]\n",
    "           把字符串插入Vector的构造方法调用之前，去掉前面的array('d')'''\n",
    "    \n",
    "    def __str__(self):\n",
    "        return str(tuple(self))\n",
    "    \n",
    "    def __bytes__(self):\n",
    "        return (bytes([ord(self.typecodes)]) + bytes(self.components))\n",
    "        '''构建bytes对象'''\n",
    "    \n",
    "    def __eq__(self,other):\n",
    "        return tuple(self) == tuple(other)\n",
    "    \n",
    "    def __abs__(self):\n",
    "        return math.sqrt(sum(x * x for x in self))\n",
    "        '''计算各分量的平方之和 然后开平方'''\n",
    "    \n",
    "    def __bool__(self):\n",
    "        return bool(abs(self))\n",
    "    \n",
    "    @classmethod\n",
    "    def frombytes(cls,octets):\n",
    "        typecode = chr(octets[0])\n",
    "        memv = memoryview(octets[1:]).cast(typecode)\n",
    "        return cls(memv)\n",
    "        '''直接将memoryview传递给构造方法 不用*拆包'''"
   ]
  },
  {
   "cell_type": "markdown",
   "id": "5de177bf",
   "metadata": {},
   "source": [
    "在面向对象编程中，协议是非正式的接口，只在文档中定义，在代码中不定义\n",
    "eg：\n",
    "    Python序列协议只需要__len__和__getitem__两个方法\n",
    "    任何类只要使用标准的签名和语义实现这两个方法，就能用于序列"
   ]
  },
  {
   "cell_type": "code",
   "execution_count": null,
   "id": "bcde23eb",
   "metadata": {},
   "outputs": [],
   "source": [
    "import collections\n",
    "\n",
    "Card = collections.namedtuple('Card', ['rank', 'suit'])\n",
    "\n",
    "class FrenchDeck:\n",
    "    ranks = [str(n) for n in range(2, 11)] + list('JQKA')\n",
    "    suits = 'spades diamonds clubs hearts'.split()\n",
    "    def __init__(self):\n",
    "        self._cards = [Card(rank, suit) for suit in self.suits\n",
    "                                        for rank in self.ranks]\n",
    "    def __len__(self):\n",
    "        return len(self._cards)\n",
    "    \n",
    "    def __getitem__(self, position):\n",
    "        return self._cards[position]\n",
    "\n",
    "'''实现了序列协议：有__len__和__getitem__'''"
   ]
  },
  {
   "cell_type": "markdown",
   "id": "a5b3ea9c",
   "metadata": {},
   "source": [
    "协议是非正式的，没有强制力\n",
    "因此通常只需要实现一个协议的部分\n",
    "如 支持迭代 实现__getitem__方法，不用提供__len__方法"
   ]
  },
  {
   "cell_type": "code",
   "execution_count": 311,
   "id": "5ab8b87a",
   "metadata": {},
   "outputs": [],
   "source": [
    "'''可切片的协议 增加__getitem__方法和__len__方法'''\n",
    "from array import array\n",
    "import reprlib\n",
    "import math\n",
    "\n",
    "class Vector:\n",
    "    typecode = 'd'\n",
    "    \n",
    "    def __init__(self,components):\n",
    "        self._components = array(self.typecode,components)\n",
    "        '''self._components是一个受保护实例属性'''\n",
    "    \n",
    "    def __len__(self):\n",
    "        return len(self._components)\n",
    "    \n",
    "    def __getitem__(self,index):\n",
    "        return self._components[index]\n",
    "    \n",
    "    def __iter__(self):\n",
    "        return iter(self._components)\n",
    "        '''构建一个迭代器'''\n",
    "    \n",
    "    def __repr__(self):\n",
    "        components = reprlib.repr(self._components)\n",
    "        components = componentes[componentes.fins('['):-1]\n",
    "        return 'Vector({})'.format(componentes)\n",
    "        '''使用reprlib.repr()函数获取self._components的有限长度表示形式\n",
    "           如 array('d', [0.0, 1.0, 2.0, 3.0, 4.0, ...]\n",
    "           把字符串插入Vector的构造方法调用之前，去掉前面的array('d')'''\n",
    "    \n",
    "    def __str__(self):\n",
    "        return str(tuple(self))\n",
    "    \n",
    "    def __bytes__(self):\n",
    "        return (bytes([ord(self.typecodes)]) + bytes(self.components))\n",
    "        '''构建bytes对象'''\n",
    "    \n",
    "    def __eq__(self,other):\n",
    "        return tuple(self) == tuple(other)\n",
    "    \n",
    "    def __abs__(self):\n",
    "        return math.sqrt(sum(x * x for x in self))\n",
    "        '''计算各分量的平方之和 然后开平方'''\n",
    "    \n",
    "    def __bool__(self):\n",
    "        return bool(abs(self))\n",
    "    \n",
    "    @classmethod\n",
    "    def frombytes(cls,octets):\n",
    "        typecode = chr(octets[0])\n",
    "        memv = memoryview(octets[1:]).cast(typecode)\n",
    "        return cls(memv)\n",
    "        '''直接将memoryview传递给构造方法 不用*拆包'''"
   ]
  },
  {
   "cell_type": "code",
   "execution_count": 312,
   "id": "45d73d31",
   "metadata": {},
   "outputs": [
    {
     "data": {
      "text/plain": [
       "3"
      ]
     },
     "execution_count": 312,
     "metadata": {},
     "output_type": "execute_result"
    }
   ],
   "source": [
    "v1 = Vector([3, 4, 5])\n",
    "len(v1)"
   ]
  },
  {
   "cell_type": "code",
   "execution_count": 313,
   "id": "1b4fa525",
   "metadata": {},
   "outputs": [
    {
     "data": {
      "text/plain": [
       "(3.0, 5.0)"
      ]
     },
     "execution_count": 313,
     "metadata": {},
     "output_type": "execute_result"
    }
   ],
   "source": [
    "v1[0], v1[-1]"
   ]
  },
  {
   "cell_type": "code",
   "execution_count": 314,
   "id": "ce33d9f4",
   "metadata": {},
   "outputs": [
    {
     "data": {
      "text/plain": [
       "array('d', [1.0, 2.0, 3.0])"
      ]
     },
     "execution_count": 314,
     "metadata": {},
     "output_type": "execute_result"
    }
   ],
   "source": [
    "v7 = Vector(range(7))\n",
    "v7[1:4]"
   ]
  },
  {
   "cell_type": "markdown",
   "id": "30c5912e",
   "metadata": {},
   "source": [
    "切片原理"
   ]
  },
  {
   "cell_type": "code",
   "execution_count": 316,
   "id": "22bfa2bc",
   "metadata": {},
   "outputs": [
    {
     "data": {
      "text/plain": [
       "1"
      ]
     },
     "execution_count": 316,
     "metadata": {},
     "output_type": "execute_result"
    }
   ],
   "source": [
    "class MySeq:\n",
    "    def __getitem__(self,index):\n",
    "        return index\n",
    "    \n",
    "s = MySeq()\n",
    "s[1]"
   ]
  },
  {
   "cell_type": "code",
   "execution_count": 317,
   "id": "de2c2724",
   "metadata": {},
   "outputs": [
    {
     "data": {
      "text/plain": [
       "slice(1, 4, None)"
      ]
     },
     "execution_count": 317,
     "metadata": {},
     "output_type": "execute_result"
    }
   ],
   "source": [
    "s[1:4]"
   ]
  },
  {
   "cell_type": "code",
   "execution_count": 318,
   "id": "9f72c095",
   "metadata": {},
   "outputs": [
    {
     "data": {
      "text/plain": [
       "slice(1, 4, 2)"
      ]
     },
     "execution_count": 318,
     "metadata": {},
     "output_type": "execute_result"
    }
   ],
   "source": [
    "s[1:4:2]"
   ]
  },
  {
   "cell_type": "code",
   "execution_count": 319,
   "id": "73766903",
   "metadata": {},
   "outputs": [
    {
     "data": {
      "text/plain": [
       "(slice(1, 4, 2), 9)"
      ]
     },
     "execution_count": 319,
     "metadata": {},
     "output_type": "execute_result"
    }
   ],
   "source": [
    "s[1:4:2,9]"
   ]
  },
  {
   "cell_type": "code",
   "execution_count": 320,
   "id": "14c3614a",
   "metadata": {},
   "outputs": [
    {
     "data": {
      "text/plain": [
       "(slice(1, 4, 2), slice(7, 9, None))"
      ]
     },
     "execution_count": 320,
     "metadata": {},
     "output_type": "execute_result"
    }
   ],
   "source": [
    "s[1:4:2,7:9]"
   ]
  },
  {
   "cell_type": "code",
   "execution_count": 321,
   "id": "70afe4e0",
   "metadata": {},
   "outputs": [
    {
     "data": {
      "text/plain": [
       "(slice(1, 4, 2), slice(7, 9, 1))"
      ]
     },
     "execution_count": 321,
     "metadata": {},
     "output_type": "execute_result"
    }
   ],
   "source": [
    "s[1:4:2,7:9:1]\n",
    "'''可以有多个切片'''"
   ]
  },
  {
   "cell_type": "code",
   "execution_count": 322,
   "id": "340eccca",
   "metadata": {},
   "outputs": [
    {
     "data": {
      "text/plain": [
       "slice"
      ]
     },
     "execution_count": 322,
     "metadata": {},
     "output_type": "execute_result"
    }
   ],
   "source": [
    "'''查看slice的属性'''\n",
    "slice"
   ]
  },
  {
   "cell_type": "code",
   "execution_count": 323,
   "id": "5e45ec04",
   "metadata": {},
   "outputs": [
    {
     "data": {
      "text/plain": [
       "['__class__',\n",
       " '__delattr__',\n",
       " '__dir__',\n",
       " '__doc__',\n",
       " '__eq__',\n",
       " '__format__',\n",
       " '__ge__',\n",
       " '__getattribute__',\n",
       " '__gt__',\n",
       " '__hash__',\n",
       " '__init__',\n",
       " '__init_subclass__',\n",
       " '__le__',\n",
       " '__lt__',\n",
       " '__ne__',\n",
       " '__new__',\n",
       " '__reduce__',\n",
       " '__reduce_ex__',\n",
       " '__repr__',\n",
       " '__setattr__',\n",
       " '__sizeof__',\n",
       " '__str__',\n",
       " '__subclasshook__',\n",
       " 'indices',\n",
       " 'start',\n",
       " 'step',\n",
       " 'stop']"
      ]
     },
     "execution_count": 323,
     "metadata": {},
     "output_type": "execute_result"
    }
   ],
   "source": [
    "dir(slice)"
   ]
  },
  {
   "cell_type": "markdown",
   "id": "e1f5257e",
   "metadata": {},
   "source": [
    "indices属性"
   ]
  },
  {
   "cell_type": "code",
   "execution_count": 324,
   "id": "8ee8ff24",
   "metadata": {},
   "outputs": [
    {
     "name": "stdout",
     "output_type": "stream",
     "text": [
      "Help on method_descriptor:\n",
      "\n",
      "indices(...)\n",
      "    S.indices(len) -> (start, stop, stride)\n",
      "    \n",
      "    Assuming a sequence of length len, calculate the start and stop\n",
      "    indices, and the stride length of the extended slice described by\n",
      "    S. Out of bounds indices are clipped in a manner consistent with the\n",
      "    handling of normal slices.\n",
      "\n"
     ]
    }
   ],
   "source": [
    "help(slice.indices)"
   ]
  },
  {
   "cell_type": "markdown",
   "id": "cf628184",
   "metadata": {},
   "source": [
    "给定长度len的序列，计算S表示的扩展切片的起始和结尾索引 以及step\n",
    "超出边界的索引会被截掉\n",
    "indices方法可以处理缺失索引和负数索引 以及长度超过目标序列的切片\n",
    "这个方法会处理元组 超过边界的序列 将start stop和strip都变成非负数"
   ]
  },
  {
   "cell_type": "code",
   "execution_count": 1,
   "id": "95a00701",
   "metadata": {},
   "outputs": [
    {
     "data": {
      "text/plain": [
       "(0, 5, 2)"
      ]
     },
     "execution_count": 1,
     "metadata": {},
     "output_type": "execute_result"
    }
   ],
   "source": [
    "slice(None,10,2).indices(5)"
   ]
  },
  {
   "cell_type": "code",
   "execution_count": 2,
   "id": "2c62575a",
   "metadata": {},
   "outputs": [
    {
     "data": {
      "text/plain": [
       "(2, 5, 1)"
      ]
     },
     "execution_count": 2,
     "metadata": {},
     "output_type": "execute_result"
    }
   ],
   "source": [
    "slice(-3, None, None).indices(5) "
   ]
  },
  {
   "cell_type": "code",
   "execution_count": null,
   "id": "4a3bbf8f",
   "metadata": {},
   "outputs": [],
   "source": []
  },
  {
   "cell_type": "code",
   "execution_count": null,
   "id": "ae6a35d2",
   "metadata": {},
   "outputs": [],
   "source": []
  }
 ],
 "metadata": {
  "kernelspec": {
   "display_name": "Python 3 (ipykernel)",
   "language": "python",
   "name": "python3"
  },
  "language_info": {
   "codemirror_mode": {
    "name": "ipython",
    "version": 3
   },
   "file_extension": ".py",
   "mimetype": "text/x-python",
   "name": "python",
   "nbconvert_exporter": "python",
   "pygments_lexer": "ipython3",
   "version": "3.9.7"
  },
  "vscode": {
   "interpreter": {
    "hash": "916dbcbb3f70747c44a77c7bcd40155683ae19c65e1c03b4aa3499c5328201f1"
   }
  }
 },
 "nbformat": 4,
 "nbformat_minor": 5
}
