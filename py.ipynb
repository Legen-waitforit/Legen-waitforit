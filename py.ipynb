{
 "cells": [
  {
   "cell_type": "markdown",
   "metadata": {},
   "source": [
    " 生成器\n",
    " 生成器是特殊的迭代器 可以在迭代的同时生成元素\n",
    " eg:某种算法推算得到的多个数据，生成器会什么时候需要，什么时候才生成\n",
    " \n",
    " 生成器步骤：\n",
    " 1.定义一个以yield关键字标识返回值的函数\n",
    " 2.调用刚刚创建的函数，即可创建一个生成器\n",
    " \n",
    " --生成器函数的返回值是yield关键字 程序会在调用生成器函数的时候\n",
    " 遇到yield会返回，程序在此处暂停，下次再调用就从上次yield离开的地方进入\n",
    " - - 迭代器和生成器的明显优势：生成器更加节省内存空间，即不会一次性生成所有的数据，而是什么时候需要，什么时候生成\n",
    " "
   ]
  },
  {
   "cell_type": "code",
   "execution_count": 2,
   "metadata": {},
   "outputs": [
    {
     "data": {
      "text/plain": [
       "<generator object intNum at 0x00000206741DE890>"
      ]
     },
     "execution_count": 2,
     "metadata": {},
     "output_type": "execute_result"
    }
   ],
   "source": [
    "def intNum():\n",
    "    print(\"--start--\")\n",
    "    for i in range(5):\n",
    "        yield i\n",
    "        print(\"--continue--\")\n",
    "num = intNum()\n",
    "num\n",
    "此时，num是一个生成器对象，intNum是一个生成器函数"
   ]
  },
  {
   "cell_type": "code",
   "execution_count": 3,
   "metadata": {},
   "outputs": [
    {
     "name": "stdout",
     "output_type": "stream",
     "text": [
      "--start--\n",
      "0\n"
     ]
    }
   ],
   "source": [
    "# 调用next()内置函数\n",
    "print(next(num))"
   ]
  },
  {
   "cell_type": "code",
   "execution_count": 6,
   "metadata": {},
   "outputs": [
    {
     "name": "stdout",
     "output_type": "stream",
     "text": [
      "--continue--\n",
      "1\n"
     ]
    }
   ],
   "source": [
    "# 调用__next__()方法\n",
    "print(num.__next__())"
   ]
  },
  {
   "cell_type": "code",
   "execution_count": 7,
   "metadata": {},
   "outputs": [
    {
     "name": "stdout",
     "output_type": "stream",
     "text": [
      "--continue--\n",
      "2\n",
      "--continue--\n",
      "3\n",
      "--continue--\n",
      "4\n",
      "--continue--\n"
     ]
    }
   ],
   "source": [
    "# for循环遍历生成器 for在不断的调用next()函数使暂停的程序继续执行输出后续结果\n",
    "for i in num:\n",
    "    print(i)"
   ]
  },
  {
   "cell_type": "code",
   "execution_count": 9,
   "metadata": {},
   "outputs": [
    {
     "name": "stdout",
     "output_type": "stream",
     "text": [
      "--start--\n",
      "--continue--\n",
      "--continue--\n",
      "--continue--\n",
      "--continue--\n",
      "--continue--\n",
      "[0, 1, 2, 3, 4]\n"
     ]
    }
   ],
   "source": [
    "# 使用list和tuple将生成器生成的值存储成列表或者元组的形式\n",
    "num=intNum()\n",
    "print(list(num))"
   ]
  },
  {
   "cell_type": "code",
   "execution_count": 10,
   "metadata": {},
   "outputs": [
    {
     "name": "stdout",
     "output_type": "stream",
     "text": [
      "--start--\n",
      "--continue--\n",
      "--continue--\n",
      "--continue--\n",
      "--continue--\n",
      "--continue--\n",
      "(0, 1, 2, 3, 4)\n"
     ]
    }
   ],
   "source": [
    "num = intNum()\n",
    "print(tuple(num))\n",
    "# 通过结果判断，list tuple的底层实现和for循环的遍历过程是类似的"
   ]
  },
  {
   "cell_type": "markdown",
   "metadata": {},
   "source": [
    " %格式运算\n",
    " 用一个Tuple将多个值传递给模板，每个值对应一个格式符\n",
    " print(\"I'm %s.I'm %d year old\"%（\"Vamei\",99）)\n",
    " %s表示一个字符串 %d为第二个格式符\n",
    " 模板和Tuple之间的% 代表格式化操作\n",
    " \n",
    " ——————\n",
    " 使用字典传值\n",
    " print(\"%{name},%{age}\" % {'name':Vamie','age':99})\n",
    " \n",
    " ——————\n",
    " 格式符为真实值预留位置，并控制显示的格式，可以包含一个类型码，用于控制显示的类型\n",
    " eg:\n",
    "     %s 字符串\n",
    "     %r 字符串 repr()格式 可以输出转义字符 如 \"\\n\\t\" str()格式会进行转义\n",
    "     %c 单个字符\n",
    "     %b 二进制整数\n",
    "     %d 十进制整数\n",
    "     %x 十六进制整数\n",
    "     %e 指数\n",
    "     %E 指数\n",
    "     %f 浮点数\n",
    "     %% 字符'%s'\n",
    "可以使用 +,-,0,''进行右对齐，左对齐或者0填充,''表示在正数的左侧填充一个空格\n",
    "eg："
   ]
  },
  {
   "cell_type": "code",
   "execution_count": 25,
   "metadata": {},
   "outputs": [
    {
     "name": "stdout",
     "output_type": "stream",
     "text": [
      "a\n",
      "         a\n",
      "a         \n"
     ]
    }
   ],
   "source": [
    "print(\"%x\" % 10)\n",
    "print(\"%10x\" % 10)\n",
    "print(\"%-10x\" % 10)"
   ]
  },
  {
   "cell_type": "code",
   "execution_count": 15,
   "metadata": {},
   "outputs": [
    {
     "name": "stdout",
     "output_type": "stream",
     "text": [
      "0005\n"
     ]
    }
   ],
   "source": [
    "print(\"%04d\" % 5)"
   ]
  },
  {
   "cell_type": "code",
   "execution_count": 28,
   "metadata": {},
   "outputs": [
    {
     "name": "stdout",
     "output_type": "stream",
     "text": [
      " 2.300\n"
     ]
    }
   ],
   "source": [
    "print(\"%6.3f\" % 2.3)"
   ]
  },
  {
   "cell_type": "code",
   "execution_count": 31,
   "metadata": {},
   "outputs": [
    {
     "name": "stdout",
     "output_type": "stream",
     "text": [
      "1.2000\n"
     ]
    }
   ],
   "source": [
    "print(\"%.*f\" % (4, 1.2)) #Python实际使用4来替换* \n",
    "#实际的模板应该是\"%.4f\""
   ]
  },
  {
   "cell_type": "markdown",
   "metadata": {},
   "source": [
    "str.format()\n",
    "通过{}和: 来代替%\n",
    "format函数可以接收不限个参数，位置可以不按顺序，可以不使用or使用多次"
   ]
  },
  {
   "cell_type": "code",
   "execution_count": 34,
   "metadata": {},
   "outputs": [
    {
     "name": "stdout",
     "output_type": "stream",
     "text": [
      "kzc,18\n",
      "kzc,18\n",
      "18,kzc,18\n"
     ]
    }
   ],
   "source": [
    "#通过位置\n",
    "print('{0},{1}'.format('kzc',18))\n",
    "print('{},{}'.format('kzc',18))\n",
    "print('{1},{0},{1}'.format('kzc',18) )"
   ]
  },
  {
   "cell_type": "code",
   "execution_count": 36,
   "metadata": {},
   "outputs": [
    {
     "name": "stdout",
     "output_type": "stream",
     "text": [
      "kzc,18\n"
     ]
    }
   ],
   "source": [
    "# 通过关键字参数\n",
    "print('{name},{age}'.format(age=18,name='kzc') )"
   ]
  },
  {
   "cell_type": "code",
   "execution_count": 40,
   "metadata": {},
   "outputs": [
    {
     "data": {
      "text/plain": [
       "'<__main__.Person object at 0x0000020676F8FD30>'"
      ]
     },
     "execution_count": 40,
     "metadata": {},
     "output_type": "execute_result"
    }
   ],
   "source": [
    "# 通过对象属性\n",
    "class Person: \n",
    "  def __init__(self,name,age): \n",
    "    self.name,self.age = name,age \n",
    "    def __str__(self): \n",
    "      return 'This guy is {self.name},is {self.age} old'.format(self=self)\n",
    "str(Person('kzc',18)) "
   ]
  },
  {
   "cell_type": "code",
   "execution_count": 43,
   "metadata": {},
   "outputs": [
    {
     "data": {
      "text/plain": [
       "'kzc,18'"
      ]
     },
     "execution_count": 43,
     "metadata": {},
     "output_type": "execute_result"
    }
   ],
   "source": [
    "# 通过下标\n",
    "p=['kzc',18]\n",
    "'{0[0]},{0[1]}'.format(p)"
   ]
  },
  {
   "cell_type": "markdown",
   "metadata": {},
   "source": [
    "填充与对齐\n",
    "^ < > 分别是居中 左对齐 右对齐 后面带宽度 \n",
    "：后面带填充的字符 只可以是一个字符，不指定默认使用空格填充"
   ]
  },
  {
   "cell_type": "code",
   "execution_count": 50,
   "metadata": {},
   "outputs": [
    {
     "name": "stdout",
     "output_type": "stream",
     "text": [
      "     189\n",
      "00000189\n",
      "aaa189aaa\n"
     ]
    }
   ],
   "source": [
    "print('{:>8}'.format('189'))\n",
    "print('{:0>8}'.format('189'))\n",
    "print('{:a^9}'.format('189'))"
   ]
  },
  {
   "cell_type": "markdown",
   "metadata": {},
   "source": [
    "精度与类型f一起使用\n",
    "&&\n",
    "其他类型 进制类型\n",
    "&&金额的千位分隔符 ,"
   ]
  },
  {
   "cell_type": "code",
   "execution_count": 51,
   "metadata": {},
   "outputs": [
    {
     "name": "stdout",
     "output_type": "stream",
     "text": [
      "321.33\n"
     ]
    }
   ],
   "source": [
    "print('{:.2f}'.format(321.33345))"
   ]
  },
  {
   "cell_type": "code",
   "execution_count": 53,
   "metadata": {},
   "outputs": [
    {
     "name": "stdout",
     "output_type": "stream",
     "text": [
      "10001\n",
      "17\n",
      "21\n",
      "11\n"
     ]
    }
   ],
   "source": [
    "print('{:b}'.format(17))\n",
    "print('{:d}'.format(17))\n",
    "print('{:o}'.format(17))\n",
    "print('{:x}'.format(17))"
   ]
  },
  {
   "cell_type": "code",
   "execution_count": 54,
   "metadata": {},
   "outputs": [
    {
     "name": "stdout",
     "output_type": "stream",
     "text": [
      "1,234,567,890\n"
     ]
    }
   ],
   "source": [
    "print('{:,}'.format(1234567890))"
   ]
  },
  {
   "cell_type": "markdown",
   "metadata": {},
   "source": [
    "元组拆包\n",
    "元组拆包可以应用到任何可迭代对象上，被可迭代对象中的元素数量必须要和接收这些元素的空档数量一致\n",
    "可以使用*来表示忽略多余的元素 只能有一个*\n",
    "\n",
    "————\n",
    "迭代的对象分为 ： 元组 列表 字典 字符串等\n",
    "若有不能明确的对象 可以使用isinstance方式进行判断"
   ]
  },
  {
   "cell_type": "code",
   "execution_count": 57,
   "metadata": {},
   "outputs": [
    {
     "data": {
      "text/plain": [
       "True"
      ]
     },
     "execution_count": 57,
     "metadata": {},
     "output_type": "execute_result"
    }
   ],
   "source": [
    "from collections import Iterable\n",
    "isinstance('abcde',Iterable)"
   ]
  },
  {
   "cell_type": "code",
   "execution_count": 59,
   "metadata": {},
   "outputs": [
    {
     "name": "stdout",
     "output_type": "stream",
     "text": [
      "1\n",
      "2\n"
     ]
    }
   ],
   "source": [
    "t = (1,2)\n",
    "x,y = t\n",
    "print(x)\n",
    "print(y)"
   ]
  },
  {
   "cell_type": "code",
   "execution_count": 60,
   "metadata": {},
   "outputs": [
    {
     "name": "stdout",
     "output_type": "stream",
     "text": [
      "1\n",
      "[2, 3]\n"
     ]
    }
   ],
   "source": [
    "t = (1,2,3)\n",
    "x,*y=t\n",
    "print(x)\n",
    "print(y)"
   ]
  },
  {
   "cell_type": "code",
   "execution_count": 61,
   "metadata": {},
   "outputs": [
    {
     "name": "stdout",
     "output_type": "stream",
     "text": [
      "1\n",
      "2\n",
      "('a', 'b')\n"
     ]
    }
   ],
   "source": [
    "# 嵌套元组\n",
    "t = [1,2,('a','b')]\n",
    "x,y,z = t\n",
    "print(x)\n",
    "print(y)\n",
    "print(z)"
   ]
  },
  {
   "cell_type": "code",
   "execution_count": 62,
   "metadata": {
    "scrolled": true
   },
   "outputs": [
    {
     "name": "stdout",
     "output_type": "stream",
     "text": [
      "3\n"
     ]
    }
   ],
   "source": [
    "# 使用占位符\n",
    "t =(1,2,3)\n",
    "_,_,x = t\n",
    "print(x)"
   ]
  },
  {
   "cell_type": "markdown",
   "metadata": {},
   "source": [
    "Python拆包\n",
    "*args 和 **kwargs\n",
    "*args接收多余的未命名参数\n",
    "**kwargs接收实参中的命名参数\n",
    "args是元组类型 kwargs是字典类型"
   ]
  },
  {
   "cell_type": "code",
   "execution_count": 64,
   "metadata": {},
   "outputs": [
    {
     "name": "stdout",
     "output_type": "stream",
     "text": [
      "1\n",
      "(2, 3)\n",
      "2 3\n",
      "((2, 3),)\n",
      "(2, 3)\n",
      "(2, 3)\n",
      "2 3\n"
     ]
    }
   ],
   "source": [
    "# *args拆包\n",
    "def run(a,*args):\n",
    "    print(a)\n",
    "    print(args)\n",
    "    print(*args) #拆包\n",
    "    run1(args) #传入未拆包的 args作为一个元组数据传入\n",
    "    run1(*args)\n",
    "def run1(*args):\n",
    "    print(args)\n",
    "    print(*args)\n",
    "\n",
    "run(1,2,3)"
   ]
  },
  {
   "cell_type": "code",
   "execution_count": 65,
   "metadata": {},
   "outputs": [
    {
     "name": "stdout",
     "output_type": "stream",
     "text": [
      "{'a': 1, 'b': 2}\n",
      "1 2\n"
     ]
    }
   ],
   "source": [
    "# **kwargs\n",
    "def run(**kwargs):\n",
    "    print(kwargs)\n",
    "    run1(**kwargs)\n",
    "def run1(a,b):\n",
    "    print(a,b)\n",
    "run(a=1,b=2)\n",
    "\n",
    "# kwargs接收元素类型是字典 args接收元素类型是元组"
   ]
  },
  {
   "cell_type": "markdown",
   "metadata": {},
   "source": [
    "平行赋值\n",
    "把一个可迭代对象里面的元素，一并赋值到对应的变量组成的元组中\n"
   ]
  },
  {
   "cell_type": "code",
   "execution_count": 66,
   "metadata": {},
   "outputs": [
    {
     "name": "stdout",
     "output_type": "stream",
     "text": [
      "33.9425\n",
      "-118.408056\n"
     ]
    }
   ],
   "source": [
    "lax_coordinates = (33.9425, -118.408056)\n",
    "latitude, longitude = lax_coordinates # 元组拆包\n",
    "print(latitude)\n",
    "print(longitude)"
   ]
  },
  {
   "cell_type": "code",
   "execution_count": 67,
   "metadata": {},
   "outputs": [
    {
     "name": "stdout",
     "output_type": "stream",
     "text": [
      "10\n",
      "5\n",
      "5\n",
      "10\n"
     ]
    }
   ],
   "source": [
    "a=10\n",
    "b=5\n",
    "print(a)\n",
    "print(b)\n",
    "b,a=a,b\n",
    "print(a)\n",
    "print(b)\n",
    "# 不使用中间变量交换两个变量的值"
   ]
  },
  {
   "cell_type": "code",
   "execution_count": 68,
   "metadata": {},
   "outputs": [
    {
     "data": {
      "text/plain": [
       "(2, 4)"
      ]
     },
     "execution_count": 68,
     "metadata": {},
     "output_type": "execute_result"
    }
   ],
   "source": [
    "# 使用*运算符将一个可迭代对象拆开作为函数的参数\n",
    "divmod(20,8) #20/8 = 2...4"
   ]
  },
  {
   "cell_type": "code",
   "execution_count": 71,
   "metadata": {},
   "outputs": [
    {
     "name": "stdout",
     "output_type": "stream",
     "text": [
      "(2, 4)\n",
      "2 4\n"
     ]
    }
   ],
   "source": [
    "t=(20,8)\n",
    "print(divmod(*t))\n",
    "quotient, remainder = divmod(*t)\n",
    "print(quotient,remainder)"
   ]
  },
  {
   "cell_type": "code",
   "execution_count": 73,
   "metadata": {},
   "outputs": [
    {
     "data": {
      "text/plain": [
       "'isrsa.pub'"
      ]
     },
     "execution_count": 73,
     "metadata": {},
     "output_type": "execute_result"
    }
   ],
   "source": [
    "# 元组拆包就是让一个函数可以用元组的形式返回多个值\n",
    "# os.path.split()返回以路径和最后一个文件名组成的元组\n",
    "import os\n",
    "_,filename = os.path.split('/home/isrsa.pub')\n",
    "filename"
   ]
  },
  {
   "cell_type": "code",
   "execution_count": 74,
   "metadata": {},
   "outputs": [
    {
     "data": {
      "text/plain": [
       "(0, 1, [2, 3, 4])"
      ]
     },
     "execution_count": 74,
     "metadata": {},
     "output_type": "execute_result"
    }
   ],
   "source": [
    "a,b,*c = range(5)\n",
    "a,b,c"
   ]
  },
  {
   "cell_type": "code",
   "execution_count": 76,
   "metadata": {},
   "outputs": [
    {
     "data": {
      "text/plain": [
       "(0, 1, [])"
      ]
     },
     "execution_count": 76,
     "metadata": {},
     "output_type": "execute_result"
    }
   ],
   "source": [
    "a,b,*c = range(2)\n",
    "a,b,c"
   ]
  },
  {
   "cell_type": "code",
   "execution_count": 81,
   "metadata": {},
   "outputs": [
    {
     "name": "stdout",
     "output_type": "stream",
     "text": [
      "                |   lat.    |   long.  \n",
      "Tokyo           |   35.6897 |  139.6917\n",
      "Delhi NCR       |   28.6139 |   77.2089\n",
      "Mexico City     |   19.4333 |  -99.1333\n",
      "New York-Newark |   40.8086 |  -74.0204\n",
      "Sao Paulo       |  -23.5478 |  -46.6358\n"
     ]
    }
   ],
   "source": [
    "#嵌套元组拆包 eg：(a,b,(c,d))\n",
    "metro_areas = [\n",
    "('Tokyo','JP',36.933,(35.689722,139.691667)),\n",
    "('Delhi NCR', 'IN', 21.935, (28.613889, 77.208889)),\n",
    "('Mexico City', 'MX', 20.142, (19.433333, -99.133333)),\n",
    "('New York-Newark', 'US', 20.104, (40.808611, -74.020386)),\n",
    "('Sao Paulo', 'BR', 19.649, (-23.547778, -46.635833)),\n",
    "]\n",
    "print('{:15} | {:^9} | {:^9}'.format('', 'lat.', 'long.'))\n",
    "fmt = '{:15} | {:9.4f} | {:9.4f}'\n",
    "\n",
    "for name, cc, pop, (latitude, longitude) in metro_areas: \n",
    "# if longitude <= 0: \n",
    "    print(fmt.format(name, latitude, longitude))\n"
   ]
  },
  {
   "cell_type": "markdown",
   "metadata": {},
   "source": [
    "namedtuple 给记录中的字段命名\n",
    "collections.namedtuple是一个工厂函数，可以构建一个\n",
    "带字段名的元组和一个有名字的类\n",
    "\n",
    "————\n",
    "namedtuple构建的类是实例所消耗的内存和元组是一样的，所以实例和普通的对象相比更小\n",
    "构建的为 具名元组\n",
    "\n",
    "1.创建一个具名元组需要两个参数，一个是类名，一个是类各个字段的名字\n",
    "    后者可以是以数个字符串组成的可迭代对象，或者是由空格分开的字段名组成的字符串\n",
    "2.存放在对应字段里的数据要以一串参数的形式传入到构造函数中，只接受单一的可迭代对象"
   ]
  },
  {
   "cell_type": "code",
   "execution_count": 82,
   "metadata": {},
   "outputs": [
    {
     "data": {
      "text/plain": [
       "City(name='Tokyo', country='JP', population=36.933, coordinates=(35.689722, 139.691667))"
      ]
     },
     "execution_count": 82,
     "metadata": {},
     "output_type": "execute_result"
    }
   ],
   "source": [
    "from collections import namedtuple\n",
    "City = namedtuple('City','name country population coordinates') #1\n",
    "tokyo = City('Tokyo','JP',36.933, (35.689722, 139.691667)) #2\n",
    "tokyo"
   ]
  },
  {
   "cell_type": "code",
   "execution_count": 83,
   "metadata": {},
   "outputs": [
    {
     "data": {
      "text/plain": [
       "36.933"
      ]
     },
     "execution_count": 83,
     "metadata": {},
     "output_type": "execute_result"
    }
   ],
   "source": [
    "tokyo.population"
   ]
  },
  {
   "cell_type": "code",
   "execution_count": 84,
   "metadata": {},
   "outputs": [
    {
     "data": {
      "text/plain": [
       "(35.689722, 139.691667)"
      ]
     },
     "execution_count": 84,
     "metadata": {},
     "output_type": "execute_result"
    }
   ],
   "source": [
    " tokyo.coordinates"
   ]
  },
  {
   "cell_type": "code",
   "execution_count": 85,
   "metadata": {},
   "outputs": [
    {
     "data": {
      "text/plain": [
       "'JP'"
      ]
     },
     "execution_count": 85,
     "metadata": {},
     "output_type": "execute_result"
    }
   ],
   "source": [
    "tokyo[1]\n"
   ]
  },
  {
   "cell_type": "code",
   "execution_count": 86,
   "metadata": {},
   "outputs": [
    {
     "data": {
      "text/plain": [
       "('name', 'country', 'population', 'coordinates')"
      ]
     },
     "execution_count": 86,
     "metadata": {},
     "output_type": "execute_result"
    }
   ],
   "source": [
    "# _fields类属性方法 类方法_make(iterable) 实例方法 _asdict()\n",
    "# _fields 属性是一个包含这个类所有字段名称的元组\n",
    "City._fields"
   ]
  },
  {
   "cell_type": "code",
   "execution_count": 87,
   "metadata": {},
   "outputs": [
    {
     "data": {
      "text/plain": [
       "{'name': 'Delhi NCR',\n",
       " 'country': 'IN',\n",
       " 'population': 21.935,\n",
       " 'coordinates': LatLong(lat=28.613889, long=77.208889)}"
      ]
     },
     "execution_count": 87,
     "metadata": {},
     "output_type": "execute_result"
    }
   ],
   "source": [
    "LatLong = namedtuple('LatLong', 'lat long')\n",
    "delhi_data = ('Delhi NCR', 'IN', 21.935, LatLong(28.613889, 77.208889))\n",
    "#使用 _make()通过接受一个可迭代对象来生产这个类的一个实例。作用和City(*delhi_data)一样\n",
    "delhi = City._make(delhi_data)\n",
    "# _asdict()把具名元组以collections.OrderedDict的形式返回，可以利用它把元素里的信息友好呈现\n",
    "delhi._asdict()"
   ]
  },
  {
   "cell_type": "code",
   "execution_count": 88,
   "metadata": {},
   "outputs": [
    {
     "name": "stdout",
     "output_type": "stream",
     "text": [
      "name: Delhi NCR\n",
      "country: IN\n",
      "population: 21.935\n",
      "coordinates: LatLong(lat=28.613889, long=77.208889)\n"
     ]
    }
   ],
   "source": [
    "for key, value in delhi._asdict().items():\n",
    "    print(key + ':', value)"
   ]
  },
  {
   "cell_type": "markdown",
   "metadata": {},
   "source": [
    "元组没有__reserved__方法\n",
    "\n",
    "——————\n",
    "切片不包含最后一个元素\n",
    "还可以用 s[a:b:c] 的形式对 s 在 a 和 b之间以 c 为间隔取值。\n",
    "a:b:c 这种用法只能作为索引或者下标用在 [] 中来返回一个切片对象：slice(a, b, c)。\n",
    "对seq[start:stop:step] 进行求值的时候，Python 会调用\n",
    "seq.__getitem__(slice(start, stop, step))\n"
   ]
  },
  {
   "cell_type": "code",
   "execution_count": 91,
   "metadata": {},
   "outputs": [
    {
     "name": "stdout",
     "output_type": "stream",
     "text": [
      "elcycib\n",
      "eccb\n"
     ]
    }
   ],
   "source": [
    "s = 'bicycle'\n",
    "s[::3]\n",
    "print(s[::-1])\n",
    "print(s[::-2])"
   ]
  },
  {
   "cell_type": "code",
   "execution_count": 108,
   "metadata": {},
   "outputs": [
    {
     "name": "stdout",
     "output_type": "stream",
     "text": [
      " Pimoroni PiBrella $17.50 3 $52.\n",
      " 6mm Tactile Switch x20 $4.95 2 \n",
      " Panavise Jr. - PV-201 $28.00 1 \n",
      " PiTFT Mini Kit 320x240 $34.95 1\n",
      "\n"
     ]
    }
   ],
   "source": [
    "# 使用有名字的切片比用硬编码的数字区间要方便得多\n",
    "invoice = \"\"\"\n",
    "... 0.....6................................40........52...55........\n",
    "... 1909 Pimoroni PiBrella $17.50 3 $52.50\n",
    "... 1489 6mm Tactile Switch x20 $4.95 2 $9.90\n",
    "... 1510 Panavise Jr. - PV-201 $28.00 1 $28.00\n",
    "... 1601 PiTFT Mini Kit 320x240 $34.95 1 $34.95\n",
    "... \"\"\"\n",
    "SKU = slice(0, 6)\n",
    "DESCRIPTION = slice(6, 40)\n",
    "UNIT_PRICE = slice(40, 52)\n",
    "QUANTITY = slice(52, 55)\n",
    "ITEM_TOTAL = slice(55, None)\n",
    "line_items = invoice.split('\\n')[2:]\n",
    "# print(line_items)\n",
    "for item in line_items:\n",
    "#     print(item[UNIT_PRICE], item[DESCRIPTION])\n"
   ]
  },
  {
   "cell_type": "markdown",
   "metadata": {},
   "source": [
    "多维切片和省略\n",
    "Numpy 的ndarray可以使用a[i,j] 这种形式来获取，或者是使用a[m:n,k:l]的方式来得到二维切片\n",
    "要正确处理这种 [] 运算符，对象的特殊方法 __getitem__ 和 __setitem__ 需要以元组的形式来接收a[i, j] 中的索引\n",
    "\n",
    "如果要得到 a[i, j] 的值，Python 会调用 a.__getitem__((i, j))。\n",
    "\n",
    "-----------\n",
    "Python 内置的序列类型都是一维的，因此它们只支持单一的索引，成对出现的索引是没有用的。\n",
    "————————\n",
    "省略（ellipsis）的正确书写方法是三个英语句号（...），而不是Unicdoe 码位 U+2026 表示的半个省略号（...）\n",
    "它可以当作切片规范的一部分，也可以用在函数的参数清单中，比如 f(a, ..., z)，或 a[i:...]。在NumPy 中，... 用作多维数组切片的快捷方式\n",
    "如果 x 是四维数组，那么 x[i, ...] 就是 x[i, :, :, :] 的缩写"
   ]
  },
  {
   "cell_type": "code",
   "execution_count": 118,
   "metadata": {},
   "outputs": [
    {
     "data": {
      "text/plain": [
       "[0, 1, 2, 3, 4, 5, 6, 7, 8, 9]"
      ]
     },
     "execution_count": 118,
     "metadata": {},
     "output_type": "execute_result"
    }
   ],
   "source": [
    "l = list(range(10))\n",
    "l"
   ]
  },
  {
   "cell_type": "code",
   "execution_count": 119,
   "metadata": {},
   "outputs": [
    {
     "data": {
      "text/plain": [
       "[0, 1, 20, 30, 5, 6, 7, 8, 9]"
      ]
     },
     "execution_count": 119,
     "metadata": {},
     "output_type": "execute_result"
    }
   ],
   "source": [
    "l[2:5] = [20, 30]\n",
    "l"
   ]
  },
  {
   "cell_type": "code",
   "execution_count": 120,
   "metadata": {},
   "outputs": [
    {
     "data": {
      "text/plain": [
       "[0, 1, 20, 30, 5, 8, 9]"
      ]
     },
     "execution_count": 120,
     "metadata": {},
     "output_type": "execute_result"
    }
   ],
   "source": [
    "del l[5:7]\n",
    "l"
   ]
  },
  {
   "cell_type": "code",
   "execution_count": 121,
   "metadata": {},
   "outputs": [
    {
     "data": {
      "text/plain": [
       "[0, 1, 20, 11, 5, 22, 9]"
      ]
     },
     "execution_count": 121,
     "metadata": {},
     "output_type": "execute_result"
    }
   ],
   "source": [
    "l[3::2] = [11, 22]\n",
    "l"
   ]
  },
  {
   "cell_type": "code",
   "execution_count": 122,
   "metadata": {},
   "outputs": [
    {
     "ename": "TypeError",
     "evalue": "can only assign an iterable",
     "output_type": "error",
     "traceback": [
      "\u001b[1;31m---------------------------------------------------------------------------\u001b[0m",
      "\u001b[1;31mTypeError\u001b[0m                                 Traceback (most recent call last)",
      "\u001b[1;32m~\\AppData\\Local\\Temp/ipykernel_4528/680702177.py\u001b[0m in \u001b[0;36m<module>\u001b[1;34m\u001b[0m\n\u001b[1;32m----> 1\u001b[1;33m \u001b[0ml\u001b[0m\u001b[1;33m[\u001b[0m\u001b[1;36m2\u001b[0m\u001b[1;33m:\u001b[0m\u001b[1;36m5\u001b[0m\u001b[1;33m]\u001b[0m \u001b[1;33m=\u001b[0m \u001b[1;36m100\u001b[0m\u001b[1;33m\u001b[0m\u001b[1;33m\u001b[0m\u001b[0m\n\u001b[0m\u001b[0;32m      2\u001b[0m \u001b[0ml\u001b[0m\u001b[1;33m\u001b[0m\u001b[1;33m\u001b[0m\u001b[0m\n\u001b[0;32m      3\u001b[0m \u001b[1;31m#如果赋值的对象是一个切片，那么赋值语句的右侧必须是个可迭代对象。即便只有单独一个值，也要把它转换成可迭代的序列。\u001b[0m\u001b[1;33m\u001b[0m\u001b[1;33m\u001b[0m\u001b[0m\n",
      "\u001b[1;31mTypeError\u001b[0m: can only assign an iterable"
     ]
    }
   ],
   "source": [
    "l[2:5] = 100\n",
    "l\n",
    "#如果赋值的对象是一个切片，那么赋值语句的右侧必须是个可迭代对象。即便只有单独一个值，也要把它转换成可迭代的序列。"
   ]
  },
  {
   "cell_type": "code",
   "execution_count": 123,
   "metadata": {},
   "outputs": [
    {
     "data": {
      "text/plain": [
       "[0, 1, 100, 22, 9]"
      ]
     },
     "execution_count": 123,
     "metadata": {},
     "output_type": "execute_result"
    }
   ],
   "source": [
    "l[2:5] = [100]\n",
    "l"
   ]
  },
  {
   "cell_type": "markdown",
   "metadata": {},
   "source": [
    "序列的拼接操作 * 和 +\n",
    "+和*都遵循这个规律,不修改原有的操作对象，而是构建一个全新的序列。"
   ]
  },
  {
   "cell_type": "code",
   "execution_count": 124,
   "metadata": {},
   "outputs": [
    {
     "data": {
      "text/plain": [
       "[1, 2, 3, 1, 2, 3, 1, 2, 3, 1, 2, 3, 1, 2, 3]"
      ]
     },
     "execution_count": 124,
     "metadata": {},
     "output_type": "execute_result"
    }
   ],
   "source": [
    "l = [1, 2, 3]\n",
    "l*5"
   ]
  },
  {
   "cell_type": "code",
   "execution_count": 125,
   "metadata": {},
   "outputs": [
    {
     "data": {
      "text/plain": [
       "'abcdabcdabcdabcdabcd'"
      ]
     },
     "execution_count": 125,
     "metadata": {},
     "output_type": "execute_result"
    }
   ],
   "source": [
    "5 * 'abcd'"
   ]
  },
  {
   "cell_type": "markdown",
   "metadata": {},
   "source": [
    "my_list = [[]] * 3 来初始化一个由列表组成的列表，但是你得到的列表里包含的 3 个元素其实是 3个引用，而且这 3 个引用指向的都是同一个列表"
   ]
  },
  {
   "cell_type": "code",
   "execution_count": 126,
   "metadata": {},
   "outputs": [
    {
     "data": {
      "text/plain": [
       "[['_', '_', '_'], ['_', '_', '_'], ['_', '_', '_']]"
      ]
     },
     "execution_count": 126,
     "metadata": {},
     "output_type": "execute_result"
    }
   ],
   "source": [
    "# 正确的初始化二维列表的方法\n",
    "board = [['_'] * 3 for i in range(3)]\n",
    "board"
   ]
  },
  {
   "cell_type": "code",
   "execution_count": 127,
   "metadata": {},
   "outputs": [
    {
     "data": {
      "text/plain": [
       "[['_', '_', '_'], ['_', '_', 'X'], ['_', '_', '_']]"
      ]
     },
     "execution_count": 127,
     "metadata": {},
     "output_type": "execute_result"
    }
   ],
   "source": [
    "board[1][2] = 'X' \n",
    "board"
   ]
  },
  {
   "cell_type": "code",
   "execution_count": 129,
   "metadata": {},
   "outputs": [
    {
     "data": {
      "text/plain": [
       "[['_', '_', '_'], ['_', '_', '_'], ['_', '_', '_']]"
      ]
     },
     "execution_count": 129,
     "metadata": {},
     "output_type": "execute_result"
    }
   ],
   "source": [
    "board=[]\n",
    "for i in range(3):\n",
    "    row=['_']*3\n",
    "    board.append(row)\n",
    "board"
   ]
  },
  {
   "cell_type": "code",
   "execution_count": 130,
   "metadata": {},
   "outputs": [
    {
     "data": {
      "text/plain": [
       "[['_', '_', '_'], ['_', '_', '_'], ['X', '_', '_']]"
      ]
     },
     "execution_count": 130,
     "metadata": {},
     "output_type": "execute_result"
    }
   ],
   "source": [
    "board[2][0] = 'X'\n",
    "board"
   ]
  },
  {
   "cell_type": "markdown",
   "metadata": {},
   "source": [
    "序列的增量赋值\n",
    "+=背后的特殊方法是__iadd__ 用于就地加法\n",
    "若一个类没有实现这个方法，Python就会退一步调用__add__\n",
    "a+=b ----a实现了__iadd__方法，就会调用这个方法\n",
    "a = a + b ——没有实现__iadd__就首先计算 a +b，得到一个新的对象，然后赋值给 a"
   ]
  },
  {
   "cell_type": "code",
   "execution_count": 131,
   "metadata": {},
   "outputs": [
    {
     "data": {
      "text/plain": [
       "2226776032384"
      ]
     },
     "execution_count": 131,
     "metadata": {},
     "output_type": "execute_result"
    }
   ],
   "source": [
    "# 展示 *= 在可变和不可变序列上的作用\n",
    "l = [1, 2, 3]\n",
    "id(l)"
   ]
  },
  {
   "cell_type": "code",
   "execution_count": 132,
   "metadata": {},
   "outputs": [
    {
     "data": {
      "text/plain": [
       "[1, 2, 3, 1, 2, 3]"
      ]
     },
     "execution_count": 132,
     "metadata": {},
     "output_type": "execute_result"
    }
   ],
   "source": [
    "l*=2\n",
    "l"
   ]
  },
  {
   "cell_type": "code",
   "execution_count": 133,
   "metadata": {},
   "outputs": [
    {
     "data": {
      "text/plain": [
       "2226776032384"
      ]
     },
     "execution_count": 133,
     "metadata": {},
     "output_type": "execute_result"
    }
   ],
   "source": [
    "id(l)"
   ]
  },
  {
   "cell_type": "code",
   "execution_count": 134,
   "metadata": {},
   "outputs": [
    {
     "name": "stdout",
     "output_type": "stream",
     "text": [
      "2226775617920\n",
      "2226777331744\n"
     ]
    }
   ],
   "source": [
    "t = (1,2,3)\n",
    "print(id(t))\n",
    "t*=2\n",
    "print(id(t))\n",
    "# 表示元组是就地相乘\n",
    "# 对不可变序列进行重复拼接操作，效率会很低，因为每次都有一个新对象\n",
    "# 而解释器会把原来的对象复制到新的对象，再追加新的元素"
   ]
  },
  {
   "cell_type": "code",
   "execution_count": 138,
   "metadata": {},
   "outputs": [
    {
     "ename": "TypeError",
     "evalue": "'tuple' object does not support item assignment",
     "output_type": "error",
     "traceback": [
      "\u001b[1;31m---------------------------------------------------------------------------\u001b[0m",
      "\u001b[1;31mTypeError\u001b[0m                                 Traceback (most recent call last)",
      "\u001b[1;32m~\\AppData\\Local\\Temp/ipykernel_4528/2464992830.py\u001b[0m in \u001b[0;36m<module>\u001b[1;34m\u001b[0m\n\u001b[0;32m      1\u001b[0m \u001b[0mt\u001b[0m \u001b[1;33m=\u001b[0m \u001b[1;33m(\u001b[0m\u001b[1;36m1\u001b[0m\u001b[1;33m,\u001b[0m\u001b[1;36m2\u001b[0m\u001b[1;33m,\u001b[0m\u001b[1;33m[\u001b[0m\u001b[1;36m30\u001b[0m\u001b[1;33m,\u001b[0m\u001b[1;36m40\u001b[0m\u001b[1;33m]\u001b[0m\u001b[1;33m)\u001b[0m\u001b[1;33m\u001b[0m\u001b[1;33m\u001b[0m\u001b[0m\n\u001b[1;32m----> 2\u001b[1;33m \u001b[0mt\u001b[0m\u001b[1;33m[\u001b[0m\u001b[1;36m2\u001b[0m\u001b[1;33m]\u001b[0m \u001b[1;33m+=\u001b[0m \u001b[1;33m[\u001b[0m\u001b[1;36m50\u001b[0m\u001b[1;33m,\u001b[0m\u001b[1;36m60\u001b[0m\u001b[1;33m]\u001b[0m\u001b[1;33m\u001b[0m\u001b[1;33m\u001b[0m\u001b[0m\n\u001b[0m",
      "\u001b[1;31mTypeError\u001b[0m: 'tuple' object does not support item assignment"
     ]
    }
   ],
   "source": [
    "t = (1,2,[30,40])\n",
    "t[2] += [50,60]\n"
   ]
  },
  {
   "cell_type": "code",
   "execution_count": 139,
   "metadata": {},
   "outputs": [
    {
     "data": {
      "text/plain": [
       "(1, 2, [30, 40, 50, 60])"
      ]
     },
     "execution_count": 139,
     "metadata": {},
     "output_type": "execute_result"
    }
   ],
   "source": [
    "t\n",
    "# 抛出错误，但是t2也被改变了"
   ]
  },
  {
   "cell_type": "markdown",
   "metadata": {},
   "source": [
    "t[2]是一个列表 可以完成 因为列表是一个可变对象\n",
    "赋值失败，因为t是一个元组，是不可变的\n",
    "tips：\n",
    "1.不要把可变对象放到元组里面\n",
    "2.增量赋值不是一个原子操作 += 不是原子操作，抛出异常(操作被打断)，but还是完成了操作"
   ]
  },
  {
   "cell_type": "markdown",
   "metadata": {},
   "source": [
    "排序\n",
    "list.sort()方法会就地排序列表，即不会把原列表复制一份，这也是这个方法返回值None的原因\n",
    "——即本方法不会新建一个列表\n",
    "\n",
    "sorted()会新建一个列表作为返回值，这个方法可以接收任何形式的可迭代对象作为参数\n",
    "甚至包括不可变序列或生成器，而不管sorted接受的是怎样的参数\n",
    "它最终都会返回一个列表\n",
    "\n",
    "reserve 若被设定成True ，则被排序的序列里的元素会以降序输出\n",
    "这个参数的默认值是False\n",
    "\n",
    "key 一个只有一个参数的函数，这个函数会被用在序列里面的每一个元素上\n",
    "产生的结果将是排序算法依赖的对比关键字\n",
    "eg：key = str.lower 来实现忽略大小写的顺序\n",
    "   key = len 基于字符串长度的排序，这个参数的默认值是恒等函数，即使用元素自己的值来排序\n",
    "   \n",
    "key可以在内置函数min() 和 max()中起作用\n",
    "itertools.groupby()和heapq.nlargest()等"
   ]
  },
  {
   "cell_type": "code",
   "execution_count": 140,
   "metadata": {},
   "outputs": [
    {
     "data": {
      "text/plain": [
       "['apple', 'banana', 'grape', 'raspberry']"
      ]
     },
     "execution_count": 140,
     "metadata": {},
     "output_type": "execute_result"
    }
   ],
   "source": [
    "fruits = ['grape', 'raspberry', 'apple', 'banana']\n",
    "sorted(fruits)\n"
   ]
  },
  {
   "cell_type": "code",
   "execution_count": 141,
   "metadata": {},
   "outputs": [
    {
     "data": {
      "text/plain": [
       "['raspberry', 'grape', 'banana', 'apple']"
      ]
     },
     "execution_count": 141,
     "metadata": {},
     "output_type": "execute_result"
    }
   ],
   "source": [
    "sorted(fruits, reverse=True)"
   ]
  },
  {
   "cell_type": "code",
   "execution_count": 142,
   "metadata": {},
   "outputs": [
    {
     "data": {
      "text/plain": [
       "['grape', 'apple', 'banana', 'raspberry']"
      ]
     },
     "execution_count": 142,
     "metadata": {},
     "output_type": "execute_result"
    }
   ],
   "source": [
    "sorted(fruits, key=len)\n"
   ]
  },
  {
   "cell_type": "code",
   "execution_count": 143,
   "metadata": {},
   "outputs": [
    {
     "data": {
      "text/plain": [
       "['raspberry', 'banana', 'grape', 'apple']"
      ]
     },
     "execution_count": 143,
     "metadata": {},
     "output_type": "execute_result"
    }
   ],
   "source": [
    "sorted(fruits, key=len, reverse=True)"
   ]
  },
  {
   "cell_type": "code",
   "execution_count": 144,
   "metadata": {},
   "outputs": [
    {
     "data": {
      "text/plain": [
       "['grape', 'raspberry', 'apple', 'banana']"
      ]
     },
     "execution_count": 144,
     "metadata": {},
     "output_type": "execute_result"
    }
   ],
   "source": [
    "fruits\n",
    "#说明sorted()会开辟新的空间  原列表并没有变化。  .sort()是就地排序的"
   ]
  },
  {
   "cell_type": "code",
   "execution_count": 145,
   "metadata": {},
   "outputs": [],
   "source": [
    "fruits.sort() "
   ]
  },
  {
   "cell_type": "code",
   "execution_count": 146,
   "metadata": {},
   "outputs": [
    {
     "data": {
      "text/plain": [
       "['apple', 'banana', 'grape', 'raspberry']"
      ]
     },
     "execution_count": 146,
     "metadata": {},
     "output_type": "execute_result"
    }
   ],
   "source": [
    "fruits"
   ]
  },
  {
   "cell_type": "markdown",
   "metadata": {},
   "source": [
    "已排序的序列可以用来进行快速搜索，而标准库的 bisect 模块提供了二分查找算法。\n",
    "\n",
    "使用bisect来管理已排序的序列\n",
    "bisect包含两个主要函数\n",
    "bisect 和insort 都利用了二分查找算法来查找或插入元素\n",
    "\n",
    "————————\n",
    "bisect(haystack,needle)\n",
    "haystack必须是一个有序的序。并且将neddle插入这个位置后 haystack还可以保持升序\n"
   ]
  },
  {
   "cell_type": "markdown",
   "metadata": {},
   "source": [
    "1.使用特定的bisect函数来计算元素应该出现的位置\n",
    "2.利用该位置来算出需要几个分隔符号\n",
    "3.将元素和其应该出现的位置打印出来\n",
    "4.根据命令最后一个参数来选用bisect函数\n",
    "5.把选定的函数在抬头打印出来"
   ]
  },
  {
   "cell_type": "code",
   "execution_count": 162,
   "metadata": {},
   "outputs": [
    {
     "name": "stdout",
     "output_type": "stream",
     "text": [
      "DEMO: bisect_right\n",
      "haystack->  1 4 5 6 8121520212323262930\n",
      "31 @ 14     | | | | | | | | | | | | | |31\n",
      "30 @ 14     | | | | | | | | | | | | | |30\n",
      "29 @ 13     | | | | | | | | | | | | |29\n",
      "23 @ 11     | | | | | | | | | | |23\n",
      "22 @  9     | | | | | | | | |22\n",
      "10 @  5     | | | | |10\n",
      " 8 @  5     | | | | |8 \n",
      " 5 @  3     | | |5 \n",
      " 2 @  1     |2 \n",
      " 1 @  1     |1 \n",
      " 0 @  0    0 \n"
     ]
    }
   ],
   "source": [
    "# 在有序序列中使用bisect查找某个元素的插入位置\n",
    "import bisect\n",
    "import sys\n",
    "HAYSTACK = [1, 4, 5, 6, 8, 12, 15, 20, 21, 23, 23, 26, 29, 30]\n",
    "NEEDLES = [0, 1, 2, 5, 8, 10, 22, 23, 29, 30, 31]\n",
    "ROW_FMT = '{0:2d} @ {1:2d}    {2}{0:<2d}'\n",
    "\n",
    "def demo(bisect_fn):\n",
    "    for needle in reversed(NEEDLES):\n",
    "        position = bisect_fn(HAYSTACK,needle)#1\n",
    "        offset = position * ' |' #2\n",
    "        print(ROW_FMT.format(needle,position,offset)) #3\n",
    "if sys.argv[-1] == 'left': #4\n",
    "    bisect_fn = bisect.bisect_left\n",
    "else:\n",
    "    bisect_fn = bisect.bisect\n",
    "\n",
    "print('DEMO:',bisect_fn.__name__) #5\n",
    "print('haystack->',''.join('%2d' % n for n in HAYSTACK))\n",
    "demo(bisect_fn)\n",
    "#表示needle应该在haystack中插入的位置\n",
    "# 每一行以needle@position（元素以及其应该插入的位置）开始\n",
    "# 展示了该元素在原序列中的物理位置"
   ]
  },
  {
   "cell_type": "markdown",
   "metadata": {},
   "source": [
    "bisect的调试\n",
    "使用两个可选参数 --lo 和 --hi来缩小搜寻的范围\n",
    "lo的默认值是0 hi的默认值是序列的长度 即len()作用于该序列的返回值\n",
    "\n",
    "bisect是bisect函数的别名，后者还有个姐妹函数bisect_left\n",
    "区别是 bisect_left返回的插入位置是原序列中被插入元素相等的元素的位置\n",
    "即新元素会被放到它相等的元素的前面\n",
    "而bisect_right则返回与它相等的元素之后的位置\n",
    "\n",
    "这个细微的差别可能对于整数序列来讲没什么用\n",
    "但是对于那些值相等但是形式不同的数据类型来讲，结果就不一样了。\n",
    "比如说虽然 1 == 1.0 的返回值是 True，1 和 1.0 其实是两个不同的元素。"
   ]
  },
  {
   "cell_type": "code",
   "execution_count": 163,
   "metadata": {},
   "outputs": [
    {
     "data": {
      "text/plain": [
       "['F', 'A', 'C', 'C', 'A', 'A', 'A']"
      ]
     },
     "execution_count": 163,
     "metadata": {},
     "output_type": "execute_result"
    }
   ],
   "source": [
    "# bisect可以用于建立一个用数字作为索引的查询表格，比如把分数和成绩对应起来\n",
    "def grade(score,breakpoint=[60,70,80,0],grades='FDCBA'):\n",
    "    i = bisect.bisect(breakpoint,score)\n",
    "    return grades[i]\n",
    "[grade(score) for score in [33,98,77,70,89,90,100]]"
   ]
  },
  {
   "cell_type": "markdown",
   "metadata": {},
   "source": [
    "bisect.insort插入新元素 用于在有序序列里面插入数据后仍然有序\n",
    "insort 和 bisect一样，有lo和hi两个可选参数用于控制查找的范围\n",
    "有个变体是insort_left 背后用的是bisect_left"
   ]
  },
  {
   "cell_type": "code",
   "execution_count": 167,
   "metadata": {},
   "outputs": [
    {
     "name": "stdout",
     "output_type": "stream",
     "text": [
      "10 -> [10]\n",
      " 0 -> [0, 10]\n",
      " 6 -> [0, 6, 10]\n",
      " 8 -> [0, 6, 8, 10]\n",
      " 7 -> [0, 6, 7, 8, 10]\n",
      " 2 -> [0, 2, 6, 7, 8, 10]\n",
      "10 -> [0, 2, 6, 7, 8, 10, 10]\n"
     ]
    }
   ],
   "source": [
    "import bisect\n",
    "import random\n",
    "\n",
    "SIZE = 7\n",
    "random.seed(1729)\n",
    "\n",
    "my_list = []\n",
    "for i in range(SIZE):\n",
    "    new_item = random.randrange(SIZE*2)\n",
    "    bisect.insort(my_list,new_item)\n",
    "    print('%2d ->'%new_item,my_list)"
   ]
  },
  {
   "cell_type": "markdown",
   "metadata": {},
   "source": [
    "数组\n",
    "如在存放1000万个浮点数时，数组array的效率要高于列表\n",
    "因为数组背后存放的不是float对象， 而是数字的机器翻译---即字节表述\n",
    "若需要对序列进行频繁地先进先出的操作，deque的速度更快\n",
    "若在代码里包含操作的频率更高，则set更合适，set不是序列 是无序的\n",
    "\n",
    "——————\n",
    "若只需要一个包含数字的列表 则array.array比list更高效\n",
    "数组可以pop() insert) extend()\n",
    "读取文件存入文件 .frombytes .tofile\n",
    "array.fromfile从二进制文件里读取1000w个双精度浮点数需要0.1s\n",
    "比文本文件中读取浮点数快60倍，因为文本文件读取会使用内置的float方法将\n",
    "每一行文字转换成浮点数\n",
    "array.tofile写入到二进制文件，比写入到文本文件快7倍，也不需要额外的空间\n",
    "\n",
    "pickle.dump 处理序列化数字类型\n",
    "——————\n",
    "创建数组需要一个类型码，该类型码表示在底层的C语言应该存放怎样的数据类型\n",
    "比如b类型码代表牌有符号的字符 signed char\n",
    "因此 array('b')创建的数组只能存放一个字节大小的整数 范围是-128~127在序列很大的时候可以省略空间"
   ]
  },
  {
   "cell_type": "code",
   "execution_count": 168,
   "metadata": {},
   "outputs": [
    {
     "name": "stdout",
     "output_type": "stream",
     "text": [
      "0.5963321947530882\n"
     ]
    }
   ],
   "source": [
    "# 存放1000万个随机浮点数数组到文件，再从文件读取这个数组\n",
    "from array import array\n",
    "from random import random\n",
    "# 利用一个生成器表达式建立一个双精度浮点数组\n",
    "floats = array('d',(random() for i in range(10**7)))\n",
    "print(floats[-1])"
   ]
  },
  {
   "cell_type": "code",
   "execution_count": 172,
   "metadata": {},
   "outputs": [
    {
     "data": {
      "text/plain": [
       "0.5963321947530882"
      ]
     },
     "execution_count": 172,
     "metadata": {},
     "output_type": "execute_result"
    }
   ],
   "source": [
    "fp = open('floats.bin','wb')\n",
    "# 将数组存放到一个二进制文件中\n",
    "floats.tofile(fp)\n",
    "fp.close()\n",
    "floats2 = array('d') #新建双精度浮点空数组\n",
    "fp = open('floats.bin','rb')\n",
    "floats2.fromfile(fp,10**7) #从二进制文件中读取1000w个浮点数\n",
    "fp.close()\n",
    "floats2[-1]"
   ]
  },
  {
   "cell_type": "code",
   "execution_count": 173,
   "metadata": {},
   "outputs": [
    {
     "data": {
      "text/plain": [
       "True"
      ]
     },
     "execution_count": 173,
     "metadata": {},
     "output_type": "execute_result"
    }
   ],
   "source": [
    "floats == floats2"
   ]
  },
  {
   "cell_type": "code",
   "execution_count": 175,
   "metadata": {},
   "outputs": [],
   "source": [
    "# 数组排序\n",
    "a = array.array(a.typecode,sorted(a))"
   ]
  },
  {
   "cell_type": "markdown",
   "metadata": {},
   "source": [
    "内存视图\n",
    "memoryview 是一个in-build class \n",
    "让用户在不复制内容的情况下操作同一个数组的不同切片\n",
    "——————\n",
    "memoryview是泛化和去数学化的Numpy数组\n",
    "不需要复制内容的前提下，在数据结构之间共享内存\n",
    "数据结构可以是任何形式，如PIL图片 SQLite数据库和Numpy的数组等\n",
    "\n",
    "——————\n",
    "memoryview.cast的概念与数组模块类似 可以使用不同的方式使用同一块内存\n",
    "并且内容字节不会随意移动\n",
    "memoryview.cast会把同一块内存中的内容打包成一个全新的memoryview对象给用户"
   ]
  },
  {
   "cell_type": "code",
   "execution_count": 191,
   "metadata": {},
   "outputs": [
    {
     "data": {
      "text/plain": [
       "5"
      ]
     },
     "execution_count": 191,
     "metadata": {},
     "output_type": "execute_result"
    }
   ],
   "source": [
    "# 使用memoryview修改一个数组的某个字节，该数组的元素是16位二进制整数\n",
    "from array import array\n",
    "#利用含有5个短整型有符号整数的数组 创建一个memoryview\n",
    "numbers = array('h',[-2,-1,0,1,2])\n",
    "memv = memoryview(numbers)\n",
    "len(memv)"
   ]
  },
  {
   "cell_type": "code",
   "execution_count": 192,
   "metadata": {},
   "outputs": [
    {
     "data": {
      "text/plain": [
       "-2"
      ]
     },
     "execution_count": 192,
     "metadata": {},
     "output_type": "execute_result"
    }
   ],
   "source": [
    "memv[0]"
   ]
  },
  {
   "cell_type": "code",
   "execution_count": 193,
   "metadata": {},
   "outputs": [
    {
     "data": {
      "text/plain": [
       "[254, 255, 255, 255, 0, 0, 1, 0, 2, 0]"
      ]
     },
     "execution_count": 193,
     "metadata": {},
     "output_type": "execute_result"
    }
   ],
   "source": [
    "#创建一个memv_oct 将memv里的内容转换成'B'类型 即无符号字符\n",
    "memv_oct = memv.cast('B') \n",
    "memv_oct.tolist() #以列表的形式查看memv\n",
    "#计算机原理，涉及补码 进制转换等 符号也转换成了一个数字 所有数量是原数组的两倍"
   ]
  },
  {
   "cell_type": "code",
   "execution_count": 194,
   "metadata": {},
   "outputs": [
    {
     "data": {
      "text/plain": [
       "array('h', [-2, -1, 1024, 1, 2])"
      ]
     },
     "execution_count": 194,
     "metadata": {},
     "output_type": "execute_result"
    }
   ],
   "source": [
    "memv_oct[5] = 4 #将位于位置5的字节赋值成4\n",
    "numbers #将占两个字节的整数的高位字节改成了4 该有符号整数的值变成了1024"
   ]
  },
  {
   "cell_type": "markdown",
   "metadata": {},
   "source": [
    "Numpy和Scipy\n",
    "提供高阶数组和矩阵操作"
   ]
  },
  {
   "cell_type": "code",
   "execution_count": 195,
   "metadata": {},
   "outputs": [
    {
     "data": {
      "text/plain": [
       "array([ 0,  1,  2,  3,  4,  5,  6,  7,  8,  9, 10, 11])"
      ]
     },
     "execution_count": 195,
     "metadata": {},
     "output_type": "execute_result"
    }
   ],
   "source": [
    "# 对numpy.ndarray的行和列进行基本操作\n",
    "import numpy\n",
    "a = numpy.arange(12)\n",
    "a"
   ]
  },
  {
   "cell_type": "code",
   "execution_count": 196,
   "metadata": {},
   "outputs": [
    {
     "data": {
      "text/plain": [
       "numpy.ndarray"
      ]
     },
     "execution_count": 196,
     "metadata": {},
     "output_type": "execute_result"
    }
   ],
   "source": [
    "type(a)"
   ]
  },
  {
   "cell_type": "code",
   "execution_count": 197,
   "metadata": {},
   "outputs": [
    {
     "data": {
      "text/plain": [
       "(12,)"
      ]
     },
     "execution_count": 197,
     "metadata": {},
     "output_type": "execute_result"
    }
   ],
   "source": [
    "a.shape #查看维度 是一个一维的，有12个元素的数组"
   ]
  },
  {
   "cell_type": "code",
   "execution_count": 198,
   "metadata": {},
   "outputs": [
    {
     "data": {
      "text/plain": [
       "array([[ 0,  1,  2,  3],\n",
       "       [ 4,  5,  6,  7],\n",
       "       [ 8,  9, 10, 11]])"
      ]
     },
     "execution_count": 198,
     "metadata": {},
     "output_type": "execute_result"
    }
   ],
   "source": [
    "a.shape = 3,4 #将数组变为二维的\n",
    "a"
   ]
  },
  {
   "cell_type": "code",
   "execution_count": 199,
   "metadata": {},
   "outputs": [
    {
     "data": {
      "text/plain": [
       "array([ 8,  9, 10, 11])"
      ]
     },
     "execution_count": 199,
     "metadata": {},
     "output_type": "execute_result"
    }
   ],
   "source": [
    "a[2] # 打印第二行"
   ]
  },
  {
   "cell_type": "code",
   "execution_count": 200,
   "metadata": {},
   "outputs": [
    {
     "data": {
      "text/plain": [
       "9"
      ]
     },
     "execution_count": 200,
     "metadata": {},
     "output_type": "execute_result"
    }
   ],
   "source": [
    "a[2,1] #打印第二行第一列的元素"
   ]
  },
  {
   "cell_type": "code",
   "execution_count": 201,
   "metadata": {},
   "outputs": [
    {
     "data": {
      "text/plain": [
       "array([1, 5, 9])"
      ]
     },
     "execution_count": 201,
     "metadata": {},
     "output_type": "execute_result"
    }
   ],
   "source": [
    "a[:,1] #打印第一列"
   ]
  },
  {
   "cell_type": "code",
   "execution_count": 202,
   "metadata": {},
   "outputs": [
    {
     "data": {
      "text/plain": [
       "array([[ 0,  4,  8],\n",
       "       [ 1,  5,  9],\n",
       "       [ 2,  6, 10],\n",
       "       [ 3,  7, 11]])"
      ]
     },
     "execution_count": 202,
     "metadata": {},
     "output_type": "execute_result"
    }
   ],
   "source": [
    "a.transpose() #行和列交换 转置"
   ]
  },
  {
   "cell_type": "code",
   "execution_count": null,
   "metadata": {},
   "outputs": [],
   "source": [
    "#对numpy.ndarray中的元素进行抽象读取，保存和其他操作\n",
    "import numpy\n",
    "floats = numpy.loadtxt('') #从文本文件中读取\n",
    "floats *= .5 #将数组中的每一个数都乘以0.5\n",
    "from time import perf_counter ad pc #导入高精度和性能的计时器\n",
    "t0 = pc(); floats /=3 ; pc() - t0 #将每一个元素都除以3 看到处理数据的所用时间\n",
    "numpy.save('',float) #将数组存到二进制文件中\n",
    "floats2 = numpy.load('','r+') #将上面的数据导入到另一个数组中，使用了内存映射，可以在内存不足的情况下对数组进行切片\n",
    "floats2 *=6 #将数组2中的元素全部乘以6"
   ]
  },
  {
   "cell_type": "markdown",
   "metadata": {},
   "source": [
    "安装numpy和scipy\n",
    "sudo apt-get install python-numpy python-scipy"
   ]
  },
  {
   "cell_type": "markdown",
   "metadata": {},
   "source": [
    "双向队列和其他形式的队列\n",
    "collections.deque类 是一个线程安全、可以快速从两端添加或者删除元素的数据类型\n",
    "在新建一个双向队列的时候，可以指定这个队列的大小\n",
    "若这个队列满了，可以从反向端删除过期的元素，在末尾添加新的元素\n",
    "————————\n",
    "append 和 popleft都是原子操作。即deque可以在多项层程序中安全地当做先进先出的栈来使用，使用者不用担心资源锁的问题"
   ]
  },
  {
   "cell_type": "code",
   "execution_count": 203,
   "metadata": {},
   "outputs": [
    {
     "data": {
      "text/plain": [
       "deque([0, 1, 2, 3, 4, 5, 6, 7, 8, 9])"
      ]
     },
     "execution_count": 203,
     "metadata": {},
     "output_type": "execute_result"
    }
   ],
   "source": [
    "from collections import deque\n",
    "dq = deque(range(10),maxlen=10) #maxlen是一个可选参数，代表该队列的容量，一旦设定不可更改\n",
    "dq"
   ]
  },
  {
   "cell_type": "code",
   "execution_count": 204,
   "metadata": {},
   "outputs": [
    {
     "data": {
      "text/plain": [
       "deque([7, 8, 9, 0, 1, 2, 3, 4, 5, 6])"
      ]
     },
     "execution_count": 204,
     "metadata": {},
     "output_type": "execute_result"
    }
   ],
   "source": [
    "#队列的旋转操作，接收一个参数n n > 0 时，队列的最右边的n个元素会被移动到队列的左边\n",
    "#n<0时 最左边的元素会被移动到右边\n",
    "dq.rotate(3)\n",
    "dq"
   ]
  },
  {
   "cell_type": "code",
   "execution_count": 205,
   "metadata": {},
   "outputs": [
    {
     "data": {
      "text/plain": [
       "deque([1, 2, 3, 4, 5, 6, 7, 8, 9, 0])"
      ]
     },
     "execution_count": 205,
     "metadata": {},
     "output_type": "execute_result"
    }
   ],
   "source": [
    "dq.rotate(-4)\n",
    "dq"
   ]
  },
  {
   "cell_type": "code",
   "execution_count": 210,
   "metadata": {},
   "outputs": [
    {
     "data": {
      "text/plain": [
       "deque([[-1, -2], 40, 30, 20, 10, 3, 4, 5, 6, 7])"
      ]
     },
     "execution_count": 210,
     "metadata": {},
     "output_type": "execute_result"
    }
   ],
   "source": [
    "dq.appendleft(-1) #从左开始添加元素 最右边的元素被删除了\n",
    "dq"
   ]
  },
  {
   "cell_type": "code",
   "execution_count": 207,
   "metadata": {},
   "outputs": [
    {
     "data": {
      "text/plain": [
       "deque([3, 4, 5, 6, 7, 8, 9, 11, 22, 33])"
      ]
     },
     "execution_count": 207,
     "metadata": {},
     "output_type": "execute_result"
    }
   ],
   "source": [
    "dq.extend([11,22,33]) #在后面添加元素，前面的元素被删除了\n",
    "dq"
   ]
  },
  {
   "cell_type": "code",
   "execution_count": 208,
   "metadata": {},
   "outputs": [
    {
     "data": {
      "text/plain": [
       "deque([40, 30, 20, 10, 3, 4, 5, 6, 7, 8])"
      ]
     },
     "execution_count": 208,
     "metadata": {},
     "output_type": "execute_result"
    }
   ],
   "source": [
    "dq.extendleft([10,20,30,40])\n",
    "dq"
   ]
  },
  {
   "cell_type": "markdown",
   "metadata": {},
   "source": [
    "其他Python标准库也有对队列的实现\n",
    "queue\n",
    "    提供了同步类 Queue LifoQueue和PriorityQueue 不同的线程可以利用这些数据类型来交换信息。这三个类的构造方法有一个可选参数maxsize 接收正整数作为输入值，用于限定队列的大小。在队列满的时候，不会扔掉旧的元素来腾位置，若队列满了，就会被锁住，直到另外的线程移除了某个元素而腾出位置。\n",
    "    该特性适合用于控制活跃线程的数量。\n",
    "\n",
    "multiprocessiong\n",
    "    这个包实现了自己的Queue，和queue.Queue类似，用于进程间通信\n",
    "    multiprocessiong.JoinableQueue类型，可以让任务管理变的更加方便\n",
    "    \n",
    "asyncio\n",
    "    有Queue LifiQueue PriorityQueue 和JoinablQueue 这些类收到queue和multiprocessing模块的影响，为异步编程里的任务管理提供了专门的便利\n",
    "    \n",
    "    \n",
    " heapq\n",
    "     heapq没有队列类，而是提供了heapoush和heappop方法，将可变序列当做堆队列或者优先队列来使用"
   ]
  },
  {
   "cell_type": "markdown",
   "metadata": {},
   "source": [
    "    字典和集合\n",
    "\n",
    "泛映射类型\n",
    "    collections.abc模块中有Mapping和MutableMapping这两个抽象基类\n",
    "    作用是为dict和其他类似的类型 定义形式接口\n",
    "\n"
   ]
  },
  {
   "cell_type": "code",
   "execution_count": 214,
   "metadata": {},
   "outputs": [
    {
     "data": {
      "text/plain": [
       "True"
      ]
     },
     "execution_count": 214,
     "metadata": {},
     "output_type": "execute_result"
    }
   ],
   "source": [
    "#判断某数据是不是广义上的映射类型\n",
    "from collections import abc\n",
    "my_dict = {}\n",
    "isinstance(my_dict,abc.Mapping)"
   ]
  },
  {
   "cell_type": "markdown",
   "metadata": {},
   "source": [
    "标准库中的所有映射类型都是利用dict来实现的，因此有个共同的限制：\n",
    "    只有可散列的数据类型才能用作这些映射里面的键\n",
    " \n",
    "————\n",
    "可散列的数据类型：\n",
    "    若一个对象是可散列的，那么这个对象的生命周期中，它的散列值是不变的\n",
    "    且这个对象要有__qe__()方法，这样才能与其他的键做比较\n",
    "    若两个可散列对象是相等的，那么它们的散列值是一样的\n",
    "    \n",
    "原子不可变数据类型(str\\bytes和数值类型) 都是可散列类型\n",
    "frozenset也是可散列类型，且只能容纳可散列类型\n",
    "元组 当一个元素包含的所有元素都是可散列类型 该元组可散列"
   ]
  },
  {
   "cell_type": "code",
   "execution_count": 215,
   "metadata": {},
   "outputs": [
    {
     "data": {
      "text/plain": [
       "-3907003130834322577"
      ]
     },
     "execution_count": 215,
     "metadata": {},
     "output_type": "execute_result"
    }
   ],
   "source": [
    "tt = (1,2,(30,40))\n",
    "hash(tt)"
   ]
  },
  {
   "cell_type": "code",
   "execution_count": 216,
   "metadata": {},
   "outputs": [
    {
     "ename": "TypeError",
     "evalue": "unhashable type: 'list'",
     "output_type": "error",
     "traceback": [
      "\u001b[1;31m---------------------------------------------------------------------------\u001b[0m",
      "\u001b[1;31mTypeError\u001b[0m                                 Traceback (most recent call last)",
      "\u001b[1;32m~\\AppData\\Local\\Temp/ipykernel_4528/2125450121.py\u001b[0m in \u001b[0;36m<module>\u001b[1;34m\u001b[0m\n\u001b[0;32m      1\u001b[0m \u001b[0mt1\u001b[0m \u001b[1;33m=\u001b[0m \u001b[1;33m(\u001b[0m\u001b[1;36m1\u001b[0m\u001b[1;33m,\u001b[0m\u001b[1;36m2\u001b[0m\u001b[1;33m,\u001b[0m\u001b[1;33m[\u001b[0m\u001b[1;36m30\u001b[0m\u001b[1;33m,\u001b[0m\u001b[1;36m40\u001b[0m\u001b[1;33m]\u001b[0m\u001b[1;33m)\u001b[0m\u001b[1;33m\u001b[0m\u001b[1;33m\u001b[0m\u001b[0m\n\u001b[1;32m----> 2\u001b[1;33m \u001b[0mhash\u001b[0m\u001b[1;33m(\u001b[0m\u001b[0mt1\u001b[0m\u001b[1;33m)\u001b[0m\u001b[1;33m\u001b[0m\u001b[1;33m\u001b[0m\u001b[0m\n\u001b[0m",
      "\u001b[1;31mTypeError\u001b[0m: unhashable type: 'list'"
     ]
    }
   ],
   "source": [
    "t1 = (1,2,[30,40])\n",
    "hash(t1)\n",
    "# 列表不是可散列的\n",
    "# 虽然元组是不可变序列，它里面的元素可能是其他可变类型的引用"
   ]
  },
  {
   "cell_type": "code",
   "execution_count": 217,
   "metadata": {},
   "outputs": [
    {
     "data": {
      "text/plain": [
       "5149391500123939311"
      ]
     },
     "execution_count": 217,
     "metadata": {},
     "output_type": "execute_result"
    }
   ],
   "source": [
    "tf = (1,2,frozenset([30,40]))\n",
    "hash(tf)"
   ]
  },
  {
   "cell_type": "markdown",
   "metadata": {},
   "source": [
    "一般用户自定义的类型的对象都是可散列的。散列值就是它们的id()函数的返回值\n",
    "所以所有这些对象在比较的时候都是不相等的\n",
    "若一个对象实现了__eq__方法，并且在方法中用到了这个对象的内部状态的话\n",
    "那么只有当所有的内部状态都是不可变的情况下，这个对象才是可散列的"
   ]
  },
  {
   "cell_type": "code",
   "execution_count": 218,
   "metadata": {},
   "outputs": [
    {
     "data": {
      "text/plain": [
       "True"
      ]
     },
     "execution_count": 218,
     "metadata": {},
     "output_type": "execute_result"
    }
   ],
   "source": [
    "# 创建字典的不同方式\n",
    "a = dict(one=1,two=2,three=3)\n",
    "b = {'one':1,'two':2,'three':3}\n",
    "c = dict(zip(['one','two','three'],[1,2,3]))\n",
    "d = dict([('two',2),('one',1),('three',3)])\n",
    "e = dict({'three':3,'one':1,'two':2})\n",
    "a==b==c==d==e"
   ]
  },
  {
   "cell_type": "markdown",
   "metadata": {},
   "source": [
    "字典推导 dictcomp\n",
    "字典推导可以从任何以键值对作为元素的可迭代对象中构建出字典\n"
   ]
  },
  {
   "cell_type": "code",
   "execution_count": 2,
   "metadata": {},
   "outputs": [],
   "source": [
    "#利用字典推导将一个装满元祖的列表变成两个不同的字典\n",
    "DIAL_CODES = [(86, 'China'),(91, 'India'), (1, 'United States'),  (62, 'Indonesia'),  (55, 'Brazil'),  (92, 'Pakistan'),  (880, 'Bangladesh'), (234, 'Nigeria'),  (7, 'Russia'),  (81, 'Japan')]"
   ]
  },
  {
   "cell_type": "code",
   "execution_count": 4,
   "metadata": {},
   "outputs": [
    {
     "data": {
      "text/plain": [
       "{'Bangladesh': 880,\n",
       " 'Brazil': 55,\n",
       " 'China': 86,\n",
       " 'India': 91,\n",
       " 'Indonesia': 62,\n",
       " 'Japan': 81,\n",
       " 'Nigeria': 234,\n",
       " 'Pakistan': 92,\n",
       " 'Russia': 7,\n",
       " 'United States': 1}"
      ]
     },
     "execution_count": 4,
     "metadata": {},
     "output_type": "execute_result"
    }
   ],
   "source": [
    "country_code = {country:code for  code,country in DIAL_CODES}\n",
    "country_code"
   ]
  },
  {
   "cell_type": "code",
   "execution_count": 5,
   "metadata": {},
   "outputs": [
    {
     "data": {
      "text/plain": [
       "{1: 'UNITED STATES', 7: 'RUSSIA', 55: 'BRAZIL', 62: 'INDONESIA'}"
      ]
     },
     "execution_count": 5,
     "metadata": {},
     "output_type": "execute_result"
    }
   ],
   "source": [
    "{code:country.upper() for country,code in country_code.items() if code < 66}"
   ]
  },
  {
   "cell_type": "markdown",
   "metadata": {},
   "source": [
    "d.update(m,[**kargs])方法 \n",
    "\n",
    "m是映射或者键值对迭代器，用于更新d里对应的条目\n",
    "update方法处理m的方式，是典型的“鸭子类型”\n",
    "\n",
    "函数首先检查m是否有keys方法，如果有，那么update函数就把它当作映射对象来处理，否则 函数会退一步，转而把m当作包含了键值对元素的迭代器\n",
    "\n",
    "--即有keys方法 就当作映射对象 没有就当作迭代器\n",
    "\n",
    "Python里面可以用一个映射对象来新建一个映射对象，也可以用包含key value元素的可迭代对象来初始化一个映射对象\n",
    "\n",
    "在映射对象的方法里 setdefault可以用于处理找不到的键"
   ]
  },
  {
   "cell_type": "markdown",
   "metadata": {},
   "source": [
    "setdefault处理找不到的键\n",
    "当字典d[k]不能找到正确的键的时候 Python会抛出异常\n",
    "一般会使用d.get(d,default)来代替d[k] 给找不到的键一个默认的返回值\n",
    "但是要更新某个键对应值的时候，不管使用__getitem__还是get都不自然\n",
    "所以dict.get不是处理找不到键的最好方法"
   ]
  },
  {
   "cell_type": "code",
   "execution_count": 18,
   "metadata": {},
   "outputs": [
    {
     "name": "stdout",
     "output_type": "stream",
     "text": [
      "<_sre.SRE_Match object; span=(0, 5), match='hello'>\n",
      "[]\n",
      "<_sre.SRE_Match object; span=(6, 11), match='hello'>\n",
      "[(1, 1)]\n",
      "<_sre.SRE_Match object; span=(12, 17), match='hello'>\n",
      "[(1, 1), (1, 7)]\n",
      "<_sre.SRE_Match object; span=(18, 23), match='hello'>\n",
      "[(1, 1), (1, 7), (1, 13)]\n",
      "<_sre.SRE_Match object; span=(24, 29), match='hello'>\n",
      "[(1, 1), (1, 7), (1, 13), (1, 19)]\n",
      "{'hello': [(1, 1), (1, 7), (1, 13), (1, 19), (1, 25)]}\n",
      "hello [(1, 1), (1, 7), (1, 13), (1, 19), (1, 25)]\n"
     ]
    }
   ],
   "source": [
    "# 从索引中获取单词出现的频率信息，并把它们写进对应的列表里\n",
    "#一般的方法\n",
    "import sys\n",
    "import re\n",
    "\n",
    "WORD_RE = re.compile(r'hello')\n",
    "\n",
    "index = {}\n",
    "with open('./a.txt',encoding='utf-8') as fp:\n",
    "    for line_no,line in enumerate(fp,1):\n",
    "        for match in WORD_RE.finditer(line):\n",
    "            word = match.group()\n",
    "            print(match)\n",
    "            column_no = match.start() + 1\n",
    "            location = (line_no,column_no)\n",
    "            occurrences = index.get(word,[])\n",
    "            print(occurrences)\n",
    "            occurrences.append(location)\n",
    "            index[word] = occurrences\n",
    "print(index)\n",
    "for word in sorted(index,key=str.upper):\n",
    "    print(word,index[word])\n",
    "            "
   ]
  },
  {
   "cell_type": "code",
   "execution_count": 19,
   "metadata": {},
   "outputs": [
    {
     "name": "stdout",
     "output_type": "stream",
     "text": [
      "hello [(1, 1), (1, 7), (1, 13), (1, 19), (1, 25)]\n",
      "world [(2, 1), (2, 7), (2, 13), (2, 19), (2, 25)]\n"
     ]
    }
   ],
   "source": [
    "#创建从一个单词到其出现情况的映射\n",
    "import sys\n",
    "import re\n",
    "WORD_RE = re.compile(r'\\w+')\n",
    "index = {}\n",
    "\n",
    "with open(\"./a.txt\",encoding='utf-8') as fp:\n",
    "    for line_no,line in enumerate(fp,1):\n",
    "        for match in WORD_RE.finditer(line):\n",
    "            word = match.group()\n",
    "            column_no = match.start() + 1\n",
    "            location = (line_no,column_no)\n",
    "            index.setdefault(word,[]).append(location)\n",
    "            \n",
    "for word in sorted(index,key=str.upper):\n",
    "    print(word,index[word])"
   ]
  },
  {
   "cell_type": "code",
   "execution_count": null,
   "metadata": {},
   "outputs": [],
   "source": [
    "my_dict.setdefault(key,[]).append(new_value)\n",
    "#等价于\n",
    "if key not in my_dict:\n",
    "    my_dict[key] = []\n",
    "my_dict[key].append(new_value)\n",
    "#二者的效果是一样的，不过后者至少要进行两次键查询，若键不存在就是查询了三次\n",
    "#使用setdefault只需要一次就可以完成整个操作"
   ]
  },
  {
   "cell_type": "markdown",
   "metadata": {},
   "source": [
    "映射的弹性键查询\n",
    "\n",
    "有时候某个键在映射里面不存在，我们希望在通过这个键读取值的时候能够得到一个默认值\n",
    "有两个途径\n",
    "一个是 通过defaultdict这个类型\n",
    "一个是自己定义一个dict的子类 在子类中实现__missing__方法"
   ]
  },
  {
   "cell_type": "markdown",
   "metadata": {},
   "source": [
    "defaultdict处理找不到键的选择\n",
    "在用户创建defaultdict对象的时候 需要给它配置一个为找不到的键创造默认值的方法\n",
    "\n",
    "在实例化一个defaultdict的时候 需要给构造方法提供一个具体可调用对象\n",
    "这个可调用对象会在__getitem__碰到找不到的键的时候 让__getitem__返回某种默认值\n",
    "\n",
    "比如\n",
    "新建一个字典 dd=defaultdict(list) 如果键'new-key'在dd中不存在的话\n",
    "表达式dd['new-key']会按照以下步骤：\n",
    "1.调用list()来建立一个新列表\n",
    "2.把这个新列表作为值 'new-key'作为它的键 放到dd中\n",
    "3.返回这个列表的引用\n",
    "而这个用来生成默认值的可调用对象存放在名为default_factory的实例属性里\n"
   ]
  },
  {
   "cell_type": "code",
   "execution_count": 20,
   "metadata": {},
   "outputs": [
    {
     "name": "stdout",
     "output_type": "stream",
     "text": [
      "hello [(1, 1), (1, 7), (1, 13), (1, 19), (1, 25)]\n",
      "world [(2, 1), (2, 7), (2, 13), (2, 19), (2, 25)]\n"
     ]
    }
   ],
   "source": [
    "#利用ddefaultdict而不是setdefault方法\n",
    "import sys\n",
    "import re\n",
    "import collections\n",
    "WORD_RE = re.compile(r'\\w+')\n",
    "#将list构造方法作为default_factory来创建一个defaultdict\n",
    "index = collections.defaultdict(list)\n",
    "with open('./a.txt',encoding='utf-8') as fp:\n",
    "    for line_no,line in enumerate(fp,1):\n",
    "        for match in WORD_RE.finditer(line):\n",
    "            word = match.group()\n",
    "            column_no = match.start() + 1\n",
    "            location = (line_no,column_no)\n",
    "            #若index没有word的记录，那么default_factory会被调用 为查询不到的键创造一个值，这个值在这里是一个控的列表，这个空列表被赋值给index[word],继而被当作返回值返回，因此.append(location)总能成功\n",
    "            index[word].append(location)\n",
    "\n",
    "for word in sorted(index,key=str.upper):\n",
    "    print(word,index[word])"
   ]
  },
  {
   "cell_type": "markdown",
   "metadata": {},
   "source": [
    "defaultdict里的default_factory只会在__getitem__里被调用\n",
    "在其他方法里完全不会发挥作用\n",
    "比如dd是个defaultdict，k是一个找不到的键，dd[k]这个表达式会调用default_factory创造某个默认值 而 dd.get(key)会返回None\n",
    "\n",
    "这后面的支持是特殊方法__missing__会在defaultdict遇到找不到的键的时候调用default_factory而实际上这个特性是多有映射方法都可以选择去支持的\n"
   ]
  },
  {
   "cell_type": "markdown",
   "metadata": {},
   "source": [
    "特殊方法__missing__\n",
    "所有映射处理找不到的键的时候会使用__missing__\n",
    "即 有一个类继承了dict 那么这个继承类提供了__missing__方法\n",
    "那么在__getitem__碰到找不到的键的时候，Python就会自动调用它而不是抛出一个KeyError异常\n",
    "\n",
    "__missing__\n",
    "只会被__getitem__调用 比如在表达式d[k]中\n",
    "提供__missing__方法对get或者__contains__（in运算符会调用到这个方法）\n",
    "的使用没有影响"
   ]
  },
  {
   "cell_type": "code",
   "execution_count": null,
   "metadata": {},
   "outputs": [],
   "source": [
    "查询时，将映射类型的键全部转换成str的例子\n",
    "即\n",
    "当有非字符串的键被查找时，在该键不存在的情况下，把它转换为字符串"
   ]
  },
  {
   "cell_type": "code",
   "execution_count": null,
   "metadata": {},
   "outputs": [],
   "source": [
    "#StrKeyDict0继承了dict\n",
    "class StrKeyDict0(dict):\n",
    "    def __missing__(self,key):\n",
    "        #如果找不到的键本身就是字符串，就抛出KeyError异常\n",
    "        if isinstance(key,str):\n",
    "            raise KeyError(key)\n",
    "        #如果找不到的键不是字符串 就转换成字符串再查找\n",
    "        return self[str(key)]\n",
    "    \n",
    "    def get(self,key,default=None):\n",
    "        try:\n",
    "            #get方法把查找工作用self[key]的形式委托给__getitem__ 这样再宣布查找失败之前，还能通过__missing__再给某个键一个机会\n",
    "            return self[key]\n",
    "    except keyError:\n",
    "        #若抛出KeyError 那么说明__missing__也失败了 返回default\n",
    "        return default\n",
    "    \n",
    "    def __contains__(self,key):\n",
    "        #按照传入键的原本值来查找，如果没找到就用str()方法把键转换成字符串再查找\n",
    "        return key in self.keys() or str(key) in self.keys()"
   ]
  },
  {
   "cell_type": "markdown",
   "metadata": {},
   "source": [
    "为什么isinstance(key,str)测试在上面的__missing__中是必须的\n",
    "如果没有这个测试，只要str(k)返回的是一个存在的键，那么__missing__方法是没问题的，不管是字符串键还是非字符串的键，都能正常运行\n",
    "如果str(k)是一个不存在的键，代码就会陷入无限递归\n",
    "这是因为__missing__中最后一行的self[str(key)]会调用__getitem__\n",
    "而这个str(key)又不存在，于是__missing__又会被调用\n",
    "\n",
    "为了保持一致性，__contains__方法也是必须的\n",
    "因为k in d 这个操作会调用它，但是我们从dict继承到的__contains__方法不会再找不到键的时候调用__missing__方法，__contains__里有个细节，\n",
    "就是 k in my_dict 来检查键是否存在，因为那会导致__contains__被递归调用\n",
    "为了避免这一类情况，这里采取了更显示的方法，直接在self.keys()里查询"
   ]
  },
  {
   "cell_type": "markdown",
   "metadata": {},
   "source": [
    "像k in my_dict.keys() 这种操作在Python3中是很快的，而且即便映射类型对象很大也没关系，因为dict.keys()返回值是一个\"视图\"\n",
    "视图就像一个集合，而且和字典类似的是，在视图里查找一个元素的速度很快"
   ]
  },
  {
   "cell_type": "markdown",
   "metadata": {},
   "source": [
    "字典的变种\n",
    "总结了标准库collections模块中，除了defaultdict之外的不同映射类型\n",
    "\n",
    "collections.OrderedDict\n",
    "    这个类型在添加键时会保持顺序，因此键的迭代次序总是一致的\n",
    "    OrderedDict的popitem方法默认删除并返回的是字典里的最后一个元素\n",
    "    但是如果像my_odict.popitem(last=False)这样调用它，那么它删除并返回第一个被添加进去的元素\n",
    "    \n",
    "collections.ChainMap\n",
    "    该类型可以容纳数个不同的映射对象，然后再进行键查找的操作的时候\n",
    "    这些对象会被当作一个整体被逐个查找，直到键被找到为止\n",
    "    这个功能在给有嵌套作用域的语言做解释器的时候很有用，可以用一个映射对象来代表一个作用域的上下文\n",
    "    \n",
    "collections.Counter\n",
    "    这个映射类型会给键准备一个整数计数器。每次更新一个键的时候都会增加这个计数器，所以这个类型可以用来给可散列对象计数，或者是当成多重集来用\n",
    "    多重集合就是集合里的元素可以出现不止一次，Counter实现了+和-运算符用来合并记录，还有像most_common([n])这类很有用的方法，most_common([n])会按照次序返回映射最常见的n个键和它们的计数"
   ]
  },
  {
   "cell_type": "code",
   "execution_count": 21,
   "metadata": {},
   "outputs": [
    {
     "data": {
      "text/plain": [
       "Counter({'a': 8, 'b': 7})"
      ]
     },
     "execution_count": 21,
     "metadata": {},
     "output_type": "execute_result"
    }
   ],
   "source": [
    "#利用Counter来计算单词中各个字母出现的次数\n",
    "ct = collections.Counter('abababababababa')\n",
    "ct"
   ]
  },
  {
   "cell_type": "code",
   "execution_count": 22,
   "metadata": {},
   "outputs": [
    {
     "data": {
      "text/plain": [
       "Counter({'a': 11, 'b': 7, 'z': 4})"
      ]
     },
     "execution_count": 22,
     "metadata": {},
     "output_type": "execute_result"
    }
   ],
   "source": [
    "ct.update('aaazzzz')\n",
    "ct"
   ]
  },
  {
   "cell_type": "code",
   "execution_count": 25,
   "metadata": {},
   "outputs": [
    {
     "data": {
      "text/plain": [
       "[('a', 11), ('b', 7), ('z', 4)]"
      ]
     },
     "execution_count": 25,
     "metadata": {},
     "output_type": "execute_result"
    }
   ],
   "source": [
    "ct.most_common(4)"
   ]
  },
  {
   "cell_type": "markdown",
   "metadata": {},
   "source": [
    "子类化UserDict\n",
    "UserDict并不是dict的子类\n",
    "但是有一个叫做data的属性，是dict的实例，是UserDict最终存储数据的地方\n",
    "UserDict的子类就能在实现__setitem__的时候避免不必要的递归，也可以让\n",
    "__contains__里的代码更简洁"
   ]
  },
  {
   "cell_type": "code",
   "execution_count": 28,
   "metadata": {},
   "outputs": [],
   "source": [
    "# 不论是添加、更新还是查询，StrKeyDict都会把非字符串的键转换为字符串\n",
    "import collections\n",
    "# StrKeyDict是对UseDict的扩展\n",
    "class StrKeyDict(collections.UserDict):\n",
    "    def __missing__(self,key):\n",
    "        if isinstance(key,str):\n",
    "            raise KeyError(key)\n",
    "        return self[key]\n",
    "    \n",
    "    def __contains__(self,key):\n",
    "        return str(key) in self.data\n",
    "    \n",
    "    def __setitem__(self,key,item):\n",
    "        self.data[str(key)] = item\n",
    "\n",
    "    \n"
   ]
  },
  {
   "cell_type": "markdown",
   "metadata": {},
   "source": [
    "因为UserDict继承的是MutableMapping 所以StrKeyDict里剩下的那些映射类型方法都是从UserDict MutableMapping和Mapping这列超类继承来的，特别是Mapping类，虽然是一个抽象基类，但是却提供了好几个实用的方法\n",
    "比如\n",
    "\n",
    "MutableMapping.update\n",
    "    这个方法不但可以直接利用，还用在__init_里\n",
    "    让构造方法可以利用传入的各种参数（其他映射类型、元素是（key,value）对的可迭代对象和键值参数）来新建实例。因为这个方法在背后是用self[key] = value来添加新值的，所以它是在实用__setitem__方法\n",
    "    \n",
    "Mapping.get\n",
    "    在StrKeyDict0中，不得不改写get方法，好让它的表现跟__getitem__一致，后面StrKeyDict就没有必要了，因为它继承了Mapping.get方法，而Python的源码表示，这个方法的实现方式跟StrKeyDict0,get是一模一样的"
   ]
  },
  {
   "cell_type": "markdown",
   "metadata": {},
   "source": [
    "不可变映射类型\n",
    "标准库里的映射类型都是可变的，有时候会有这样的需求\n",
    "比如不能让用户错误的修改某个映射\n",
    "types模块里引入了一个封装类名叫MappingProxyType\n",
    "如果给这个类一个映射，它会返回一个只读映射视图\n",
    "虽然是个只读视图，但它是动态的，就意味着如果对原映射做出了改动\n",
    "我们可以通过这个视图可以观察到，但是无法通过这个视图对原映射做出修改"
   ]
  },
  {
   "cell_type": "code",
   "execution_count": 29,
   "metadata": {},
   "outputs": [
    {
     "data": {
      "text/plain": [
       "mappingproxy({1: 'A'})"
      ]
     },
     "execution_count": 29,
     "metadata": {},
     "output_type": "execute_result"
    }
   ],
   "source": [
    "# 用MappingProxyType来获取字典的只读实例 mappingproxy\n",
    "from types import MappingProxyType\n",
    "d ={1:'A'}\n",
    "d_proxy = MappingProxyType(d)\n",
    "d_proxy"
   ]
  },
  {
   "cell_type": "code",
   "execution_count": 30,
   "metadata": {},
   "outputs": [
    {
     "data": {
      "text/plain": [
       "'A'"
      ]
     },
     "execution_count": 30,
     "metadata": {},
     "output_type": "execute_result"
    }
   ],
   "source": [
    "d_proxy[1]"
   ]
  },
  {
   "cell_type": "code",
   "execution_count": 31,
   "metadata": {},
   "outputs": [
    {
     "ename": "TypeError",
     "evalue": "'mappingproxy' object does not support item assignment",
     "output_type": "error",
     "traceback": [
      "\u001b[1;31m---------------------------------------------------------------------------\u001b[0m",
      "\u001b[1;31mTypeError\u001b[0m                                 Traceback (most recent call last)",
      "\u001b[1;32m<ipython-input-31-cb84dba8e1f4>\u001b[0m in \u001b[0;36m<module>\u001b[1;34m()\u001b[0m\n\u001b[1;32m----> 1\u001b[1;33m \u001b[0md_proxy\u001b[0m\u001b[1;33m[\u001b[0m\u001b[1;36m2\u001b[0m\u001b[1;33m]\u001b[0m\u001b[1;33m=\u001b[0m\u001b[1;34m'x'\u001b[0m\u001b[1;33m\u001b[0m\u001b[0m\n\u001b[0m",
      "\u001b[1;31mTypeError\u001b[0m: 'mappingproxy' object does not support item assignment"
     ]
    }
   ],
   "source": [
    "d_proxy[2]='x'"
   ]
  },
  {
   "cell_type": "code",
   "execution_count": 32,
   "metadata": {},
   "outputs": [
    {
     "data": {
      "text/plain": [
       "mappingproxy({1: 'A', 2: 'B'})"
      ]
     },
     "execution_count": 32,
     "metadata": {},
     "output_type": "execute_result"
    }
   ],
   "source": [
    "d[2]='B'\n",
    "d_proxy"
   ]
  },
  {
   "cell_type": "code",
   "execution_count": 33,
   "metadata": {},
   "outputs": [
    {
     "data": {
      "text/plain": [
       "'B'"
      ]
     },
     "execution_count": 33,
     "metadata": {},
     "output_type": "execute_result"
    }
   ],
   "source": [
    "d_proxy[2]"
   ]
  },
  {
   "cell_type": "markdown",
   "metadata": {},
   "source": [
    "d中的内容可以通过d_proxy看到\n",
    "但是通过d_proxy不能做任何修改\n",
    "d_proxy是动态的，也就是说对d所做的任何改动都会反馈到它上面\n",
    "\n",
    "因此实际上会在子类中提供一个包含信息的私有映射成员\n",
    "通过公开属性，将这个映射暴露给API用户\n",
    "这个公开属性就是通过mappingproxy实现的\n",
    "一旦这样写好了，用户就不能对这个映射进行任何意外的添加、移除或者修改操作"
   ]
  },
  {
   "cell_type": "markdown",
   "metadata": {},
   "source": [
    "集合论\n",
    "集合的本质是许多唯一对象的聚集，因此，集合可以用于去重\n",
    "\n",
    "集合中的元素必须是可散列的，set类型本身是不可散列的\n",
    "但是frozenset可以，因此可以创建一个包含不同frozenset的set\n",
    "\n",
    "除了保证唯一性，集合还实现了很多基础的中缀运算符\n",
    "给定两个集合a b  a|b 返回的时它们的合集 a&b返回的时交集 a-b返回差集\n",
    "利用集合的这些操作 可以让代码行数变少，还能减少Python程序的运行时间\n",
    "省去不必要的循环和逻辑操作\n",
    "\n",
    "例如可以计算两个列表的并集来得到 两个列表中共同存在的元素\n",
    "list a list b\n",
    "1.a&b\n",
    "等同于\n",
    "2.\n",
    "cnt =0\n",
    "for n in a:\n",
    "    if n in b:\n",
    "      cnt += 1   \n",
    "前一种求并集要比后面的判断速度要快\n",
    "但第一种要求两个对象都是集合 后一种就可以用在任何可迭代对象上\n",
    "1.cnt = len(set(a) & set(b))\n",
    "2.cnt = len(set(a).intersecction(b))\n",
    "这种写法会牵扯把对象转化为集合的成本"
   ]
  },
  {
   "cell_type": "markdown",
   "metadata": {},
   "source": [
    "集合字面量\n",
    "除空集之外，集合的字面量——{1} {1，2}等等\n",
    "看起来和它们的数学形式一模一样\n",
    "如果是空集，必须写成set()的形式\n",
    "\n",
    "如果是像{1,2,3}这样的字面量，Python会利用一个专门的叫做BUILD_SET的字节码来创建集合"
   ]
  },
  {
   "cell_type": "code",
   "execution_count": 34,
   "metadata": {},
   "outputs": [
    {
     "name": "stdout",
     "output_type": "stream",
     "text": [
      "  1           0 LOAD_CONST               0 (1)\n",
      "              2 BUILD_SET                1\n",
      "              4 RETURN_VALUE\n"
     ]
    }
   ],
   "source": [
    "# 实用dis,did(反汇编函数)来看两个方法的字节码不同\n",
    "from dis import dis\n",
    "dis('{1}')"
   ]
  },
  {
   "cell_type": "code",
   "execution_count": 35,
   "metadata": {},
   "outputs": [
    {
     "name": "stdout",
     "output_type": "stream",
     "text": [
      "  1           0 LOAD_NAME                0 (set)\n",
      "              2 LOAD_CONST               0 (1)\n",
      "              4 BUILD_LIST               1\n",
      "              6 CALL_FUNCTION            1\n",
      "              8 RETURN_VALUE\n"
     ]
    }
   ],
   "source": [
    "dis('set([1])')"
   ]
  },
  {
   "cell_type": "markdown",
   "metadata": {},
   "source": [
    "集合推导\n",
    "\n",
    "新建一个Latin-l字符集合，该集合里的每个字符的Unicode名字里都有\"SIGN\"这个单词"
   ]
  },
  {
   "cell_type": "code",
   "execution_count": 36,
   "metadata": {},
   "outputs": [
    {
     "data": {
      "text/plain": [
       "{'#',\n",
       " '$',\n",
       " '%',\n",
       " '+',\n",
       " '<',\n",
       " '=',\n",
       " '>',\n",
       " '¢',\n",
       " '£',\n",
       " '¤',\n",
       " '¥',\n",
       " '§',\n",
       " '©',\n",
       " '¬',\n",
       " '®',\n",
       " '°',\n",
       " '±',\n",
       " 'µ',\n",
       " '¶',\n",
       " '×',\n",
       " '÷'}"
      ]
     },
     "execution_count": 36,
     "metadata": {},
     "output_type": "execute_result"
    }
   ],
   "source": [
    "from unicodedata import name\n",
    "{chr(i) for i in range(32,256) if 'SIGN' in name(chr(i),'')}"
   ]
  },
  {
   "cell_type": "markdown",
   "metadata": {},
   "source": [
    "集合的操作\n",
    "求多个聚合类型的合集比如a b c d的合集\n",
    "a.union(b,c,d)\n",
    "a必须是set 但是bcd可以是任何类型的可迭代对象\n",
    "\n",
    "ｓ& z s和z的交集\n",
    "z & s 反向&操作\n",
    "s.intersection(it,...)把可迭代的it和其他所有参数转化为集合，然后求得它们的交集，然后把s更新成这个交集\n",
    "s | z s和z的并集\n",
    "z | s s.union(it,...)把可迭代的it和其他所有参数转化为集合，然后求它们和s的并集\n",
    "\n",
    "s |= z  s.update(it,...)把可迭代的it和其他所有参数转为集合，然后求它们和s的并集，再把s更新为这个并集\n",
    "\n",
    "s - z  s和z的差集\n",
    "z - s s.difference(it,...)可迭代it和其他参数转为集合，求它们和s的差集\n",
    "s -= z 可迭代it 更新s\n",
    "\n",
    "\n",
    "s ^ z s和z的对称差集\n",
    "z ^ s s.symmetric(it,...)"
   ]
  },
  {
   "cell_type": "markdown",
   "metadata": {},
   "source": [
    "集合类型的其他方法\n",
    "s.add()\n",
    "s.clear()\n",
    "s.copy() 浅拷贝\n",
    "s.discard(e)  移除e这个元素\n",
    "s.__iter__() 返回s的迭代器\n",
    "s.__len__() len(s) 等价\n",
    "s.pop() 移除一个元素并返回它的值\n",
    "s.remove(e)移除e元素   不存在抛出异常"
   ]
  },
  {
   "cell_type": "markdown",
   "metadata": {},
   "source": [
    "字典中的散列表\n",
    "散列表是一个稀疏数组（总是有空白元素的数组成为稀疏数组）\n",
    "散列表里的单元通常叫做表元 bucket\n",
    "在dict的散列表中每个键值对都占用一个表元\n",
    "每个表元都有两个部分 一个是对键的引用，一个是对值的引用\n",
    "因为所有表元的大小都一致，所以可以通过偏移量来读取某个表元\n",
    "\n",
    "如果要把一个对象放入散列表，首先要计算这个元素键的散列值\n",
    "可以用hash()来做\n",
    "\n",
    "1.散列值和相等性\n",
    "    内置的hash()方法用于所有的内置类型对象\n",
    "    若是自定义对象调用hash()实际上运行的是自定义的__hash__\n",
    "    如果两个对象在比较的时候是相等的，那么它们的散列值必须相等，否则散列表就不能正常运行\n",
    "    例如： 1== 1.0为真，那额 hash(1) == hash(1.0)也要为真，但其实这两个数字的数字类型和内部结构完全不一样\n",
    "    \n",
    "    散列值必须在索引空间中尽量分散开来，意味着在最理想状态下，越是相似但不相等的对象，散列值的差别应该越大\n",
    "    \n",
    "    从Python3.3开始。str，bytes，datetime对象的散列值计算过程中多了随机“加盐”这一步，盐值是Python进程内的一个常量，每次启动Python解释器都会生成一个不同的盐值，随机盐值的加入是为了防止DOS攻击采取的一种安全措施\n",
    "    \n",
    "2.散列表算法\n",
    "    为了获取my_dict[search_key]背后的值，Python会调用hash(search_key)来计算search_key的散列值，将这个值最低的几位数字当作偏移量，在散列表里查找表元。若找到的表元是空的，就抛出KeyError。不是空的，则表元里会有一对found_key == found_key 是否为真，如果它们相等，就会返回found_value\n",
    "    \n",
    "    如果found_key 和search_key不匹配，这种情况成为散列冲突，发生这种情况是因为，散列表所做的其实是把随机的元素映射到只有几位的数字上，而散列表本身的索引又只依赖于这个数字的一部分。\n",
    "    为了解决散列冲突，算法会在散列值中另外再取几位，然后用特殊方法处理一下，把新得到的数字再当作索引来寻找表元\n",
    "    若这次找到的表元是空的，则同样抛出KeyError，若不是空的或者键匹配，则返回这个值，如果又发现了散列冲突，则重复以上的步骤\n",
    "   "
   ]
  },
  {
   "cell_type": "markdown",
   "metadata": {},
   "source": [
    "从字典中取值的算法流程图：给定一个键，这个算法要么返回一个值，要么抛出keyError异常\n",
    "\n",
    "添加新元素和更新键值的操作和上面一样，不过对于添加新元素，发现空表元的时候会放入一个新元素，对于更新键值，在找到相对应的表元后，原表里的值对象会被替换成新值\n",
    "\n",
    "在插入新值是，python可能会按照散列表的拥挤程度来决定是否要重新分配内存为它扩容 。如果增加了散列表的大小，散列值所占的位数和用作索引的位数会增加，减少发生散列冲突\n",
    "\n",
    "**如果有一个整型对象，而且它能被存进一个机器字中，那么它的散列值就是它本身的值**"
   ]
  },
  {
   "cell_type": "markdown",
   "metadata": {},
   "source": [
    "dict的实现及其导致的结果\n",
    "1.键必须是可散列的\n",
    "    一个可散列的对象必须满足以下要求：\n",
    "        支持hash()函数，并且通过__hash__()方法所得到的散列值是不变的\n",
    "        支持通过 __eq__()方法来检测相等性\n",
    "        若a==b为真，则hash(a) == hash(b) 也为真\n",
    "        所有由用户自定义的对象默认由都是可散列的，因为它们的散列值id()来获取，而且它们都是不想等的\n",
    "    \n",
    "    如果实现了一个类的__eq__方法，并且希望它是可散列的，那么一定要有个恰当的__hash__方法，保证在a == b为真的情况下 hash(a) ==hash(b) 也必定为真，否则就会破坏恒定的散列表算法。\n",
    "    \n",
    "2.字典在内存上的开销巨大\n",
    "    由于字典使用了散列表，而散列表又必须是稀疏的，这导致它在空间上的效率低下，如果需要存放巨大的记录，最好放在由元组或者是具名元组构成的列表中，使用元组组成的列表来存放这些记录可以避免散列表所耗费的空间，同时无需把记录中字段的名字在每个元素里都存一遍。\n",
    "    \n",
    "    在用户自定义的类型中，__slots__属性可以改变实例属性的存储方式，由dict变成tuple\n",
    "    \n",
    "3.键查询很快\n",
    "    dict的实现是典型的空间换时间，字典类型有巨大的内存开销，但它们提供了无视数据量大小的快速访问——只要字典能被装在内存里\n",
    "    \n",
    "4.键的次序取决于添加顺序\n",
    "    当往dict里添加新键又发生散列冲突的时候，新键会被安排存放到另一个位置dict([key1, value1), (key2, value2)] 和 dict([key2, value2], [key1, value1]) 得到的两个字典，在进行比较的时 候，它们是相等的；但是如果在 key1 和 key2 被添加到字典里的 过程中有冲突发生的话，这两个键出现在字典里的顺序是不一样 的。\n",
    "    虽然键的 次序是乱的，这 2个字典仍然被视作相等的\n"
   ]
  },
  {
   "cell_type": "code",
   "execution_count": null,
   "metadata": {},
   "outputs": [],
   "source": []
  },
  {
   "cell_type": "code",
   "execution_count": null,
   "metadata": {},
   "outputs": [],
   "source": []
  },
  {
   "cell_type": "code",
   "execution_count": null,
   "metadata": {},
   "outputs": [],
   "source": []
  },
  {
   "cell_type": "code",
   "execution_count": null,
   "metadata": {},
   "outputs": [],
   "source": []
  },
  {
   "cell_type": "code",
   "execution_count": null,
   "metadata": {},
   "outputs": [],
   "source": []
  },
  {
   "cell_type": "code",
   "execution_count": null,
   "metadata": {},
   "outputs": [],
   "source": []
  },
  {
   "cell_type": "code",
   "execution_count": null,
   "metadata": {},
   "outputs": [],
   "source": []
  },
  {
   "cell_type": "code",
   "execution_count": null,
   "metadata": {},
   "outputs": [],
   "source": []
  },
  {
   "cell_type": "code",
   "execution_count": null,
   "metadata": {},
   "outputs": [],
   "source": []
  },
  {
   "cell_type": "code",
   "execution_count": null,
   "metadata": {},
   "outputs": [],
   "source": []
  },
  {
   "cell_type": "code",
   "execution_count": null,
   "metadata": {},
   "outputs": [],
   "source": []
  }
 ],
 "metadata": {
  "kernelspec": {
   "display_name": "Python 3",
   "language": "python",
   "name": "python3"
  },
  "language_info": {
   "codemirror_mode": {
    "name": "ipython",
    "version": 3
   },
   "file_extension": ".py",
   "mimetype": "text/x-python",
   "name": "python",
   "nbconvert_exporter": "python",
   "pygments_lexer": "ipython3",
   "version": "3.6.4"
  }
 },
 "nbformat": 4,
 "nbformat_minor": 5
}
